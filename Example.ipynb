{
 "cells": [
  {
   "cell_type": "code",
   "execution_count": null,
   "metadata": {},
   "outputs": [],
   "source": [
    "from Data_Gathering_and_Preprocessing.data_processing import Preprocessing, empty_files\n",
    "from Model_Active_Learning.active_learning import Active_learning\n",
    "from Labeling.Videolabeler import VideoLabeler"
   ]
  },
  {
   "cell_type": "code",
   "execution_count": null,
   "metadata": {},
   "outputs": [],
   "source": [
    "empty_files(['features_Walking.txt', 'features_Walking_scaled.csv', 'processed_data_files.txt'])\n",
    "pre = Preprocessing('Walking')\n",
    "pre.windowing(r'')"
   ]
  },
  {
   "cell_type": "code",
   "execution_count": null,
   "metadata": {},
   "outputs": [],
   "source": [
    "labels = set()\n",
    "with open(r'features_Walking_scaled.csv') as f:\n",
    "    for line in f:\n",
    "        labels |= {line.strip().split(',')[1]}\n",
    "print(labels)\n",
    "\n",
    "AL = Active_learning(r'features_Walking_scaled.csv', labels)\n",
    "AL.training(150)\n",
    "AL.plotting()"
   ]
  }
 ],
 "metadata": {
  "kernelspec": {
   "display_name": "Python 3",
   "language": "python",
   "name": "python3"
  },
  "language_info": {
   "name": "python",
   "version": "3.10.8 (tags/v3.10.8:aaaf517, Oct 11 2022, 16:50:30) [MSC v.1933 64 bit (AMD64)]"
  },
  "orig_nbformat": 4,
  "vscode": {
   "interpreter": {
    "hash": "529ecdcae69add5700b168af870c2c245dc5754f1a82655f7b34366657b0a28f"
   }
  }
 },
 "nbformat": 4,
 "nbformat_minor": 2
}
