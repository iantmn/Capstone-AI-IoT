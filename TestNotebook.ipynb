{
 "cells": [
  {
   "cell_type": "code",
   "execution_count": 1,
   "metadata": {},
   "outputs": [
    {
     "name": "stdout",
     "output_type": "stream",
     "text": [
      "Name is valid!\n"
     ]
    }
   ],
   "source": [
    "from AI_for_Designers.data_processing import Preprocessing, empty_files\n",
    "from AI_for_Designers.active_learning import ActiveLearning\n",
    "from AI_for_Designers.novelty_detection import NoveltyDetection\n",
    "from AI_for_Designers.data_stats import Stats\n",
    "from AI_for_Designers.Notebook import check_product_name, amount_of_samples\n",
    "\n",
    "Product = 'Mok'\n",
    "check_product_name(Product)\n",
    "\n",
    "frame_size = 0.7\n",
    "frame_offset = 0.1\n",
    "\n",
    "labels = ['Still', 'Pick_up', 'Put_down', 'Drinking', 'Walking']\n",
    "active_learning_iterations = 0"
   ]
  },
  {
   "cell_type": "code",
   "execution_count": 2,
   "metadata": {},
   "outputs": [
    {
     "name": "stdout",
     "output_type": "stream",
     "text": [
      "1\n"
     ]
    },
    {
     "data": {
      "text/html": [
       "\n",
       "                <head>\n",
       "                    <script type=\"text/javascript\">\n",
       "                        let id = 0;\n",
       "                        const time_video = [[0.0, 'Data/data-mok/GL010035_LRV.mp4'], [1.5000000000000002, 'Data/data-mok/GL010035_LRV.mp4'], [1.7000000000000004, 'Data/data-mok/GL010035_LRV.mp4'], [1.8000000000000005, 'Data/data-mok/GL010035_LRV.mp4'], [2.0000000000000004, 'Data/data-mok/GL010035_LRV.mp4'], [2.500000000000001, 'Data/data-mok/GL010035_LRV.mp4'], [3.1000000000000014, 'Data/data-mok/GL010035_LRV.mp4'], [3.3000000000000016, 'Data/data-mok/GL010035_LRV.mp4'], [3.4000000000000017, 'Data/data-mok/GL010035_LRV.mp4'], [5.299999999999997, 'Data/data-mok/GL010035_LRV.mp4'], [5.399999999999997, 'Data/data-mok/GL010035_LRV.mp4'], [5.4999999999999964, 'Data/data-mok/GL010035_LRV.mp4'], [5.599999999999996, 'Data/data-mok/GL010035_LRV.mp4'], [5.699999999999996, 'Data/data-mok/GL010035_LRV.mp4'], [6.099999999999994, 'Data/data-mok/GL010035_LRV.mp4'], [6.199999999999994, 'Data/data-mok/GL010035_LRV.mp4'], [7.999999999999988, 'Data/data-mok/GL010035_LRV.mp4'], [9.299999999999985, 'Data/data-mok/GL010035_LRV.mp4'], [9.399999999999984, 'Data/data-mok/GL010035_LRV.mp4'], [10.09999999999998, 'Data/data-mok/GL010035_LRV.mp4'], [10.29999999999998, 'Data/data-mok/GL010035_LRV.mp4'], [10.39999999999998, 'Data/data-mok/GL010035_LRV.mp4'], [10.599999999999978, 'Data/data-mok/GL010035_LRV.mp4'], [10.799999999999978, 'Data/data-mok/GL010035_LRV.mp4'], [17.199999999999974, 'Data/data-mok/GL010035_LRV.mp4'], [17.49999999999998, 'Data/data-mok/GL010035_LRV.mp4'], [17.59999999999998, 'Data/data-mok/GL010035_LRV.mp4'], [18.39999999999999, 'Data/data-mok/GL010035_LRV.mp4'], [18.9, 'Data/data-mok/GL010035_LRV.mp4'], [19.500000000000007, 'Data/data-mok/GL010035_LRV.mp4'], [19.70000000000001, 'Data/data-mok/GL010035_LRV.mp4'], [24.100000000000072, 'Data/data-mok/GL010035_LRV.mp4'], [24.200000000000077, 'Data/data-mok/GL010035_LRV.mp4'], [24.300000000000075, 'Data/data-mok/GL010035_LRV.mp4'], [24.40000000000008, 'Data/data-mok/GL010035_LRV.mp4'], [24.60000000000008, 'Data/data-mok/GL010035_LRV.mp4'], [24.80000000000008, 'Data/data-mok/GL010035_LRV.mp4'], [25.000000000000085, 'Data/data-mok/GL010035_LRV.mp4'], [25.30000000000009, 'Data/data-mok/GL010035_LRV.mp4'], [26.70000000000011, 'Data/data-mok/GL010035_LRV.mp4'], [26.80000000000011, 'Data/data-mok/GL010035_LRV.mp4'], [27.800000000000125, 'Data/data-mok/GL010035_LRV.mp4'], [27.900000000000126, 'Data/data-mok/GL010035_LRV.mp4'], [28.600000000000136, 'Data/data-mok/GL010035_LRV.mp4'], [28.80000000000014, 'Data/data-mok/GL010035_LRV.mp4'], [29.100000000000144, 'Data/data-mok/GL010035_LRV.mp4'], [31.900000000000183, 'Data/data-mok/GL010035_LRV.mp4'], [32.000000000000185, 'Data/data-mok/GL010035_LRV.mp4'], [32.30000000000019, 'Data/data-mok/GL010035_LRV.mp4'], [34.800000000000225, 'Data/data-mok/GL010035_LRV.mp4'], [35.30000000000023, 'Data/data-mok/GL010035_LRV.mp4'], [35.500000000000234, 'Data/data-mok/GL010035_LRV.mp4'], [35.60000000000024, 'Data/data-mok/GL010035_LRV.mp4'], [35.70000000000024, 'Data/data-mok/GL010035_LRV.mp4'], [35.80000000000024, 'Data/data-mok/GL010035_LRV.mp4'], [36.40000000000025, 'Data/data-mok/GL010035_LRV.mp4'], [37.000000000000256, 'Data/data-mok/GL010035_LRV.mp4'], [37.10000000000026, 'Data/data-mok/GL010035_LRV.mp4'], [37.20000000000026, 'Data/data-mok/GL010035_LRV.mp4'], [37.30000000000026, 'Data/data-mok/GL010035_LRV.mp4'], [37.50000000000026, 'Data/data-mok/GL010035_LRV.mp4'], [37.60000000000026, 'Data/data-mok/GL010035_LRV.mp4'], [37.700000000000266, 'Data/data-mok/GL010035_LRV.mp4'], [37.80000000000027, 'Data/data-mok/GL010035_LRV.mp4'], [37.90000000000027, 'Data/data-mok/GL010035_LRV.mp4'], [38.00000000000027, 'Data/data-mok/GL010035_LRV.mp4'], [38.10000000000027, 'Data/data-mok/GL010035_LRV.mp4'], [38.90000000000028, 'Data/data-mok/GL010035_LRV.mp4'], [40.80000000000031, 'Data/data-mok/GL010035_LRV.mp4'], [40.90000000000031, 'Data/data-mok/GL010035_LRV.mp4'], [41.00000000000031, 'Data/data-mok/GL010035_LRV.mp4'], [41.900000000000325, 'Data/data-mok/GL010035_LRV.mp4'], [50.400000000000446, 'Data/data-mok/GL010035_LRV.mp4'], [52.10000000000047, 'Data/data-mok/GL010035_LRV.mp4'], [54.1000000000005, 'Data/data-mok/GL010035_LRV.mp4'], [55.50000000000052, 'Data/data-mok/GL010035_LRV.mp4'], [55.90000000000053, 'Data/data-mok/GL010035_LRV.mp4'], [59.20000000000057, 'Data/data-mok/GL010035_LRV.mp4'], [59.30000000000057, 'Data/data-mok/GL010035_LRV.mp4'], [59.400000000000574, 'Data/data-mok/GL010035_LRV.mp4'], [59.500000000000576, 'Data/data-mok/GL010035_LRV.mp4'], [60.00000000000058, 'Data/data-mok/GL010035_LRV.mp4'], [60.10000000000058, 'Data/data-mok/GL010035_LRV.mp4'], [64.10000000000063, 'Data/data-mok/GL010035_LRV.mp4'], [67.00000000000047, 'Data/data-mok/GL010035_LRV.mp4'], [68.1000000000004, 'Data/data-mok/GL010035_LRV.mp4'], [72.10000000000018, 'Data/data-mok/GL010035_LRV.mp4'], [73.20000000000012, 'Data/data-mok/GL010035_LRV.mp4'], [75.00000000000001, 'Data/data-mok/GL010035_LRV.mp4'], [76.09999999999995, 'Data/data-mok/GL010035_LRV.mp4'], [76.19999999999995, 'Data/data-mok/GL010035_LRV.mp4'], [77.99999999999984, 'Data/data-mok/GL010035_LRV.mp4'], [80.79999999999968, 'Data/data-mok/GL010035_LRV.mp4'], [89.09999999999921, 'Data/data-mok/GL010035_LRV.mp4'], [91.79999999999906, 'Data/data-mok/GL010035_LRV.mp4'], [92.599999999999, 'Data/data-mok/GL010035_LRV.mp4'], [93.29999999999896, 'Data/data-mok/GL010035_LRV.mp4'], [93.39999999999895, 'Data/data-mok/GL010035_LRV.mp4'], [93.49999999999896, 'Data/data-mok/GL010035_LRV.mp4'], [93.89999999999894, 'Data/data-mok/GL010035_LRV.mp4'], [93.99999999999892, 'Data/data-mok/GL010035_LRV.mp4'], [94.39999999999893, 'Data/data-mok/GL010035_LRV.mp4'], [100.29999999999858, 'Data/data-mok/GL010035_LRV.mp4'], [100.69999999999855, 'Data/data-mok/GL010035_LRV.mp4'], [101.5999999999985, 'Data/data-mok/GL010035_LRV.mp4'], [101.79999999999848, 'Data/data-mok/GL010035_LRV.mp4'], [103.69999999999838, 'Data/data-mok/GL010035_LRV.mp4'], [104.39999999999834, 'Data/data-mok/GL010035_LRV.mp4'], [104.99999999999832, 'Data/data-mok/GL010035_LRV.mp4'], [114.1999999999978, 'Data/data-mok/GL010035_LRV.mp4'], [114.49999999999775, 'Data/data-mok/GL010035_LRV.mp4'], [115.29999999999772, 'Data/data-mok/GL010035_LRV.mp4'], [115.49999999999773, 'Data/data-mok/GL010035_LRV.mp4'], [115.99999999999768, 'Data/data-mok/GL010035_LRV.mp4'], [116.09999999999768, 'Data/data-mok/GL010035_LRV.mp4'], [117.09999999999762, 'Data/data-mok/GL010035_LRV.mp4'], [117.3999999999976, 'Data/data-mok/GL010035_LRV.mp4'], [118.49999999999754, 'Data/data-mok/GL010035_LRV.mp4'], [118.79999999999752, 'Data/data-mok/GL010035_LRV.mp4'], [119.1999999999975, 'Data/data-mok/GL010035_LRV.mp4'], [122.19999999999732, 'Data/data-mok/GL010035_LRV.mp4'], [126.2999999999971, 'Data/data-mok/GL010035_LRV.mp4'], [129.39999999999694, 'Data/data-mok/GL010035_LRV.mp4'], [135.0999999999966, 'Data/data-mok/GL010035_LRV.mp4'], [137.69999999999646, 'Data/data-mok/GL010035_LRV.mp4'], [137.89999999999645, 'Data/data-mok/GL010035_LRV.mp4'], [138.19999999999644, 'Data/data-mok/GL010035_LRV.mp4'], [139.49999999999636, 'Data/data-mok/GL010035_LRV.mp4'], [142.2999999999962, 'Data/data-mok/GL010035_LRV.mp4'], [144.99999999999605, 'Data/data-mok/GL010035_LRV.mp4'], [145.19999999999604, 'Data/data-mok/GL010035_LRV.mp4'], [148.79999999999583, 'Data/data-mok/GL010035_LRV.mp4'], [149.09999999999582, 'Data/data-mok/GL010035_LRV.mp4'], [153.29999999999558, 'Data/data-mok/GL010035_LRV.mp4'], [153.69999999999555, 'Data/data-mok/GL010035_LRV.mp4'], [155.69999999999544, 'Data/data-mok/GL010035_LRV.mp4'], [157.29999999999535, 'Data/data-mok/GL010035_LRV.mp4'], [158.99999999999525, 'Data/data-mok/GL010035_LRV.mp4'], [160.59999999999516, 'Data/data-mok/GL010035_LRV.mp4'], [160.69999999999516, 'Data/data-mok/GL010035_LRV.mp4'], [168.4999999999947, 'Data/data-mok/GL010035_LRV.mp4'], [171.09999999999457, 'Data/data-mok/GL010035_LRV.mp4'], [171.19999999999456, 'Data/data-mok/GL010035_LRV.mp4'], [171.39999999999455, 'Data/data-mok/GL010035_LRV.mp4'], [175.39999999999432, 'Data/data-mok/GL010035_LRV.mp4'], [175.5999999999943, 'Data/data-mok/GL010035_LRV.mp4'], [175.6999999999943, 'Data/data-mok/GL010035_LRV.mp4'], [179.2999999999941, 'Data/data-mok/GL010035_LRV.mp4'], [180.39999999999404, 'Data/data-mok/GL010035_LRV.mp4'], [181.89999999999395, 'Data/data-mok/GL010035_LRV.mp4'], [183.49999999999383, 'Data/data-mok/GL010035_LRV.mp4'], [189.09999999999357, 'Data/data-mok/GL010035_LRV.mp4']];\n",
       "                        let time = time_video[0][0];\n",
       "                        const ws = 0.7;\n",
       "\n",
       "                        function init_1() {\n",
       "                            document.getElementById(\"debug\").innerHTML = \"init\";\n",
       "                            let video = document.getElementById(\"nov_1\");\n",
       "                            play_1();\n",
       "                        }\n",
       "\n",
       "                        function play_1() {\n",
       "                            let video = document.getElementById(\"nov_1\");\n",
       "                            if (video.currentTime < time || video.currentTime >= time + ws) {\n",
       "                                video.currentTime = time;\n",
       "                            }\n",
       "                            video.play();\n",
       "                            setInterval(function () {\n",
       "                                if (video.currentTime >= time + ws) {\n",
       "                                    video.currentTime = time;\n",
       "                                }\n",
       "                            }, 1);\n",
       "                        }\n",
       "\n",
       "                        function pause_1() {\n",
       "                            let video = document.getElementById(\"nov_1\");\n",
       "                            video.pause();\n",
       "                        }\n",
       "\n",
       "                        function prev_1() {\n",
       "                            if (id >= 0) {\n",
       "                                id = id - 1;\n",
       "                                time = time_video[id][0];\n",
       "                                let video = document.getElementById(\"nov_1\");\n",
       "                                video.setAttribute('src', time_video[id][1]);\n",
       "                                document.getElementById(\"content\").innerHTML = 'Novelty ' + (id + 1) + ' out of 42 at ' + time + 's in ' + time_video[id][1];\n",
       "                                play_1();\n",
       "                            }\n",
       "                        }\n",
       "\n",
       "                        function next_1() {\n",
       "                            if (id < 42 - 1) {\n",
       "                                id = id + 1;\n",
       "                                time = time_video[id][0];\n",
       "                                let video = document.getElementById(\"nov_1\");\n",
       "                                video.setAttribute('src', time_video[id][1]);\n",
       "                                document.getElementById(\"content\").innerHTML = 'Novelty ' + (id + 1) + ' out of 42 at ' + time + 's in ' + time_video[id][1];\n",
       "                                play_1();\n",
       "                            }\n",
       "                        }\n",
       "\n",
       "                    </script>\n",
       "                    <title></title>\n",
       "                </head>\n",
       "                <body>\n",
       "                    <video id=\"nov_1\" height=\"300px\" src=\"Data/data-mok/GL010035_LRV.mp4\" muted></video>\n",
       "                    <br>\n",
       "                    <div id=\"debug\">T</div>\n",
       "                    <script type=\"text/javascript\">init_1()</script>\n",
       "                    <button onClick=\"play_1()\">Play</button>\n",
       "                    <button onClick=\"pause_1()\">Pause</button>\n",
       "                    <button onClick=\"prev_1()\">Previous novelty</button>\n",
       "                    <button onClick=\"next_1()\">Next novelty</button>\n",
       "                    <div id=\"content\">Novelty 1 out of 152 at 0.0s in Data/data-mok/GL010035_LRV.mp4</div>\n",
       "                </body>\n",
       "        "
      ],
      "text/plain": [
       "<IPython.core.display.HTML object>"
      ]
     },
     "metadata": {},
     "output_type": "display_data"
    }
   ],
   "source": [
    "ND = NoveltyDetection(fr'Preprocessed-data/{Product}/features_{Product}_scaled_AL_predictionss.csv', fr'Preprocessed-data/{Product}/processed_data_files.txt')\n",
    "novelties = ND.detect(0.1)\n",
    "# novelties[0][0] = 10.0\n",
    "\n",
    "# Display the novelties\n",
    "ND.play_novelties(novelties, frame_size)"
   ]
  }
 ],
 "metadata": {
  "kernelspec": {
   "display_name": "Python 3",
   "language": "python",
   "name": "python3"
  },
  "language_info": {
   "codemirror_mode": {
    "name": "ipython",
    "version": 3
   },
   "file_extension": ".py",
   "mimetype": "text/x-python",
   "name": "python",
   "nbconvert_exporter": "python",
   "pygments_lexer": "ipython3",
   "version": "3.10.8"
  },
  "orig_nbformat": 4,
  "vscode": {
   "interpreter": {
    "hash": "529ecdcae69add5700b168af870c2c245dc5754f1a82655f7b34366657b0a28f"
   }
  }
 },
 "nbformat": 4,
 "nbformat_minor": 2
}
