{
 "cells": [
  {
   "cell_type": "code",
   "execution_count": 1,
   "metadata": {},
   "outputs": [],
   "source": [
    "import sys\n",
    "\n",
    "sys.path.append('../')\n",
    "\n",
    "from Labeling.Videolabeler import VideoLabeler"
   ]
  },
  {
   "cell_type": "code",
   "execution_count": 3,
   "metadata": {},
   "outputs": [
    {
     "name": "stdout",
     "output_type": "stream",
     "text": [
      "12.5 1\n"
     ]
    },
    {
     "data": {
      "text/html": [
       "\n",
       "            <head>\n",
       "                <script type=\"text/javascript\">\n",
       "                    function init_0(){\n",
       "                        let timestamp = 12.5;\n",
       "                        let window_size = 1;\n",
       "                        let video = document.getElementById(\"0\");\n",
       "                        video.currentTime = timestamp;\n",
       "                        play();\n",
       "                    }\n",
       "\n",
       "                    function play_0(){\n",
       "                        let timestamp = 12.5;\n",
       "                        let window_size = 1;\n",
       "                        let video = document.getElementById(\"0\");\n",
       "                        if (video.currentTime < timestamp || video.currentTime >= timestamp + window_size){\n",
       "                            video.currentTime = timestamp;\n",
       "                        }\n",
       "                        video.play();\n",
       "                        setInterval(function(){\n",
       "                            if(video.currentTime >= timestamp + window_size){\n",
       "                                video.currentTime = timestamp;\n",
       "                            }\n",
       "                        },1);\n",
       "                        <!--video.playbackRate = 2-->\n",
       "                    }\n",
       "\n",
       "                    function pause_0(){\n",
       "                        let timestamp = 12.5;\n",
       "                        let window_size = 1;\n",
       "                        let video = document.getElementById(\"0\");\n",
       "                        video.pause();\n",
       "                    }\n",
       "                </script>\n",
       "            </head>\n",
       "            <body>\n",
       "                <video id=\"0\" width=\"500px\" src=\"../Data/data-lopen/Walking_part_1.mp4\" muted></video><br>\n",
       "                <script type=\"text/javascript\">init_0()</script>\n",
       "                <button onclick=\"play_0()\">Play</button>\n",
       "                <button onclick=\"pause_0()\">Pause</button>\n",
       "            </body>\n",
       "        "
      ],
      "text/plain": [
       "<IPython.core.display.HTML object>"
      ]
     },
     "metadata": {},
     "output_type": "display_data"
    }
   ],
   "source": [
    "VL = VideoLabeler(['Walking', 'Running'])\n",
    "VL.display_html(r'../Data/data-lopen/Walking_part_1.mp4', 10, 1)"
   ]
  },
  {
   "cell_type": "code",
   "execution_count": 4,
   "metadata": {},
   "outputs": [
    {
     "name": "stdout",
     "output_type": "stream",
     "text": [
      "12.5 1\n"
     ]
    },
    {
     "data": {
      "text/html": [
       "\n",
       "            <head>\n",
       "                <script type=\"text/javascript\">\n",
       "                    function init_1(){\n",
       "                        let timestamp = 12.5;\n",
       "                        let window_size = 1;\n",
       "                        let video = document.getElementById(\"1\");\n",
       "                        video.currentTime = timestamp;\n",
       "                        play();\n",
       "                    }\n",
       "\n",
       "                    function play_1(){\n",
       "                        let timestamp = 12.5;\n",
       "                        let window_size = 1;\n",
       "                        let video = document.getElementById(\"1\");\n",
       "                        if (video.currentTime < timestamp || video.currentTime >= timestamp + window_size){\n",
       "                            video.currentTime = timestamp;\n",
       "                        }\n",
       "                        video.play();\n",
       "                        setInterval(function(){\n",
       "                            if(video.currentTime >= timestamp + window_size){\n",
       "                                video.currentTime = timestamp;\n",
       "                            }\n",
       "                        },1);\n",
       "                        <!--video.playbackRate = 2-->\n",
       "                    }\n",
       "\n",
       "                    function pause_1(){\n",
       "                        let timestamp = 12.5;\n",
       "                        let window_size = 1;\n",
       "                        let video = document.getElementById(\"1\");\n",
       "                        video.pause();\n",
       "                    }\n",
       "                </script>\n",
       "            </head>\n",
       "            <body>\n",
       "                <video id=\"1\" width=\"500px\" src=\"../Data/data-lopen/Walking_part_2.mp4\" muted></video><br>\n",
       "                <script type=\"text/javascript\">init_1()</script>\n",
       "                <button onclick=\"play_1()\">Play</button>\n",
       "                <button onclick=\"pause_1()\">Pause</button>\n",
       "            </body>\n",
       "        "
      ],
      "text/plain": [
       "<IPython.core.display.HTML object>"
      ]
     },
     "metadata": {},
     "output_type": "display_data"
    }
   ],
   "source": [
    "VL.display_html(r'../Data/data-lopen/Walking_part_2.mp4', 10, 1)\n",
    "\n",
    "# display_html(r'../Data/data-lopen/Walking_part_2.mp4', 10, 1, 'test2')"
   ]
  }
 ],
 "metadata": {
  "kernelspec": {
   "display_name": "Python 3",
   "language": "python",
   "name": "python3"
  },
  "language_info": {
   "codemirror_mode": {
    "name": "ipython",
    "version": 3
   },
   "file_extension": ".py",
   "mimetype": "text/x-python",
   "name": "python",
   "nbconvert_exporter": "python",
   "pygments_lexer": "ipython3",
   "version": "3.10.8"
  },
  "orig_nbformat": 4,
  "vscode": {
   "interpreter": {
    "hash": "529ecdcae69add5700b168af870c2c245dc5754f1a82655f7b34366657b0a28f"
   }
  }
 },
 "nbformat": 4,
 "nbformat_minor": 2
}
