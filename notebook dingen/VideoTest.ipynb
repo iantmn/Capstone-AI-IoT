{
 "cells": [
  {
   "cell_type": "code",
   "execution_count": 1,
   "metadata": {},
   "outputs": [],
   "source": [
    "import sys\n",
    "\n",
    "sys.path.append('../')\n",
    "\n",
    "from Labeling.Videolabeler import VideoLabeler"
   ]
  },
  {
   "cell_type": "code",
   "execution_count": 2,
   "metadata": {},
   "outputs": [
    {
     "name": "stdout",
     "output_type": "stream",
     "text": [
      "window_0\n",
      "12.5 1\n"
     ]
    },
    {
     "data": {
      "text/html": [
       "\n",
       "            <head>\n",
       "                <script type=\"text/javascript\">\n",
       "                    function init(){\n",
       "                        let timestamp = 12.5;\n",
       "                        let window_size = 1;\n",
       "                        let video = document.getElementById(\"window_0\");\n",
       "                        video.currentTime = timestamp;\n",
       "                        play();\n",
       "                    }\n",
       "\n",
       "                    function play(){\n",
       "                        let timestamp = 12.5;\n",
       "                        let window_size = 1;\n",
       "                        let video = document.getElementById(\"window_0\");\n",
       "                        if (video.currentTime < timestamp || video.currentTime >= timestamp + window_size){\n",
       "                            video.currentTime = timestamp;\n",
       "                        }\n",
       "                        video.play();\n",
       "                        setInterval(function(){\n",
       "                            if(video.currentTime >= timestamp + window_size){\n",
       "                                video.currentTime = timestamp;\n",
       "                            }\n",
       "                        },1);\n",
       "                        <!--video.playbackRate = 2-->\n",
       "                    }\n",
       "\n",
       "                    function pause(){\n",
       "                        let timestamp = 12.5;\n",
       "                        let window_size = 1;\n",
       "                        let video = document.getElementById(\"window_0\");\n",
       "                        video.pause();\n",
       "                    }\n",
       "                </script>\n",
       "            </head>\n",
       "            <body>\n",
       "                <video id=\"window_0\" width=\"500px\" src=\"../Data/data-lopen/Walking_part_1.mp4\" muted></video><br>\n",
       "                <script type=\"text/javascript\">init()</script>\n",
       "                <button onclick=\"play()\">Play</button>\n",
       "                <button onclick=\"pause()\">Pause</button>\n",
       "            </body>\n",
       "        "
      ],
      "text/plain": [
       "<IPython.core.display.HTML object>"
      ]
     },
     "metadata": {},
     "output_type": "display_data"
    }
   ],
   "source": [
    "VL = VideoLabeler(['Walking', 'Running'])\n",
    "VL.display_html(r'../Data/data-lopen/Walking_part_1.mp4', 10, 1)"
   ]
  },
  {
   "cell_type": "code",
   "execution_count": 3,
   "metadata": {},
   "outputs": [
    {
     "name": "stdout",
     "output_type": "stream",
     "text": [
      "window_1\n",
      "12.5 1\n"
     ]
    },
    {
     "data": {
      "text/html": [
       "\n",
       "            <head>\n",
       "                <script type=\"text/javascript\">\n",
       "                    function init(){\n",
       "                        let timestamp = 12.5;\n",
       "                        let window_size = 1;\n",
       "                        let video = document.getElementById(\"window_1\");\n",
       "                        video.currentTime = timestamp;\n",
       "                        play();\n",
       "                    }\n",
       "\n",
       "                    function play(){\n",
       "                        let timestamp = 12.5;\n",
       "                        let window_size = 1;\n",
       "                        let video = document.getElementById(\"window_1\");\n",
       "                        if (video.currentTime < timestamp || video.currentTime >= timestamp + window_size){\n",
       "                            video.currentTime = timestamp;\n",
       "                        }\n",
       "                        video.play();\n",
       "                        setInterval(function(){\n",
       "                            if(video.currentTime >= timestamp + window_size){\n",
       "                                video.currentTime = timestamp;\n",
       "                            }\n",
       "                        },1);\n",
       "                        <!--video.playbackRate = 2-->\n",
       "                    }\n",
       "\n",
       "                    function pause(){\n",
       "                        let timestamp = 12.5;\n",
       "                        let window_size = 1;\n",
       "                        let video = document.getElementById(\"window_1\");\n",
       "                        video.pause();\n",
       "                    }\n",
       "                </script>\n",
       "            </head>\n",
       "            <body>\n",
       "                <video id=\"window_1\" width=\"500px\" src=\"../Data/data-lopen/Walking_part_2.mp4\" muted></video><br>\n",
       "                <script type=\"text/javascript\">init()</script>\n",
       "                <button onclick=\"play()\">Play</button>\n",
       "                <button onclick=\"pause()\">Pause</button>\n",
       "            </body>\n",
       "        "
      ],
      "text/plain": [
       "<IPython.core.display.HTML object>"
      ]
     },
     "metadata": {},
     "output_type": "display_data"
    }
   ],
   "source": [
    "VL.display_html(r'../Data/data-lopen/Walking_part_2.mp4', 10, 1)"
   ]
  }
 ],
 "metadata": {
  "kernelspec": {
   "display_name": "Python 3",
   "language": "python",
   "name": "python3"
  },
  "language_info": {
   "codemirror_mode": {
    "name": "ipython",
    "version": 3
   },
   "file_extension": ".py",
   "mimetype": "text/x-python",
   "name": "python",
   "nbconvert_exporter": "python",
   "pygments_lexer": "ipython3",
   "version": "3.10.8"
  },
  "orig_nbformat": 4,
  "vscode": {
   "interpreter": {
    "hash": "529ecdcae69add5700b168af870c2c245dc5754f1a82655f7b34366657b0a28f"
   }
  }
 },
 "nbformat": 4,
 "nbformat_minor": 2
}
