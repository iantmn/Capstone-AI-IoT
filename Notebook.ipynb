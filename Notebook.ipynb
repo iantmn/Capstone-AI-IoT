{
 "cells": [
  {
   "attachments": {},
   "cell_type": "markdown",
   "metadata": {},
   "source": [
    "# Welcome to the Machine learning for IDE students application!\n",
    "\n",
    "This is a JupyterNotebook created for IDE students to get introduced to using machine learning for prototype improvement. It might seem like a lot if you don't have any coding experience, but just follow the steps, read the instructions and it should be a breeze! \n",
    "\n",
    "## Try the program\n",
    "\n",
    "We have filled out the program in such a way that everything is set up with an example dataset. Feel free to go through te application one time, before changing in to your own data / preferences. This way you can get a feeling of hoe the product works and what is needed for a good running program. \n",
    "\n",
    "\n",
    "## Setting up\n",
    "\n",
    "This application will take you through the preprocessing, labeling and classification steps of the machine learning process. Make sure you've read through the [User Guide](https://docs.google.com/document/d/1J9c5sHokh8Rj-4lO4yKX1Tv7LwY2_r-mfQ9YKviiXZk/edit?usp=sharing) before you continue.\n",
    "\n",
    "To be able to access the code we need to import packages. The second set of packages are written by us and contain the main functions of the program. The actual Python code is to be found in different files, so you have a nice interface without a bunch of code. \n",
    "\n",
    "**Make sure you run the two cells below!** To run your first cell, just click inside the cell and press play. You can consult [this tutorial](https://www.dataquest.io/blog/jupyter-notebook-tutorial/) if you experience difficulty using Anaconda.\n",
    "ATTENTION: This is a large operation, keep that in mind, this might take a few minutes. It is very important to run the code completely, so only continue after the * before the cell has disappeared"
   ]
  },
  {
   "attachments": {},
   "cell_type": "markdown",
   "metadata": {},
   "source": [
    "These are standard pythion packages that most programs need to run properly."
   ]
  },
  {
   "cell_type": "code",
   "execution_count": null,
   "metadata": {},
   "outputs": [],
   "source": [
    "!pip3 install numpy==1.21.4\n",
    "!pip3 install pandas==1.5.2\n",
    "!pip3 install matplotlib==3.6.3\n",
    "!pip3 install scikit-learn==1.2.0\n",
    "!pip3 install plotly==5.12.0\n",
    "!pip3 install IPython==8.8.0\n",
    "!pip3 install kaleido==0.2.1"
   ]
  },
  {
   "attachments": {},
   "cell_type": "markdown",
   "metadata": {},
   "source": [
    "These are our own packages, we created these for you so that you don't have to see all the code, but only the things you need."
   ]
  },
  {
   "cell_type": "code",
   "execution_count": 1,
   "metadata": {},
   "outputs": [],
   "source": [
    "from AI_for_Designers.data_processing import Preprocessing, empty_files\n",
    "from AI_for_Designers.active_learning import ActiveLearning\n",
    "from AI_for_Designers.novelty_detection import NoveltyDetection\n",
    "from AI_for_Designers.data_stats import Stats\n",
    "from AI_for_Designers.Notebook import check_product_name, amount_of_samples"
   ]
  },
  {
   "attachments": {},
   "cell_type": "markdown",
   "metadata": {},
   "source": [
    "In the cell below, the name of the Product you are analysing can be changed. It helps to come up with a descriptive name like the name of the prototype. ATTENTION: the name should only contain letters, numbers, underscores and dashes. "
   ]
  },
  {
   "cell_type": "code",
   "execution_count": 2,
   "metadata": {},
   "outputs": [
    {
     "name": "stdout",
     "output_type": "stream",
     "text": [
      "Name is valid!\n"
     ]
    }
   ],
   "source": [
    "Product = 'Mok'\n",
    "check_product_name(Product)"
   ]
  },
  {
   "attachments": {},
   "cell_type": "markdown",
   "metadata": {},
   "source": [
    "## Pre-processing\n",
    "During preprocessing, the raw data gets divided into frames. Frames are data points that are encapsulated in a frame. This makes for more certain predictions and a faster model because it knows more about a frame and there are fewer datapoints.\n",
    "\n",
    "There are **4 variables** that are important for you to edit:\n",
    "\n",
    " - Frame_size: set larger for slow movements, smaller for very quick movements. A frame size of about the length of one action is advised. Default = 2 sec\n",
    " - Frame_offset: increase if you set a bigger frame size. A frame offset of around 10-20% of the frame size is advised. A lower frame offset might result in a more accurate model but will result in more work for you. Default = 0.2 sec\n",
    " - start_offset: set it to the time it takes in seconds between starting the recording and starting with the actual Product usage.\n",
    " - stop_offset: the same as the start-chop, but for the end of a recording\n",
    "\n",
    "Enter the values below, and run the cell to start the preprocessing. The frame size and the frame offset can be changed in the cell below, while the start-chop and the end-chap need to be changed in all the lines that start with 'pre.windowing'. ATTENTION: the frame size and the frame offset, need to be the same for all the different files, while the start-chop and the end-chop may differ.\n",
    "\n",
    "After you've preprocessed your data, the application will have extracted features like standard deviation and most present frequency. These features will be used to analyze the characteristics of a data point and classify it to an Product."
   ]
  },
  {
   "cell_type": "code",
   "execution_count": 3,
   "metadata": {},
   "outputs": [],
   "source": [
    "frame_size = 0.8\n",
    "frame_offset = 0.1"
   ]
  },
  {
   "attachments": {},
   "cell_type": "markdown",
   "metadata": {},
   "source": [
    "The cell below is where you enter all the data and the variables. \n",
    "\n",
    "First it makes empty files for the data that is generated in the preprocessing. This is just for us to save the features and data, there is no need for you to see what this is, although you can take a look at them once the"
   ]
  },
  {
   "cell_type": "code",
   "execution_count": null,
   "metadata": {},
   "outputs": [],
   "source": [
    "empty_files([f'Preprocessed-data/{Product}/features_{Product}.txt',\n",
    "             f'Preprocessed-data/{Product}/features_{Product}_scaled.csv',\n",
    "             f'Preprocessed-data/{Product}/processed_data_files.txt'])\n",
    "\n",
    "pre = Preprocessing(Product)\n",
    "# pre.windowing([r\"Data/data-lopen/Walking_part_1.csv\", r\"Data/data-lopen/Walking_part_1_gyro.csv\"], r\"Data/data-lopen/Walking_part_1.mp4\",\n",
    "#               start_offset=2.5, stop_offset=5, size=1, offset=0.2, video_offset=2.5, epsilon=0.01, do_plot=False, do_scale=False)\n",
    "# pre.windowing([r\"Data/data-lopen/Walking_part_2.csv\", r\"Data/data-lopen/Walking_part_2_gyro.csv\"], r\"Data/data-lopen/Walking_part_2.mp4\",\n",
    "#               start_offset=2.5, stop_offset=5, size=1, offset=0.2, video_offset=2.5, epsilon=0.01, do_plot=False, do_scale=True)\n",
    "# pre.windowing([fr'Data\\data-cycling\\ACCL\\Timo_fietsen_GH010031-ACCL.csv', fr'Data\\data-cycling\\GYRO\\Timo_fietsen_GH010031-GYRO.csv'], 'Data\\data-cycling\\Fiets_filmpjes\\GL010031_LRV_compressed.mp4',\n",
    "#               start_offset=0, stop_offset=0, size=5, offset=0.5, epsilon=0.01, do_plot=False, do_scale=False)\n",
    "# pre.windowing([fr'Data\\data-cycling\\ACCL\\Timo_fietsen_GH010032-ACCL.csv', fr'Data\\data-cycling\\GYRO\\Timo_fietsen_GH010032-GYRO.csv'], 'Data\\data-cycling\\Fiets_filmpjes\\GL010032_LRV.mp4',\n",
    "#               start_offset=0, stop_offset=0, size=5, offset=0.5, epsilon=0.01, do_plot=False, do_scale=False)\n",
    "# pre.windowing([fr'Data\\data-cycling\\ACCL\\Timo_fietsen_GH010033-ACCL.csv', fr'Data\\data-cycling\\GYRO\\Timo_fietsen_GH010033-GYRO.csv'], 'Data\\data-cycling\\Fiets_filmpjes\\GL010033_LRV.mp4',\n",
    "#               start_offset=0, stop_offset=0, size=5, offset=0.5, epsilon=0.01, do_plot=False, do_scale=False)\n",
    "# pre.windowing([fr'Data\\data-cycling\\ACCL\\Timo_fietsen_GH010034-ACCL.csv', fr'Data\\data-cycling\\GYRO\\Timo_fietsen_GH010034-GYRO.csv'], 'Data\\data-cycling\\Fiets_filmpjes\\GL010034_LRV_compressed.mp4',\n",
    "#               start_offset=0, stop_offset=0, size=5, offset=0.5, epsilon=0.01, do_plot=False, do_scale=True)\n",
    "pre.windowing(input_file=[r'Data/data-mok/Gijs_Mok_GH010035-ACCL.csv', r'Data/data-mok/Gijs_Mok_GH010035-GYRO.csv'],\n",
    "              video_file='Data/data-mok/GL010035_LRV.mp4',\n",
    "              start_offset=0, \n",
    "              stop_offset=0, \n",
    "              size=frame_size,\n",
    "              offset=frame_offset)\n",
    "\n",
    "pre.SuperStandardScaler(fr'Preprocessed-data\\{Product}\\features_{Product}_scaled.csv')"
   ]
  },
  {
   "attachments": {},
   "cell_type": "markdown",
   "metadata": {},
   "source": [
    "## Labeling and training\n",
    "\n",
    "If you've set up your preprocessing correctly this step should be quite easy. The application will show you part of your recording, and you will be asked to label it according to the action performed on screen. You can add a new label if the Product you see is not one of the options you expected. \n",
    "\n",
    "First, enter the activities that you think will be in the video. Don't worry about doing this extensively, you can always add more later.\n",
    "\n",
    "An example:\n",
    "\n",
    "    labels = ['walking', 'running', 'stairs_up', 'stairs_down']\n",
    "\n",
    "Enter your labels inside the code block below. **Only change the text inside the brackets, remember to put the values in quotation marks and seperate them by commas**.\n",
    "\n",
    "Next up is training the model. After entering your labels, run the cell and you will be shown a GIF and asked to label the Product you see. Take your time to label the data correctly, as the results fully rely on accurate labels. You get the option to delete a data point if you are not completely sure about the label (e.g. the sample contains two different actions) or if it's a faulty sample. \n",
    "\n",
    "The value of 'active_learning_iterations', is the amount of samples you will label. The more samples you label, the more accurate the model might become, but the more time it will consume. Labeling round 10-20% of the total amount of samples or at least 100 samples is advised. The cell below can be used to find the amount of available samples.\n",
    "\n",
    "After labeling 16 samples, a list (recognizable by its square bracets []) apears under the video with the probability that this frame is the corresponding label, so the first value in the list corresponds with the first option under the video.\n"
   ]
  },
  {
   "cell_type": "code",
   "execution_count": null,
   "metadata": {},
   "outputs": [],
   "source": [
    "print(amount_of_samples(f'Preprocessed-data/{Product}/processed_data_files.txt'))"
   ]
  },
  {
   "cell_type": "code",
   "execution_count": 4,
   "metadata": {},
   "outputs": [],
   "source": [
    "labels = ['stil', 'oppakken', 'neerzetten', 'drinken', 'lopen']\n",
    "active_learning_iterations = 20"
   ]
  },
  {
   "cell_type": "code",
   "execution_count": 6,
   "metadata": {},
   "outputs": [
    {
     "data": {
      "text/html": [
       "\n",
       "            <head>\n",
       "                <script type=\"text/javascript\">\n",
       "                    function init_14(){\n",
       "                        let timestamp = 127.999999999997;\n",
       "                        let window_size = 0.8;\n",
       "                        let video = document.getElementById(\"14\");\n",
       "                        video.currentTime = timestamp;\n",
       "                        play_14();\n",
       "                    }\n",
       "\n",
       "                    function play_14(){\n",
       "                        let timestamp = 127.999999999997;\n",
       "                        let window_size = 0.8;\n",
       "                        let video = document.getElementById(\"14\");\n",
       "                        if (video.currentTime < timestamp || video.currentTime >= timestamp + window_size){\n",
       "                            video.currentTime = timestamp;\n",
       "                        }\n",
       "                        video.play();\n",
       "                        setInterval(function(){\n",
       "                            if(video.currentTime >= timestamp + window_size){\n",
       "                                video.currentTime = timestamp;\n",
       "                            }\n",
       "                        },1);\n",
       "                        <!--video.playbackRate = 2-->\n",
       "                    }\n",
       "\n",
       "                    function pause_14(){\n",
       "                        let timestamp = 127.999999999997;\n",
       "                        let window_size = 0.8;\n",
       "                        let video = document.getElementById(\"14\");\n",
       "                        video.pause();\n",
       "                    }\n",
       "                </script>\n",
       "            </head>\n",
       "            <body>\n",
       "                <div style=\"display:flex\">\n",
       "                    <div style=\"flex:1\">\n",
       "                        <video id=\"14\" height=\"300px\" src=\"Data/data-mok/GL010035_LRV.mp4\" muted></video><br>\n",
       "                        <script type=\"text/javascript\">init_14()</script>\n",
       "                        <button onclick=\"play_14()\">Play</button>\n",
       "                        <button onclick=\"pause_14()\">Pause</button>\n",
       "                    </div>\n",
       "                    <div style=\"flex:1\">  \n",
       "                        <img id=\"image\" src=\"Plots/plot_to_label_0.png\" height=\"300px\"></img>\n",
       "                        <script type=\"text/javascript\">\n",
       "                        if (0 === -1) {\n",
       "                            document.getElementById(\"image\").src = \"\";\n",
       "                        }\n",
       "                        </script>\n",
       "                    </div>\n",
       "                </div>\n",
       "            </body>\n",
       "        "
      ],
      "text/plain": [
       "<IPython.core.display.HTML object>"
      ]
     },
     "metadata": {},
     "output_type": "display_data"
    },
    {
     "name": "stdout",
     "output_type": "stream",
     "text": [
      "[0.0, 0.5, 0.5]\n",
      "Enter the index or the name of one of the following labels. Enter 'n' to add a new label or 'x' to discard this sample:\n",
      "1. stil\n",
      "2. oppakken\n",
      "3. neerzetten\n",
      "4. drinken\n",
      "5. lopen\n"
     ]
    },
    {
     "ename": "KeyboardInterrupt",
     "evalue": "Interrupted by user",
     "output_type": "error",
     "traceback": [
      "\u001b[1;31m---------------------------------------------------------------------------\u001b[0m",
      "\u001b[1;31mKeyboardInterrupt\u001b[0m                         Traceback (most recent call last)",
      "Cell \u001b[1;32mIn[6], line 2\u001b[0m\n\u001b[0;32m      1\u001b[0m AL \u001b[39m=\u001b[39m ActiveLearning(\u001b[39mfr\u001b[39m\u001b[39m'\u001b[39m\u001b[39mPreprocessed-data/\u001b[39m\u001b[39m{\u001b[39;00mProduct\u001b[39m}\u001b[39;00m\u001b[39m/features_\u001b[39m\u001b[39m{\u001b[39;00mProduct\u001b[39m}\u001b[39;00m\u001b[39m_scaled.csv\u001b[39m\u001b[39m'\u001b[39m, Product, labels, frame_size)\n\u001b[1;32m----> 2\u001b[0m labels \u001b[39m=\u001b[39m AL\u001b[39m.\u001b[39;49mtraining(active_learning_iterations, random_points\u001b[39m=\u001b[39;49m\u001b[39m1\u001b[39;49m)\n\u001b[0;32m      3\u001b[0m AL\u001b[39m.\u001b[39mplotting()\n\u001b[0;32m      4\u001b[0m AL\u001b[39m.\u001b[39mwrite_to_file()\n",
      "File \u001b[1;32mc:\\Users\\skipd\\Documents\\year 3\\capstone\\git\\Capstone-AI-IoT\\AI_for_Designers\\active_learning.py:148\u001b[0m, in \u001b[0;36mActiveLearning.training\u001b[1;34m(self, maximum_iterations, random_points, cluster_points)\u001b[0m\n\u001b[0;32m    143\u001b[0m \u001b[39mself\u001b[39m\u001b[39m.\u001b[39mupdate_model()\n\u001b[0;32m    144\u001b[0m \u001b[39m# TODO: write to csv file, this doesn't work yet :(\u001b[39;00m\n\u001b[0;32m    145\u001b[0m \u001b[39m# np.savetxt(\"test_indices.csv\", self.preds, delimiter=\",\")\u001b[39;00m\n\u001b[0;32m    146\u001b[0m \n\u001b[0;32m    147\u001b[0m \u001b[39m# Set the most ambiguous points iteratively\u001b[39;00m\n\u001b[1;32m--> 148\u001b[0m \u001b[39mself\u001b[39;49m\u001b[39m.\u001b[39;49miterate(maximum_iterations)\n\u001b[0;32m    149\u001b[0m \u001b[39m# Write to csv file\u001b[39;00m\n\u001b[0;32m    150\u001b[0m \u001b[39m# self.write_to_file()\u001b[39;00m\n\u001b[0;32m    152\u001b[0m \u001b[39mwith\u001b[39;00m \u001b[39mopen\u001b[39m(\u001b[39mfr\u001b[39m\u001b[39m'\u001b[39m\u001b[39mModels/model_\u001b[39m\u001b[39m{\u001b[39;00m\u001b[39mself\u001b[39m\u001b[39m.\u001b[39maction_ID\u001b[39m}\u001b[39;00m\u001b[39m_\u001b[39m\u001b[39m{\u001b[39;00mmaximum_iterations\u001b[39m}\u001b[39;00m\u001b[39m.pickle\u001b[39m\u001b[39m'\u001b[39m, \u001b[39m'\u001b[39m\u001b[39mwb\u001b[39m\u001b[39m'\u001b[39m) \u001b[39mas\u001b[39;00m f:\n",
      "File \u001b[1;32mc:\\Users\\skipd\\Documents\\year 3\\capstone\\git\\Capstone-AI-IoT\\AI_for_Designers\\active_learning.py:277\u001b[0m, in \u001b[0;36mActiveLearning.iterate\u001b[1;34m(self, max_iter)\u001b[0m\n\u001b[0;32m    273\u001b[0m iter_num \u001b[39m+\u001b[39m\u001b[39m=\u001b[39m \u001b[39m1\u001b[39m\n\u001b[0;32m    274\u001b[0m \u001b[39m# find most ambiguous point (find_most_ambiguous_id)\u001b[39;00m\n\u001b[0;32m    275\u001b[0m \u001b[39m# label it (set_ambiguous_point)\u001b[39;00m\n\u001b[0;32m    276\u001b[0m \u001b[39m# add to training data \u001b[39;00m\n\u001b[1;32m--> 277\u001b[0m new_index, margin \u001b[39m=\u001b[39m \u001b[39mself\u001b[39;49m\u001b[39m.\u001b[39;49mset_ambiguous_point()\n\u001b[0;32m    278\u001b[0m \u001b[39m# Iterate for a decided number of points or until you have a certain margin or gini\u001b[39;00m\n\u001b[0;32m    279\u001b[0m \u001b[39m# TODO: Investigate margin or gini at which you have a good accuracy\u001b[39;00m\n\u001b[0;32m    280\u001b[0m \u001b[39mif\u001b[39;00m iter_num \u001b[39m>\u001b[39m\u001b[39m=\u001b[39m max_iter \u001b[39mor\u001b[39;00m margin \u001b[39m>\u001b[39m \u001b[39m0.15\u001b[39m:\n",
      "File \u001b[1;32mc:\\Users\\skipd\\Documents\\year 3\\capstone\\git\\Capstone-AI-IoT\\AI_for_Designers\\active_learning.py:302\u001b[0m, in \u001b[0;36mActiveLearning.set_ambiguous_point\u001b[1;34m(self)\u001b[0m\n\u001b[0;32m    299\u001b[0m \u001b[39mself\u001b[39m\u001b[39m.\u001b[39mprint_prediction_point(get_id_to_label)\n\u001b[0;32m    300\u001b[0m \u001b[39m# Get what label this ID is supposed to get\u001b[39;00m\n\u001b[0;32m    301\u001b[0m \u001b[39m# Just for testing, add les_probs as arg to les_probs if you want these to be printed\u001b[39;00m\n\u001b[1;32m--> 302\u001b[0m new_label \u001b[39m=\u001b[39m \u001b[39mself\u001b[39;49m\u001b[39m.\u001b[39;49midentify(get_id_to_label,\n\u001b[0;32m    303\u001b[0m                           les_probs\u001b[39m=\u001b[39;49mles_probs)\n\u001b[0;32m    304\u001b[0m \u001b[39mif\u001b[39;00m new_label \u001b[39m==\u001b[39m \u001b[39m'\u001b[39m\u001b[39mx\u001b[39m\u001b[39m'\u001b[39m:\n\u001b[0;32m    305\u001b[0m     \u001b[39mself\u001b[39m\u001b[39m.\u001b[39mremove_row(get_id_to_label)\n",
      "File \u001b[1;32mc:\\Users\\skipd\\Documents\\year 3\\capstone\\git\\Capstone-AI-IoT\\AI_for_Designers\\active_learning.py:364\u001b[0m, in \u001b[0;36mActiveLearning.identify\u001b[1;34m(self, id, les_probs, process)\u001b[0m\n\u001b[0;32m    362\u001b[0m     \u001b[39mreturn\u001b[39;00m \u001b[39mself\u001b[39m\u001b[39m.\u001b[39mvid\u001b[39m.\u001b[39mlabeling(video_file, timestamp, \u001b[39mself\u001b[39m\u001b[39m.\u001b[39mwindow_size, \u001b[39mself\u001b[39m\u001b[39m.\u001b[39mhtml_id, process\u001b[39m=\u001b[39mprocess, video_offset\u001b[39m=\u001b[39mvideo_offset)\n\u001b[0;32m    363\u001b[0m \u001b[39melse\u001b[39;00m:\n\u001b[1;32m--> 364\u001b[0m     \u001b[39mreturn\u001b[39;00m \u001b[39mself\u001b[39;49m\u001b[39m.\u001b[39;49mvid\u001b[39m.\u001b[39;49mlabeling(video_file, timestamp, \u001b[39mself\u001b[39;49m\u001b[39m.\u001b[39;49mwindow_size, \u001b[39mself\u001b[39;49m\u001b[39m.\u001b[39;49mhtml_id, les_probs, process\u001b[39m=\u001b[39;49mprocess, video_offset\u001b[39m=\u001b[39;49mvideo_offset)\n",
      "File \u001b[1;32mc:\\Users\\skipd\\Documents\\year 3\\capstone\\git\\Capstone-AI-IoT\\AI_for_Designers\\Videolabeler.py:49\u001b[0m, in \u001b[0;36mVideoLabeler.labeling\u001b[1;34m(self, video_file, timestamp, window_size, fig_id, probs, process, video_offset)\u001b[0m\n\u001b[0;32m     47\u001b[0m     \u001b[39mprint\u001b[39m(\u001b[39mf\u001b[39m\u001b[39m'\u001b[39m\u001b[39m{\u001b[39;00mi \u001b[39m+\u001b[39m \u001b[39m1\u001b[39m\u001b[39m}\u001b[39;00m\u001b[39m. \u001b[39m\u001b[39m{\u001b[39;00mlabel\u001b[39m}\u001b[39;00m\u001b[39m'\u001b[39m)\n\u001b[0;32m     48\u001b[0m \u001b[39m# Get the input from the user\u001b[39;00m\n\u001b[1;32m---> 49\u001b[0m new_label \u001b[39m=\u001b[39m \u001b[39minput\u001b[39;49m()\n\u001b[0;32m     51\u001b[0m \u001b[39mtry\u001b[39;00m:\n\u001b[0;32m     52\u001b[0m     \u001b[39m# Try casting the input to an integer if possible\u001b[39;00m\n\u001b[0;32m     53\u001b[0m     index \u001b[39m=\u001b[39m \u001b[39mint\u001b[39m(new_label)\n",
      "File \u001b[1;32m~\\AppData\\Local\\Packages\\PythonSoftwareFoundation.Python.3.10_qbz5n2kfra8p0\\LocalCache\\local-packages\\Python310\\site-packages\\ipykernel\\kernelbase.py:1175\u001b[0m, in \u001b[0;36mKernel.raw_input\u001b[1;34m(self, prompt)\u001b[0m\n\u001b[0;32m   1171\u001b[0m \u001b[39mif\u001b[39;00m \u001b[39mnot\u001b[39;00m \u001b[39mself\u001b[39m\u001b[39m.\u001b[39m_allow_stdin:\n\u001b[0;32m   1172\u001b[0m     \u001b[39mraise\u001b[39;00m StdinNotImplementedError(\n\u001b[0;32m   1173\u001b[0m         \u001b[39m\"\u001b[39m\u001b[39mraw_input was called, but this frontend does not support input requests.\u001b[39m\u001b[39m\"\u001b[39m\n\u001b[0;32m   1174\u001b[0m     )\n\u001b[1;32m-> 1175\u001b[0m \u001b[39mreturn\u001b[39;00m \u001b[39mself\u001b[39;49m\u001b[39m.\u001b[39;49m_input_request(\n\u001b[0;32m   1176\u001b[0m     \u001b[39mstr\u001b[39;49m(prompt),\n\u001b[0;32m   1177\u001b[0m     \u001b[39mself\u001b[39;49m\u001b[39m.\u001b[39;49m_parent_ident[\u001b[39m\"\u001b[39;49m\u001b[39mshell\u001b[39;49m\u001b[39m\"\u001b[39;49m],\n\u001b[0;32m   1178\u001b[0m     \u001b[39mself\u001b[39;49m\u001b[39m.\u001b[39;49mget_parent(\u001b[39m\"\u001b[39;49m\u001b[39mshell\u001b[39;49m\u001b[39m\"\u001b[39;49m),\n\u001b[0;32m   1179\u001b[0m     password\u001b[39m=\u001b[39;49m\u001b[39mFalse\u001b[39;49;00m,\n\u001b[0;32m   1180\u001b[0m )\n",
      "File \u001b[1;32m~\\AppData\\Local\\Packages\\PythonSoftwareFoundation.Python.3.10_qbz5n2kfra8p0\\LocalCache\\local-packages\\Python310\\site-packages\\ipykernel\\kernelbase.py:1217\u001b[0m, in \u001b[0;36mKernel._input_request\u001b[1;34m(self, prompt, ident, parent, password)\u001b[0m\n\u001b[0;32m   1214\u001b[0m             \u001b[39mbreak\u001b[39;00m\n\u001b[0;32m   1215\u001b[0m \u001b[39mexcept\u001b[39;00m \u001b[39mKeyboardInterrupt\u001b[39;00m:\n\u001b[0;32m   1216\u001b[0m     \u001b[39m# re-raise KeyboardInterrupt, to truncate traceback\u001b[39;00m\n\u001b[1;32m-> 1217\u001b[0m     \u001b[39mraise\u001b[39;00m \u001b[39mKeyboardInterrupt\u001b[39;00m(\u001b[39m\"\u001b[39m\u001b[39mInterrupted by user\u001b[39m\u001b[39m\"\u001b[39m) \u001b[39mfrom\u001b[39;00m \u001b[39mNone\u001b[39m\n\u001b[0;32m   1218\u001b[0m \u001b[39mexcept\u001b[39;00m \u001b[39mException\u001b[39;00m:\n\u001b[0;32m   1219\u001b[0m     \u001b[39mself\u001b[39m\u001b[39m.\u001b[39mlog\u001b[39m.\u001b[39mwarning(\u001b[39m\"\u001b[39m\u001b[39mInvalid Message:\u001b[39m\u001b[39m\"\u001b[39m, exc_info\u001b[39m=\u001b[39m\u001b[39mTrue\u001b[39;00m)\n",
      "\u001b[1;31mKeyboardInterrupt\u001b[0m: Interrupted by user"
     ]
    },
    {
     "data": {
      "image/png": "[encoded data removed]",
      "text/plain": [
       "<Figure size 640x480 with 1 Axes>"
      ]
     },
     "metadata": {},
     "output_type": "display_data"
    }
   ],
   "source": [
    "AL = ActiveLearning(fr'Preprocessed-data/{Product}/features_{Product}_scaled.csv', Product, labels, frame_size)\n",
    "labels = AL.training(active_learning_iterations, random_points=1)\n",
    "AL.plotting()\n",
    "AL.write_to_file()"
   ]
  },
  {
   "cell_type": "markdown",
   "metadata": {},
   "source": [
    "In order to get an idea of how accurate the model is, it is advised to label some more data. These frames are not used in training the model, but the model is used to predict the action that is happening in this frame. By telling the model which action actually is happening in the frame, the accuracy can be measured, by calculating the error rate (dividing the wrong labled frames by the total amount of frames). It is advised to label at least 20 frames, but preferably more (about 50). The more frames are labled, the better the indication of the accuracy is."
   ]
  },
  {
   "cell_type": "code",
   "execution_count": null,
   "metadata": {},
   "outputs": [],
   "source": [
    "AL.testing(50)"
   ]
  },
  {
   "cell_type": "code",
   "execution_count": null,
   "metadata": {},
   "outputs": [],
   "source": [
    "ND = NoveltyDetection(fr'Preprocessed-data/{Product}/features_{Product}_scaled_AL_predictionss.csv', fr'Preprocessed-data/{Product}/processed_data_files.txt')\n",
    "novelties = ND.detect(0.1)\n",
    "ND.play_novelties(novelties, frame_size)"
   ]
  },
  {
   "cell_type": "code",
   "execution_count": null,
   "metadata": {},
   "outputs": [],
   "source": [
    "stats = Stats(fr'Preprocessed-data/{Product}/features_{Product}_scaled_AL_predictionss.csv', labels)\n",
    "stats.print_percentages()\n",
    "stats.show_ghan_chart(frame_offset)"
   ]
  },
  {
   "cell_type": "markdown",
   "metadata": {},
   "source": [
    "## New Data\n",
    "\n",
    "In the section beneath we will quickly run through some of the same steps as above, but now we can feed the model that we created with new, unseen data. The model created in the steps above will be used to predict the actions happening in this unseen data. This can be helpful for testing the robustness of your model when data was gathered by different people.\n",
    "\n",
    "Now you can feed the trained model more data, for example about real-life use of your product, by changing the 'pre_new.windowing' function!!"
   ]
  },
  {
   "cell_type": "code",
   "execution_count": null,
   "metadata": {},
   "outputs": [],
   "source": [
    "import numpy as np\n",
    "import pandas as pd\n",
    "import pickle\n",
    "\n",
    "empty_files([f'Preprocessed-data/{Product}_new/features_{Product}_new.txt',\n",
    "             f'Preprocessed-data/{Product}_new/features_{Product}_new_scaled.csv',\n",
    "             f'Preprocessed-data/{Product}_new/processed_data_files.txt'])\n",
    "\n",
    "# Load the model that you made using pickle\n",
    "model = pickle.load(open(fr'Models/model_{Product}_{active_learning_iterations}.pickle', 'rb'))\n",
    "\n",
    "# Preprocess the new data\n",
    "pre_new = Preprocessing(f'{Product}_new')\n",
    "pre_new.windowing([r'GoPro\\Gijs_Mok\\Gijs_Mok_GH010035-ACCL.csv', r'GoPro\\Gijs_Mok\\Gijs_Mok_GH010035-GYRO.csv'], 'GoPro\\Gijs_Mok\\GL010035_LRV.mp4',\n",
    "              start_offset=0, stop_offset=0, size=frame_size, offset=frame_offset, epsilon=0.01, do_plot=False, do_scale=True)\n",
    "\n",
    "# Predict the label of all samples based on the \n",
    "new_dataset = pd.read_csv(fr'Preprocessed-data/{Product}_new/features_{Product}_new_scaled.csv', delimiter=',')\n",
    "predictions = model.predict(np.array(new_dataset.iloc[:, 3:]))\n",
    "\n",
    "# Replace the labels and write them to a new AL prediction file\n",
    "new_dataset['label'] = predictions\n",
    "new_dataset.to_csv(fr'Preprocessed-data/{Product}_new/features_{Product}_new_scaled_AL_predictionss.csv', index=False)\n",
    "\n",
    "# Use the new file to retrieve the predicted timeline\n",
    "stats = Stats(fr'Preprocessed-data/{Product}_new/features_{Product}_new_scaled_AL_predictionss.csv', labels)\n",
    "stats.print_percentages()\n",
    "stats.show_ghan_chart(frame_offset)"
   ]
  }
 ],
 "metadata": {
  "kernelspec": {
   "display_name": "Python 3",
   "language": "python",
   "name": "python3"
  },
  "language_info": {
   "codemirror_mode": {
    "name": "ipython",
    "version": 3
   },
   "file_extension": ".py",
   "mimetype": "text/x-python",
   "name": "python",
   "nbconvert_exporter": "python",
   "pygments_lexer": "ipython3",
   "version": "3.10.9"
  },
  "vscode": {
   "interpreter": {
    "hash": "05b34ec5475467658907ccd6067873bbebf6b32cea05c0986d05a130e79ee37f"
   }
  }
 },
 "nbformat": 4,
 "nbformat_minor": 2
}
