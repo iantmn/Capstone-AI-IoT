{
 "cells": [
  {
   "cell_type": "markdown",
   "metadata": {},
   "source": [
    "# Welcome to the Machine learning for IDE students application!\n",
    "\n",
    "This is a JupyterNotebook created for IDE students to get introduced to using machine learning for prototype improvement. It might seem like a lot if you don't have any coding experience, but just follow the steps, read the instructions and it should be a breeze! \n",
    "\n",
    "## Setting up\n",
    "\n",
    "This application will take you through the preprocessing, labeling and classification steps of the machine learning process. Make sure you've read through the [User Guide](https://docs.google.com/document/d/1J9c5sHokh8Rj-4lO4yKX1Tv7LwY2_r-mfQ9YKviiXZk/edit?usp=sharing) before you continue.\n",
    "\n",
    "To be able to access the code we need to import packages. The second set of packages are written by us and contain the main functions of the program. The actual Python code is to be found in different files, so you have a nice interface without a bunch of code. \n",
    "\n",
    "**Make sure you run the two cells below!** To run your first cell, just click inside the cell and press play. You can consult [this tutorial](https://www.dataquest.io/blog/jupyter-notebook-tutorial/) if you experience difficulty using Anaconda.\n",
    "ATTENTION: It is very important to run the code completely, so only continue after the * before the cell has disappeared"
   ]
  },
  {
   "cell_type": "code",
   "execution_count": 1,
   "metadata": {},
   "outputs": [
    {
     "name": "stdout",
     "output_type": "stream",
     "text": [
      "Collecting numpy==1.21.4\n",
      "  Downloading numpy-1.21.4-cp39-cp39-macosx_10_9_x86_64.whl (17.0 MB)\n",
      "\u001b[2K     \u001b[90m━━━━━━━━━━━━━━━━━━━━━━━━━━━━━━━━━━━━━━━━\u001b[0m \u001b[32m17.0/17.0 MB\u001b[0m \u001b[31m9.5 MB/s\u001b[0m eta \u001b[36m0:00:00\u001b[0m:00:01\u001b[0m0:01\u001b[0m\n",
      "\u001b[?25hInstalling collected packages: numpy\n",
      "  Attempting uninstall: numpy\n",
      "    Found existing installation: numpy 1.24.1\n",
      "    Uninstalling numpy-1.24.1:\n",
      "      Successfully uninstalled numpy-1.24.1\n",
      "\u001b[31mERROR: pip's dependency resolver does not currently take into account all the packages that are installed. This behaviour is the source of the following dependency conflicts.\n",
      "daal4py 2021.6.0 requires daal==2021.4.0, which is not installed.\u001b[0m\u001b[31m\n",
      "\u001b[0mSuccessfully installed numpy-1.21.4\n",
      "Requirement already satisfied: pandas==1.5.2 in /Users/sophievlot/opt/anaconda3/lib/python3.9/site-packages (1.5.2)\n",
      "Requirement already satisfied: pytz>=2020.1 in /Users/sophievlot/opt/anaconda3/lib/python3.9/site-packages (from pandas==1.5.2) (2022.1)\n",
      "Requirement already satisfied: python-dateutil>=2.8.1 in /Users/sophievlot/opt/anaconda3/lib/python3.9/site-packages (from pandas==1.5.2) (2.8.2)\n",
      "Requirement already satisfied: numpy>=1.20.3 in /Users/sophievlot/opt/anaconda3/lib/python3.9/site-packages (from pandas==1.5.2) (1.21.4)\n",
      "Requirement already satisfied: six>=1.5 in /Users/sophievlot/opt/anaconda3/lib/python3.9/site-packages (from python-dateutil>=2.8.1->pandas==1.5.2) (1.16.0)\n",
      "Requirement already satisfied: matplotlib==3.6.3 in /Users/sophievlot/opt/anaconda3/lib/python3.9/site-packages (3.6.3)\n",
      "Requirement already satisfied: pyparsing>=2.2.1 in /Users/sophievlot/opt/anaconda3/lib/python3.9/site-packages (from matplotlib==3.6.3) (3.0.9)\n",
      "Requirement already satisfied: pillow>=6.2.0 in /Users/sophievlot/opt/anaconda3/lib/python3.9/site-packages (from matplotlib==3.6.3) (9.2.0)\n",
      "Requirement already satisfied: contourpy>=1.0.1 in /Users/sophievlot/opt/anaconda3/lib/python3.9/site-packages (from matplotlib==3.6.3) (1.0.7)\n",
      "Requirement already satisfied: kiwisolver>=1.0.1 in /Users/sophievlot/opt/anaconda3/lib/python3.9/site-packages (from matplotlib==3.6.3) (1.4.2)\n",
      "Requirement already satisfied: numpy>=1.19 in /Users/sophievlot/opt/anaconda3/lib/python3.9/site-packages (from matplotlib==3.6.3) (1.21.4)\n",
      "Requirement already satisfied: fonttools>=4.22.0 in /Users/sophievlot/opt/anaconda3/lib/python3.9/site-packages (from matplotlib==3.6.3) (4.25.0)\n",
      "Requirement already satisfied: python-dateutil>=2.7 in /Users/sophievlot/opt/anaconda3/lib/python3.9/site-packages (from matplotlib==3.6.3) (2.8.2)\n",
      "Requirement already satisfied: packaging>=20.0 in /Users/sophievlot/opt/anaconda3/lib/python3.9/site-packages (from matplotlib==3.6.3) (21.3)\n",
      "Requirement already satisfied: cycler>=0.10 in /Users/sophievlot/opt/anaconda3/lib/python3.9/site-packages (from matplotlib==3.6.3) (0.11.0)\n",
      "Requirement already satisfied: six>=1.5 in /Users/sophievlot/opt/anaconda3/lib/python3.9/site-packages (from python-dateutil>=2.7->matplotlib==3.6.3) (1.16.0)\n",
      "Requirement already satisfied: scikit-learn==1.2.0 in /Users/sophievlot/opt/anaconda3/lib/python3.9/site-packages (1.2.0)\n",
      "Requirement already satisfied: threadpoolctl>=2.0.0 in /Users/sophievlot/opt/anaconda3/lib/python3.9/site-packages (from scikit-learn==1.2.0) (2.2.0)\n",
      "Requirement already satisfied: numpy>=1.17.3 in /Users/sophievlot/opt/anaconda3/lib/python3.9/site-packages (from scikit-learn==1.2.0) (1.21.4)\n",
      "Requirement already satisfied: joblib>=1.1.1 in /Users/sophievlot/opt/anaconda3/lib/python3.9/site-packages (from scikit-learn==1.2.0) (1.2.0)\n",
      "Requirement already satisfied: scipy>=1.3.2 in /Users/sophievlot/opt/anaconda3/lib/python3.9/site-packages (from scikit-learn==1.2.0) (1.9.1)\n",
      "Requirement already satisfied: plotly==5.12.0 in /Users/sophievlot/opt/anaconda3/lib/python3.9/site-packages (5.12.0)\n",
      "Requirement already satisfied: tenacity>=6.2.0 in /Users/sophievlot/opt/anaconda3/lib/python3.9/site-packages (from plotly==5.12.0) (8.0.1)\n",
      "Requirement already satisfied: IPython==8.8.0 in /Users/sophievlot/opt/anaconda3/lib/python3.9/site-packages (8.8.0)\n",
      "Requirement already satisfied: stack-data in /Users/sophievlot/opt/anaconda3/lib/python3.9/site-packages (from IPython==8.8.0) (0.6.2)\n",
      "Requirement already satisfied: matplotlib-inline in /Users/sophievlot/opt/anaconda3/lib/python3.9/site-packages (from IPython==8.8.0) (0.1.6)\n",
      "Requirement already satisfied: decorator in /Users/sophievlot/opt/anaconda3/lib/python3.9/site-packages (from IPython==8.8.0) (5.1.1)\n",
      "Requirement already satisfied: prompt-toolkit<3.1.0,>=3.0.11 in /Users/sophievlot/opt/anaconda3/lib/python3.9/site-packages (from IPython==8.8.0) (3.0.20)\n",
      "Requirement already satisfied: pickleshare in /Users/sophievlot/opt/anaconda3/lib/python3.9/site-packages (from IPython==8.8.0) (0.7.5)\n",
      "Requirement already satisfied: appnope in /Users/sophievlot/opt/anaconda3/lib/python3.9/site-packages (from IPython==8.8.0) (0.1.2)\n",
      "Requirement already satisfied: backcall in /Users/sophievlot/opt/anaconda3/lib/python3.9/site-packages (from IPython==8.8.0) (0.2.0)\n",
      "Requirement already satisfied: traitlets>=5 in /Users/sophievlot/opt/anaconda3/lib/python3.9/site-packages (from IPython==8.8.0) (5.1.1)\n",
      "Requirement already satisfied: jedi>=0.16 in /Users/sophievlot/opt/anaconda3/lib/python3.9/site-packages (from IPython==8.8.0) (0.18.1)\n",
      "Requirement already satisfied: pygments>=2.4.0 in /Users/sophievlot/opt/anaconda3/lib/python3.9/site-packages (from IPython==8.8.0) (2.11.2)\n",
      "Requirement already satisfied: pexpect>4.3 in /Users/sophievlot/opt/anaconda3/lib/python3.9/site-packages (from IPython==8.8.0) (4.8.0)\n",
      "Requirement already satisfied: parso<0.9.0,>=0.8.0 in /Users/sophievlot/opt/anaconda3/lib/python3.9/site-packages (from jedi>=0.16->IPython==8.8.0) (0.8.3)\n",
      "Requirement already satisfied: ptyprocess>=0.5 in /Users/sophievlot/opt/anaconda3/lib/python3.9/site-packages (from pexpect>4.3->IPython==8.8.0) (0.7.0)\n",
      "Requirement already satisfied: wcwidth in /Users/sophievlot/opt/anaconda3/lib/python3.9/site-packages (from prompt-toolkit<3.1.0,>=3.0.11->IPython==8.8.0) (0.2.5)\n",
      "Requirement already satisfied: pure-eval in /Users/sophievlot/opt/anaconda3/lib/python3.9/site-packages (from stack-data->IPython==8.8.0) (0.2.2)\n",
      "Requirement already satisfied: executing>=1.2.0 in /Users/sophievlot/opt/anaconda3/lib/python3.9/site-packages (from stack-data->IPython==8.8.0) (1.2.0)\n",
      "Requirement already satisfied: asttokens>=2.1.0 in /Users/sophievlot/opt/anaconda3/lib/python3.9/site-packages (from stack-data->IPython==8.8.0) (2.2.1)\n",
      "Requirement already satisfied: six in /Users/sophievlot/opt/anaconda3/lib/python3.9/site-packages (from asttokens>=2.1.0->stack-data->IPython==8.8.0) (1.16.0)\n"
     ]
    }
   ],
   "source": [
    "!pip3 install numpy==1.21.4 # 1.24.1 \n",
    "!pip3 install pandas==1.5.2\n",
    "!pip3 install matplotlib==3.6.3\n",
    "!pip3 install scikit-learn==1.2.0\n",
    "!pip3 install plotly==5.12.0\n",
    "!pip3 install IPython==8.8.0\n",
    "!pip3 install kaleido==0.2.1"
   ]
  },
  {
   "cell_type": "code",
   "execution_count": 2,
   "metadata": {},
   "outputs": [],
   "source": [
    "from AI_for_Designers.data_processing import Preprocessing, empty_files\n",
    "from AI_for_Designers.active_learning import ActiveLearning\n",
    "from AI_for_Designers.novelty_detection import NoveltyDetection\n",
    "from AI_for_Designers.data_stats import Stats\n",
    "from AI_for_Designers.Notebook import check_activity_name, amount_of_samples"
   ]
  },
  {
   "cell_type": "markdown",
   "metadata": {},
   "source": [
    "In the cell below, the name of the Activity can be changed. It helps come up with a descriptive name like the name of the prototype. ATTENTION: the name should only contain letters, numbers, underscores and dashes. "
   ]
  },
  {
   "cell_type": "code",
   "execution_count": 3,
   "metadata": {},
   "outputs": [
    {
     "name": "stdout",
     "output_type": "stream",
     "text": [
      "Name is valid!\n"
     ]
    }
   ],
   "source": [
    "Activity = 'Mok'\n",
    "check_activity_name(Activity)"
   ]
  },
  {
   "cell_type": "markdown",
   "metadata": {},
   "source": [
    "## Pre-processing\n",
    "During preprocessing, the raw data gets divided into frames. This makes for more certain predictions and a faster model.\n",
    "\n",
    "There are **4 variables** that are important for you to edit:\n",
    "\n",
    " - Frame size: set larger for slow movements, smaller for very quick movements. A frame size of about the length of one action is advides. Default = 2 sec\n",
    " - Frame offset: increase if you set a bigger frame size. A frame offset of around 10-20% of the frame size is advised. A lower frame offset might result in a more accurate model, but will result in more work for you. Default = 0.2 sec\n",
    " - Start-chop (start_offset=...): set it to the time it takes in seconds between starting the recording and starting with the actual activity.\n",
    " - End-chop (stop_offset=...): the same as the start-chop, but for the end of a recording\n",
    "\n",
    "Enter the values below, and run the cell to start the preprocessing. The frame size and the frame offset can be changed in the cell below, while the start-chop and the end-chap need to be changed in all the lines that start with 'pre.windowing'. ATTENTION: the frame size and the frame offset, need to be the same for all the different files, while the start-chop and the end-chop may differ.\n",
    "\n",
    "After you've preprocessed your data, the application will have extracted features like standard deviation and most present frequency. These features will be used to analyze the characteristics of a data point and classify it to an activity."
   ]
  },
  {
   "cell_type": "code",
   "execution_count": 4,
   "metadata": {},
   "outputs": [],
   "source": [
    "frame_size = 0.8\n",
    "frame_offset = 0.1"
   ]
  },
  {
   "cell_type": "code",
   "execution_count": 5,
   "metadata": {},
   "outputs": [
    {
     "name": "stdout",
     "output_type": "stream",
     "text": [
      "Do you want to save the extracted features '' for 'Mok'? y/n\n",
      "y\n",
      "Amount of sensors: 6, amount of features per sensor: 8\n"
     ]
    }
   ],
   "source": [
    "empty_files([f'Preprocessed-data/{Activity}/features_{Activity}.txt',\n",
    "             f'Preprocessed-data/{Activity}/features_{Activity}_scaled.csv',\n",
    "             f'Preprocessed-data/{Activity}/processed_data_files.txt'])\n",
    "\n",
    "pre = Preprocessing(Activity)\n",
    "# pre.windowing([r\"Data/data-lopen/Walking_part_1.csv\", r\"Data/data-lopen/Walking_part_1_gyro.csv\"], r\"Data/data-lopen/Walking_part_1.mp4\",\n",
    "#               start_offset=2.5, stop_offset=5, size=1, offset=0.2, epsilon=0.01, do_plot=False, do_scale=False)\n",
    "# pre.windowing([r\"Data/data-lopen/Walking_part_2.csv\", r\"Data/data-lopen/Walking_part_2_gyro.csv\"], r\"Data/data-lopen/Walking_part_2.mp4\",\n",
    "#               start_offset=2.5, stop_offset=5, size=1, offset=0.2, epsilon=0.01, do_plot=False, do_scale=True)\n",
    "# pre.windowing([fr'Data\\data-cycling\\ACCL\\Timo_fietsen_GH010031-ACCL.csv', fr'Data\\data-cycling\\GYRO\\Timo_fietsen_GH010031-GYRO.csv'], 'Data\\data-cycling\\Fiets_filmpjes\\GL010031_LRV_compressed.mp4',\n",
    "#               start_offset=0, stop_offset=0, size=5, offset=0.5, epsilon=0.01, do_plot=False, do_scale=False)\n",
    "# pre.windowing([fr'Data\\data-cycling\\ACCL\\Timo_fietsen_GH010032-ACCL.csv', fr'Data\\data-cycling\\GYRO\\Timo_fietsen_GH010032-GYRO.csv'], 'Data\\data-cycling\\Fiets_filmpjes\\GL010032_LRV.mp4',\n",
    "#               start_offset=0, stop_offset=0, size=5, offset=0.5, epsilon=0.01, do_plot=False, do_scale=False)\n",
    "# pre.windowing([fr'Data\\data-cycling\\ACCL\\Timo_fietsen_GH010033-ACCL.csv', fr'Data\\data-cycling\\GYRO\\Timo_fietsen_GH010033-GYRO.csv'], 'Data\\data-cycling\\Fiets_filmpjes\\GL010033_LRV.mp4',\n",
    "#               start_offset=0, stop_offset=0, size=5, offset=0.5, epsilon=0.01, do_plot=False, do_scale=False)\n",
    "# pre.windowing([fr'Data\\data-cycling\\ACCL\\Timo_fietsen_GH010034-ACCL.csv', fr'Data\\data-cycling\\GYRO\\Timo_fietsen_GH010034-GYRO.csv'], 'Data\\data-cycling\\Fiets_filmpjes\\GL010034_LRV_compressed.mp4',\n",
    "#               start_offset=0, stop_offset=0, size=5, offset=0.5, epsilon=0.01, do_plot=False, do_scale=True)\n",
    "pre.windowing([r'Data/data-mok/Gijs_Mok_GH010035-ACCL.csv', r'Data/data-mok/Gijs_Mok_GH010035-GYRO.csv'], 'Data/data-mok/GL010035_LRV.mp4',\n",
    "              start_offset=0, stop_offset=0, size=frame_size, offset=frame_offset, epsilon=0.01, do_plot=False, do_scale=True)"
   ]
  },
  {
   "cell_type": "markdown",
   "metadata": {},
   "source": [
    "## Labeling and training\n",
    "\n",
    "If you've set up your preprocessing correctly this step should be quite easy. The application will show you part of your recording, and you will be asked to label it according to the action performed on screen. You can add a new label if the activity you see is not one of the options you expected. \n",
    "\n",
    "First, enter the activities that you think will be in the video. Don't worry about doing this extensively, you can always add more later.\n",
    "\n",
    "An example:\n",
    "\n",
    "    labels = ['walking', 'running', 'stairs_up', 'stairs_down']\n",
    "\n",
    "Enter your labels inside the code block below. **Only change the text inside the brackets, remember to put the values in quotation marks and seperate them by commas**.\n",
    "\n",
    "Next up is training the model. After entering your labels, run the cell and you will be shown a GIF and asked to label the activity you see. Take your time to label the data correctly, as the results fully rely on accurate labels. You get the option to delete a data point if you are not completely sure about the label (e.g. the sample contains two different actions) or if it's a faulty sample. \n",
    "\n",
    "The value of 'active_learning_iterations', is the amount of samples you will label. The more samples you label, the more accurate the model might become, but the more time it will consume. Labeling round 10-20% of the total amount of samples or at least 100 samples is advised. The cell below can be used to find the amount of available samples.\n",
    "\n",
    "After labeling 16 samples, a list (recognizable by its square bracets []) apears under the video with the probability that this frame is the corresponding label, so the first value in the list corresponds with the first option under the video.\n"
   ]
  },
  {
   "cell_type": "code",
   "execution_count": 6,
   "metadata": {},
   "outputs": [
    {
     "name": "stdout",
     "output_type": "stream",
     "text": [
      "1890\n"
     ]
    }
   ],
   "source": [
    "print(amount_of_samples(f'Preprocessed-data/{Activity}/processed_data_files.txt'))"
   ]
  },
  {
   "cell_type": "code",
   "execution_count": 7,
   "metadata": {},
   "outputs": [],
   "source": [
    "labels = ['stil', 'oppakken', 'neerzetten', 'drinken', 'lopen']\n",
    "active_learning_iterations = 100"
   ]
  },
  {
   "cell_type": "code",
   "execution_count": 8,
   "metadata": {},
   "outputs": [
    {
     "name": "stdout",
     "output_type": "stream",
     "text": [
      "81.29999999999966 0.8\n"
     ]
    },
    {
     "data": {
      "text/html": [
       "\n",
       "            <head>\n",
       "                <script type=\"text/javascript\">\n",
       "                    function init_117(){\n",
       "                        let timestamp = 81.29999999999966;\n",
       "                        let window_size = 0.8;\n",
       "                        let video = document.getElementById(\"117\");\n",
       "                        video.currentTime = timestamp;\n",
       "                        play_117();\n",
       "                    }\n",
       "\n",
       "                    function play_117(){\n",
       "                        let timestamp = 81.29999999999966;\n",
       "                        let window_size = 0.8;\n",
       "                        let video = document.getElementById(\"117\");\n",
       "                        if (video.currentTime < timestamp || video.currentTime >= timestamp + window_size){\n",
       "                            video.currentTime = timestamp;\n",
       "                        }\n",
       "                        video.play();\n",
       "                        setInterval(function(){\n",
       "                            if(video.currentTime >= timestamp + window_size){\n",
       "                                video.currentTime = timestamp;\n",
       "                            }\n",
       "                        },1);\n",
       "                        <!--video.playbackRate = 2-->\n",
       "                    }\n",
       "\n",
       "                    function pause_117(){\n",
       "                        let timestamp = 81.29999999999966;\n",
       "                        let window_size = 0.8;\n",
       "                        let video = document.getElementById(\"117\");\n",
       "                        video.pause();\n",
       "                    }\n",
       "                </script>\n",
       "            </head>\n",
       "            <body>\n",
       "                <div style=\"display:flex\">\n",
       "                    <div style=\"flex:1\">\n",
       "                        <video id=\"117\" height=\"300px\" src=\"Data/data-mok/GL010035_LRV.mp4\" muted></video><br>\n",
       "                        <script type=\"text/javascript\">init_117()</script>\n",
       "                        <button onclick=\"play_117()\">Play</button>\n",
       "                        <button onclick=\"pause_117()\">Pause</button>\n",
       "                    </div>\n",
       "                    <div style=\"flex:1\">\n",
       "                        <img src=\"Plots/plot_to_label_95.png\" alt=\"95\" height=\"300\"></img>\n",
       "                    </div>\n",
       "                </div>\n",
       "            </body>\n",
       "        "
      ],
      "text/plain": [
       "<IPython.core.display.HTML object>"
      ]
     },
     "metadata": {},
     "output_type": "display_data"
    },
    {
     "name": "stdout",
     "output_type": "stream",
     "text": [
      "[0.0, 0.0, 0.0, 0.5, 0.0, 0.5]\n",
      "Enter the index or the name of one of the following labels. Enter 'n' to add a new label or 'x' to discard this sample:\n",
      "1. stil\n",
      "2. oppakken\n",
      "3. neerzetten\n",
      "4. drinken\n",
      "5. lopen\n",
      "6. naar plafond kijken\n",
      "1\n"
     ]
    },
    {
     "data": {
      "image/png": "[encoded data removed]",
      "text/plain": [
       "<Figure size 640x480 with 1 Axes>"
      ]
     },
     "metadata": {},
     "output_type": "display_data"
    },
    {
     "data": {
      "text/plain": [
       "'Preprocessed-data/Mok/features_Mok_scaled_AL_predictionss.csv'"
      ]
     },
     "execution_count": 8,
     "metadata": {},
     "output_type": "execute_result"
    }
   ],
   "source": [
    "AL = ActiveLearning(fr'Preprocessed-data/{Activity}/features_{Activity}_scaled.csv', Activity, labels, frame_size)\n",
    "labels = AL.training(active_learning_iterations, random_points=2)\n",
    "AL.plotting()\n",
    "AL.write_to_file()"
   ]
  },
  {
   "cell_type": "markdown",
   "metadata": {},
   "source": [
    "In order to get an idea of how accurate the model is, it is advised to label some more data. These frames are not used in training the model, but the model is used to predict the action that is happening in this frame. By telling the model which action actually is happening in the frame, the accuracy can be measured, by calculating the error rate (dividing the wrong labled frames by the total amount of frames). It is advised to label at least 20 frames, but preferably more (about 50). The more frames are labled, the better the indication of the accuracy is."
   ]
  },
  {
   "cell_type": "code",
   "execution_count": 9,
   "metadata": {},
   "outputs": [
    {
     "name": "stdout",
     "output_type": "stream",
     "text": [
      "116.89999999999765 0.8\n"
     ]
    },
    {
     "data": {
      "text/html": [
       "\n",
       "            <head>\n",
       "                <script type=\"text/javascript\">\n",
       "                    function init_172(){\n",
       "                        let timestamp = 116.89999999999765;\n",
       "                        let window_size = 0.8;\n",
       "                        let video = document.getElementById(\"172\");\n",
       "                        video.currentTime = timestamp;\n",
       "                        play_172();\n",
       "                    }\n",
       "\n",
       "                    function play_172(){\n",
       "                        let timestamp = 116.89999999999765;\n",
       "                        let window_size = 0.8;\n",
       "                        let video = document.getElementById(\"172\");\n",
       "                        if (video.currentTime < timestamp || video.currentTime >= timestamp + window_size){\n",
       "                            video.currentTime = timestamp;\n",
       "                        }\n",
       "                        video.play();\n",
       "                        setInterval(function(){\n",
       "                            if(video.currentTime >= timestamp + window_size){\n",
       "                                video.currentTime = timestamp;\n",
       "                            }\n",
       "                        },1);\n",
       "                        <!--video.playbackRate = 2-->\n",
       "                    }\n",
       "\n",
       "                    function pause_172(){\n",
       "                        let timestamp = 116.89999999999765;\n",
       "                        let window_size = 0.8;\n",
       "                        let video = document.getElementById(\"172\");\n",
       "                        video.pause();\n",
       "                    }\n",
       "                </script>\n",
       "            </head>\n",
       "            <body>\n",
       "                <div style=\"display:flex\">\n",
       "                    <div style=\"flex:1\">\n",
       "                        <video id=\"172\" height=\"300px\" src=\"Data/data-mok/GL010035_LRV.mp4\" muted></video><br>\n",
       "                        <script type=\"text/javascript\">init_172()</script>\n",
       "                        <button onclick=\"play_172()\">Play</button>\n",
       "                        <button onclick=\"pause_172()\">Pause</button>\n",
       "                    </div>\n",
       "                    <div style=\"flex:1\">\n",
       "                        <img src=\"Plots/plot_to_label_96.png\" alt=\"96\" height=\"300\"></img>\n",
       "                    </div>\n",
       "                </div>\n",
       "            </body>\n",
       "        "
      ],
      "text/plain": [
       "<IPython.core.display.HTML object>"
      ]
     },
     "metadata": {},
     "output_type": "display_data"
    },
    {
     "name": "stdout",
     "output_type": "stream",
     "text": [
      "TESTING\n",
      "Enter the index or the name of one of the following labels. Enter 'n' to add a new label or 'x' to discard this sample:\n",
      "1. stil\n",
      "2. oppakken\n",
      "3. neerzetten\n",
      "4. drinken\n",
      "5. lopen\n",
      "6. naar plafond kijken\n",
      "1\n",
      "Error rate: 0.04 (50 samples)\n"
     ]
    },
    {
     "data": {
      "text/plain": [
       "(2, 50)"
      ]
     },
     "execution_count": 9,
     "metadata": {},
     "output_type": "execute_result"
    }
   ],
   "source": [
    "AL.testing(50)"
   ]
  },
  {
   "cell_type": "markdown",
   "metadata": {},
   "source": [
    "## Congratulations!\n",
    "\n",
    "You have just trained a machine-learning model. It's now ready to make predictions on real-world data, detect unexpected use of your product, and show you analytics about usage. This will help you to create a better product.\n",
    "\n",
    "\n",
    "The code snippits below are to help you visualize what action was taken over time. In the first cell, some novelties are shown. These frames are selected by a detector and flagged as a frame where the model is not really certain about that this is the right label. 10% percent of the frames are shown as novelties, but this can be altered by changing the number inside the ND.detect() function. This number should be between 0 and 1. In the second cell some statistics are shown. First all the percentages of the label occuring in the data are printed and after that a figure of when each label occurs (this cell might take some time (minutes) to finish, depending on the amount of frames)."
   ]
  },
  {
   "cell_type": "code",
   "execution_count": 10,
   "metadata": {},
   "outputs": [
    {
     "data": {
      "text/html": [
       "\n",
       "                <head>\n",
       "                    <script type=\"text/javascript\">\n",
       "                    let id = 0;\n",
       "                    const time_video = [[0.0, 'Data/data-mok/GL010035_LRV.mp4'], [0.1, 'Data/data-mok/GL010035_LRV.mp4'], [0.3, 'Data/data-mok/GL010035_LRV.mp4'], [1.4, 'Data/data-mok/GL010035_LRV.mp4'], [3.1000000000000014, 'Data/data-mok/GL010035_LRV.mp4'], [3.3000000000000016, 'Data/data-mok/GL010035_LRV.mp4'], [3.900000000000002, 'Data/data-mok/GL010035_LRV.mp4'], [5.1999999999999975, 'Data/data-mok/GL010035_LRV.mp4'], [5.299999999999997, 'Data/data-mok/GL010035_LRV.mp4'], [5.399999999999997, 'Data/data-mok/GL010035_LRV.mp4'], [5.4999999999999964, 'Data/data-mok/GL010035_LRV.mp4'], [5.599999999999996, 'Data/data-mok/GL010035_LRV.mp4'], [5.999999999999995, 'Data/data-mok/GL010035_LRV.mp4'], [6.099999999999994, 'Data/data-mok/GL010035_LRV.mp4'], [6.199999999999994, 'Data/data-mok/GL010035_LRV.mp4'], [6.399999999999993, 'Data/data-mok/GL010035_LRV.mp4'], [9.199999999999983, 'Data/data-mok/GL010035_LRV.mp4'], [9.99999999999998, 'Data/data-mok/GL010035_LRV.mp4'], [10.19999999999998, 'Data/data-mok/GL010035_LRV.mp4'], [10.29999999999998, 'Data/data-mok/GL010035_LRV.mp4'], [10.39999999999998, 'Data/data-mok/GL010035_LRV.mp4'], [10.49999999999998, 'Data/data-mok/GL010035_LRV.mp4'], [10.699999999999978, 'Data/data-mok/GL010035_LRV.mp4'], [17.099999999999973, 'Data/data-mok/GL010035_LRV.mp4'], [17.399999999999977, 'Data/data-mok/GL010035_LRV.mp4'], [17.49999999999998, 'Data/data-mok/GL010035_LRV.mp4'], [19.1, 'Data/data-mok/GL010035_LRV.mp4'], [19.300000000000004, 'Data/data-mok/GL010035_LRV.mp4'], [19.500000000000007, 'Data/data-mok/GL010035_LRV.mp4'], [24.100000000000072, 'Data/data-mok/GL010035_LRV.mp4'], [24.200000000000077, 'Data/data-mok/GL010035_LRV.mp4'], [24.300000000000075, 'Data/data-mok/GL010035_LRV.mp4'], [24.50000000000008, 'Data/data-mok/GL010035_LRV.mp4'], [24.900000000000084, 'Data/data-mok/GL010035_LRV.mp4'], [25.000000000000085, 'Data/data-mok/GL010035_LRV.mp4'], [25.200000000000088, 'Data/data-mok/GL010035_LRV.mp4'], [26.70000000000011, 'Data/data-mok/GL010035_LRV.mp4'], [26.900000000000112, 'Data/data-mok/GL010035_LRV.mp4'], [27.100000000000115, 'Data/data-mok/GL010035_LRV.mp4'], [27.700000000000124, 'Data/data-mok/GL010035_LRV.mp4'], [28.600000000000136, 'Data/data-mok/GL010035_LRV.mp4'], [28.700000000000134, 'Data/data-mok/GL010035_LRV.mp4'], [28.80000000000014, 'Data/data-mok/GL010035_LRV.mp4'], [29.000000000000146, 'Data/data-mok/GL010035_LRV.mp4'], [31.900000000000183, 'Data/data-mok/GL010035_LRV.mp4'], [32.100000000000186, 'Data/data-mok/GL010035_LRV.mp4'], [35.30000000000023, 'Data/data-mok/GL010035_LRV.mp4'], [35.500000000000234, 'Data/data-mok/GL010035_LRV.mp4'], [35.60000000000024, 'Data/data-mok/GL010035_LRV.mp4'], [35.70000000000024, 'Data/data-mok/GL010035_LRV.mp4'], [35.90000000000024, 'Data/data-mok/GL010035_LRV.mp4'], [36.00000000000024, 'Data/data-mok/GL010035_LRV.mp4'], [36.20000000000024, 'Data/data-mok/GL010035_LRV.mp4'], [36.300000000000246, 'Data/data-mok/GL010035_LRV.mp4'], [36.40000000000025, 'Data/data-mok/GL010035_LRV.mp4'], [36.900000000000254, 'Data/data-mok/GL010035_LRV.mp4'], [37.000000000000256, 'Data/data-mok/GL010035_LRV.mp4'], [37.10000000000026, 'Data/data-mok/GL010035_LRV.mp4'], [37.20000000000026, 'Data/data-mok/GL010035_LRV.mp4'], [37.50000000000026, 'Data/data-mok/GL010035_LRV.mp4'], [37.60000000000026, 'Data/data-mok/GL010035_LRV.mp4'], [37.80000000000027, 'Data/data-mok/GL010035_LRV.mp4'], [37.90000000000027, 'Data/data-mok/GL010035_LRV.mp4'], [38.00000000000027, 'Data/data-mok/GL010035_LRV.mp4'], [40.70000000000031, 'Data/data-mok/GL010035_LRV.mp4'], [40.80000000000031, 'Data/data-mok/GL010035_LRV.mp4'], [41.00000000000031, 'Data/data-mok/GL010035_LRV.mp4'], [41.80000000000032, 'Data/data-mok/GL010035_LRV.mp4'], [50.300000000000445, 'Data/data-mok/GL010035_LRV.mp4'], [52.00000000000047, 'Data/data-mok/GL010035_LRV.mp4'], [54.0000000000005, 'Data/data-mok/GL010035_LRV.mp4'], [55.80000000000052, 'Data/data-mok/GL010035_LRV.mp4'], [59.10000000000057, 'Data/data-mok/GL010035_LRV.mp4'], [59.20000000000057, 'Data/data-mok/GL010035_LRV.mp4'], [59.400000000000574, 'Data/data-mok/GL010035_LRV.mp4'], [59.70000000000058, 'Data/data-mok/GL010035_LRV.mp4'], [59.90000000000058, 'Data/data-mok/GL010035_LRV.mp4'], [60.00000000000058, 'Data/data-mok/GL010035_LRV.mp4'], [60.10000000000058, 'Data/data-mok/GL010035_LRV.mp4'], [62.70000000000062, 'Data/data-mok/GL010035_LRV.mp4'], [63.00000000000063, 'Data/data-mok/GL010035_LRV.mp4'], [64.00000000000064, 'Data/data-mok/GL010035_LRV.mp4'], [68.00000000000041, 'Data/data-mok/GL010035_LRV.mp4'], [70.50000000000027, 'Data/data-mok/GL010035_LRV.mp4'], [70.70000000000026, 'Data/data-mok/GL010035_LRV.mp4'], [72.00000000000018, 'Data/data-mok/GL010035_LRV.mp4'], [75.99999999999996, 'Data/data-mok/GL010035_LRV.mp4'], [76.09999999999995, 'Data/data-mok/GL010035_LRV.mp4'], [77.29999999999988, 'Data/data-mok/GL010035_LRV.mp4'], [77.89999999999985, 'Data/data-mok/GL010035_LRV.mp4'], [93.19999999999898, 'Data/data-mok/GL010035_LRV.mp4'], [93.59999999999896, 'Data/data-mok/GL010035_LRV.mp4'], [93.69999999999897, 'Data/data-mok/GL010035_LRV.mp4'], [93.79999999999896, 'Data/data-mok/GL010035_LRV.mp4'], [93.99999999999892, 'Data/data-mok/GL010035_LRV.mp4'], [100.19999999999858, 'Data/data-mok/GL010035_LRV.mp4'], [101.49999999999852, 'Data/data-mok/GL010035_LRV.mp4'], [101.6999999999985, 'Data/data-mok/GL010035_LRV.mp4'], [103.5999999999984, 'Data/data-mok/GL010035_LRV.mp4'], [103.69999999999838, 'Data/data-mok/GL010035_LRV.mp4'], [104.29999999999836, 'Data/data-mok/GL010035_LRV.mp4'], [104.89999999999831, 'Data/data-mok/GL010035_LRV.mp4'], [108.19999999999813, 'Data/data-mok/GL010035_LRV.mp4'], [114.0999999999978, 'Data/data-mok/GL010035_LRV.mp4'], [114.39999999999776, 'Data/data-mok/GL010035_LRV.mp4'], [115.19999999999771, 'Data/data-mok/GL010035_LRV.mp4'], [115.39999999999772, 'Data/data-mok/GL010035_LRV.mp4'], [115.6999999999977, 'Data/data-mok/GL010035_LRV.mp4'], [115.7999999999977, 'Data/data-mok/GL010035_LRV.mp4'], [117.79999999999758, 'Data/data-mok/GL010035_LRV.mp4'], [118.59999999999754, 'Data/data-mok/GL010035_LRV.mp4'], [119.09999999999752, 'Data/data-mok/GL010035_LRV.mp4'], [122.09999999999734, 'Data/data-mok/GL010035_LRV.mp4'], [126.1999999999971, 'Data/data-mok/GL010035_LRV.mp4'], [126.39999999999708, 'Data/data-mok/GL010035_LRV.mp4'], [134.29999999999666, 'Data/data-mok/GL010035_LRV.mp4'], [135.69999999999658, 'Data/data-mok/GL010035_LRV.mp4'], [136.09999999999656, 'Data/data-mok/GL010035_LRV.mp4'], [137.79999999999646, 'Data/data-mok/GL010035_LRV.mp4'], [138.09999999999644, 'Data/data-mok/GL010035_LRV.mp4'], [142.1999999999962, 'Data/data-mok/GL010035_LRV.mp4'], [144.49999999999608, 'Data/data-mok/GL010035_LRV.mp4'], [144.79999999999606, 'Data/data-mok/GL010035_LRV.mp4'], [144.89999999999606, 'Data/data-mok/GL010035_LRV.mp4'], [145.09999999999604, 'Data/data-mok/GL010035_LRV.mp4'], [148.69999999999584, 'Data/data-mok/GL010035_LRV.mp4'], [148.99999999999582, 'Data/data-mok/GL010035_LRV.mp4'], [153.19999999999558, 'Data/data-mok/GL010035_LRV.mp4'], [153.29999999999558, 'Data/data-mok/GL010035_LRV.mp4'], [153.59999999999556, 'Data/data-mok/GL010035_LRV.mp4'], [153.99999999999554, 'Data/data-mok/GL010035_LRV.mp4'], [157.19999999999536, 'Data/data-mok/GL010035_LRV.mp4'], [158.99999999999525, 'Data/data-mok/GL010035_LRV.mp4'], [159.8999999999952, 'Data/data-mok/GL010035_LRV.mp4'], [160.29999999999518, 'Data/data-mok/GL010035_LRV.mp4'], [160.49999999999517, 'Data/data-mok/GL010035_LRV.mp4'], [160.59999999999516, 'Data/data-mok/GL010035_LRV.mp4'], [165.2999999999949, 'Data/data-mok/GL010035_LRV.mp4'], [168.19999999999473, 'Data/data-mok/GL010035_LRV.mp4'], [170.99999999999457, 'Data/data-mok/GL010035_LRV.mp4'], [171.09999999999457, 'Data/data-mok/GL010035_LRV.mp4'], [175.29999999999433, 'Data/data-mok/GL010035_LRV.mp4'], [175.39999999999432, 'Data/data-mok/GL010035_LRV.mp4'], [175.49999999999432, 'Data/data-mok/GL010035_LRV.mp4'], [175.5999999999943, 'Data/data-mok/GL010035_LRV.mp4'], [179.1999999999941, 'Data/data-mok/GL010035_LRV.mp4'], [179.2999999999941, 'Data/data-mok/GL010035_LRV.mp4'], [180.29999999999404, 'Data/data-mok/GL010035_LRV.mp4'], [181.799999999994, 'Data/data-mok/GL010035_LRV.mp4'], [183.39999999999387, 'Data/data-mok/GL010035_LRV.mp4'], [188.99999999999355, 'Data/data-mok/GL010035_LRV.mp4']];\n",
       "                    let time = time_video[0][0];\n",
       "                    const ws = 0.8;\n",
       "\n",
       "                    function init_nov() {\n",
       "                        let video = document.getElementById(\"nov\");\n",
       "                        video.currentTime = time;\n",
       "                        play_nov();\n",
       "                    }\n",
       "\n",
       "                    function play_nov() {\n",
       "                        let video = document.getElementById(\"nov\");\n",
       "                        if (video.currentTime < time || video.currentTime >= time + ws) {\n",
       "                            video.currentTime = time;\n",
       "                        }\n",
       "                        video.play();\n",
       "                        setInterval(function () {\n",
       "                            if (video.currentTime >= time + ws) {\n",
       "                                video.currentTime = time;\n",
       "                            }\n",
       "                        }, 1);\n",
       "                    }\n",
       "\n",
       "                    function pause_nov() {\n",
       "                        let video = document.getElementById(\"nov\");\n",
       "                        video.pause();\n",
       "                    }\n",
       "\n",
       "                    function prev_nov() {\n",
       "                    if (id >= 0) {\n",
       "                            id = id - 1;\n",
       "                            time = time_video[id][0];\n",
       "                            let video = document.getElementById(\"nov\");\n",
       "                            video.setAttribute('src', time_video[id][1]);\n",
       "                            document.getElementById(\"content\").innerHTML = 'Novelty ' + (id + 1) + ' out of 151 at ' + time + 's in ' + time_video[id][1];\n",
       "                            // document.getElementById(\"content2\").innerHTML = time_video[id][1];\n",
       "                            // document.getElementById(\"content3\").innerHTML = time;\n",
       "                            play_nov();\n",
       "                        }\n",
       "                    }\n",
       "\n",
       "                    function next_nov() {\n",
       "                        if (id < 151 - 1) {\n",
       "                            id = id + 1;\n",
       "                            time = time_video[id][0];\n",
       "                            let video = document.getElementById(\"nov\");\n",
       "                            video.setAttribute('src', time_video[id][1]);\n",
       "                            document.getElementById(\"content\").innerHTML = 'Novelty ' + (id + 1) + ' out of 151 at ' + time + 's in ' + time_video[id][1];\n",
       "                            // document.getElementById(\"content2\").innerHTML = time_video[id][1];\n",
       "                            // document.getElementById(\"content3\").innerHTML = time;\n",
       "                            play_nov();\n",
       "                        }\n",
       "                    }\n",
       "\n",
       "                    </script>\n",
       "                    <title></title>\n",
       "                </head>\n",
       "                <body>\n",
       "                    <video id=\"nov\" width=\"500px\" src=\"Data/data-mok/GL010035_LRV.mp4\" muted></video>\n",
       "                    <br>\n",
       "                    <script type=\"text/javascript\">init_nov()</script>\n",
       "                    <button onClick=\"play_nov()\">Play</button>\n",
       "                    <button onClick=\"pause_nov()\">Pause</button>\n",
       "                    <button onClick=\"prev_nov()\">Previous novelty</button>\n",
       "                    <button onClick=\"next_nov()\">Next novelty</button>\n",
       "                    <div id=\"content\">Novelty 1 out of 151 at 0.0s in Data/data-mok/GL010035_LRV.mp4</div>\n",
       "                    <!--<div id=\"content2\"></div>\n",
       "                    <div id=\"content3\"></div>-->\n",
       "                </body>\n",
       "        "
      ],
      "text/plain": [
       "<IPython.core.display.HTML object>"
      ]
     },
     "metadata": {},
     "output_type": "display_data"
    }
   ],
   "source": [
    "ND = NoveltyDetection(fr'Preprocessed-data/{Activity}/features_{Activity}_scaled_AL_predictionss.csv', fr'Preprocessed-data/{Activity}/processed_data_files.txt')\n",
    "novelties = ND.detect(0.1)\n",
    "ND.play_novelties(novelties, frame_size)"
   ]
  },
  {
   "cell_type": "code",
   "execution_count": 15,
   "metadata": {},
   "outputs": [
    {
     "name": "stdout",
     "output_type": "stream",
     "text": [
      "Percentages per label:\n",
      " stil: 0.47378898473788983\n",
      " oppakken: 0.0451227604512276\n",
      " neerzetten: 0.12276045122760451\n",
      " drinken: 0.072992700729927\n",
      " lopen: 0.26741871267418715\n",
      " naar plafond kijken: 0.017916390179163903\n"
     ]
    },
    {
     "ename": "ValueError",
     "evalue": "\nImage export using the \"kaleido\" engine requires the kaleido package,\nwhich can be installed using pip:\n    $ pip install -U kaleido\n",
     "output_type": "error",
     "traceback": [
      "\u001b[0;31m---------------------------------------------------------------------------\u001b[0m",
      "\u001b[0;31mValueError\u001b[0m                                Traceback (most recent call last)",
      "Cell \u001b[0;32mIn[15], line 3\u001b[0m\n\u001b[1;32m      1\u001b[0m stats \u001b[38;5;241m=\u001b[39m Stats(\u001b[38;5;124mfr\u001b[39m\u001b[38;5;124m'\u001b[39m\u001b[38;5;124mPreprocessed-data/\u001b[39m\u001b[38;5;132;01m{\u001b[39;00mActivity\u001b[38;5;132;01m}\u001b[39;00m\u001b[38;5;124m/features_\u001b[39m\u001b[38;5;132;01m{\u001b[39;00mActivity\u001b[38;5;132;01m}\u001b[39;00m\u001b[38;5;124m_scaled_AL_predictionss.csv\u001b[39m\u001b[38;5;124m'\u001b[39m, labels)\n\u001b[1;32m      2\u001b[0m stats\u001b[38;5;241m.\u001b[39mprint_percentages()\n\u001b[0;32m----> 3\u001b[0m \u001b[43mstats\u001b[49m\u001b[38;5;241;43m.\u001b[39;49m\u001b[43mshow_ghan_chart\u001b[49m\u001b[43m(\u001b[49m\u001b[43mframe_offset\u001b[49m\u001b[43m)\u001b[49m\n",
      "File \u001b[0;32m~/Documents/GitHub/Capstone-AI-IoT/AI_for_Designers/data_stats.py:119\u001b[0m, in \u001b[0;36mStats.show_ghan_chart\u001b[0;34m(self, offset)\u001b[0m\n\u001b[1;32m    113\u001b[0m \u001b[38;5;28;01mdef\u001b[39;00m \u001b[38;5;21mshow_ghan_chart\u001b[39m(\u001b[38;5;28mself\u001b[39m, offset: \u001b[38;5;28mfloat\u001b[39m) \u001b[38;5;241m-\u001b[39m\u001b[38;5;241m>\u001b[39m \u001b[38;5;28;01mNone\u001b[39;00m:\n\u001b[1;32m    114\u001b[0m     \u001b[38;5;124;03m\"\"\"shows the Gantt chart of the data file\u001b[39;00m\n\u001b[1;32m    115\u001b[0m \n\u001b[1;32m    116\u001b[0m \u001b[38;5;124;03m    Args:\u001b[39;00m\n\u001b[1;32m    117\u001b[0m \u001b[38;5;124;03m        offset (float): offset between the bars of the chart\u001b[39;00m\n\u001b[1;32m    118\u001b[0m \u001b[38;5;124;03m    \"\"\"\u001b[39;00m        \n\u001b[0;32m--> 119\u001b[0m     \u001b[38;5;28;43mself\u001b[39;49m\u001b[38;5;241;43m.\u001b[39;49m\u001b[43mget_ghan_chart\u001b[49m\u001b[43m(\u001b[49m\u001b[43moffset\u001b[49m\u001b[43m)\u001b[49m\n\u001b[1;32m    120\u001b[0m     img \u001b[38;5;241m=\u001b[39m mpimg\u001b[38;5;241m.\u001b[39mimread(\u001b[38;5;124m'\u001b[39m\u001b[38;5;124mPlots/distribution.png\u001b[39m\u001b[38;5;124m'\u001b[39m)\n\u001b[1;32m    121\u001b[0m     imgplot \u001b[38;5;241m=\u001b[39m plt\u001b[38;5;241m.\u001b[39mimshow(img)\n",
      "File \u001b[0;32m~/Documents/GitHub/Capstone-AI-IoT/AI_for_Designers/data_stats.py:111\u001b[0m, in \u001b[0;36mStats.get_ghan_chart\u001b[0;34m(self, offset)\u001b[0m\n\u001b[1;32m    101\u001b[0m     fig\u001b[38;5;241m.\u001b[39madd_bar(x\u001b[38;5;241m=\u001b[39mlabel_df\u001b[38;5;241m.\u001b[39mduration,\n\u001b[1;32m    102\u001b[0m             y\u001b[38;5;241m=\u001b[39m [\u001b[38;5;124m'\u001b[39m\u001b[38;5;124mAll\u001b[39m\u001b[38;5;124m'\u001b[39m] \u001b[38;5;241m*\u001b[39m \u001b[38;5;28mlen\u001b[39m(label_df\u001b[38;5;241m.\u001b[39mlabel),\n\u001b[1;32m    103\u001b[0m             base\u001b[38;5;241m=\u001b[39mlabel_df\u001b[38;5;241m.\u001b[39mID\u001b[38;5;241m*\u001b[39moffset,\n\u001b[0;32m   (...)\u001b[0m\n\u001b[1;32m    107\u001b[0m             \u001b[38;5;66;03m# marker=label,\u001b[39;00m\n\u001b[1;32m    108\u001b[0m             name\u001b[38;5;241m=\u001b[39mlabel)\n\u001b[1;32m    110\u001b[0m \u001b[38;5;66;03m# iplot(fig)\u001b[39;00m\n\u001b[0;32m--> 111\u001b[0m \u001b[43mpio\u001b[49m\u001b[38;5;241;43m.\u001b[39;49m\u001b[43mwrite_image\u001b[49m\u001b[43m(\u001b[49m\u001b[43mfig\u001b[49m\u001b[43m,\u001b[49m\u001b[43m \u001b[49m\u001b[38;5;124;43m'\u001b[39;49m\u001b[38;5;124;43mPlots/distribution.png\u001b[39;49m\u001b[38;5;124;43m'\u001b[39;49m\u001b[43m,\u001b[49m\u001b[43m \u001b[49m\u001b[43mscale\u001b[49m\u001b[38;5;241;43m=\u001b[39;49m\u001b[38;5;241;43m6\u001b[39;49m\u001b[43m,\u001b[49m\u001b[43m \u001b[49m\u001b[43mwidth\u001b[49m\u001b[38;5;241;43m=\u001b[39;49m\u001b[38;5;241;43m1980\u001b[39;49m\u001b[38;5;241;43m*\u001b[39;49m\u001b[38;5;241;43m3\u001b[39;49m\u001b[43m,\u001b[49m\u001b[43m \u001b[49m\u001b[43mheight\u001b[49m\u001b[38;5;241;43m=\u001b[39;49m\u001b[38;5;241;43m1080\u001b[39;49m\u001b[43m)\u001b[49m\n",
      "File \u001b[0;32m~/opt/anaconda3/lib/python3.9/site-packages/plotly/io/_kaleido.py:267\u001b[0m, in \u001b[0;36mwrite_image\u001b[0;34m(fig, file, format, scale, width, height, validate, engine)\u001b[0m\n\u001b[1;32m    251\u001b[0m             \u001b[38;5;28;01mraise\u001b[39;00m \u001b[38;5;167;01mValueError\u001b[39;00m(\n\u001b[1;32m    252\u001b[0m                 \u001b[38;5;124;03m\"\"\"\u001b[39;00m\n\u001b[1;32m    253\u001b[0m \u001b[38;5;124;03mCannot infer image type from output path '{file}'.\u001b[39;00m\n\u001b[0;32m   (...)\u001b[0m\n\u001b[1;32m    261\u001b[0m                 )\n\u001b[1;32m    262\u001b[0m             )\n\u001b[1;32m    264\u001b[0m     \u001b[38;5;66;03m# Request image\u001b[39;00m\n\u001b[1;32m    265\u001b[0m     \u001b[38;5;66;03m# -------------\u001b[39;00m\n\u001b[1;32m    266\u001b[0m     \u001b[38;5;66;03m# Do this first so we don't create a file if image conversion fails\u001b[39;00m\n\u001b[0;32m--> 267\u001b[0m     img_data \u001b[38;5;241m=\u001b[39m \u001b[43mto_image\u001b[49m\u001b[43m(\u001b[49m\n\u001b[1;32m    268\u001b[0m \u001b[43m        \u001b[49m\u001b[43mfig\u001b[49m\u001b[43m,\u001b[49m\n\u001b[1;32m    269\u001b[0m \u001b[43m        \u001b[49m\u001b[38;5;28;43mformat\u001b[39;49m\u001b[38;5;241;43m=\u001b[39;49m\u001b[38;5;28;43mformat\u001b[39;49m\u001b[43m,\u001b[49m\n\u001b[1;32m    270\u001b[0m \u001b[43m        \u001b[49m\u001b[43mscale\u001b[49m\u001b[38;5;241;43m=\u001b[39;49m\u001b[43mscale\u001b[49m\u001b[43m,\u001b[49m\n\u001b[1;32m    271\u001b[0m \u001b[43m        \u001b[49m\u001b[43mwidth\u001b[49m\u001b[38;5;241;43m=\u001b[39;49m\u001b[43mwidth\u001b[49m\u001b[43m,\u001b[49m\n\u001b[1;32m    272\u001b[0m \u001b[43m        \u001b[49m\u001b[43mheight\u001b[49m\u001b[38;5;241;43m=\u001b[39;49m\u001b[43mheight\u001b[49m\u001b[43m,\u001b[49m\n\u001b[1;32m    273\u001b[0m \u001b[43m        \u001b[49m\u001b[43mvalidate\u001b[49m\u001b[38;5;241;43m=\u001b[39;49m\u001b[43mvalidate\u001b[49m\u001b[43m,\u001b[49m\n\u001b[1;32m    274\u001b[0m \u001b[43m        \u001b[49m\u001b[43mengine\u001b[49m\u001b[38;5;241;43m=\u001b[39;49m\u001b[43mengine\u001b[49m\u001b[43m,\u001b[49m\n\u001b[1;32m    275\u001b[0m \u001b[43m    \u001b[49m\u001b[43m)\u001b[49m\n\u001b[1;32m    277\u001b[0m     \u001b[38;5;66;03m# Open file\u001b[39;00m\n\u001b[1;32m    278\u001b[0m     \u001b[38;5;66;03m# ---------\u001b[39;00m\n\u001b[1;32m    279\u001b[0m     \u001b[38;5;28;01mif\u001b[39;00m path \u001b[38;5;129;01mis\u001b[39;00m \u001b[38;5;28;01mNone\u001b[39;00m:\n\u001b[1;32m    280\u001b[0m         \u001b[38;5;66;03m# We previously failed to make sense of `file` as a pathlib object.\u001b[39;00m\n\u001b[1;32m    281\u001b[0m         \u001b[38;5;66;03m# Attempt to write to `file` as an open file descriptor.\u001b[39;00m\n",
      "File \u001b[0;32m~/opt/anaconda3/lib/python3.9/site-packages/plotly/io/_kaleido.py:133\u001b[0m, in \u001b[0;36mto_image\u001b[0;34m(fig, format, width, height, scale, validate, engine)\u001b[0m\n\u001b[1;32m    131\u001b[0m     \u001b[38;5;66;03m# Raise informative error message if Kaleido is not installed\u001b[39;00m\n\u001b[1;32m    132\u001b[0m     \u001b[38;5;28;01mif\u001b[39;00m scope \u001b[38;5;129;01mis\u001b[39;00m \u001b[38;5;28;01mNone\u001b[39;00m:\n\u001b[0;32m--> 133\u001b[0m         \u001b[38;5;28;01mraise\u001b[39;00m \u001b[38;5;167;01mValueError\u001b[39;00m(\n\u001b[1;32m    134\u001b[0m             \u001b[38;5;124;03m\"\"\"\u001b[39;00m\n\u001b[1;32m    135\u001b[0m \u001b[38;5;124;03mImage export using the \"kaleido\" engine requires the kaleido package,\u001b[39;00m\n\u001b[1;32m    136\u001b[0m \u001b[38;5;124;03mwhich can be installed using pip:\u001b[39;00m\n\u001b[1;32m    137\u001b[0m \u001b[38;5;124;03m    $ pip install -U kaleido\u001b[39;00m\n\u001b[1;32m    138\u001b[0m \u001b[38;5;124;03m\"\"\"\u001b[39;00m\n\u001b[1;32m    139\u001b[0m         )\n\u001b[1;32m    141\u001b[0m     \u001b[38;5;66;03m# Validate figure\u001b[39;00m\n\u001b[1;32m    142\u001b[0m     \u001b[38;5;66;03m# ---------------\u001b[39;00m\n\u001b[1;32m    143\u001b[0m     fig_dict \u001b[38;5;241m=\u001b[39m validate_coerce_fig_to_dict(fig, validate)\n",
      "\u001b[0;31mValueError\u001b[0m: \nImage export using the \"kaleido\" engine requires the kaleido package,\nwhich can be installed using pip:\n    $ pip install -U kaleido\n"
     ]
    }
   ],
   "source": [
    "stats = Stats(fr'Preprocessed-data/{Activity}/features_{Activity}_scaled_AL_predictionss.csv', labels)\n",
    "stats.print_percentages()\n",
    "stats.show_ghan_chart(frame_offset)"
   ]
  },
  {
   "cell_type": "markdown",
   "metadata": {},
   "source": [
    "## New Data\n",
    "\n",
    "In the section beneath we will quickly run through some of the same steps as above, but now we can feed the model that we created with new, unseen data. The model created in the steps above will be used to predict the actions happening in this unseen data. This can be helpful for testing the robustness of your model when data was gathered by different people.\n",
    "\n",
    "Now you can feed the trained model more data, for example about real-life use of your product, by changing the 'pre_new.windowing' function!!"
   ]
  },
  {
   "cell_type": "code",
   "execution_count": null,
   "metadata": {},
   "outputs": [],
   "source": [
    "import numpy as np\n",
    "import pandas as pd\n",
    "import pickle\n",
    "\n",
    "empty_files([f'Preprocessed-data/{Activity}_new/features_{Activity}_new.txt',\n",
    "             f'Preprocessed-data/{Activity}_new/features_{Activity}_new_scaled.csv',\n",
    "             f'Preprocessed-data/{Activity}_new/processed_data_files.txt'])\n",
    "\n",
    "# Load the model that you made using pickle\n",
    "model = pickle.load(open(fr'Models/model_{Activity}_{active_learning_iterations}.pickle', 'rb'))\n",
    "\n",
    "# Preprocess the new data\n",
    "pre_new = Preprocessing(f'{Activity}_new')\n",
    "pre_new.windowing([r'GoPro\\Gijs_Mok\\Gijs_Mok_GH010035-ACCL.csv', r'GoPro\\Gijs_Mok\\Gijs_Mok_GH010035-GYRO.csv'], 'GoPro\\Gijs_Mok\\GL010035_LRV.mp4',\n",
    "              start_offset=0, stop_offset=0, size=frame_size, offset=frame_offset, epsilon=0.01, do_plot=False, do_scale=True)\n",
    "\n",
    "# Predict the label of all samples based on the \n",
    "new_dataset = pd.read_csv(fr'Preprocessed-data/{Activity}_new/features_{Activity}_new_scaled.csv', delimiter=',')\n",
    "predictions = model.predict(np.array(new_dataset.iloc[:, 3:]))\n",
    "\n",
    "# Replace the labels and write them to a new AL prediction file\n",
    "new_dataset['label'] = predictions\n",
    "new_dataset.to_csv(fr'Preprocessed-data/{Activity}_new/features_{Activity}_new_scaled_AL_predictionss.csv', index=False)\n",
    "\n",
    "# Use the new file to retrieve the predicted timeline\n",
    "stats = Stats(fr'Preprocessed-data/{Activity}_new/features_{Activity}_new_scaled_AL_predictionss.csv', labels)\n",
    "stats.print_percentages()\n",
    "stats.show_ghan_chart(frame_offset)"
   ]
  }
 ],
 "metadata": {
  "kernelspec": {
   "display_name": "Python 3 (ipykernel)",
   "language": "python",
   "name": "python3"
  },
  "language_info": {
   "codemirror_mode": {
    "name": "ipython",
    "version": 3
   },
   "file_extension": ".py",
   "mimetype": "text/x-python",
   "name": "python",
   "nbconvert_exporter": "python",
   "pygments_lexer": "ipython3",
   "version": "3.9.13"
  },
  "vscode": {
   "interpreter": {
    "hash": "05b34ec5475467658907ccd6067873bbebf6b32cea05c0986d05a130e79ee37f"
   }
  }
 },
 "nbformat": 4,
 "nbformat_minor": 2
}
