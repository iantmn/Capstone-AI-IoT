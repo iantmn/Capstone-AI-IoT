{
 "cells": [
  {
   "attachments": {},
   "cell_type": "markdown",
   "metadata": {},
   "source": [
    "# Welcome to the Machine learning for IDE students application!\n",
    "\n",
    "This is a JupyterNotebook created for IDE students to get introduced to using machine learning for prototype improvement. It might seem like a lot if you don't have any coding experience, but just follow the steps, read the instructions and it should be a breeze! \n",
    "\n",
    "## Setting up\n",
    "\n",
    "This application will take you through the preprocessing, labeling and classification steps of the machine learning process. Make sure you've read through the [User Guide](https://docs.google.com/document/d/1J9c5sHokh8Rj-4lO4yKX1Tv7LwY2_r-mfQ9YKviiXZk/edit?usp=sharing) before you continue.\n",
    "\n",
    "To be able to access the code we need to import packages. The second set of packages are written by us and contain the main functions of the program. The actual Python code is to be found in different files, so you have a nice interface without a bunch of code. \n",
    "\n",
    "**Make sure you run the two cells below!** To run your first cell, just click inside the cell and press play. You can consult [this tutorial](https://www.dataquest.io/blog/jupyter-notebook-tutorial/) if you experience difficulty using Anaconda."
   ]
  },
  {
   "cell_type": "code",
   "execution_count": null,
   "metadata": {},
   "outputs": [],
   "source": [
    "!pip3.8 install numpy==1.24.1\n",
    "!pip3.8 install pandas==1.5.2\n",
    "!pip3.8 install matplotlib==3.6.3\n",
    "!pip3.8 install scikit-learn==1.2.0\n",
    "!pip3.8 install plotly==5.12.0\n",
    "!pip3.8 install IPython==8.8.0"
   ]
  },
  {
   "cell_type": "code",
   "execution_count": 2,
   "metadata": {
    "collapsed": false
   },
   "outputs": [],
   "source": [
    "from AI_for_Designers.data_processing import Preprocessing, empty_files\n",
    "from AI_for_Designers.active_learning import ActiveLearning\n",
    "from AI_for_Designers.novelty_detection import NoveltyDetection\n",
    "from AI_for_Designers.data_stats import Stats\n",
    "from AI_for_Designers.Notebook import check_activity_name, amount_of_samples"
   ]
  },
  {
   "attachments": {},
   "cell_type": "markdown",
   "metadata": {},
   "source": [
    "In the cell below, the name of the Activity can be changed. It helps come up with a descriptive name like the name of the prototype. ATTENTION: the name should only contain letters, numbers, underscores and dashes. The "
   ]
  },
  {
   "cell_type": "code",
   "execution_count": 3,
   "metadata": {
    "collapsed": false
   },
   "outputs": [
    {
     "name": "stdout",
     "output_type": "stream",
     "text": [
      "Name is valid!\n"
     ]
    }
   ],
   "source": [
    "Activity = 'Mok'\n",
    "check_activity_name(Activity)"
   ]
  },
  {
   "attachments": {},
   "cell_type": "markdown",
   "metadata": {},
   "source": [
    "## Pre-processing\n",
    "During preprocessing, the raw data gets divided into frames. This makes for more certain predictions and a faster model.\n",
    "\n",
    "There are **4 variables** that are important for you to edit:\n",
    "\n",
    " - Frame size (size=...): set larger for slow movements, smaller for very quick movements. A frame size of about the length of one action is advides. Default = 2 sec\n",
    " - Frame offset (offset=...): increase if you set a bigger frame size. A frame offset of around 10-20% of the frame size is advised. A lower frame offset might result in a more accurate model, but will result in more work for you. Default = 0.2 sec\n",
    " - Start-chop (start_offset=...): set it to the time it takes in seconds between starting the recording and starting with the actual activity.\n",
    " - End-chop (stop_offset=...): the same as the start-chop, but for the end of a recording\n",
    "\n",
    "Enter the values below, and run the cell to start the preprocessing. ATTENTION: the frame size and the frame offset, should be the same for all the different files, while the start-chop and the end-chop may differ.\n",
    "\n",
    "After you've preprocessed your data, the application will have extracted features like standard deviation and most present frequency. These features will be used to analyze the characteristics of a data point and classify it to an activity."
   ]
  },
  {
   "cell_type": "code",
   "execution_count": 4,
   "metadata": {},
   "outputs": [],
   "source": [
    "frame_size = 0.8\n",
    "frame_offset = 0.1"
   ]
  },
  {
   "cell_type": "code",
   "execution_count": 7,
   "metadata": {},
   "outputs": [
    {
     "name": "stdout",
     "output_type": "stream",
     "text": [
      "Amount of sensors: 6, amount of features per sensor: 8\n"
     ]
    }
   ],
   "source": [
    "empty_files([f'Preprocessed-data/{Activity}/features_{Activity}.txt',\n",
    "             f'Preprocessed-data/{Activity}/features_{Activity}_scaled.csv',\n",
    "             f'Preprocessed-data/{Activity}/processed_data_files.txt'])\n",
    "\n",
    "pre = Preprocessing(Activity)\n",
    "# pre.windowing([r\"Data/data-lopen/Walking_part_1.csv\", r\"Data/data-lopen/Walking_part_1_gyro.csv\"], r\"Data/data-lopen/Walking_part_1.mp4\",\n",
    "#               start_offset=2.5, stop_offset=5, size=1, offset=0.2, epsilon=0.01, do_plot=False, do_scale=False)\n",
    "# pre.windowing([r\"Data/data-lopen/Walking_part_2.csv\", r\"Data/data-lopen/Walking_part_2_gyro.csv\"], r\"Data/data-lopen/Walking_part_2.mp4\",\n",
    "#               start_offset=2.5, stop_offset=5, size=1, offset=0.2, epsilon=0.01, do_plot=False, do_scale=True)\n",
    "# pre.windowing([fr'Data\\data-cycling\\ACCL\\Timo_fietsen_GH010031-ACCL.csv', fr'Data\\data-cycling\\GYRO\\Timo_fietsen_GH010031-GYRO.csv'], 'Data\\data-cycling\\Fiets_filmpjes\\GL010031_LRV_compressed.mp4',\n",
    "#               start_offset=0, stop_offset=0, size=5, offset=0.5, epsilon=0.01, do_plot=False, do_scale=False)\n",
    "# pre.windowing([fr'Data\\data-cycling\\ACCL\\Timo_fietsen_GH010032-ACCL.csv', fr'Data\\data-cycling\\GYRO\\Timo_fietsen_GH010032-GYRO.csv'], 'Data\\data-cycling\\Fiets_filmpjes\\GL010032_LRV.mp4',\n",
    "#               start_offset=0, stop_offset=0, size=5, offset=0.5, epsilon=0.01, do_plot=False, do_scale=False)\n",
    "# pre.windowing([fr'Data\\data-cycling\\ACCL\\Timo_fietsen_GH010033-ACCL.csv', fr'Data\\data-cycling\\GYRO\\Timo_fietsen_GH010033-GYRO.csv'], 'Data\\data-cycling\\Fiets_filmpjes\\GL010033_LRV.mp4',\n",
    "#               start_offset=0, stop_offset=0, size=5, offset=0.5, epsilon=0.01, do_plot=False, do_scale=False)\n",
    "# pre.windowing([fr'Data\\data-cycling\\ACCL\\Timo_fietsen_GH010034-ACCL.csv', fr'Data\\data-cycling\\GYRO\\Timo_fietsen_GH010034-GYRO.csv'], 'Data\\data-cycling\\Fiets_filmpjes\\GL010034_LRV_compressed.mp4',\n",
    "#               start_offset=0, stop_offset=0, size=5, offset=0.5, epsilon=0.01, do_plot=False, do_scale=True)\n",
    "pre.windowing([r'GoPro\\Gijs_Mok\\Gijs_Mok_GH010035-ACCL.csv', r'GoPro\\Gijs_Mok\\Gijs_Mok_GH010035-GYRO.csv'], 'GoPro\\Gijs_Mok\\GL010035_LRV.mp4',\n",
    "              start_offset=0, stop_offset=0, size=frame_size, offset=frame_offset, epsilon=0.01, do_plot=False, do_scale=True)"
   ]
  },
  {
   "attachments": {},
   "cell_type": "markdown",
   "metadata": {},
   "source": [
    "## Labeling and training\n",
    "\n",
    "If you've set up your preprocessing correctly this step should be quite easy. The application will show you part of your recording, and you will be asked to label it according to the action performed on screen. You can add a new label if the activity you see is not one of the options you expected. \n",
    "\n",
    "First, enter the activities that you think will be in the video. Don't worry about doing this extensively, you can always add more later.\n",
    "\n",
    "An example:\n",
    "\n",
    "    labels = ['walking', 'running', 'stairs_up', 'stairs_down']\n",
    "\n",
    "Enter your labels inside the code block below. **Only change the text inside the brackets, remember to put the values in quotation marks and seperate them by commas**.\n",
    "\n",
    "Next up is training the model. After entering your labels, run the cell and you will be shown a GIF and asked to label the activity you see. Take your time to label the data correctly, as the results fully rely on accurate labels. You get the option to delete a data point if you are not completely sure about the label (e.g. the sample contains two different actions) or if it's a faulty sample. \n",
    "\n",
    "The integer between the brackets in AL.training(), is the amount of samples you will label. The more samples you label, the more accurate the model might become, but the more time it will consume. Labeling round 10-20% of the total amount of samples or at least 100 samples is advised. The cell below can be used to find the amount of available samples.\n"
   ]
  },
  {
   "cell_type": "code",
   "execution_count": 3,
   "metadata": {},
   "outputs": [
    {
     "name": "stdout",
     "output_type": "stream",
     "text": [
      "1890\n"
     ]
    }
   ],
   "source": [
    "print(amount_of_samples(f'Preprocessed-data/{Activity}/processed_data_files.txt'))"
   ]
  },
  {
   "cell_type": "code",
   "execution_count": null,
   "metadata": {},
   "outputs": [],
   "source": [
    "labels = ['stil', 'oppakken', 'neerzetten', 'drinken', 'lopen']"
   ]
  },
  {
   "cell_type": "code",
   "execution_count": 4,
   "metadata": {},
   "outputs": [
    {
     "name": "stdout",
     "output_type": "stream",
     "text": [
      "61.50000000000061 0.8\n"
     ]
    },
    {
     "data": {
      "text/html": [
       "\n",
       "            <head>\n",
       "                <script type=\"text/javascript\">\n",
       "                    function init_47(){\n",
       "                        let timestamp = 61.50000000000061;\n",
       "                        let window_size = 0.8;\n",
       "                        let video = document.getElementById(\"47\");\n",
       "                        video.currentTime = timestamp;\n",
       "                        play_47();\n",
       "                    }\n",
       "\n",
       "                    function play_47(){\n",
       "                        let timestamp = 61.50000000000061;\n",
       "                        let window_size = 0.8;\n",
       "                        let video = document.getElementById(\"47\");\n",
       "                        if (video.currentTime < timestamp || video.currentTime >= timestamp + window_size){\n",
       "                            video.currentTime = timestamp;\n",
       "                        }\n",
       "                        video.play();\n",
       "                        setInterval(function(){\n",
       "                            if(video.currentTime >= timestamp + window_size){\n",
       "                                video.currentTime = timestamp;\n",
       "                            }\n",
       "                        },1);\n",
       "                        <!--video.playbackRate = 2-->\n",
       "                    }\n",
       "\n",
       "                    function pause_47(){\n",
       "                        let timestamp = 61.50000000000061;\n",
       "                        let window_size = 0.8;\n",
       "                        let video = document.getElementById(\"47\");\n",
       "                        video.pause();\n",
       "                    }\n",
       "                </script>\n",
       "            </head>\n",
       "            <body>\n",
       "                <div style=\"display:flex\">\n",
       "                    <div style=\"flex:1\">\n",
       "                        <video id=\"47\" height=\"300px\" src=\"GoPro\\Gijs_Mok\\GL010035_LRV.mp4\" muted></video><br>\n",
       "                        <script type=\"text/javascript\">init_47()</script>\n",
       "                        <button onclick=\"play_47()\">Play</button>\n",
       "                        <button onclick=\"pause_47()\">Pause</button>\n",
       "                    </div>\n",
       "                    <div style=\"flex:1\">\n",
       "                        <img src=\"Plots/plot_to_label_28.png\" alt=\"28\" height=\"300\"></img>\n",
       "                    </div>\n",
       "                </div>\n",
       "            </body>\n",
       "        "
      ],
      "text/plain": [
       "<IPython.core.display.HTML object>"
      ]
     },
     "metadata": {},
     "output_type": "display_data"
    },
    {
     "name": "stdout",
     "output_type": "stream",
     "text": [
      "[0.35, 0.04, 0.11, 0.35, 0.15]\n",
      "Enter the index or the name of one of the following labels. Enter 'n' to add a new label or 'x' to discard this sample:\n",
      "1. stil\n",
      "2. oppakken\n",
      "3. neerzetten\n",
      "4. drinken\n",
      "5. lopen\n"
     ]
    },
    {
     "data": {
      "image/png": "[encoded data removed]",
      "text/plain": [
       "<Figure size 640x480 with 1 Axes>"
      ]
     },
     "metadata": {},
     "output_type": "display_data"
    },
    {
     "data": {
      "text/plain": [
       "'Preprocessed-data/Mok/features_Mok_scaled_AL_predictionss.csv'"
      ]
     },
     "execution_count": 4,
     "metadata": {},
     "output_type": "execute_result"
    }
   ],
   "source": [
    "AL = ActiveLearning(fr'Preprocessed-data/{Activity}/features_{Activity}_scaled.csv', Activity, labels, frame_size)\n",
    "AL.training(30, random_points=2)\n",
    "AL.plotting()\n",
    "AL.write_to_file()"
   ]
  },
  {
   "cell_type": "code",
   "execution_count": 5,
   "metadata": {},
   "outputs": [
    {
     "name": "stdout",
     "output_type": "stream",
     "text": [
      "165.1999999999949 0.8\n"
     ]
    },
    {
     "data": {
      "text/html": [
       "\n",
       "            <head>\n",
       "                <script type=\"text/javascript\">\n",
       "                    function init_57(){\n",
       "                        let timestamp = 165.1999999999949;\n",
       "                        let window_size = 0.8;\n",
       "                        let video = document.getElementById(\"57\");\n",
       "                        video.currentTime = timestamp;\n",
       "                        play_57();\n",
       "                    }\n",
       "\n",
       "                    function play_57(){\n",
       "                        let timestamp = 165.1999999999949;\n",
       "                        let window_size = 0.8;\n",
       "                        let video = document.getElementById(\"57\");\n",
       "                        if (video.currentTime < timestamp || video.currentTime >= timestamp + window_size){\n",
       "                            video.currentTime = timestamp;\n",
       "                        }\n",
       "                        video.play();\n",
       "                        setInterval(function(){\n",
       "                            if(video.currentTime >= timestamp + window_size){\n",
       "                                video.currentTime = timestamp;\n",
       "                            }\n",
       "                        },1);\n",
       "                        <!--video.playbackRate = 2-->\n",
       "                    }\n",
       "\n",
       "                    function pause_57(){\n",
       "                        let timestamp = 165.1999999999949;\n",
       "                        let window_size = 0.8;\n",
       "                        let video = document.getElementById(\"57\");\n",
       "                        video.pause();\n",
       "                    }\n",
       "                </script>\n",
       "            </head>\n",
       "            <body>\n",
       "                <div style=\"display:flex\">\n",
       "                    <div style=\"flex:1\">\n",
       "                        <video id=\"57\" height=\"300px\" src=\"GoPro\\Gijs_Mok\\GL010035_LRV.mp4\" muted></video><br>\n",
       "                        <script type=\"text/javascript\">init_57()</script>\n",
       "                        <button onclick=\"play_57()\">Play</button>\n",
       "                        <button onclick=\"pause_57()\">Pause</button>\n",
       "                    </div>\n",
       "                    <div style=\"flex:1\">\n",
       "                        <img src=\"Plots/plot_to_label_29.png\" alt=\"29\" height=\"300\"></img>\n",
       "                    </div>\n",
       "                </div>\n",
       "            </body>\n",
       "        "
      ],
      "text/plain": [
       "<IPython.core.display.HTML object>"
      ]
     },
     "metadata": {},
     "output_type": "display_data"
    },
    {
     "name": "stdout",
     "output_type": "stream",
     "text": [
      "TESTING\n",
      "Enter the index or the name of one of the following labels. Enter 'n' to add a new label or 'x' to discard this sample:\n",
      "1. stil\n",
      "2. oppakken\n",
      "3. neerzetten\n",
      "4. drinken\n",
      "5. lopen\n",
      "Error rate: 0.4 (10 samples)\n"
     ]
    },
    {
     "data": {
      "text/plain": [
       "(4, 10)"
      ]
     },
     "execution_count": 5,
     "metadata": {},
     "output_type": "execute_result"
    }
   ],
   "source": [
    "AL.testing(10)"
   ]
  },
  {
   "cell_type": "code",
   "execution_count": 7,
   "metadata": {},
   "outputs": [
    {
     "data": {
      "text/plain": [
       "'Preprocessed-data/Cycling/features_Cycling_scaled_AL_predictionss.csv'"
      ]
     },
     "execution_count": 7,
     "metadata": {},
     "output_type": "execute_result"
    }
   ],
   "source": [
    "AL.write_to_file()"
   ]
  },
  {
   "attachments": {},
   "cell_type": "markdown",
   "metadata": {},
   "source": [
    "\n",
    "## Congratulations!\n",
    "\n",
    "You have just trained a machine-learning model. It's now ready to make predictions on real-world data, detect unexpected use of your product, and show you analytics about usage. This will help you to create a better product.\n",
    "\n",
    "\n",
    "Now you can feed the trained model more data, for example about real-life use of your product."
   ]
  },
  {
   "cell_type": "code",
   "execution_count": 6,
   "metadata": {},
   "outputs": [
    {
     "data": {
      "text/html": [
       "\n",
       "                <head>\n",
       "                    <script type=\"text/javascript\">\n",
       "                    let id = 0;\n",
       "                    const time_video = [[0.0, 'GoPro\\\\Gijs_Mok\\\\GL010035_LRV.mp4'], [0.1, 'GoPro\\\\Gijs_Mok\\\\GL010035_LRV.mp4'], [0.3, 'GoPro\\\\Gijs_Mok\\\\GL010035_LRV.mp4'], [1.4, 'GoPro\\\\Gijs_Mok\\\\GL010035_LRV.mp4'], [3.1000000000000014, 'GoPro\\\\Gijs_Mok\\\\GL010035_LRV.mp4'], [3.3000000000000016, 'GoPro\\\\Gijs_Mok\\\\GL010035_LRV.mp4'], [3.900000000000002, 'GoPro\\\\Gijs_Mok\\\\GL010035_LRV.mp4'], [5.1999999999999975, 'GoPro\\\\Gijs_Mok\\\\GL010035_LRV.mp4'], [5.299999999999997, 'GoPro\\\\Gijs_Mok\\\\GL010035_LRV.mp4'], [5.399999999999997, 'GoPro\\\\Gijs_Mok\\\\GL010035_LRV.mp4'], [5.4999999999999964, 'GoPro\\\\Gijs_Mok\\\\GL010035_LRV.mp4'], [5.599999999999996, 'GoPro\\\\Gijs_Mok\\\\GL010035_LRV.mp4'], [5.999999999999995, 'GoPro\\\\Gijs_Mok\\\\GL010035_LRV.mp4'], [6.099999999999994, 'GoPro\\\\Gijs_Mok\\\\GL010035_LRV.mp4'], [6.199999999999994, 'GoPro\\\\Gijs_Mok\\\\GL010035_LRV.mp4'], [6.399999999999993, 'GoPro\\\\Gijs_Mok\\\\GL010035_LRV.mp4'], [9.199999999999983, 'GoPro\\\\Gijs_Mok\\\\GL010035_LRV.mp4'], [9.99999999999998, 'GoPro\\\\Gijs_Mok\\\\GL010035_LRV.mp4'], [10.19999999999998, 'GoPro\\\\Gijs_Mok\\\\GL010035_LRV.mp4'], [10.29999999999998, 'GoPro\\\\Gijs_Mok\\\\GL010035_LRV.mp4'], [10.39999999999998, 'GoPro\\\\Gijs_Mok\\\\GL010035_LRV.mp4'], [10.49999999999998, 'GoPro\\\\Gijs_Mok\\\\GL010035_LRV.mp4'], [10.699999999999978, 'GoPro\\\\Gijs_Mok\\\\GL010035_LRV.mp4'], [17.099999999999973, 'GoPro\\\\Gijs_Mok\\\\GL010035_LRV.mp4'], [17.399999999999977, 'GoPro\\\\Gijs_Mok\\\\GL010035_LRV.mp4'], [17.49999999999998, 'GoPro\\\\Gijs_Mok\\\\GL010035_LRV.mp4'], [19.1, 'GoPro\\\\Gijs_Mok\\\\GL010035_LRV.mp4'], [19.300000000000004, 'GoPro\\\\Gijs_Mok\\\\GL010035_LRV.mp4'], [19.500000000000007, 'GoPro\\\\Gijs_Mok\\\\GL010035_LRV.mp4'], [24.100000000000072, 'GoPro\\\\Gijs_Mok\\\\GL010035_LRV.mp4'], [24.200000000000077, 'GoPro\\\\Gijs_Mok\\\\GL010035_LRV.mp4'], [24.300000000000075, 'GoPro\\\\Gijs_Mok\\\\GL010035_LRV.mp4'], [24.50000000000008, 'GoPro\\\\Gijs_Mok\\\\GL010035_LRV.mp4'], [24.900000000000084, 'GoPro\\\\Gijs_Mok\\\\GL010035_LRV.mp4'], [25.000000000000085, 'GoPro\\\\Gijs_Mok\\\\GL010035_LRV.mp4'], [25.200000000000088, 'GoPro\\\\Gijs_Mok\\\\GL010035_LRV.mp4'], [26.70000000000011, 'GoPro\\\\Gijs_Mok\\\\GL010035_LRV.mp4'], [26.900000000000112, 'GoPro\\\\Gijs_Mok\\\\GL010035_LRV.mp4'], [27.100000000000115, 'GoPro\\\\Gijs_Mok\\\\GL010035_LRV.mp4'], [27.700000000000124, 'GoPro\\\\Gijs_Mok\\\\GL010035_LRV.mp4'], [28.600000000000136, 'GoPro\\\\Gijs_Mok\\\\GL010035_LRV.mp4'], [28.700000000000134, 'GoPro\\\\Gijs_Mok\\\\GL010035_LRV.mp4'], [28.80000000000014, 'GoPro\\\\Gijs_Mok\\\\GL010035_LRV.mp4'], [29.000000000000146, 'GoPro\\\\Gijs_Mok\\\\GL010035_LRV.mp4'], [31.900000000000183, 'GoPro\\\\Gijs_Mok\\\\GL010035_LRV.mp4'], [32.100000000000186, 'GoPro\\\\Gijs_Mok\\\\GL010035_LRV.mp4'], [35.30000000000023, 'GoPro\\\\Gijs_Mok\\\\GL010035_LRV.mp4'], [35.500000000000234, 'GoPro\\\\Gijs_Mok\\\\GL010035_LRV.mp4'], [35.60000000000024, 'GoPro\\\\Gijs_Mok\\\\GL010035_LRV.mp4'], [35.70000000000024, 'GoPro\\\\Gijs_Mok\\\\GL010035_LRV.mp4'], [35.90000000000024, 'GoPro\\\\Gijs_Mok\\\\GL010035_LRV.mp4'], [36.00000000000024, 'GoPro\\\\Gijs_Mok\\\\GL010035_LRV.mp4'], [36.20000000000024, 'GoPro\\\\Gijs_Mok\\\\GL010035_LRV.mp4'], [36.300000000000246, 'GoPro\\\\Gijs_Mok\\\\GL010035_LRV.mp4'], [36.40000000000025, 'GoPro\\\\Gijs_Mok\\\\GL010035_LRV.mp4'], [36.900000000000254, 'GoPro\\\\Gijs_Mok\\\\GL010035_LRV.mp4'], [37.000000000000256, 'GoPro\\\\Gijs_Mok\\\\GL010035_LRV.mp4'], [37.10000000000026, 'GoPro\\\\Gijs_Mok\\\\GL010035_LRV.mp4'], [37.20000000000026, 'GoPro\\\\Gijs_Mok\\\\GL010035_LRV.mp4'], [37.50000000000026, 'GoPro\\\\Gijs_Mok\\\\GL010035_LRV.mp4'], [37.60000000000026, 'GoPro\\\\Gijs_Mok\\\\GL010035_LRV.mp4'], [37.700000000000266, 'GoPro\\\\Gijs_Mok\\\\GL010035_LRV.mp4'], [37.80000000000027, 'GoPro\\\\Gijs_Mok\\\\GL010035_LRV.mp4'], [37.90000000000027, 'GoPro\\\\Gijs_Mok\\\\GL010035_LRV.mp4'], [38.00000000000027, 'GoPro\\\\Gijs_Mok\\\\GL010035_LRV.mp4'], [40.70000000000031, 'GoPro\\\\Gijs_Mok\\\\GL010035_LRV.mp4'], [40.80000000000031, 'GoPro\\\\Gijs_Mok\\\\GL010035_LRV.mp4'], [41.00000000000031, 'GoPro\\\\Gijs_Mok\\\\GL010035_LRV.mp4'], [41.80000000000032, 'GoPro\\\\Gijs_Mok\\\\GL010035_LRV.mp4'], [50.300000000000445, 'GoPro\\\\Gijs_Mok\\\\GL010035_LRV.mp4'], [52.00000000000047, 'GoPro\\\\Gijs_Mok\\\\GL010035_LRV.mp4'], [54.0000000000005, 'GoPro\\\\Gijs_Mok\\\\GL010035_LRV.mp4'], [55.80000000000052, 'GoPro\\\\Gijs_Mok\\\\GL010035_LRV.mp4'], [59.10000000000057, 'GoPro\\\\Gijs_Mok\\\\GL010035_LRV.mp4'], [59.20000000000057, 'GoPro\\\\Gijs_Mok\\\\GL010035_LRV.mp4'], [59.400000000000574, 'GoPro\\\\Gijs_Mok\\\\GL010035_LRV.mp4'], [59.70000000000058, 'GoPro\\\\Gijs_Mok\\\\GL010035_LRV.mp4'], [60.00000000000058, 'GoPro\\\\Gijs_Mok\\\\GL010035_LRV.mp4'], [60.10000000000058, 'GoPro\\\\Gijs_Mok\\\\GL010035_LRV.mp4'], [62.70000000000062, 'GoPro\\\\Gijs_Mok\\\\GL010035_LRV.mp4'], [63.00000000000063, 'GoPro\\\\Gijs_Mok\\\\GL010035_LRV.mp4'], [64.00000000000064, 'GoPro\\\\Gijs_Mok\\\\GL010035_LRV.mp4'], [68.00000000000041, 'GoPro\\\\Gijs_Mok\\\\GL010035_LRV.mp4'], [70.50000000000027, 'GoPro\\\\Gijs_Mok\\\\GL010035_LRV.mp4'], [70.70000000000026, 'GoPro\\\\Gijs_Mok\\\\GL010035_LRV.mp4'], [72.00000000000018, 'GoPro\\\\Gijs_Mok\\\\GL010035_LRV.mp4'], [75.99999999999996, 'GoPro\\\\Gijs_Mok\\\\GL010035_LRV.mp4'], [76.09999999999995, 'GoPro\\\\Gijs_Mok\\\\GL010035_LRV.mp4'], [77.29999999999988, 'GoPro\\\\Gijs_Mok\\\\GL010035_LRV.mp4'], [77.89999999999985, 'GoPro\\\\Gijs_Mok\\\\GL010035_LRV.mp4'], [93.19999999999898, 'GoPro\\\\Gijs_Mok\\\\GL010035_LRV.mp4'], [93.59999999999896, 'GoPro\\\\Gijs_Mok\\\\GL010035_LRV.mp4'], [93.69999999999897, 'GoPro\\\\Gijs_Mok\\\\GL010035_LRV.mp4'], [93.79999999999896, 'GoPro\\\\Gijs_Mok\\\\GL010035_LRV.mp4'], [93.99999999999892, 'GoPro\\\\Gijs_Mok\\\\GL010035_LRV.mp4'], [100.19999999999858, 'GoPro\\\\Gijs_Mok\\\\GL010035_LRV.mp4'], [101.49999999999852, 'GoPro\\\\Gijs_Mok\\\\GL010035_LRV.mp4'], [101.6999999999985, 'GoPro\\\\Gijs_Mok\\\\GL010035_LRV.mp4'], [103.5999999999984, 'GoPro\\\\Gijs_Mok\\\\GL010035_LRV.mp4'], [103.69999999999838, 'GoPro\\\\Gijs_Mok\\\\GL010035_LRV.mp4'], [104.29999999999836, 'GoPro\\\\Gijs_Mok\\\\GL010035_LRV.mp4'], [104.89999999999831, 'GoPro\\\\Gijs_Mok\\\\GL010035_LRV.mp4'], [108.19999999999813, 'GoPro\\\\Gijs_Mok\\\\GL010035_LRV.mp4'], [114.0999999999978, 'GoPro\\\\Gijs_Mok\\\\GL010035_LRV.mp4'], [114.39999999999776, 'GoPro\\\\Gijs_Mok\\\\GL010035_LRV.mp4'], [115.19999999999771, 'GoPro\\\\Gijs_Mok\\\\GL010035_LRV.mp4'], [115.39999999999772, 'GoPro\\\\Gijs_Mok\\\\GL010035_LRV.mp4'], [115.6999999999977, 'GoPro\\\\Gijs_Mok\\\\GL010035_LRV.mp4'], [115.7999999999977, 'GoPro\\\\Gijs_Mok\\\\GL010035_LRV.mp4'], [117.79999999999758, 'GoPro\\\\Gijs_Mok\\\\GL010035_LRV.mp4'], [118.59999999999754, 'GoPro\\\\Gijs_Mok\\\\GL010035_LRV.mp4'], [119.09999999999752, 'GoPro\\\\Gijs_Mok\\\\GL010035_LRV.mp4'], [122.09999999999734, 'GoPro\\\\Gijs_Mok\\\\GL010035_LRV.mp4'], [126.1999999999971, 'GoPro\\\\Gijs_Mok\\\\GL010035_LRV.mp4'], [126.39999999999708, 'GoPro\\\\Gijs_Mok\\\\GL010035_LRV.mp4'], [134.29999999999666, 'GoPro\\\\Gijs_Mok\\\\GL010035_LRV.mp4'], [135.69999999999658, 'GoPro\\\\Gijs_Mok\\\\GL010035_LRV.mp4'], [136.09999999999656, 'GoPro\\\\Gijs_Mok\\\\GL010035_LRV.mp4'], [137.79999999999646, 'GoPro\\\\Gijs_Mok\\\\GL010035_LRV.mp4'], [138.09999999999644, 'GoPro\\\\Gijs_Mok\\\\GL010035_LRV.mp4'], [142.1999999999962, 'GoPro\\\\Gijs_Mok\\\\GL010035_LRV.mp4'], [144.49999999999608, 'GoPro\\\\Gijs_Mok\\\\GL010035_LRV.mp4'], [144.79999999999606, 'GoPro\\\\Gijs_Mok\\\\GL010035_LRV.mp4'], [144.89999999999606, 'GoPro\\\\Gijs_Mok\\\\GL010035_LRV.mp4'], [145.09999999999604, 'GoPro\\\\Gijs_Mok\\\\GL010035_LRV.mp4'], [148.69999999999584, 'GoPro\\\\Gijs_Mok\\\\GL010035_LRV.mp4'], [148.99999999999582, 'GoPro\\\\Gijs_Mok\\\\GL010035_LRV.mp4'], [153.19999999999558, 'GoPro\\\\Gijs_Mok\\\\GL010035_LRV.mp4'], [153.29999999999558, 'GoPro\\\\Gijs_Mok\\\\GL010035_LRV.mp4'], [153.59999999999556, 'GoPro\\\\Gijs_Mok\\\\GL010035_LRV.mp4'], [153.99999999999554, 'GoPro\\\\Gijs_Mok\\\\GL010035_LRV.mp4'], [157.19999999999536, 'GoPro\\\\Gijs_Mok\\\\GL010035_LRV.mp4'], [158.99999999999525, 'GoPro\\\\Gijs_Mok\\\\GL010035_LRV.mp4'], [159.8999999999952, 'GoPro\\\\Gijs_Mok\\\\GL010035_LRV.mp4'], [160.29999999999518, 'GoPro\\\\Gijs_Mok\\\\GL010035_LRV.mp4'], [160.49999999999517, 'GoPro\\\\Gijs_Mok\\\\GL010035_LRV.mp4'], [160.59999999999516, 'GoPro\\\\Gijs_Mok\\\\GL010035_LRV.mp4'], [165.2999999999949, 'GoPro\\\\Gijs_Mok\\\\GL010035_LRV.mp4'], [168.19999999999473, 'GoPro\\\\Gijs_Mok\\\\GL010035_LRV.mp4'], [170.99999999999457, 'GoPro\\\\Gijs_Mok\\\\GL010035_LRV.mp4'], [171.09999999999457, 'GoPro\\\\Gijs_Mok\\\\GL010035_LRV.mp4'], [175.29999999999433, 'GoPro\\\\Gijs_Mok\\\\GL010035_LRV.mp4'], [175.39999999999432, 'GoPro\\\\Gijs_Mok\\\\GL010035_LRV.mp4'], [175.49999999999432, 'GoPro\\\\Gijs_Mok\\\\GL010035_LRV.mp4'], [175.5999999999943, 'GoPro\\\\Gijs_Mok\\\\GL010035_LRV.mp4'], [179.1999999999941, 'GoPro\\\\Gijs_Mok\\\\GL010035_LRV.mp4'], [179.2999999999941, 'GoPro\\\\Gijs_Mok\\\\GL010035_LRV.mp4'], [180.29999999999404, 'GoPro\\\\Gijs_Mok\\\\GL010035_LRV.mp4'], [181.799999999994, 'GoPro\\\\Gijs_Mok\\\\GL010035_LRV.mp4'], [183.39999999999387, 'GoPro\\\\Gijs_Mok\\\\GL010035_LRV.mp4'], [188.99999999999355, 'GoPro\\\\Gijs_Mok\\\\GL010035_LRV.mp4']];\n",
       "                    let time = time_video[0][0];\n",
       "                    const ws = 0.8;\n",
       "\n",
       "                    function init_nov() {\n",
       "                        let video = document.getElementById(\"nov\");\n",
       "                        video.currentTime = time;\n",
       "                        play_nov();\n",
       "                    }\n",
       "\n",
       "                    function play_nov() {\n",
       "                        let video = document.getElementById(\"nov\");\n",
       "                        if (video.currentTime < time || video.currentTime >= time + ws) {\n",
       "                            video.currentTime = time;\n",
       "                        }\n",
       "                        video.play();\n",
       "                        setInterval(function () {\n",
       "                            if (video.currentTime >= time + ws) {\n",
       "                                video.currentTime = time;\n",
       "                            }\n",
       "                        }, 1);\n",
       "                    }\n",
       "\n",
       "                    function pause_nov() {\n",
       "                        let video = document.getElementById(\"nov\");\n",
       "                        video.pause();\n",
       "                    }\n",
       "\n",
       "                    function prev_nov() {\n",
       "                    if (id >= 0) {\n",
       "                            id = id - 1;\n",
       "                            time = time_video[id][0];\n",
       "                            let video = document.getElementById(\"nov\");\n",
       "                            video.setAttribute('src', time_video[id][1]);\n",
       "                            document.getElementById(\"content\").innerHTML = 'Novelty ' + (id + 1) + ' out of 151 at ' + time + 's in ' + time_video[id][1];\n",
       "                            // document.getElementById(\"content2\").innerHTML = time_video[id][1];\n",
       "                            // document.getElementById(\"content3\").innerHTML = time;\n",
       "                            play_nov();\n",
       "                        }\n",
       "                    }\n",
       "\n",
       "                    function next_nov() {\n",
       "                        if (id < 151 - 1) {\n",
       "                            id = id + 1;\n",
       "                            time = time_video[id][0];\n",
       "                            let video = document.getElementById(\"nov\");\n",
       "                            video.setAttribute('src', time_video[id][1]);\n",
       "                            document.getElementById(\"content\").innerHTML = 'Novelty ' + (id + 1) + ' out of 151 at ' + time + 's in ' + time_video[id][1];\n",
       "                            // document.getElementById(\"content2\").innerHTML = time_video[id][1];\n",
       "                            // document.getElementById(\"content3\").innerHTML = time;\n",
       "                            play_nov();\n",
       "                        }\n",
       "                    }\n",
       "\n",
       "                    </script>\n",
       "                    <title></title>\n",
       "                </head>\n",
       "                <body>\n",
       "                    <video id=\"nov\" width=\"500px\" src=\"GoPro\\Gijs_Mok\\GL010035_LRV.mp4\" muted></video>\n",
       "                    <br>\n",
       "                    <script type=\"text/javascript\">init_nov()</script>\n",
       "                    <button onClick=\"play_nov()\">Play</button>\n",
       "                    <button onClick=\"pause_nov()\">Pause</button>\n",
       "                    <button onClick=\"prev_nov()\">Previous novelty</button>\n",
       "                    <button onClick=\"next_nov()\">Next novelty</button>\n",
       "                    <div id=\"content\">Novelty 1 out of 151 at 0.0s in GoPro\\Gijs_Mok\\GL010035_LRV.mp4</div>\n",
       "                    <!--<div id=\"content2\"></div>\n",
       "                    <div id=\"content3\"></div>-->\n",
       "                </body>\n",
       "        "
      ],
      "text/plain": [
       "<IPython.core.display.HTML object>"
      ]
     },
     "metadata": {},
     "output_type": "display_data"
    }
   ],
   "source": [
    "ND = NoveltyDetection(fr'Preprocessed-data/{Activity}/features_{Activity}_scaled_AL_predictionss.csv', fr'Preprocessed-data/{Activity}/processed_data_files.txt')\n",
    "novelties = ND.detect()\n",
    "ND.play_novelties(novelties, frame_size)"
   ]
  },
  {
   "cell_type": "code",
   "execution_count": 9,
   "metadata": {},
   "outputs": [
    {
     "name": "stdout",
     "output_type": "stream",
     "text": [
      "Percentages per label:\n",
      " stil: 0.45797485109199204\n",
      " oppakken: 0.062210456651224356\n",
      " neerzetten: 0.07412309728656519\n",
      " drinken: 0.03838517538054269\n",
      " lopen: 0.3673064195896757\n",
      "{'stil': 'blue', 'oppakken': 'green', 'neerzetten': 'purple', 'drinken': 'red', 'lopen': 'orange'}\n"
     ]
    },
    {
     "data": {
      "image/png": "[encoded data removed]",
      "text/plain": [
       "<Figure size 640x480 with 1 Axes>"
      ]
     },
     "metadata": {},
     "output_type": "display_data"
    }
   ],
   "source": [
    "stats = Stats(fr'Preprocessed-data/{Activity}/features_{Activity}_scaled_AL_predictionss.csv', labels)\n",
    "stats.print_percentages()\n",
    "stats.show_ghan_chart(frame_offset)"
   ]
  }
 ],
 "metadata": {
  "kernelspec": {
   "display_name": "Python 3",
   "language": "python",
   "name": "python3"
  },
  "language_info": {
   "codemirror_mode": {
    "name": "ipython",
    "version": 3
   },
   "file_extension": ".py",
   "mimetype": "text/x-python",
   "name": "python",
   "nbconvert_exporter": "python",
   "pygments_lexer": "ipython3",
   "version": "3.10.8"
  },
  "orig_nbformat": 4,
  "vscode": {
   "interpreter": {
    "hash": "529ecdcae69add5700b168af870c2c245dc5754f1a82655f7b34366657b0a28f"
   }
  }
 },
 "nbformat": 4,
 "nbformat_minor": 2
}
