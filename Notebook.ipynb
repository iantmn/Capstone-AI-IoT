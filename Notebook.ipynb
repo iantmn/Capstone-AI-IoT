{
 "cells": [
  {
   "attachments": {},
   "cell_type": "markdown",
   "metadata": {},
   "source": [
    "# Welcome to the Machine learning for IDE students application!\n",
    "\n",
    "This is a JupyterNotebook created for IDE students to get started with machine learning for product analysation. This might be a lot at first and you might not have any programming background. If you follow the steps and read the explanation you should be able to use our machine-learning application. \n",
    "\n",
    "## Application\n",
    "\n",
    "This application will take you through the steps needed to be taken to analyse product usage using machine learning. It will not cover the data gathering, but we created a **different document** that shows how to collect data for your model and prepare it for usage in this program.\n",
    "\n",
    "In this program, we will follow a certain number of steps. We will briefly go over them so you understand the basics and further on we will explain them more:\n",
    "\n",
    "**The main flow of the program**\n",
    "\n",
    " 1. Preprocessing, preparing the data and making it ready for usage in the program. This step extracts the information(features) from the data that you've gathered, because the data is not quite usable in its raw state.\n",
    " 2. Active learning, the training part of the program. This part classifies the data you have gathered, but it needs your help. It will show you the video that you have made of the activity performed with the product and asks you to classify the action. This is why it is needed to video-capture the activities. It will update its model every time and that way it learns actively.\n",
    " 3. Usage after training, the part where you can gather the actual data about product usage. You have trained the model in the active learning step, now you can see the product usage. The model sees what action is performed and will see if something is being done that is not in the trained model, novelty detection.\n",
    "\n",
    "## key terms\n",
    "**Class** There are multiple classes for each model, a class is the \"bucket\" in which a datapoint belongs. You can see it as how it is classified.\n",
    "**Model**: A machine learning model that can predict in what class a datapoint belongs\n",
    "**Datapoint**: One point of data, the model sees this as one thing that enters the model.\n",
    "**Features** Features belong to a datapoint. A datapoint has multiple features most of the time.\n",
    "\n",
    "\n",
    "## Pre-processing\n",
    "The data you have gathered are accelerometer data and gyroscope data, if you do not know what these are, please consolidate this [video](https://www.youtube.com/watch?v=vFUlaRmuEHk&ab_channel=SymmetryElectronics).\n",
    "This data is used to train the model to detect that action is performed with the product, but this data is messy and can not be understood by the model as well. To get an understanding of this data.\n",
    "\n",
    "![accelerometer and gyroscope data explanation](https://www.researchgate.net/publication/335978678/figure/fig1/AS:806271687073792@1569241558268/Example-of-accelerometer-and-gyroscope-data-Data-from-several-activities-is.ppm)\n",
    "This looks like our data, but our data is not in a graph, but looks like **insert image of actual data**\n",
    "\n",
    "![enter image description here](https://www.electronicwings.com/storage/PlatformSection/TopicContent/311/description/Arduino_Output_window.png)\n",
    "\n",
    "As you might understand this is not readable that easily even for a machine, however when we do some calculations on this data we get new features about the data points. \n",
    "\n",
    "### The actual pre-processing\n",
    "To get an understanding of what happens. You need to know that we divide the data into frames, this way we can get a better sense of the data and be more certain of our prediction, because we use more raw data, moreover it makes the model faster. \n",
    "\n",
    "![enter image description here](https://www.researchgate.net/publication/346142883/figure/fig2/AS:961234023231491@1606187458853/Framing-raw-sensor-data-as-12-input-to-CNN-trained-to-predict-the-local-displacement-x.ppm)\n",
    "This shows how the data is framed and processed. \n",
    "We extract features from the frame like:\n",
    "*Note that this is per direction for the accelerometer and per axis for the gyroscope*\n",
    "\n",
    " - Average\n",
    " - Maximum\n",
    " - Minimum\n",
    " - Standard deviation\n",
    " - Most present frequency\n",
    "\n",
    "### Fourier Transform\n",
    "The last element of the feature list needs some extra explanation. We use a Fourier transformer to get more information on the frequencies that are in the data signal.\n",
    "most signals are composed in multiple frequencies like sound waves for example. A Fourier transformer can distinguish all these frequencies and then we can process all frequencies independently. It looks something like this:\n",
    "![enter image description here](https://www.nti-audio.com/portals/0/pic/news/FFT-Time-Frequency-View-540.png)\n",
    "\n",
    "## Lets Start\n",
    "There are 4 variables that are important for you to edit.\n",
    "\n",
    " - Frame size: The size of the frame used for the feature extraction, set larger for slow movements. Smaller for very quick movements. Standard = 2 sec.\n",
    " - Frame offset: The amount of offset per frame, can be increased is the window size is set bigger. \n",
    " - start-chop \n",
    " - end-chop\n",
    "\n",
    "\n",
    "\n",
    "\n",
    "## Active learning\n",
    "\n",
    "If you have set up all your files and variables correctly this step should be quite easy. If all is right the application will show you a part of the video you have recorded with the question to label it according to the action performed on screen. If you need a new label because the correct option is not one of the options, you can add that. \n",
    "\n",
    "\n",
    "## Congratulations\n",
    "\n",
    "You have just trained a machine-learning model! The model is now trained to use for analysation of product usage. The model will predict the class that the movement of the real- world data is and can detect if something strange is happening. This will help you to create a better product.\n",
    "\n",
    "\n",
    "## Get you real world data\n",
    "\n",
    "In this step, you can insert your real-world data into the model. \n",
    "If there are any novelties they will show in the result.\n"
   ]
  },
  {
   "attachments": {},
   "cell_type": "markdown",
   "metadata": {},
   "source": [
    "## Get all the packages\n",
    "To be able to run the application we need to import packages. \n",
    "These packages were mostly written by us and contain the main functions of the program, so this program does not look like a whole bunch of code. \n",
    "Packages are python code that can be imported, this way your code stays clean because the majority of the code is not in the current file, but in another."
   ]
  },
  {
   "cell_type": "code",
   "execution_count": 1,
   "metadata": {
    "collapsed": false
   },
   "outputs": [],
   "source": [
    "# from Data_Gathering_and_Preprocessing.data_processing import Preprocessing, empty_files\n",
    "# from Model_Active_Learning.active_learning import ActiveLearning\n",
    "from AI_for_Designers.data_processing import Preprocessing, empty_files\n",
    "from AI_for_Designers.active_learning import ActiveLearning\n",
    "from AI_for_Designers.novelty_detection import NoveltyDetection\n",
    "from AI_for_Designers.data_stats import Stats\n",
    "\n",
    "Activity = 'Walking3'\n",
    "labels = ['walking', 'running', 'stairs_up', 'stairs_down']"
   ]
  },
  {
   "cell_type": "code",
   "execution_count": 2,
   "metadata": {},
   "outputs": [],
   "source": [
    "empty_files([f'Preprocessed-data/{Activity}/features_{Activity}.txt',\n",
    "             f'Preprocessed-data/{Activity}/features_{Activity}_scaled.csv',\n",
    "             f'Preprocessed-data/{Activity}/processed_data_files.txt'])\n",
    "\n",
    "pre = Preprocessing(Activity)\n",
    "pre.windowing([r\"Data/data-lopen/Walking_part_1.csv\", r\"Data/data-lopen/Walking_part_1_gyro.csv\"], r\"Data/data-lopen/Walking_part_1.mp4\",\n",
    "              start_offset=2.5, stop_offset=5, size=1, offset=0.2, epsilon=0.01, do_plot=False, do_scale=False)\n",
    "pre.windowing([r\"Data/data-lopen/Walking_part_2.csv\", r\"Data/data-lopen/Walking_part_2_gyro.csv\"], r\"Data/data-lopen/Walking_part_2.mp4\",\n",
    "              start_offset=2.5, stop_offset=5, size=1, offset=0.2, epsilon=0.01, do_plot=False, do_scale=False)"
   ]
  },
  {
   "attachments": {},
   "cell_type": "markdown",
   "metadata": {},
   "source": [
    "## Active learning\n",
    "\n",
    "If you have set up all your files and variables correctly this step should be quite easy. If all is right the application will show you a part of the video you have recorded with the question to label it according to the action performed on screen. \n",
    "\n",
    "Here you can enter the number of activities that you think will be in the video. If there are more than you antivipated in the first place, no problem, you can add them later. \n",
    "This is also the step where you train the model, take your time and label the data correctly, else, this will result in a bad model. There is also the option to delete a certain datapoint if you are not sure about something or if it is a faulty one. "
   ]
  },
  {
   "cell_type": "code",
   "execution_count": 2,
   "metadata": {},
   "outputs": [
    {
     "name": "stdout",
     "output_type": "stream",
     "text": [
      "59.00000000000027 1\n"
     ]
    },
    {
     "data": {
      "text/html": [
       "\n",
       "            <head>\n",
       "                <script type=\"text/javascript\">\n",
       "                    function init_115(){\n",
       "                        let timestamp = 59.00000000000027;\n",
       "                        let window_size = 1;\n",
       "                        let video = document.getElementById(\"115\");\n",
       "                        video.currentTime = timestamp;\n",
       "                        play_115();\n",
       "                    }\n",
       "\n",
       "                    function play_115(){\n",
       "                        let timestamp = 59.00000000000027;\n",
       "                        let window_size = 1;\n",
       "                        let video = document.getElementById(\"115\");\n",
       "                        if (video.currentTime < timestamp || video.currentTime >= timestamp + window_size){\n",
       "                            video.currentTime = timestamp;\n",
       "                        }\n",
       "                        video.play();\n",
       "                        setInterval(function(){\n",
       "                            if(video.currentTime >= timestamp + window_size){\n",
       "                                video.currentTime = timestamp;\n",
       "                            }\n",
       "                        },1);\n",
       "                        <!--video.playbackRate = 2-->\n",
       "                    }\n",
       "\n",
       "                    function pause_115(){\n",
       "                        let timestamp = 59.00000000000027;\n",
       "                        let window_size = 1;\n",
       "                        let video = document.getElementById(\"115\");\n",
       "                        video.pause();\n",
       "                    }\n",
       "                </script>\n",
       "            </head>\n",
       "            <body>\n",
       "                <div style=\"display:flex\">\n",
       "                    <div style=\"flex:1\">\n",
       "                        <video id=\"115\" height=\"300px\" src=\"Data/data-lopen/Walking_part_1.mp4\" muted></video><br>\n",
       "                        <script type=\"text/javascript\">init_115()</script>\n",
       "                        <button onclick=\"play_115()\">Play</button>\n",
       "                        <button onclick=\"pause_115()\">Pause</button>\n",
       "                    </div>\n",
       "                    <div style=\"flex:1\">\n",
       "                        <img src=\"Plots/plot_to_label_115.png\" height=\"300\"></img>\n",
       "                    </div>\n",
       "                </div>\n",
       "            </body>\n",
       "        "
      ],
      "text/plain": [
       "<IPython.core.display.HTML object>"
      ]
     },
     "metadata": {},
     "output_type": "display_data"
    },
    {
     "name": "stdout",
     "output_type": "stream",
     "text": [
      "[0.07, 0.44, 0.08, 0.41]\n",
      "Enter the index or the name of one of the following labels. Enter 'n' to add a new label:\n",
      "1. walking\n",
      "2. running\n",
      "3. stairs_up\n",
      "4. stairs_down\n"
     ]
    },
    {
     "data": {
      "image/png": "[encoded data removed]",
      "text/plain": [
       "<Figure size 640x480 with 1 Axes>"
      ]
     },
     "metadata": {},
     "output_type": "display_data"
    },
    {
     "data": {
      "text/plain": [
       "'Preprocessed-data/Walking3/features_Walking3.txt_AL_predictionss.csv'"
      ]
     },
     "execution_count": 2,
     "metadata": {},
     "output_type": "execute_result"
    }
   ],
   "source": [
    "AL = ActiveLearning(fr'Preprocessed-data/{Activity}/features_{Activity}_scaled.csv', Activity, labels, 1)\n",
    "AL.training(1003344\n",
    ")\n",
    "AL.plotting()\n",
    "AL.write_to_file()"
   ]
  },
  {
   "cell_type": "code",
   "execution_count": 4,
   "metadata": {},
   "outputs": [
    {
     "name": "stdout",
     "output_type": "stream",
     "text": [
      "19.199999999999974 1\n"
     ]
    },
    {
     "data": {
      "text/html": [
       "\n",
       "            <head>\n",
       "                <script type=\"text/javascript\">\n",
       "                    function init_75(){\n",
       "                        let timestamp = 19.199999999999974;\n",
       "                        let window_size = 1;\n",
       "                        let video = document.getElementById(\"75\");\n",
       "                        video.currentTime = timestamp;\n",
       "                        play_75();\n",
       "                    }\n",
       "\n",
       "                    function play_75(){\n",
       "                        let timestamp = 19.199999999999974;\n",
       "                        let window_size = 1;\n",
       "                        let video = document.getElementById(\"75\");\n",
       "                        if (video.currentTime < timestamp || video.currentTime >= timestamp + window_size){\n",
       "                            video.currentTime = timestamp;\n",
       "                        }\n",
       "                        video.play();\n",
       "                        setInterval(function(){\n",
       "                            if(video.currentTime >= timestamp + window_size){\n",
       "                                video.currentTime = timestamp;\n",
       "                            }\n",
       "                        },1);\n",
       "                        <!--video.playbackRate = 2-->\n",
       "                    }\n",
       "\n",
       "                    function pause_75(){\n",
       "                        let timestamp = 19.199999999999974;\n",
       "                        let window_size = 1;\n",
       "                        let video = document.getElementById(\"75\");\n",
       "                        video.pause();\n",
       "                    }\n",
       "                </script>\n",
       "            </head>\n",
       "            <body>\n",
       "                <div style=\"display:flex\">\n",
       "                    <div style=\"flex:1\">\n",
       "                        <video id=\"75\" height=\"300px\" src=\"Data/data-lopen/Walking_part_2.mp4\" muted></video><br>\n",
       "                        <script type=\"text/javascript\">init_75()</script>\n",
       "                        <button onclick=\"play_75()\">Play</button>\n",
       "                        <button onclick=\"pause_75()\">Pause</button>\n",
       "                    </div>\n",
       "                    <div style=\"flex:1\">\n",
       "                        <img src=\"Plots/plot_to_label_75.png\" height=\"300\"></img>\n",
       "                    </div>\n",
       "                </div>\n",
       "            </body>\n",
       "        "
      ],
      "text/plain": [
       "<IPython.core.display.HTML object>"
      ]
     },
     "metadata": {},
     "output_type": "display_data"
    },
    {
     "name": "stdout",
     "output_type": "stream",
     "text": [
      "TESTING\n",
      "Enter the index or the name of one of the following labels. Enter 'n' to add a new label:\n",
      "1. walking\n",
      "2. running\n",
      "3. stairs_up\n",
      "4. stairs_down\n",
      "Error rate: 0.4 (10 samples)\n"
     ]
    },
    {
     "data": {
      "text/plain": [
       "(4, 10)"
      ]
     },
     "execution_count": 4,
     "metadata": {},
     "output_type": "execute_result"
    }
   ],
   "source": [
    "AL.testing(10)"
   ]
  },
  {
   "attachments": {},
   "cell_type": "markdown",
   "metadata": {},
   "source": [
    "\n",
    "## Congratulations\n",
    "\n",
    "You have just trained a machine-learning model! The model is now trained to use for analysation of product usage. The model will predict the class that the movement of the real- world data is and can detect if something strange is happening. This will help you to create a better product.\n",
    "\n",
    "\n",
    "## Get you real world data\n",
    "\n",
    "In this step, you can insert your real-world data into the model. \n",
    "If there are any novelties they will show in the result."
   ]
  },
  {
   "cell_type": "code",
   "execution_count": 5,
   "metadata": {},
   "outputs": [
    {
     "data": {
      "text/html": [
       "\n",
       "                <head>\n",
       "                    <script type=\"text/javascript\">\n",
       "                    let id = 0;\n",
       "                    const time_video = [[8.400000000000002, 'Data/data-lopen/Walking_part_1.mp4'], [8.800000000000004, 'Data/data-lopen/Walking_part_1.mp4'], [46.000000000000085, 'Data/data-lopen/Walking_part_1.mp4'], [47.2000000000001, 'Data/data-lopen/Walking_part_1.mp4'], [48.20000000000012, 'Data/data-lopen/Walking_part_1.mp4'], [49.600000000000136, 'Data/data-lopen/Walking_part_1.mp4'], [50.60000000000015, 'Data/data-lopen/Walking_part_1.mp4'], [51.600000000000165, 'Data/data-lopen/Walking_part_1.mp4'], [52.60000000000018, 'Data/data-lopen/Walking_part_1.mp4'], [53.60000000000019, 'Data/data-lopen/Walking_part_1.mp4'], [59.60000000000028, 'Data/data-lopen/Walking_part_1.mp4'], [64.20000000000033, 'Data/data-lopen/Walking_part_1.mp4'], [66.60000000000038, 'Data/data-lopen/Walking_part_1.mp4'], [67.00000000000038, 'Data/data-lopen/Walking_part_1.mp4'], [67.60000000000039, 'Data/data-lopen/Walking_part_1.mp4'], [74.00000000000048, 'Data/data-lopen/Walking_part_1.mp4'], [74.60000000000049, 'Data/data-lopen/Walking_part_1.mp4'], [74.8000000000005, 'Data/data-lopen/Walking_part_1.mp4'], [75.0000000000005, 'Data/data-lopen/Walking_part_1.mp4'], [75.2000000000005, 'Data/data-lopen/Walking_part_1.mp4'], [75.80000000000051, 'Data/data-lopen/Walking_part_1.mp4'], [76.00000000000051, 'Data/data-lopen/Walking_part_1.mp4'], [76.40000000000052, 'Data/data-lopen/Walking_part_1.mp4'], [76.80000000000052, 'Data/data-lopen/Walking_part_1.mp4'], [77.20000000000053, 'Data/data-lopen/Walking_part_1.mp4'], [77.80000000000054, 'Data/data-lopen/Walking_part_1.mp4'], [78.00000000000054, 'Data/data-lopen/Walking_part_1.mp4'], [78.60000000000055, 'Data/data-lopen/Walking_part_1.mp4'], [78.80000000000055, 'Data/data-lopen/Walking_part_1.mp4'], [79.40000000000056, 'Data/data-lopen/Walking_part_1.mp4'], [79.80000000000057, 'Data/data-lopen/Walking_part_1.mp4'], [80.20000000000057, 'Data/data-lopen/Walking_part_1.mp4'], [81.60000000000059, 'Data/data-lopen/Walking_part_1.mp4'], [82.4000000000006, 'Data/data-lopen/Walking_part_1.mp4'], [83.20000000000061, 'Data/data-lopen/Walking_part_1.mp4'], [6.4, 'Data/data-lopen/Walking_part_2.mp4'], [9.400000000000004, 'Data/data-lopen/Walking_part_2.mp4'], [9.600000000000005, 'Data/data-lopen/Walking_part_2.mp4'], [10.000000000000004, 'Data/data-lopen/Walking_part_2.mp4'], [11.000000000000004, 'Data/data-lopen/Walking_part_2.mp4'], [11.200000000000003, 'Data/data-lopen/Walking_part_2.mp4'], [25.99999999999995, 'Data/data-lopen/Walking_part_2.mp4']];\n",
       "                    let time = time_video[0][0];\n",
       "                    const ws = 1;\n",
       "\n",
       "                    function init_nov() {\n",
       "                        let video = document.getElementById(\"nov\");\n",
       "                        video.currentTime = time;\n",
       "                        play_nov();\n",
       "                    }\n",
       "\n",
       "                    function play_nov() {\n",
       "                        let video = document.getElementById(\"nov\");\n",
       "                        if (video.currentTime < time || video.currentTime >= time + ws) {\n",
       "                            video.currentTime = time;\n",
       "                        }\n",
       "                        video.play();\n",
       "                        setInterval(function () {\n",
       "                            if (video.currentTime >= time + ws) {\n",
       "                                video.currentTime = time;\n",
       "                            }\n",
       "                        }, 1);\n",
       "                    }\n",
       "\n",
       "                    function pause_nov() {\n",
       "                        let video = document.getElementById(\"nov\");\n",
       "                        video.pause();\n",
       "                    }\n",
       "\n",
       "                    function prev_nov() {\n",
       "                    if (id >= 0) {\n",
       "                            id = id - 1;\n",
       "                            time = time_video[id][0];\n",
       "                            let video = document.getElementById(\"nov\");\n",
       "                            video.setAttribute('src', time_video[id][1]);\n",
       "                            document.getElementById(\"content\").innerHTML = 'Novelty ' + (id + 1) + ' out of 42 at ' + time + 's in ' + time_video[id][1];\n",
       "                            // document.getElementById(\"content2\").innerHTML = time_video[id][1];\n",
       "                            // document.getElementById(\"content3\").innerHTML = time;\n",
       "                            play_nov();\n",
       "                        }\n",
       "                    }\n",
       "\n",
       "                    function next_nov() {\n",
       "                        if (id < 42 - 1) {\n",
       "                            id = id + 1;\n",
       "                            time = time_video[id][0];\n",
       "                            let video = document.getElementById(\"nov\");\n",
       "                            video.setAttribute('src', time_video[id][1]);\n",
       "                            document.getElementById(\"content\").innerHTML = 'Novelty ' + (id + 1) + ' out of 42 at ' + time + 's in ' + time_video[id][1];\n",
       "                            // document.getElementById(\"content2\").innerHTML = time_video[id][1];\n",
       "                            // document.getElementById(\"content3\").innerHTML = time;\n",
       "                            play_nov();\n",
       "                        }\n",
       "                    }\n",
       "\n",
       "                    </script>\n",
       "                    <title></title>\n",
       "                </head>\n",
       "                <body>\n",
       "                    <video id=\"nov\" width=\"500px\" src=\"Data/data-lopen/Walking_part_1.mp4\" muted></video>\n",
       "                    <br>\n",
       "                    <script type=\"text/javascript\">init_nov()</script>\n",
       "                    <button onClick=\"play_nov()\">Play</button>\n",
       "                    <button onClick=\"pause_nov()\">Pause</button>\n",
       "                    <button onClick=\"prev_nov()\">Previous novelty</button>\n",
       "                    <button onClick=\"next_nov()\">Next novelty</button>\n",
       "                    <div id=\"content\">Novelty 1 out of 42 at 8.400000000000002s in Data/data-lopen/Walking_part_1.mp4</div>\n",
       "                    <!--<div id=\"content2\"></div>\n",
       "                    <div id=\"content3\"></div>-->\n",
       "                </body>\n",
       "        "
      ],
      "text/plain": [
       "<IPython.core.display.HTML object>"
      ]
     },
     "metadata": {},
     "output_type": "display_data"
    }
   ],
   "source": [
    "ND = NoveltyDetection(fr'Preprocessed-data\\{Activity}\\features_{Activity}_scaled_AL_predictionss.csv',\n",
    "                      fr'Preprocessed-data\\{Activity}\\processed_data_files.txt')\n",
    "novelties = ND.detect()\n",
    "ND.play_novelties(novelties, 1)\n",
    "# print(novelties)"
   ]
  },
  {
   "cell_type": "code",
   "execution_count": 8,
   "metadata": {},
   "outputs": [
    {
     "name": "stdout",
     "output_type": "stream",
     "text": [
      "Percentages per label:\n",
      " walking: 0.41007194244604317\n",
      " running: 0.08872901678657075\n",
      " stairs_up: 0.23261390887290168\n",
      " stairs_down: 0.2685851318944844\n"
     ]
    },
    {
     "ename": "ValueError",
     "evalue": "\nImage export using the \"kaleido\" engine requires the kaleido package,\nwhich can be installed using pip:\n    $ pip install -U kaleido\n",
     "output_type": "error",
     "traceback": [
      "\u001b[1;31m---------------------------------------------------------------------------\u001b[0m",
      "\u001b[1;31mValueError\u001b[0m                                Traceback (most recent call last)",
      "Cell \u001b[1;32mIn[8], line 3\u001b[0m\n\u001b[0;32m      1\u001b[0m stats  \u001b[39m=\u001b[39m Stats(\u001b[39mfr\u001b[39m\u001b[39m'\u001b[39m\u001b[39mPreprocessed-data\u001b[39m\u001b[39m\\\u001b[39m\u001b[39m{\u001b[39;00mActivity\u001b[39m}\u001b[39;00m\u001b[39m\\\u001b[39m\u001b[39mfeatures_\u001b[39m\u001b[39m{\u001b[39;00mActivity\u001b[39m}\u001b[39;00m\u001b[39m_scaled_AL_predictionss.csv\u001b[39m\u001b[39m'\u001b[39m, labels)\n\u001b[0;32m      2\u001b[0m stats\u001b[39m.\u001b[39mprint_percentages()\n\u001b[1;32m----> 3\u001b[0m stats\u001b[39m.\u001b[39;49mshow_gan_chart(\u001b[39m0.2\u001b[39;49m)\n",
      "File \u001b[1;32mc:\\Users\\skipd\\Documents\\year 3\\capstone\\git\\Capstone-AI-IoT\\AI_for_Designers\\data_stats.py:81\u001b[0m, in \u001b[0;36mStats.show_gan_chart\u001b[1;34m(self, offset)\u001b[0m\n\u001b[0;32m     80\u001b[0m \u001b[39mdef\u001b[39;00m \u001b[39mshow_gan_chart\u001b[39m(\u001b[39mself\u001b[39m, offset: \u001b[39mfloat\u001b[39m) \u001b[39m-\u001b[39m\u001b[39m>\u001b[39m \u001b[39mNone\u001b[39;00m:\n\u001b[1;32m---> 81\u001b[0m     \u001b[39mself\u001b[39;49m\u001b[39m.\u001b[39;49mget_ghan_chart(offset)\n\u001b[0;32m     82\u001b[0m     img \u001b[39m=\u001b[39m mpimg\u001b[39m.\u001b[39mimread(\u001b[39m'\u001b[39m\u001b[39mPlots/distribution.png\u001b[39m\u001b[39m'\u001b[39m)\n\u001b[0;32m     83\u001b[0m     imgplot \u001b[39m=\u001b[39m plt\u001b[39m.\u001b[39mimshow(img)\n",
      "File \u001b[1;32mc:\\Users\\skipd\\Documents\\year 3\\capstone\\git\\Capstone-AI-IoT\\AI_for_Designers\\data_stats.py:78\u001b[0m, in \u001b[0;36mStats.get_ghan_chart\u001b[1;34m(self, offset)\u001b[0m\n\u001b[0;32m     68\u001b[0m     fig\u001b[39m.\u001b[39madd_bar(x\u001b[39m=\u001b[39mlabel_df\u001b[39m.\u001b[39mduration,\n\u001b[0;32m     69\u001b[0m             y\u001b[39m=\u001b[39m [\u001b[39m'\u001b[39m\u001b[39mAll\u001b[39m\u001b[39m'\u001b[39m] \u001b[39m*\u001b[39m \u001b[39mlen\u001b[39m(label_df\u001b[39m.\u001b[39mlabel),\n\u001b[0;32m     70\u001b[0m             base\u001b[39m=\u001b[39mlabel_df\u001b[39m.\u001b[39mtime,\n\u001b[1;32m   (...)\u001b[0m\n\u001b[0;32m     74\u001b[0m             \u001b[39m# marker=label,\u001b[39;00m\n\u001b[0;32m     75\u001b[0m             name\u001b[39m=\u001b[39mlabel)\n\u001b[0;32m     77\u001b[0m \u001b[39m# iplot(fig)\u001b[39;00m\n\u001b[1;32m---> 78\u001b[0m pio\u001b[39m.\u001b[39;49mwrite_image(fig, \u001b[39m'\u001b[39;49m\u001b[39mPlots/distribution.png\u001b[39;49m\u001b[39m'\u001b[39;49m, scale\u001b[39m=\u001b[39;49m\u001b[39m6\u001b[39;49m, width\u001b[39m=\u001b[39;49m\u001b[39m1080\u001b[39;49m\u001b[39m*\u001b[39;49m\u001b[39m2\u001b[39;49m)\n",
      "File \u001b[1;32m~\\AppData\\Local\\Packages\\PythonSoftwareFoundation.Python.3.10_qbz5n2kfra8p0\\LocalCache\\local-packages\\Python310\\site-packages\\plotly\\io\\_kaleido.py:267\u001b[0m, in \u001b[0;36mwrite_image\u001b[1;34m(fig, file, format, scale, width, height, validate, engine)\u001b[0m\n\u001b[0;32m    251\u001b[0m             \u001b[39mraise\u001b[39;00m \u001b[39mValueError\u001b[39;00m(\n\u001b[0;32m    252\u001b[0m                 \u001b[39m\"\"\"\u001b[39;00m\n\u001b[0;32m    253\u001b[0m \u001b[39mCannot infer image type from output path '{file}'.\u001b[39;00m\n\u001b[1;32m   (...)\u001b[0m\n\u001b[0;32m    261\u001b[0m                 )\n\u001b[0;32m    262\u001b[0m             )\n\u001b[0;32m    264\u001b[0m     \u001b[39m# Request image\u001b[39;00m\n\u001b[0;32m    265\u001b[0m     \u001b[39m# -------------\u001b[39;00m\n\u001b[0;32m    266\u001b[0m     \u001b[39m# Do this first so we don't create a file if image conversion fails\u001b[39;00m\n\u001b[1;32m--> 267\u001b[0m     img_data \u001b[39m=\u001b[39m to_image(\n\u001b[0;32m    268\u001b[0m         fig,\n\u001b[0;32m    269\u001b[0m         \u001b[39mformat\u001b[39;49m\u001b[39m=\u001b[39;49m\u001b[39mformat\u001b[39;49m,\n\u001b[0;32m    270\u001b[0m         scale\u001b[39m=\u001b[39;49mscale,\n\u001b[0;32m    271\u001b[0m         width\u001b[39m=\u001b[39;49mwidth,\n\u001b[0;32m    272\u001b[0m         height\u001b[39m=\u001b[39;49mheight,\n\u001b[0;32m    273\u001b[0m         validate\u001b[39m=\u001b[39;49mvalidate,\n\u001b[0;32m    274\u001b[0m         engine\u001b[39m=\u001b[39;49mengine,\n\u001b[0;32m    275\u001b[0m     )\n\u001b[0;32m    277\u001b[0m     \u001b[39m# Open file\u001b[39;00m\n\u001b[0;32m    278\u001b[0m     \u001b[39m# ---------\u001b[39;00m\n\u001b[0;32m    279\u001b[0m     \u001b[39mif\u001b[39;00m path \u001b[39mis\u001b[39;00m \u001b[39mNone\u001b[39;00m:\n\u001b[0;32m    280\u001b[0m         \u001b[39m# We previously failed to make sense of `file` as a pathlib object.\u001b[39;00m\n\u001b[0;32m    281\u001b[0m         \u001b[39m# Attempt to write to `file` as an open file descriptor.\u001b[39;00m\n",
      "File \u001b[1;32m~\\AppData\\Local\\Packages\\PythonSoftwareFoundation.Python.3.10_qbz5n2kfra8p0\\LocalCache\\local-packages\\Python310\\site-packages\\plotly\\io\\_kaleido.py:133\u001b[0m, in \u001b[0;36mto_image\u001b[1;34m(fig, format, width, height, scale, validate, engine)\u001b[0m\n\u001b[0;32m    131\u001b[0m     \u001b[39m# Raise informative error message if Kaleido is not installed\u001b[39;00m\n\u001b[0;32m    132\u001b[0m     \u001b[39mif\u001b[39;00m scope \u001b[39mis\u001b[39;00m \u001b[39mNone\u001b[39;00m:\n\u001b[1;32m--> 133\u001b[0m         \u001b[39mraise\u001b[39;00m \u001b[39mValueError\u001b[39;00m(\n\u001b[0;32m    134\u001b[0m             \u001b[39m\"\"\"\u001b[39;00m\n\u001b[0;32m    135\u001b[0m \u001b[39mImage export using the \"kaleido\" engine requires the kaleido package,\u001b[39;00m\n\u001b[0;32m    136\u001b[0m \u001b[39mwhich can be installed using pip:\u001b[39;00m\n\u001b[0;32m    137\u001b[0m \u001b[39m    $ pip install -U kaleido\u001b[39;00m\n\u001b[0;32m    138\u001b[0m \u001b[39m\"\"\"\u001b[39;00m\n\u001b[0;32m    139\u001b[0m         )\n\u001b[0;32m    141\u001b[0m     \u001b[39m# Validate figure\u001b[39;00m\n\u001b[0;32m    142\u001b[0m     \u001b[39m# ---------------\u001b[39;00m\n\u001b[0;32m    143\u001b[0m     fig_dict \u001b[39m=\u001b[39m validate_coerce_fig_to_dict(fig, validate)\n",
      "\u001b[1;31mValueError\u001b[0m: \nImage export using the \"kaleido\" engine requires the kaleido package,\nwhich can be installed using pip:\n    $ pip install -U kaleido\n"
     ]
    }
   ],
   "source": [
    "stats  = Stats(fr'Preprocessed-data\\{Activity}\\features_{Activity}_scaled_AL_predictionss.csv', labels)\n",
    "stats.print_percentages()\n",
    "stats.show_gan_chart(0.2)\n",
    "\n"
   ]
  }
 ],
 "metadata": {
  "kernelspec": {
   "display_name": "Python 3",
   "language": "python",
   "name": "python3"
  },
  "language_info": {
   "codemirror_mode": {
    "name": "ipython",
    "version": 3
   },
   "file_extension": ".py",
   "mimetype": "text/x-python",
   "name": "python",
   "nbconvert_exporter": "python",
   "pygments_lexer": "ipython3",
   "version": "3.10.9"
  },
  "orig_nbformat": 4,
  "vscode": {
   "interpreter": {
    "hash": "05b34ec5475467658907ccd6067873bbebf6b32cea05c0986d05a130e79ee37f"
   }
  }
 },
 "nbformat": 4,
 "nbformat_minor": 2
}
