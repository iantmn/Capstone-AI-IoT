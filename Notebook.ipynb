{
 "cells": [
  {
   "attachments": {},
   "cell_type": "markdown",
   "metadata": {},
   "source": [
    "# Welcome to the Machine learning for IDE students application!\n",
    "\n",
    "This is a JupyterNotebook created for IDE students to get introduced to using machine learning for prototype improvement. It might seem like a lot if you don't have any coding experience, but just follow the steps, read the instructions and it should be a breeze! \n",
    "\n",
    "## Setting up\n",
    "\n",
    "This application will take you through the preprocessing, labeling and classification steps of the machine learning process. Make sure you've read through the [User Guide](https://docs.google.com/document/d/1J9c5sHokh8Rj-4lO4yKX1Tv7LwY2_r-mfQ9YKviiXZk/edit?usp=sharing) before you continue.\n",
    "\n",
    "To be able to access the code we need to import packages. These packages are written by us and contain the main functions of the program. The actual Python code is to be found in different files, so you have a nice interface without a bunch of code. \n",
    "\n",
<<<<<<< Updated upstream
    "**The main flow of the program**\n",
    "\n",
    " 1. Preprocessing, preparing the data and making it ready for usage in the program. This step extracts the information(features) from the data that you've gathered, because the data is not quite usable in its raw state.\n",
    " 2. Active learning, the training part of the program. This part classifies the data you have gathered, but it needs your help. It will show you the video that you have made of the activity performed with the product and asks you to classify the action. This is why it is needed to video-capture the activities. It will update its model every time and that way it learns actively.\n",
    " 3. Usage after training, the part where you can gather the actual data about product usage. You have trained the model in the active learning step, now you can see the product usage. The model sees what action is performed and will see if something is being done that is not in the trained model, novelty detection.\n",
    "\n",
    "## key terms\n",
    "**Class** There are multiple classes for each model, a class is the \"bucket\" in which a datapoint belongs. You can see it as how it is classified.\n",
    "**Model**: A machine learning model that can predict in what class a datapoint belongs\n",
    "**Datapoint**: One point of data, the model sees this as one thing that enters the model.\n",
    "**Features** Features belong to a datapoint. A datapoint has multiple features most of the time.\n",
    "\n",
    "\n",
    "## Pre-processing\n",
    "The data you have gathered are accelerometer data and gyroscope data, if you do not know what these are, please consolidate this [video](https://www.youtube.com/watch?v=vFUlaRmuEHk&ab_channel=SymmetryElectronics).\n",
    "This data is used to train the model to detect that action is performed with the product, but this data is messy and can not be understood by the model as well. To get an understanding of this data.\n",
    "\n",
    "![accelerometer and gyroscope data explanation](https://www.researchgate.net/publication/335978678/figure/fig1/AS:806271687073792@1569241558268/Example-of-accelerometer-and-gyroscope-data-Data-from-several-activities-is.ppm)\n",
    "This looks like our data, but our data is not in a graph, but looks like **insert image of actual data**\n",
    "\n",
    "![enter image description here](https://www.electronicwings.com/storage/PlatformSection/TopicContent/311/description/Arduino_Output_window.png)\n",
    "\n",
    "As you might understand this is not readable that easily even for a machine, however when we do some calculations on this data we get new features about the data points. \n",
    "\n",
    "### The actual pre-processing\n",
    "To get an understanding of what happens. You need to know that we divide the data into frames, this way we can get a better sense of the data and be more certain of our prediction, because we use more raw data, moreover it makes the model faster. \n",
    "\n",
    "![enter image description here](https://www.researchgate.net/publication/346142883/figure/fig2/AS:961234023231491@1606187458853/Framing-raw-sensor-data-as-12-input-to-CNN-trained-to-predict-the-local-displacement-x.ppm)\n",
    "This shows how the data is framed and processed. \n",
    "We extract features from the frame like:\n",
    "*Note that this is per direction for the accelerometer and per axis for the gyroscope*\n",
    "\n",
    " - Average\n",
    " - Maximum\n",
    " - Minimum\n",
    " - Standard deviation\n",
    " - Most present frequency\n",
    "\n",
    "### Fourier Transform\n",
    "The last element of the feature list needs some extra explanation. We use a Fourier transformer to get more information on the frequencies that are in the data signal.\n",
    "most signals are composed in multiple frequencies like sound waves for example. A Fourier transformer can distinguish all these frequencies and then we can process all frequencies independently. It looks something like this:\n",
    "![enter image description here](https://www.nti-audio.com/portals/0/pic/news/FFT-Time-Frequency-View-540.png)\n",
    "\n",
    "## Lets Start\n",
    "There are 4 variables that are important for you to edit.\n",
    "\n",
    " - Frame size: The size of the frame used for the feature extraction, set larger for slow movements. Smaller for very quick movements. Standard = 2 sec.\n",
    " - Frame offset: The amount of offset per frame, can be increased is the window size is set bigger. \n",
    " - start-chop \n",
    " - end-chop\n",
    "\n",
    "\n",
    "\n",
    "\n",
    "## Active learning\n",
    "\n",
    "If you have set up all your files and variables correctly this step should be quite easy. If all is right the application will show you a part of the video you have recorded with the question to label it according to the action performed on screen. If you need a new label because the correct option is not one of the options, you can add that. \n",
    "\n",
    "\n",
    "## Congratulations\n",
    "\n",
    "You have just trained a machine-learning model! The model is now trained to use for analysation of product usage. The model will predict the class that the movement of the real- world data is and can detect if something strange is happening. This will help you to create a better product.\n",
    "\n",
    "\n",
    "## Get you real world data\n",
    "\n",
    "In this step, you can insert your real-world data into the model. \n",
    "If there are any novelties they will show in the result.\n"
   ]
  },
  {
   "attachments": {},
   "cell_type": "markdown",
   "metadata": {},
   "source": [
    "## Get all the packages\n",
    "To be able to run the application we need to import packages. \n",
    "These packages partly already exists and others written by us and contain the main functions of the program, so this program does not look like a whole bunch of code. \n",
    "Packages are python code that can be imported, this way your code stays clean because the majority of the code is not in the current file, but in another.\n",
    "The first cell contains code that already exists and the second cell containts code that was written by us."
=======
    "**Make sure you run the two cells below!** To run your first cell, just click inside the cell and press play. You can consult [this tutorial](https://www.dataquest.io/blog/jupyter-notebook-tutorial/) if you experience difficulty using Anaconda."
>>>>>>> Stashed changes
   ]
  },
  {
   "cell_type": "code",
   "execution_count": 2,
   "metadata": {},
   "outputs": [
    {
     "name": "stdout",
     "output_type": "stream",
     "text": [
      "Requirement already satisfied: numpy==1.24.1 in c:\\users\\skipd\\appdata\\local\\packages\\pythonsoftwarefoundation.python.3.10_qbz5n2kfra8p0\\localcache\\local-packages\\python310\\site-packages (1.24.1)\n"
     ]
    },
    {
     "name": "stderr",
     "output_type": "stream",
     "text": [
      "WARNING: Ignoring invalid distribution -atplotlib (c:\\users\\skipd\\appdata\\local\\packages\\pythonsoftwarefoundation.python.3.10_qbz5n2kfra8p0\\localcache\\local-packages\\python310\\site-packages)\n",
      "WARNING: Ignoring invalid distribution -atplotlib (c:\\users\\skipd\\appdata\\local\\packages\\pythonsoftwarefoundation.python.3.10_qbz5n2kfra8p0\\localcache\\local-packages\\python310\\site-packages)\n",
      "WARNING: Ignoring invalid distribution -atplotlib (c:\\users\\skipd\\appdata\\local\\packages\\pythonsoftwarefoundation.python.3.10_qbz5n2kfra8p0\\localcache\\local-packages\\python310\\site-packages)\n",
      "WARNING: Ignoring invalid distribution -atplotlib (c:\\users\\skipd\\appdata\\local\\packages\\pythonsoftwarefoundation.python.3.10_qbz5n2kfra8p0\\localcache\\local-packages\\python310\\site-packages)\n",
      "WARNING: Ignoring invalid distribution -atplotlib (c:\\users\\skipd\\appdata\\local\\packages\\pythonsoftwarefoundation.python.3.10_qbz5n2kfra8p0\\localcache\\local-packages\\python310\\site-packages)\n",
      "WARNING: Ignoring invalid distribution -atplotlib (c:\\users\\skipd\\appdata\\local\\packages\\pythonsoftwarefoundation.python.3.10_qbz5n2kfra8p0\\localcache\\local-packages\\python310\\site-packages)\n"
     ]
    },
    {
     "name": "stdout",
     "output_type": "stream",
     "text": [
      "Requirement already satisfied: pandas==1.5.2 in c:\\users\\skipd\\appdata\\local\\packages\\pythonsoftwarefoundation.python.3.10_qbz5n2kfra8p0\\localcache\\local-packages\\python310\\site-packages (1.5.2)\n",
      "Requirement already satisfied: numpy>=1.21.0 in c:\\users\\skipd\\appdata\\local\\packages\\pythonsoftwarefoundation.python.3.10_qbz5n2kfra8p0\\localcache\\local-packages\\python310\\site-packages (from pandas==1.5.2) (1.24.1)\n",
      "Requirement already satisfied: pytz>=2020.1 in c:\\users\\skipd\\appdata\\local\\packages\\pythonsoftwarefoundation.python.3.10_qbz5n2kfra8p0\\localcache\\local-packages\\python310\\site-packages (from pandas==1.5.2) (2022.6)\n",
      "Requirement already satisfied: python-dateutil>=2.8.1 in c:\\users\\skipd\\appdata\\local\\packages\\pythonsoftwarefoundation.python.3.10_qbz5n2kfra8p0\\localcache\\local-packages\\python310\\site-packages (from pandas==1.5.2) (2.8.2)\n",
      "Requirement already satisfied: six>=1.5 in c:\\users\\skipd\\appdata\\local\\packages\\pythonsoftwarefoundation.python.3.10_qbz5n2kfra8p0\\localcache\\local-packages\\python310\\site-packages (from python-dateutil>=2.8.1->pandas==1.5.2) (1.16.0)\n"
     ]
    },
    {
     "name": "stderr",
     "output_type": "stream",
     "text": [
      "WARNING: Ignoring invalid distribution -atplotlib (c:\\users\\skipd\\appdata\\local\\packages\\pythonsoftwarefoundation.python.3.10_qbz5n2kfra8p0\\localcache\\local-packages\\python310\\site-packages)\n",
      "WARNING: Ignoring invalid distribution -atplotlib (c:\\users\\skipd\\appdata\\local\\packages\\pythonsoftwarefoundation.python.3.10_qbz5n2kfra8p0\\localcache\\local-packages\\python310\\site-packages)\n",
      "WARNING: Ignoring invalid distribution -atplotlib (c:\\users\\skipd\\appdata\\local\\packages\\pythonsoftwarefoundation.python.3.10_qbz5n2kfra8p0\\localcache\\local-packages\\python310\\site-packages)\n",
      "WARNING: Ignoring invalid distribution -atplotlib (c:\\users\\skipd\\appdata\\local\\packages\\pythonsoftwarefoundation.python.3.10_qbz5n2kfra8p0\\localcache\\local-packages\\python310\\site-packages)\n",
      "WARNING: Ignoring invalid distribution -atplotlib (c:\\users\\skipd\\appdata\\local\\packages\\pythonsoftwarefoundation.python.3.10_qbz5n2kfra8p0\\localcache\\local-packages\\python310\\site-packages)\n",
      "WARNING: Ignoring invalid distribution -atplotlib (c:\\users\\skipd\\appdata\\local\\packages\\pythonsoftwarefoundation.python.3.10_qbz5n2kfra8p0\\localcache\\local-packages\\python310\\site-packages)\n"
     ]
    },
    {
     "name": "stdout",
     "output_type": "stream",
     "text": [
      "Collecting matplotlib==3.6.3\n",
      "  Using cached matplotlib-3.6.3-cp310-cp310-win_amd64.whl (7.2 MB)\n",
      "Requirement already satisfied: contourpy>=1.0.1 in c:\\users\\skipd\\appdata\\local\\packages\\pythonsoftwarefoundation.python.3.10_qbz5n2kfra8p0\\localcache\\local-packages\\python310\\site-packages (from matplotlib==3.6.3) (1.0.6)\n",
      "Requirement already satisfied: kiwisolver>=1.0.1 in c:\\users\\skipd\\appdata\\local\\packages\\pythonsoftwarefoundation.python.3.10_qbz5n2kfra8p0\\localcache\\local-packages\\python310\\site-packages (from matplotlib==3.6.3) (1.4.4)\n",
      "Requirement already satisfied: packaging>=20.0 in c:\\users\\skipd\\appdata\\local\\packages\\pythonsoftwarefoundation.python.3.10_qbz5n2kfra8p0\\localcache\\local-packages\\python310\\site-packages (from matplotlib==3.6.3) (21.3)\n",
      "Requirement already satisfied: pyparsing>=2.2.1 in c:\\users\\skipd\\appdata\\local\\packages\\pythonsoftwarefoundation.python.3.10_qbz5n2kfra8p0\\localcache\\local-packages\\python310\\site-packages (from matplotlib==3.6.3) (3.0.9)\n",
      "Requirement already satisfied: cycler>=0.10 in c:\\users\\skipd\\appdata\\local\\packages\\pythonsoftwarefoundation.python.3.10_qbz5n2kfra8p0\\localcache\\local-packages\\python310\\site-packages (from matplotlib==3.6.3) (0.11.0)\n",
      "Requirement already satisfied: fonttools>=4.22.0 in c:\\users\\skipd\\appdata\\local\\packages\\pythonsoftwarefoundation.python.3.10_qbz5n2kfra8p0\\localcache\\local-packages\\python310\\site-packages (from matplotlib==3.6.3) (4.38.0)\n",
      "Requirement already satisfied: numpy>=1.19 in c:\\users\\skipd\\appdata\\local\\packages\\pythonsoftwarefoundation.python.3.10_qbz5n2kfra8p0\\localcache\\local-packages\\python310\\site-packages (from matplotlib==3.6.3) (1.24.1)\n",
      "Requirement already satisfied: python-dateutil>=2.7 in c:\\users\\skipd\\appdata\\local\\packages\\pythonsoftwarefoundation.python.3.10_qbz5n2kfra8p0\\localcache\\local-packages\\python310\\site-packages (from matplotlib==3.6.3) (2.8.2)\n",
      "Requirement already satisfied: pillow>=6.2.0 in c:\\users\\skipd\\appdata\\local\\packages\\pythonsoftwarefoundation.python.3.10_qbz5n2kfra8p0\\localcache\\local-packages\\python310\\site-packages (from matplotlib==3.6.3) (9.3.0)\n",
      "Requirement already satisfied: six>=1.5 in c:\\users\\skipd\\appdata\\local\\packages\\pythonsoftwarefoundation.python.3.10_qbz5n2kfra8p0\\localcache\\local-packages\\python310\\site-packages (from python-dateutil>=2.7->matplotlib==3.6.3) (1.16.0)\n",
      "Installing collected packages: matplotlib\n"
     ]
    },
    {
     "name": "stderr",
     "output_type": "stream",
     "text": [
      "WARNING: Ignoring invalid distribution -atplotlib (c:\\users\\skipd\\appdata\\local\\packages\\pythonsoftwarefoundation.python.3.10_qbz5n2kfra8p0\\localcache\\local-packages\\python310\\site-packages)\n",
      "WARNING: Ignoring invalid distribution -atplotlib (c:\\users\\skipd\\appdata\\local\\packages\\pythonsoftwarefoundation.python.3.10_qbz5n2kfra8p0\\localcache\\local-packages\\python310\\site-packages)\n",
      "WARNING: Ignoring invalid distribution -atplotlib (c:\\users\\skipd\\appdata\\local\\packages\\pythonsoftwarefoundation.python.3.10_qbz5n2kfra8p0\\localcache\\local-packages\\python310\\site-packages)\n",
      "ERROR: Could not install packages due to an OSError: [WinError 5] Access is denied: 'C:\\\\Users\\\\skipd\\\\AppData\\\\Local\\\\Packages\\\\PythonSoftwareFoundation.Python.3.10_qbz5n2kfra8p0\\\\LocalCache\\\\local-packages\\\\Python310\\\\site-packages\\\\matplotlib\\\\_c_internal_utils.cp310-win_amd64.pyd'\n",
      "Check the permissions.\n",
      "\n",
      "WARNING: Ignoring invalid distribution -atplotlib (c:\\users\\skipd\\appdata\\local\\packages\\pythonsoftwarefoundation.python.3.10_qbz5n2kfra8p0\\localcache\\local-packages\\python310\\site-packages)\n",
      "WARNING: Ignoring invalid distribution -atplotlib (c:\\users\\skipd\\appdata\\local\\packages\\pythonsoftwarefoundation.python.3.10_qbz5n2kfra8p0\\localcache\\local-packages\\python310\\site-packages)\n",
      "WARNING: Ignoring invalid distribution -atplotlib (c:\\users\\skipd\\appdata\\local\\packages\\pythonsoftwarefoundation.python.3.10_qbz5n2kfra8p0\\localcache\\local-packages\\python310\\site-packages)\n"
     ]
    },
    {
     "name": "stdout",
     "output_type": "stream",
     "text": [
      "Requirement already satisfied: scikit-learn==1.2.0 in c:\\users\\skipd\\appdata\\local\\packages\\pythonsoftwarefoundation.python.3.10_qbz5n2kfra8p0\\localcache\\local-packages\\python310\\site-packages (1.2.0)\n",
      "Requirement already satisfied: scipy>=1.3.2 in c:\\users\\skipd\\appdata\\local\\packages\\pythonsoftwarefoundation.python.3.10_qbz5n2kfra8p0\\localcache\\local-packages\\python310\\site-packages (from scikit-learn==1.2.0) (1.9.3)\n",
      "Requirement already satisfied: joblib>=1.1.1 in c:\\users\\skipd\\appdata\\local\\packages\\pythonsoftwarefoundation.python.3.10_qbz5n2kfra8p0\\localcache\\local-packages\\python310\\site-packages (from scikit-learn==1.2.0) (1.2.0)\n",
      "Requirement already satisfied: numpy>=1.17.3 in c:\\users\\skipd\\appdata\\local\\packages\\pythonsoftwarefoundation.python.3.10_qbz5n2kfra8p0\\localcache\\local-packages\\python310\\site-packages (from scikit-learn==1.2.0) (1.24.1)\n",
      "Requirement already satisfied: threadpoolctl>=2.0.0 in c:\\users\\skipd\\appdata\\local\\packages\\pythonsoftwarefoundation.python.3.10_qbz5n2kfra8p0\\localcache\\local-packages\\python310\\site-packages (from scikit-learn==1.2.0) (3.1.0)\n"
     ]
    },
    {
     "name": "stderr",
     "output_type": "stream",
     "text": [
      "WARNING: Ignoring invalid distribution -atplotlib (c:\\users\\skipd\\appdata\\local\\packages\\pythonsoftwarefoundation.python.3.10_qbz5n2kfra8p0\\localcache\\local-packages\\python310\\site-packages)\n",
      "WARNING: Ignoring invalid distribution -atplotlib (c:\\users\\skipd\\appdata\\local\\packages\\pythonsoftwarefoundation.python.3.10_qbz5n2kfra8p0\\localcache\\local-packages\\python310\\site-packages)\n",
      "WARNING: Ignoring invalid distribution -atplotlib (c:\\users\\skipd\\appdata\\local\\packages\\pythonsoftwarefoundation.python.3.10_qbz5n2kfra8p0\\localcache\\local-packages\\python310\\site-packages)\n",
      "WARNING: Ignoring invalid distribution -atplotlib (c:\\users\\skipd\\appdata\\local\\packages\\pythonsoftwarefoundation.python.3.10_qbz5n2kfra8p0\\localcache\\local-packages\\python310\\site-packages)\n",
      "WARNING: Ignoring invalid distribution -atplotlib (c:\\users\\skipd\\appdata\\local\\packages\\pythonsoftwarefoundation.python.3.10_qbz5n2kfra8p0\\localcache\\local-packages\\python310\\site-packages)\n",
      "WARNING: Ignoring invalid distribution -atplotlib (c:\\users\\skipd\\appdata\\local\\packages\\pythonsoftwarefoundation.python.3.10_qbz5n2kfra8p0\\localcache\\local-packages\\python310\\site-packages)\n"
     ]
    },
    {
     "name": "stdout",
     "output_type": "stream",
     "text": [
      "Requirement already satisfied: plotly==5.12.0 in c:\\users\\skipd\\appdata\\local\\packages\\pythonsoftwarefoundation.python.3.10_qbz5n2kfra8p0\\localcache\\local-packages\\python310\\site-packages (5.12.0)\n",
      "Requirement already satisfied: tenacity>=6.2.0 in c:\\users\\skipd\\appdata\\local\\packages\\pythonsoftwarefoundation.python.3.10_qbz5n2kfra8p0\\localcache\\local-packages\\python310\\site-packages (from plotly==5.12.0) (8.1.0)\n"
     ]
    },
    {
     "name": "stderr",
     "output_type": "stream",
     "text": [
      "WARNING: Ignoring invalid distribution -atplotlib (c:\\users\\skipd\\appdata\\local\\packages\\pythonsoftwarefoundation.python.3.10_qbz5n2kfra8p0\\localcache\\local-packages\\python310\\site-packages)\n",
      "WARNING: Ignoring invalid distribution -atplotlib (c:\\users\\skipd\\appdata\\local\\packages\\pythonsoftwarefoundation.python.3.10_qbz5n2kfra8p0\\localcache\\local-packages\\python310\\site-packages)\n",
      "WARNING: Ignoring invalid distribution -atplotlib (c:\\users\\skipd\\appdata\\local\\packages\\pythonsoftwarefoundation.python.3.10_qbz5n2kfra8p0\\localcache\\local-packages\\python310\\site-packages)\n",
      "WARNING: Ignoring invalid distribution -atplotlib (c:\\users\\skipd\\appdata\\local\\packages\\pythonsoftwarefoundation.python.3.10_qbz5n2kfra8p0\\localcache\\local-packages\\python310\\site-packages)\n",
      "WARNING: Ignoring invalid distribution -atplotlib (c:\\users\\skipd\\appdata\\local\\packages\\pythonsoftwarefoundation.python.3.10_qbz5n2kfra8p0\\localcache\\local-packages\\python310\\site-packages)\n",
      "WARNING: Ignoring invalid distribution -atplotlib (c:\\users\\skipd\\appdata\\local\\packages\\pythonsoftwarefoundation.python.3.10_qbz5n2kfra8p0\\localcache\\local-packages\\python310\\site-packages)\n"
     ]
    },
    {
     "name": "stdout",
     "output_type": "stream",
     "text": [
      "Requirement already satisfied: IPython==8.8.0 in c:\\users\\skipd\\appdata\\local\\packages\\pythonsoftwarefoundation.python.3.10_qbz5n2kfra8p0\\localcache\\local-packages\\python310\\site-packages (8.8.0)\n",
      "Requirement already satisfied: backcall in c:\\users\\skipd\\appdata\\local\\packages\\pythonsoftwarefoundation.python.3.10_qbz5n2kfra8p0\\localcache\\local-packages\\python310\\site-packages (from IPython==8.8.0) (0.2.0)\n",
      "Requirement already satisfied: jedi>=0.16 in c:\\users\\skipd\\appdata\\local\\packages\\pythonsoftwarefoundation.python.3.10_qbz5n2kfra8p0\\localcache\\local-packages\\python310\\site-packages (from IPython==8.8.0) (0.18.2)\n",
      "Requirement already satisfied: decorator in c:\\users\\skipd\\appdata\\local\\packages\\pythonsoftwarefoundation.python.3.10_qbz5n2kfra8p0\\localcache\\local-packages\\python310\\site-packages (from IPython==8.8.0) (4.4.2)\n",
      "Requirement already satisfied: matplotlib-inline in c:\\users\\skipd\\appdata\\local\\packages\\pythonsoftwarefoundation.python.3.10_qbz5n2kfra8p0\\localcache\\local-packages\\python310\\site-packages (from IPython==8.8.0) (0.1.6)\n",
      "Requirement already satisfied: stack-data in c:\\users\\skipd\\appdata\\local\\packages\\pythonsoftwarefoundation.python.3.10_qbz5n2kfra8p0\\localcache\\local-packages\\python310\\site-packages (from IPython==8.8.0) (0.6.2)\n",
      "Requirement already satisfied: traitlets>=5 in c:\\users\\skipd\\appdata\\local\\packages\\pythonsoftwarefoundation.python.3.10_qbz5n2kfra8p0\\localcache\\local-packages\\python310\\site-packages (from IPython==8.8.0) (5.8.0)\n",
      "Requirement already satisfied: colorama in c:\\users\\skipd\\appdata\\local\\packages\\pythonsoftwarefoundation.python.3.10_qbz5n2kfra8p0\\localcache\\local-packages\\python310\\site-packages (from IPython==8.8.0) (0.4.6)\n",
      "Requirement already satisfied: pygments>=2.4.0 in c:\\users\\skipd\\appdata\\local\\packages\\pythonsoftwarefoundation.python.3.10_qbz5n2kfra8p0\\localcache\\local-packages\\python310\\site-packages (from IPython==8.8.0) (2.13.0)\n",
      "Requirement already satisfied: pickleshare in c:\\users\\skipd\\appdata\\local\\packages\\pythonsoftwarefoundation.python.3.10_qbz5n2kfra8p0\\localcache\\local-packages\\python310\\site-packages (from IPython==8.8.0) (0.7.5)\n",
      "Requirement already satisfied: prompt-toolkit<3.1.0,>=3.0.11 in c:\\users\\skipd\\appdata\\local\\packages\\pythonsoftwarefoundation.python.3.10_qbz5n2kfra8p0\\localcache\\local-packages\\python310\\site-packages (from IPython==8.8.0) (3.0.36)\n",
      "Requirement already satisfied: parso<0.9.0,>=0.8.0 in c:\\users\\skipd\\appdata\\local\\packages\\pythonsoftwarefoundation.python.3.10_qbz5n2kfra8p0\\localcache\\local-packages\\python310\\site-packages (from jedi>=0.16->IPython==8.8.0) (0.8.3)\n",
      "Requirement already satisfied: wcwidth in c:\\users\\skipd\\appdata\\local\\packages\\pythonsoftwarefoundation.python.3.10_qbz5n2kfra8p0\\localcache\\local-packages\\python310\\site-packages (from prompt-toolkit<3.1.0,>=3.0.11->IPython==8.8.0) (0.2.5)\n",
      "Requirement already satisfied: asttokens>=2.1.0 in c:\\users\\skipd\\appdata\\local\\packages\\pythonsoftwarefoundation.python.3.10_qbz5n2kfra8p0\\localcache\\local-packages\\python310\\site-packages (from stack-data->IPython==8.8.0) (2.2.1)\n",
      "Requirement already satisfied: executing>=1.2.0 in c:\\users\\skipd\\appdata\\local\\packages\\pythonsoftwarefoundation.python.3.10_qbz5n2kfra8p0\\localcache\\local-packages\\python310\\site-packages (from stack-data->IPython==8.8.0) (1.2.0)\n",
      "Requirement already satisfied: pure-eval in c:\\users\\skipd\\appdata\\local\\packages\\pythonsoftwarefoundation.python.3.10_qbz5n2kfra8p0\\localcache\\local-packages\\python310\\site-packages (from stack-data->IPython==8.8.0) (0.2.2)\n",
      "Requirement already satisfied: six in c:\\users\\skipd\\appdata\\local\\packages\\pythonsoftwarefoundation.python.3.10_qbz5n2kfra8p0\\localcache\\local-packages\\python310\\site-packages (from asttokens>=2.1.0->stack-data->IPython==8.8.0) (1.16.0)\n"
     ]
    },
    {
     "name": "stderr",
     "output_type": "stream",
     "text": [
      "WARNING: Ignoring invalid distribution -atplotlib (c:\\users\\skipd\\appdata\\local\\packages\\pythonsoftwarefoundation.python.3.10_qbz5n2kfra8p0\\localcache\\local-packages\\python310\\site-packages)\n",
      "WARNING: Ignoring invalid distribution -atplotlib (c:\\users\\skipd\\appdata\\local\\packages\\pythonsoftwarefoundation.python.3.10_qbz5n2kfra8p0\\localcache\\local-packages\\python310\\site-packages)\n",
      "WARNING: Ignoring invalid distribution -atplotlib (c:\\users\\skipd\\appdata\\local\\packages\\pythonsoftwarefoundation.python.3.10_qbz5n2kfra8p0\\localcache\\local-packages\\python310\\site-packages)\n",
      "WARNING: Ignoring invalid distribution -atplotlib (c:\\users\\skipd\\appdata\\local\\packages\\pythonsoftwarefoundation.python.3.10_qbz5n2kfra8p0\\localcache\\local-packages\\python310\\site-packages)\n",
      "WARNING: Ignoring invalid distribution -atplotlib (c:\\users\\skipd\\appdata\\local\\packages\\pythonsoftwarefoundation.python.3.10_qbz5n2kfra8p0\\localcache\\local-packages\\python310\\site-packages)\n",
      "WARNING: Ignoring invalid distribution -atplotlib (c:\\users\\skipd\\appdata\\local\\packages\\pythonsoftwarefoundation.python.3.10_qbz5n2kfra8p0\\localcache\\local-packages\\python310\\site-packages)\n"
     ]
    }
   ],
   "source": [
    "!pip3.10 install numpy==1.24.1\n",
    "!pip3.10 install pandas==1.5.2\n",
    "!pip3.10 install matplotlib==3.6.3\n",
    "!pip3.10 install scikit-learn==1.2.0\n",
    "!pip3.10 install plotly==5.12.0\n",
    "!pip3.10 install IPython==8.8.0"
   ]
  },
  {
   "cell_type": "code",
   "execution_count": 1,
   "metadata": {
    "collapsed": false
   },
   "outputs": [
    {
     "ename": "ModuleNotFoundError",
     "evalue": "No module named 'matplotlib.artist'",
     "output_type": "error",
     "traceback": [
      "\u001b[1;31m---------------------------------------------------------------------------\u001b[0m",
      "\u001b[1;31mModuleNotFoundError\u001b[0m                       Traceback (most recent call last)",
      "Cell \u001b[1;32mIn[1], line 1\u001b[0m\n\u001b[1;32m----> 1\u001b[0m \u001b[39mfrom\u001b[39;00m \u001b[39mAI_for_Designers\u001b[39;00m\u001b[39m.\u001b[39;00m\u001b[39mdata_processing\u001b[39;00m \u001b[39mimport\u001b[39;00m Preprocessing, empty_files\n\u001b[0;32m      2\u001b[0m \u001b[39mfrom\u001b[39;00m \u001b[39mAI_for_Designers\u001b[39;00m\u001b[39m.\u001b[39;00m\u001b[39mactive_learning\u001b[39;00m \u001b[39mimport\u001b[39;00m ActiveLearning\n\u001b[0;32m      3\u001b[0m \u001b[39mfrom\u001b[39;00m \u001b[39mAI_for_Designers\u001b[39;00m\u001b[39m.\u001b[39;00m\u001b[39mnovelty_detection\u001b[39;00m \u001b[39mimport\u001b[39;00m NoveltyDetection\n",
      "File \u001b[1;32mc:\\Users\\skipd\\Documents\\year 3\\capstone\\git\\Capstone-AI-IoT\\AI_for_Designers\\data_processing.py:7\u001b[0m\n\u001b[0;32m      5\u001b[0m \u001b[39mimport\u001b[39;00m \u001b[39mos\u001b[39;00m\n\u001b[0;32m      6\u001b[0m \u001b[39mimport\u001b[39;00m \u001b[39mnumpy\u001b[39;00m \u001b[39mas\u001b[39;00m \u001b[39mnp\u001b[39;00m\n\u001b[1;32m----> 7\u001b[0m \u001b[39mimport\u001b[39;00m \u001b[39mmatplotlib\u001b[39;00m\u001b[39m.\u001b[39;00m\u001b[39mpyplot\u001b[39;00m \u001b[39mas\u001b[39;00m \u001b[39mplt\u001b[39;00m\n\u001b[0;32m      9\u001b[0m \u001b[39mfrom\u001b[39;00m \u001b[39mcollections\u001b[39;00m\u001b[39m.\u001b[39;00m\u001b[39mabc\u001b[39;00m \u001b[39mimport\u001b[39;00m Collection, Iterable\n\u001b[0;32m     12\u001b[0m \u001b[39mclass\u001b[39;00m \u001b[39mPreprocessing\u001b[39;00m:\n",
      "File \u001b[1;32m~\\AppData\\Local\\Packages\\PythonSoftwareFoundation.Python.3.10_qbz5n2kfra8p0\\LocalCache\\local-packages\\Python310\\site-packages\\matplotlib\\pyplot.py:52\u001b[0m\n\u001b[0;32m     50\u001b[0m \u001b[39mfrom\u001b[39;00m \u001b[39mcycler\u001b[39;00m \u001b[39mimport\u001b[39;00m cycler\n\u001b[0;32m     51\u001b[0m \u001b[39mimport\u001b[39;00m \u001b[39mmatplotlib\u001b[39;00m\n\u001b[1;32m---> 52\u001b[0m \u001b[39mimport\u001b[39;00m \u001b[39mmatplotlib\u001b[39;00m\u001b[39m.\u001b[39;00m\u001b[39mcolorbar\u001b[39;00m\n\u001b[0;32m     53\u001b[0m \u001b[39mimport\u001b[39;00m \u001b[39mmatplotlib\u001b[39;00m\u001b[39m.\u001b[39;00m\u001b[39mimage\u001b[39;00m\n\u001b[0;32m     54\u001b[0m \u001b[39mfrom\u001b[39;00m \u001b[39mmatplotlib\u001b[39;00m \u001b[39mimport\u001b[39;00m _api\n",
      "File \u001b[1;32m~\\AppData\\Local\\Packages\\PythonSoftwareFoundation.Python.3.10_qbz5n2kfra8p0\\LocalCache\\local-packages\\Python310\\site-packages\\matplotlib\\colorbar.py:19\u001b[0m\n\u001b[0;32m     16\u001b[0m \u001b[39mimport\u001b[39;00m \u001b[39mnumpy\u001b[39;00m \u001b[39mas\u001b[39;00m \u001b[39mnp\u001b[39;00m\n\u001b[0;32m     18\u001b[0m \u001b[39mimport\u001b[39;00m \u001b[39mmatplotlib\u001b[39;00m \u001b[39mas\u001b[39;00m \u001b[39mmpl\u001b[39;00m\n\u001b[1;32m---> 19\u001b[0m \u001b[39mfrom\u001b[39;00m \u001b[39mmatplotlib\u001b[39;00m \u001b[39mimport\u001b[39;00m _api, cbook, collections, cm, colors, contour, ticker\n\u001b[0;32m     20\u001b[0m \u001b[39mimport\u001b[39;00m \u001b[39mmatplotlib\u001b[39;00m\u001b[39m.\u001b[39;00m\u001b[39martist\u001b[39;00m \u001b[39mas\u001b[39;00m \u001b[39mmartist\u001b[39;00m\n\u001b[0;32m     21\u001b[0m \u001b[39mimport\u001b[39;00m \u001b[39mmatplotlib\u001b[39;00m\u001b[39m.\u001b[39;00m\u001b[39mpatches\u001b[39;00m \u001b[39mas\u001b[39;00m \u001b[39mmpatches\u001b[39;00m\n",
      "File \u001b[1;32m~\\AppData\\Local\\Packages\\PythonSoftwareFoundation.Python.3.10_qbz5n2kfra8p0\\LocalCache\\local-packages\\Python310\\site-packages\\matplotlib\\collections.py:20\u001b[0m\n\u001b[0;32m     17\u001b[0m \u001b[39mimport\u001b[39;00m \u001b[39mnumpy\u001b[39;00m \u001b[39mas\u001b[39;00m \u001b[39mnp\u001b[39;00m\n\u001b[0;32m     19\u001b[0m \u001b[39mimport\u001b[39;00m \u001b[39mmatplotlib\u001b[39;00m \u001b[39mas\u001b[39;00m \u001b[39mmpl\u001b[39;00m\n\u001b[1;32m---> 20\u001b[0m \u001b[39mfrom\u001b[39;00m \u001b[39m.\u001b[39;00m \u001b[39mimport\u001b[39;00m (_api, _path, artist, cbook, cm, colors \u001b[39mas\u001b[39;00m mcolors, _docstring,\n\u001b[0;32m     21\u001b[0m                hatch \u001b[39mas\u001b[39;00m mhatch, lines \u001b[39mas\u001b[39;00m mlines, path \u001b[39mas\u001b[39;00m mpath, transforms)\n\u001b[0;32m     22\u001b[0m \u001b[39mfrom\u001b[39;00m \u001b[39m.\u001b[39;00m\u001b[39m_enums\u001b[39;00m \u001b[39mimport\u001b[39;00m JoinStyle, CapStyle\n\u001b[0;32m     25\u001b[0m \u001b[39m# \"color\" is excluded; it is a compound setter, and its docstring differs\u001b[39;00m\n\u001b[0;32m     26\u001b[0m \u001b[39m# in LineCollection.\u001b[39;00m\n",
      "File \u001b[1;32m~\\AppData\\Local\\Packages\\PythonSoftwareFoundation.Python.3.10_qbz5n2kfra8p0\\LocalCache\\local-packages\\Python310\\site-packages\\matplotlib\\lines.py:14\u001b[0m\n\u001b[0;32m     12\u001b[0m \u001b[39mimport\u001b[39;00m \u001b[39mmatplotlib\u001b[39;00m \u001b[39mas\u001b[39;00m \u001b[39mmpl\u001b[39;00m\n\u001b[0;32m     13\u001b[0m \u001b[39mfrom\u001b[39;00m \u001b[39m.\u001b[39;00m \u001b[39mimport\u001b[39;00m _api, cbook, colors \u001b[39mas\u001b[39;00m mcolors, _docstring\n\u001b[1;32m---> 14\u001b[0m \u001b[39mfrom\u001b[39;00m \u001b[39m.\u001b[39;00m\u001b[39martist\u001b[39;00m \u001b[39mimport\u001b[39;00m Artist, allow_rasterization\n\u001b[0;32m     15\u001b[0m \u001b[39mfrom\u001b[39;00m \u001b[39m.\u001b[39;00m\u001b[39mcbook\u001b[39;00m \u001b[39mimport\u001b[39;00m (\n\u001b[0;32m     16\u001b[0m     _to_unmasked_float_array, ls_mapper, ls_mapper_r, STEP_LOOKUP_MAP)\n\u001b[0;32m     17\u001b[0m \u001b[39mfrom\u001b[39;00m \u001b[39m.\u001b[39;00m\u001b[39mmarkers\u001b[39;00m \u001b[39mimport\u001b[39;00m MarkerStyle\n",
      "\u001b[1;31mModuleNotFoundError\u001b[0m: No module named 'matplotlib.artist'"
     ]
    }
   ],
   "source": [
    "from AI_for_Designers.data_processing import Preprocessing, empty_files\n",
    "from AI_for_Designers.active_learning import ActiveLearning\n",
    "from AI_for_Designers.novelty_detection import NoveltyDetection\n",
    "from AI_for_Designers.data_stats import Stats\n",
    "\n",
    "Activity = 'Walking3'\n",
    "labels = ['walking', 'running', 'stairs_up', 'stairs_down']"
   ]
  },
  {
   "attachments": {},
   "cell_type": "markdown",
   "metadata": {},
   "source": [
    "## Pre-processing\n",
    "During preprocessing, the raw data gets divided into frames. This makes for more certain predictions and a faster model.\n",
    "\n",
    "There are **4 variables** that are important for you to edit:\n",
    "\n",
    " - Frame size (size=...): set larger for slow movements, smaller for very quick movements. Default = 2 sec\n",
    " - Frame offset (offset=...): increase if you set a bigger frame size\n",
    " - Start-chop (start_offset=...)\n",
    " - End-chop (stop_offset=...)\n",
    "\n",
    "Enter the values below, and run the cell to start the preprocessing. \n",
    "\n",
    "After you've preprocessed your data, the application will have extracted features like standard deviation and most present frequency. These features will be used to analyze the characteristics of a data point and classify it to an activity."
   ]
  },
  {
   "cell_type": "code",
   "execution_count": null,
   "metadata": {},
   "outputs": [],
   "source": [
    "empty_files([f'Preprocessed-data/{Activity}/features_{Activity}.txt',\n",
    "             f'Preprocessed-data/{Activity}/features_{Activity}_scaled.csv',\n",
    "             f'Preprocessed-data/{Activity}/processed_data_files.txt'])\n",
    "\n",
    "pre = Preprocessing(Activity)\n",
    "pre.windowing([r\"Data/data-lopen/Walking_part_1.csv\", r\"Data/data-lopen/Walking_part_1_gyro.csv\"], r\"Data/data-lopen/Walking_part_1.mp4\",\n",
    "              start_offset=2.5, stop_offset=5, size=1, offset=0.2, epsilon=0.01, do_plot=False, do_scale=False)\n",
    "pre.windowing([r\"Data/data-lopen/Walking_part_2.csv\", r\"Data/data-lopen/Walking_part_2_gyro.csv\"], r\"Data/data-lopen/Walking_part_2.mp4\",\n",
    "              start_offset=2.5, stop_offset=5, size=1, offset=0.2, epsilon=0.01, do_plot=False, do_scale=True)"
   ]
  },
  {
   "attachments": {},
   "cell_type": "markdown",
   "metadata": {},
   "source": [
    "## Labeling and training\n",
    "\n",
    "If you've set up your preprocessing correctly this step should be quite easy. The application will show you part of your recording, and you will be asked to label it according to the action performed on screen. You can add a new label if the activity you see is not one of the options you expected. \n",
    "\n",
    "First, enter the activities that you think will be in the video. Don't worry about doing this extensively, you can always add more later.\n",
    "\n",
    "An example:\n",
    "\n",
    "    labels = ['walking', 'running', 'stairs_up', 'stairs_down']\n",
    "\n",
    "Enter your labels inside the code block below. **Only change the text inside the brackets, remember to put the values in quotation marks and seperate them by commas**.\n",
    "\n",
    "Next up is training the model. After entering your labels, run the cell and you will be shown a GIF and asked to label the activity you see. Take your time to label the data correctly, as the results fully rely on accurate labels. You get the option to delete a data point if you are not completely sure about the label or if it's a faulty sample. "
   ]
  },
  {
   "cell_type": "code",
   "execution_count": 2,
   "metadata": {},
   "outputs": [
    {
     "name": "stdout",
     "output_type": "stream",
     "text": [
      "45.60000000000008 1\n"
     ]
    },
    {
     "data": {
      "text/html": [
       "\n",
       "            <head>\n",
       "                <script type=\"text/javascript\">\n",
       "                    function init_7(){\n",
       "                        let timestamp = 45.60000000000008;\n",
       "                        let window_size = 1;\n",
       "                        let video = document.getElementById(\"7\");\n",
       "                        video.currentTime = timestamp;\n",
       "                        play_7();\n",
       "                    }\n",
       "\n",
       "                    function play_7(){\n",
       "                        let timestamp = 45.60000000000008;\n",
       "                        let window_size = 1;\n",
       "                        let video = document.getElementById(\"7\");\n",
       "                        if (video.currentTime < timestamp || video.currentTime >= timestamp + window_size){\n",
       "                            video.currentTime = timestamp;\n",
       "                        }\n",
       "                        video.play();\n",
       "                        setInterval(function(){\n",
       "                            if(video.currentTime >= timestamp + window_size){\n",
       "                                video.currentTime = timestamp;\n",
       "                            }\n",
       "                        },1);\n",
       "                        <!--video.playbackRate = 2-->\n",
       "                    }\n",
       "\n",
       "                    function pause_7(){\n",
       "                        let timestamp = 45.60000000000008;\n",
       "                        let window_size = 1;\n",
       "                        let video = document.getElementById(\"7\");\n",
       "                        video.pause();\n",
       "                    }\n",
       "                </script>\n",
       "            </head>\n",
       "            <body>\n",
       "                <div style=\"display:flex\">\n",
       "                    <div style=\"flex:1\">\n",
       "                        <video id=\"7\" height=\"300px\" src=\"Data/data-lopen/Walking_part_1.mp4\" muted></video><br>\n",
       "                        <script type=\"text/javascript\">init_7()</script>\n",
       "                        <button onclick=\"play_7()\">Play</button>\n",
       "                        <button onclick=\"pause_7()\">Pause</button>\n",
       "                    </div>\n",
       "                    <div style=\"flex:1\">\n",
       "                        <img src=\"Plots/plot_to_label.png\" height=\"300\"></img>\n",
       "                    </div>\n",
       "                </div>\n",
       "            </body>\n",
       "        "
      ],
      "text/plain": [
       "<IPython.core.display.HTML object>"
      ]
     },
     "metadata": {},
     "output_type": "display_data"
    },
    {
     "name": "stdout",
     "output_type": "stream",
     "text": [
      "Enter the index or the name of one of the following labels. Enter 'n' to add a new label:\n",
      "1. walking\n",
      "2. running\n",
      "3. stairs_up\n",
      "4. stairs_down\n"
     ]
    },
    {
     "ename": "KeyError",
     "evalue": "0",
     "output_type": "error",
     "traceback": [
      "\u001b[1;31m---------------------------------------------------------------------------\u001b[0m",
      "\u001b[1;31mKeyError\u001b[0m                                  Traceback (most recent call last)",
      "File \u001b[1;32m~\\AppData\\Local\\Packages\\PythonSoftwareFoundation.Python.3.10_qbz5n2kfra8p0\\LocalCache\\local-packages\\Python310\\site-packages\\pandas\\core\\indexes\\base.py:3803\u001b[0m, in \u001b[0;36mIndex.get_loc\u001b[1;34m(self, key, method, tolerance)\u001b[0m\n\u001b[0;32m   3802\u001b[0m \u001b[39mtry\u001b[39;00m:\n\u001b[1;32m-> 3803\u001b[0m     \u001b[39mreturn\u001b[39;00m \u001b[39mself\u001b[39;49m\u001b[39m.\u001b[39;49m_engine\u001b[39m.\u001b[39;49mget_loc(casted_key)\n\u001b[0;32m   3804\u001b[0m \u001b[39mexcept\u001b[39;00m \u001b[39mKeyError\u001b[39;00m \u001b[39mas\u001b[39;00m err:\n",
      "File \u001b[1;32m~\\AppData\\Local\\Packages\\PythonSoftwareFoundation.Python.3.10_qbz5n2kfra8p0\\LocalCache\\local-packages\\Python310\\site-packages\\pandas\\_libs\\index.pyx:138\u001b[0m, in \u001b[0;36mpandas._libs.index.IndexEngine.get_loc\u001b[1;34m()\u001b[0m\n",
      "File \u001b[1;32m~\\AppData\\Local\\Packages\\PythonSoftwareFoundation.Python.3.10_qbz5n2kfra8p0\\LocalCache\\local-packages\\Python310\\site-packages\\pandas\\_libs\\index.pyx:165\u001b[0m, in \u001b[0;36mpandas._libs.index.IndexEngine.get_loc\u001b[1;34m()\u001b[0m\n",
      "File \u001b[1;32mpandas\\_libs\\hashtable_class_helper.pxi:5745\u001b[0m, in \u001b[0;36mpandas._libs.hashtable.PyObjectHashTable.get_item\u001b[1;34m()\u001b[0m\n",
      "File \u001b[1;32mpandas\\_libs\\hashtable_class_helper.pxi:5753\u001b[0m, in \u001b[0;36mpandas._libs.hashtable.PyObjectHashTable.get_item\u001b[1;34m()\u001b[0m\n",
      "\u001b[1;31mKeyError\u001b[0m: 0",
      "\nThe above exception was the direct cause of the following exception:\n",
      "\u001b[1;31mKeyError\u001b[0m                                  Traceback (most recent call last)",
      "Cell \u001b[1;32mIn[2], line 2\u001b[0m\n\u001b[0;32m      1\u001b[0m AL \u001b[39m=\u001b[39m ActiveLearning(\u001b[39mfr\u001b[39m\u001b[39m'\u001b[39m\u001b[39mPreprocessed-data/\u001b[39m\u001b[39m{\u001b[39;00mActivity\u001b[39m}\u001b[39;00m\u001b[39m/features_\u001b[39m\u001b[39m{\u001b[39;00mActivity\u001b[39m}\u001b[39;00m\u001b[39m_scaled.csv\u001b[39m\u001b[39m'\u001b[39m, Activity, labels, \u001b[39m1\u001b[39m)\n\u001b[1;32m----> 2\u001b[0m AL\u001b[39m.\u001b[39;49mtraining(\u001b[39m20\u001b[39;49m, random_points\u001b[39m=\u001b[39;49m\u001b[39m1\u001b[39;49m)\n\u001b[0;32m      3\u001b[0m AL\u001b[39m.\u001b[39mplotting()\n\u001b[0;32m      4\u001b[0m AL\u001b[39m.\u001b[39mwrite_to_file()\n",
      "File \u001b[1;32mc:\\Users\\skipd\\Documents\\year 3\\capstone\\git\\Capstone-AI-IoT\\AI_for_Designers\\active_learning.py:132\u001b[0m, in \u001b[0;36mActiveLearning.training\u001b[1;34m(self, maximum_iterations, random_points, cluster_points)\u001b[0m\n\u001b[0;32m    128\u001b[0m \u001b[39mself\u001b[39m\u001b[39m.\u001b[39mclustered_starting_points(cluster_points)\n\u001b[0;32m    129\u001b[0m \u001b[39m# pd.to_csv('hello?', self.datapd)\u001b[39;00m\n\u001b[0;32m    130\u001b[0m \n\u001b[0;32m    131\u001b[0m \u001b[39m# Set the most ambiguous points iteratively\u001b[39;00m\n\u001b[1;32m--> 132\u001b[0m \u001b[39mself\u001b[39;49m\u001b[39m.\u001b[39;49miterate(maximum_iterations)\n\u001b[0;32m    133\u001b[0m \u001b[39m# Write to csv file\u001b[39;00m\n\u001b[0;32m    134\u001b[0m \u001b[39m# self.write_to_file()\u001b[39;00m\n\u001b[0;32m    136\u001b[0m \u001b[39mwith\u001b[39;00m \u001b[39mopen\u001b[39m(\u001b[39mfr\u001b[39m\u001b[39m'\u001b[39m\u001b[39mModels/model_\u001b[39m\u001b[39m{\u001b[39;00m\u001b[39mself\u001b[39m\u001b[39m.\u001b[39maction_ID\u001b[39m}\u001b[39;00m\u001b[39m_\u001b[39m\u001b[39m{\u001b[39;00mmaximum_iterations\u001b[39m}\u001b[39;00m\u001b[39m.txt\u001b[39m\u001b[39m'\u001b[39m, \u001b[39m'\u001b[39m\u001b[39mwb\u001b[39m\u001b[39m'\u001b[39m) \u001b[39mas\u001b[39;00m f:\n",
      "File \u001b[1;32mc:\\Users\\skipd\\Documents\\year 3\\capstone\\git\\Capstone-AI-IoT\\AI_for_Designers\\active_learning.py:263\u001b[0m, in \u001b[0;36mActiveLearning.iterate\u001b[1;34m(self, max_iter)\u001b[0m\n\u001b[0;32m    259\u001b[0m iter_num \u001b[39m+\u001b[39m\u001b[39m=\u001b[39m \u001b[39m1\u001b[39m\n\u001b[0;32m    260\u001b[0m \u001b[39m# find most ambiguous point (find_most_ambiguous_id)\u001b[39;00m\n\u001b[0;32m    261\u001b[0m \u001b[39m# label it (set_ambiguous_point)\u001b[39;00m\n\u001b[0;32m    262\u001b[0m \u001b[39m# add to training data \u001b[39;00m\n\u001b[1;32m--> 263\u001b[0m new_index, margin \u001b[39m=\u001b[39m \u001b[39mself\u001b[39;49m\u001b[39m.\u001b[39;49mset_ambiguous_point()\n\u001b[0;32m    264\u001b[0m \u001b[39m# Iterate for a decided number of points or until you have a certain margin or gini\u001b[39;00m\n\u001b[0;32m    265\u001b[0m \u001b[39m# TODO: Investigate margin or gini at which you have a good accuracy\u001b[39;00m\n\u001b[0;32m    266\u001b[0m \u001b[39mif\u001b[39;00m iter_num \u001b[39m>\u001b[39m\u001b[39m=\u001b[39m max_iter \u001b[39mor\u001b[39;00m margin \u001b[39m>\u001b[39m \u001b[39m0.15\u001b[39m:\n",
      "File \u001b[1;32mc:\\Users\\skipd\\Documents\\year 3\\capstone\\git\\Capstone-AI-IoT\\AI_for_Designers\\active_learning.py:289\u001b[0m, in \u001b[0;36mActiveLearning.set_ambiguous_point\u001b[1;34m(self)\u001b[0m\n\u001b[0;32m    287\u001b[0m \u001b[39mself\u001b[39m\u001b[39m.\u001b[39mlabeled_ids\u001b[39m.\u001b[39mappend(get_id_to_label)\n\u001b[0;32m    288\u001b[0m \u001b[39m# Print PCA\u001b[39;00m\n\u001b[1;32m--> 289\u001b[0m \u001b[39mself\u001b[39;49m\u001b[39m.\u001b[39;49mprint_predition_point(get_id_to_label)\n\u001b[0;32m    290\u001b[0m \u001b[39m# Get what label this ID is supposed to get\u001b[39;00m\n\u001b[0;32m    291\u001b[0m \u001b[39m# Just for testing, add les_probs as arg to les_probs if you want these to be printed\u001b[39;00m\n\u001b[0;32m    292\u001b[0m new_label \u001b[39m=\u001b[39m \u001b[39mself\u001b[39m\u001b[39m.\u001b[39midentify(get_id_to_label,\n\u001b[0;32m    293\u001b[0m                           les_probs\u001b[39m=\u001b[39mles_probs)\n",
      "File \u001b[1;32mc:\\Users\\skipd\\Documents\\year 3\\capstone\\git\\Capstone-AI-IoT\\AI_for_Designers\\active_learning.py:498\u001b[0m, in \u001b[0;36mActiveLearning.print_predition_point\u001b[1;34m(self, current_id)\u001b[0m\n\u001b[0;32m    496\u001b[0m plt\u001b[39m.\u001b[39mscatter(\u001b[39mself\u001b[39m\u001b[39m.\u001b[39mpca[:, \u001b[39m1\u001b[39m], \u001b[39mself\u001b[39m\u001b[39m.\u001b[39mpca[:, \u001b[39m2\u001b[39m], c\u001b[39m=\u001b[39m\u001b[39m'\u001b[39m\u001b[39mgrey\u001b[39m\u001b[39m'\u001b[39m)\n\u001b[0;32m    497\u001b[0m \u001b[39mfor\u001b[39;00m label \u001b[39min\u001b[39;00m \u001b[39mself\u001b[39m\u001b[39m.\u001b[39mlabels:\n\u001b[1;32m--> 498\u001b[0m     lst \u001b[39m=\u001b[39m \u001b[39mlist\u001b[39m(\u001b[39mself\u001b[39;49m\u001b[39m.\u001b[39;49mdatapd\u001b[39m.\u001b[39;49mloc[\u001b[39mself\u001b[39;49m\u001b[39m.\u001b[39;49mdatapd[\u001b[39m'\u001b[39;49m\u001b[39mlabel\u001b[39;49m\u001b[39m'\u001b[39;49m] \u001b[39m==\u001b[39;49m label, \u001b[39m0\u001b[39;49m])\n\u001b[0;32m    499\u001b[0m     temp_pca \u001b[39m=\u001b[39m [[]]\n\u001b[0;32m    500\u001b[0m     \u001b[39mfor\u001b[39;00m e \u001b[39min\u001b[39;00m \u001b[39mself\u001b[39m\u001b[39m.\u001b[39mpca:\n",
      "File \u001b[1;32m~\\AppData\\Local\\Packages\\PythonSoftwareFoundation.Python.3.10_qbz5n2kfra8p0\\LocalCache\\local-packages\\Python310\\site-packages\\pandas\\core\\indexing.py:1067\u001b[0m, in \u001b[0;36m_LocationIndexer.__getitem__\u001b[1;34m(self, key)\u001b[0m\n\u001b[0;32m   1065\u001b[0m     \u001b[39mif\u001b[39;00m \u001b[39mself\u001b[39m\u001b[39m.\u001b[39m_is_scalar_access(key):\n\u001b[0;32m   1066\u001b[0m         \u001b[39mreturn\u001b[39;00m \u001b[39mself\u001b[39m\u001b[39m.\u001b[39mobj\u001b[39m.\u001b[39m_get_value(\u001b[39m*\u001b[39mkey, takeable\u001b[39m=\u001b[39m\u001b[39mself\u001b[39m\u001b[39m.\u001b[39m_takeable)\n\u001b[1;32m-> 1067\u001b[0m     \u001b[39mreturn\u001b[39;00m \u001b[39mself\u001b[39;49m\u001b[39m.\u001b[39;49m_getitem_tuple(key)\n\u001b[0;32m   1068\u001b[0m \u001b[39melse\u001b[39;00m:\n\u001b[0;32m   1069\u001b[0m     \u001b[39m# we by definition only have the 0th axis\u001b[39;00m\n\u001b[0;32m   1070\u001b[0m     axis \u001b[39m=\u001b[39m \u001b[39mself\u001b[39m\u001b[39m.\u001b[39maxis \u001b[39mor\u001b[39;00m \u001b[39m0\u001b[39m\n",
      "File \u001b[1;32m~\\AppData\\Local\\Packages\\PythonSoftwareFoundation.Python.3.10_qbz5n2kfra8p0\\LocalCache\\local-packages\\Python310\\site-packages\\pandas\\core\\indexing.py:1247\u001b[0m, in \u001b[0;36m_LocIndexer._getitem_tuple\u001b[1;34m(self, tup)\u001b[0m\n\u001b[0;32m   1245\u001b[0m \u001b[39mwith\u001b[39;00m suppress(IndexingError):\n\u001b[0;32m   1246\u001b[0m     tup \u001b[39m=\u001b[39m \u001b[39mself\u001b[39m\u001b[39m.\u001b[39m_expand_ellipsis(tup)\n\u001b[1;32m-> 1247\u001b[0m     \u001b[39mreturn\u001b[39;00m \u001b[39mself\u001b[39;49m\u001b[39m.\u001b[39;49m_getitem_lowerdim(tup)\n\u001b[0;32m   1249\u001b[0m \u001b[39m# no multi-index, so validate all of the indexers\u001b[39;00m\n\u001b[0;32m   1250\u001b[0m tup \u001b[39m=\u001b[39m \u001b[39mself\u001b[39m\u001b[39m.\u001b[39m_validate_tuple_indexer(tup)\n",
      "File \u001b[1;32m~\\AppData\\Local\\Packages\\PythonSoftwareFoundation.Python.3.10_qbz5n2kfra8p0\\LocalCache\\local-packages\\Python310\\site-packages\\pandas\\core\\indexing.py:967\u001b[0m, in \u001b[0;36m_LocationIndexer._getitem_lowerdim\u001b[1;34m(self, tup)\u001b[0m\n\u001b[0;32m    963\u001b[0m \u001b[39mfor\u001b[39;00m i, key \u001b[39min\u001b[39;00m \u001b[39menumerate\u001b[39m(tup):\n\u001b[0;32m    964\u001b[0m     \u001b[39mif\u001b[39;00m is_label_like(key):\n\u001b[0;32m    965\u001b[0m         \u001b[39m# We don't need to check for tuples here because those are\u001b[39;00m\n\u001b[0;32m    966\u001b[0m         \u001b[39m#  caught by the _is_nested_tuple_indexer check above.\u001b[39;00m\n\u001b[1;32m--> 967\u001b[0m         section \u001b[39m=\u001b[39m \u001b[39mself\u001b[39;49m\u001b[39m.\u001b[39;49m_getitem_axis(key, axis\u001b[39m=\u001b[39;49mi)\n\u001b[0;32m    969\u001b[0m         \u001b[39m# We should never have a scalar section here, because\u001b[39;00m\n\u001b[0;32m    970\u001b[0m         \u001b[39m#  _getitem_lowerdim is only called after a check for\u001b[39;00m\n\u001b[0;32m    971\u001b[0m         \u001b[39m#  is_scalar_access, which that would be.\u001b[39;00m\n\u001b[0;32m    972\u001b[0m         \u001b[39mif\u001b[39;00m section\u001b[39m.\u001b[39mndim \u001b[39m==\u001b[39m \u001b[39mself\u001b[39m\u001b[39m.\u001b[39mndim:\n\u001b[0;32m    973\u001b[0m             \u001b[39m# we're in the middle of slicing through a MultiIndex\u001b[39;00m\n\u001b[0;32m    974\u001b[0m             \u001b[39m# revise the key wrt to `section` by inserting an _NS\u001b[39;00m\n",
      "File \u001b[1;32m~\\AppData\\Local\\Packages\\PythonSoftwareFoundation.Python.3.10_qbz5n2kfra8p0\\LocalCache\\local-packages\\Python310\\site-packages\\pandas\\core\\indexing.py:1312\u001b[0m, in \u001b[0;36m_LocIndexer._getitem_axis\u001b[1;34m(self, key, axis)\u001b[0m\n\u001b[0;32m   1310\u001b[0m \u001b[39m# fall thru to straight lookup\u001b[39;00m\n\u001b[0;32m   1311\u001b[0m \u001b[39mself\u001b[39m\u001b[39m.\u001b[39m_validate_key(key, axis)\n\u001b[1;32m-> 1312\u001b[0m \u001b[39mreturn\u001b[39;00m \u001b[39mself\u001b[39;49m\u001b[39m.\u001b[39;49m_get_label(key, axis\u001b[39m=\u001b[39;49maxis)\n",
      "File \u001b[1;32m~\\AppData\\Local\\Packages\\PythonSoftwareFoundation.Python.3.10_qbz5n2kfra8p0\\LocalCache\\local-packages\\Python310\\site-packages\\pandas\\core\\indexing.py:1260\u001b[0m, in \u001b[0;36m_LocIndexer._get_label\u001b[1;34m(self, label, axis)\u001b[0m\n\u001b[0;32m   1258\u001b[0m \u001b[39mdef\u001b[39;00m \u001b[39m_get_label\u001b[39m(\u001b[39mself\u001b[39m, label, axis: \u001b[39mint\u001b[39m):\n\u001b[0;32m   1259\u001b[0m     \u001b[39m# GH#5567 this will fail if the label is not present in the axis.\u001b[39;00m\n\u001b[1;32m-> 1260\u001b[0m     \u001b[39mreturn\u001b[39;00m \u001b[39mself\u001b[39;49m\u001b[39m.\u001b[39;49mobj\u001b[39m.\u001b[39;49mxs(label, axis\u001b[39m=\u001b[39;49maxis)\n",
      "File \u001b[1;32m~\\AppData\\Local\\Packages\\PythonSoftwareFoundation.Python.3.10_qbz5n2kfra8p0\\LocalCache\\local-packages\\Python310\\site-packages\\pandas\\core\\generic.py:4041\u001b[0m, in \u001b[0;36mNDFrame.xs\u001b[1;34m(self, key, axis, level, drop_level)\u001b[0m\n\u001b[0;32m   4039\u001b[0m \u001b[39mif\u001b[39;00m axis \u001b[39m==\u001b[39m \u001b[39m1\u001b[39m:\n\u001b[0;32m   4040\u001b[0m     \u001b[39mif\u001b[39;00m drop_level:\n\u001b[1;32m-> 4041\u001b[0m         \u001b[39mreturn\u001b[39;00m \u001b[39mself\u001b[39;49m[key]\n\u001b[0;32m   4042\u001b[0m     index \u001b[39m=\u001b[39m \u001b[39mself\u001b[39m\u001b[39m.\u001b[39mcolumns\n\u001b[0;32m   4043\u001b[0m \u001b[39melse\u001b[39;00m:\n",
      "File \u001b[1;32m~\\AppData\\Local\\Packages\\PythonSoftwareFoundation.Python.3.10_qbz5n2kfra8p0\\LocalCache\\local-packages\\Python310\\site-packages\\pandas\\core\\frame.py:3805\u001b[0m, in \u001b[0;36mDataFrame.__getitem__\u001b[1;34m(self, key)\u001b[0m\n\u001b[0;32m   3803\u001b[0m \u001b[39mif\u001b[39;00m \u001b[39mself\u001b[39m\u001b[39m.\u001b[39mcolumns\u001b[39m.\u001b[39mnlevels \u001b[39m>\u001b[39m \u001b[39m1\u001b[39m:\n\u001b[0;32m   3804\u001b[0m     \u001b[39mreturn\u001b[39;00m \u001b[39mself\u001b[39m\u001b[39m.\u001b[39m_getitem_multilevel(key)\n\u001b[1;32m-> 3805\u001b[0m indexer \u001b[39m=\u001b[39m \u001b[39mself\u001b[39;49m\u001b[39m.\u001b[39;49mcolumns\u001b[39m.\u001b[39;49mget_loc(key)\n\u001b[0;32m   3806\u001b[0m \u001b[39mif\u001b[39;00m is_integer(indexer):\n\u001b[0;32m   3807\u001b[0m     indexer \u001b[39m=\u001b[39m [indexer]\n",
      "File \u001b[1;32m~\\AppData\\Local\\Packages\\PythonSoftwareFoundation.Python.3.10_qbz5n2kfra8p0\\LocalCache\\local-packages\\Python310\\site-packages\\pandas\\core\\indexes\\base.py:3805\u001b[0m, in \u001b[0;36mIndex.get_loc\u001b[1;34m(self, key, method, tolerance)\u001b[0m\n\u001b[0;32m   3803\u001b[0m     \u001b[39mreturn\u001b[39;00m \u001b[39mself\u001b[39m\u001b[39m.\u001b[39m_engine\u001b[39m.\u001b[39mget_loc(casted_key)\n\u001b[0;32m   3804\u001b[0m \u001b[39mexcept\u001b[39;00m \u001b[39mKeyError\u001b[39;00m \u001b[39mas\u001b[39;00m err:\n\u001b[1;32m-> 3805\u001b[0m     \u001b[39mraise\u001b[39;00m \u001b[39mKeyError\u001b[39;00m(key) \u001b[39mfrom\u001b[39;00m \u001b[39merr\u001b[39;00m\n\u001b[0;32m   3806\u001b[0m \u001b[39mexcept\u001b[39;00m \u001b[39mTypeError\u001b[39;00m:\n\u001b[0;32m   3807\u001b[0m     \u001b[39m# If we have a listlike key, _check_indexing_error will raise\u001b[39;00m\n\u001b[0;32m   3808\u001b[0m     \u001b[39m#  InvalidIndexError. Otherwise we fall through and re-raise\u001b[39;00m\n\u001b[0;32m   3809\u001b[0m     \u001b[39m#  the TypeError.\u001b[39;00m\n\u001b[0;32m   3810\u001b[0m     \u001b[39mself\u001b[39m\u001b[39m.\u001b[39m_check_indexing_error(key)\n",
      "\u001b[1;31mKeyError\u001b[0m: 0"
     ]
    },
    {
     "data": {
      "image/png": "iVBORw0KGgoAAAANSUhEUgAAAiIAAAGdCAYAAAAvwBgXAAAAOXRFWHRTb2Z0d2FyZQBNYXRwbG90bGliIHZlcnNpb24zLjYuMiwgaHR0cHM6Ly9tYXRwbG90bGliLm9yZy8o6BhiAAAACXBIWXMAAA9hAAAPYQGoP6dpAABflUlEQVR4nO3df3QUZZov8G+3IaE7dseJisqGEIJMjBB0AAkwJ2NcNQEGVleZzO717ujeOe7OXHTiOHuvcs/ZdZ29Z5kfntFcds78Ovc6HHbu3WWi6MQrAdaZYNyEAIlIiE0EsQ2IMLpZ0yFpwo+q+4e32u5OV9Vb1VXVVd3fzzmeI6G6uzpN1/vU8z7v8/pkWZZBRERElAP+XJ8AERERFS4GIkRERJQzDESIiIgoZxiIEBERUc4wECEiIqKcYSBCREREOcNAhIiIiHKGgQgRERHlTFGuT0CLJEk4ffo0QqEQfD5frk+HiIiIBMiyjPHxccyePRt+v3bOw9WByOnTpzFnzpxcnwYRERGZcPLkSVRUVGge4+pAJBQKAfj0jYTD4RyfDREREYmIxWKYM2dOYhzX4upARJmOCYfDDESIiIg8RqSsgsWqRERElDMMRIiIiChnGIgQERFRzjAQISIiopxhIEJEREQ5w0CEiIiIcoaBCBEREeUMAxEiIiLKGVc3NCOymyRJGBkZwfj4OEKhECorK3X3RSAiIuswEKGCFYlE0NnZiVgslvhZOBzG6tWrUVtbm8MzIyIqHLz1o4IUiUSwffv2lCAE+HR/hO3btyMSieTozIiICgsDESo4kiShs7NT85jOzk5IkuTQGRERFS4GIlRwRkZGpmVC0sViMYyMjDh0RkREhYuBCBWc8fFxS48jIiLzGIhQwQmFQpYeR0RE5jEQoYJTWVmJcDiseUw4HEZlZaVDZ0REVLgYiFDB8fv9WL16teYxq1evZj8RIiIH8EpLBam2thYtLS3TMiPhcBgtLS3sI0JE5BA2NKOCVVtbi5qaGnZWJSLKIQYiVND8fj+qqqpyfRpERAWLt35ERESUM7YGIh988AH+43/8j7j66qsRCARQV1eHgwcP2vmSRERE5CG2Tc38+7//O774xS/ijjvuwM6dO3Httdfi2LFj+NznPmfXSxIREZHH2BaIfP/738ecOXPw/PPPJ342b948u16OiIiIPMi2qZnf/OY3WLZsGb7yla9g1qxZ+MIXvoBf/OIXdr0cEREReZBtgciJEyfwk5/8BAsWLMCuXbvwzW9+E9/61rewdetW1cdMTU0hFoul/EdkhCRJiEajGBwcRDQa5Q66REQu55NlWbbjiYuLi7Fs2TL09PQkfvatb30LBw4cQG9vb8bH/O3f/i2efvrpaT8fGxvTbclNFIlE0NnZmRLAhsNhrF69mg3KiIgcFIvFUFZWJjR+25YRueGGG3DzzTen/Ky2tlZza/VNmzZhbGws8d/JkyftOj3KM5FIBNu3b5+WRYvFYti+fTsikUiOzoyIiLTYVqz6xS9+EcPDwyk/e+eddzB37lzVx5SUlKCkpMSuU6I8I0kSRkZGEIvFsGvXLs1jOzs7UVNTw66pREQuY1sg8u1vfxurVq3C3//936OlpQX79+/Hz3/+c/z85z+36yWpgGSahtESi8UwMjLCLqpERC5jWyBy2223YceOHdi0aRO++93vYt68eXjuuefwwAMP2PWSlGNKhsLufVuUaRijxsfHLT8XIiLKjq17zaxbtw7r1q2z8yXIIXpBhlOFopIkobOz09RjQ6GQZedBRETW4KZ3pEsvyFDLUCiFoi0tLZYFI0pNiFHhcBiVlZWWnAMREVmHlXukSW81ytDQkG6GorOz07J+HmanV1avXs1CVSIiF+KVmVSJTIO8+uqruhkKpVDUCkanV8LhsKUZGSIishanZkiVyDTI5OSk0HNZVShaWVmJcDiseV7BYBDNzc2J6RhmQoiI3ItXaFJl5SoTqwpF/X4/Vq9erXnMunXrsHjxYlRVVTEIISJyOV6lSZVo8BAMBjX/3upC0draWrS0tExrG8xpGCIi7+HUDKkSmQYJh8NoampCe3u76jF2FIrW1taipqbGkb4lRERu5VT/JjsxECFVyjSIVvMwZQmv3+93fMM5v9+v2ik1H76cRERa8mWjT9t237WCkd37yD6i/9jdMvjny5eTiEiNXofpXE9TGxm/GYiQELcEGXrc/uUkIsqWJEloa2vTnTZvbW3N2XXayPjNqRkSojUN4hYifU+4Cy8ReZ1IawUvbfTJqzHlDSNfTiIirxJtreCVjT4ZiFDeyLcvJxFRJqOjo0LHeWWjTwYilDdEv3Re+XISEaWTJAn9/f26x3lpo0/WiHiUV4pHnSTa98QrX04ionTKdV/PkiVLPDMmMBDxIC5PzUy074lXvpxEROlEp5bLy8ttPhPr8IrsMcry1PS7/lgshu3btyMSieTozNyB7d+JKJ/l4xQ0MyIewuWpYtj+nYjyVT5OQfPK7CFOLk+VJAnRaBSDg4OIRqOQJCnr53SS0vekrq6Ou/ASUd4Q2YHca1PQzIh4iFPLU71Qg8JiXSIqVMoUtNuv06IYiHiIE3ODai3SlRoUN9RZeCFQIiKyUz5NQXvvjAuYMjeoJZu5QdEaFKunaYxMA7FYl4joU/kyBc2MiIfYvTw1F/sXGMlusFiXiCj/8GrtMXYuT3W6RbrR7Ab3kiEiyj/MiHiQXXODTq5PN5Pd4F4yRET5h4GIRylzg1Zycn26mWkg0QBIdEMoIiLKPU7N5CGzPUCcXJ9uJrtRWVkpFIwMDAx4ru8JEVGhYkYkz2S7tNWp9elmpoH8fj+WLl2Krq4uzcdYXVBLRET2YSCSR6zqAeLE+nSz00CiGzmdOHHC82vriYgKAQORPGH10lY7alDSn9/MUmTRTEp3d3fi/9nsjIjIvXibmCe8uLTVzFJkkaZu6djsjIjIvZgRyRO5Wtqa7Z4vRqeBRDIpatjsjAoZ92cit2Igkiec7AGisGrPF6PTQDU1NWhsbERfXx/i8bjw41jESoWK+zORmzEczhN270OTLld7vkQiEbS1taGrqysRhAQCAeGLKZudUaHh/kzkdgxE8oSTPUBECmM7Ojpw4sQJS/t5qF1Q4/G48MXUyowQkdvlaiNLIiMYiOQRO/ehSSZSGBuPx7Ft2za0tbVZcsclckH1+Xyaf29lRiifmG2AR+7nxSJ2KjysEckzTvQAMTK9YbSHiRqRC6osy5p/b1VGKJ+wdiC/cX8m8gJelfOQUvxZV1eHqqoqywdfM9Mb2aZ/RS+UK1assD0jlC9YO5D/clHETp9htlEMMyJkmEhX1HTZrlgRvVDW1NTg7rvv5jJFHVY3wCN3cnIjS0rFbKM4XmHIEKUXgZkv0tGjR02/rpFVQXZnhPIBawcKg5NF7PQZZhuN4b8+EqYsnd26dSv6+voA6BeIJuvr6zP9BeQF1VqsHSgcThWx06e4Usk4Ts2QELUN9ZQC0RkzZuDixYu6z5NNut+pnYELAWsHCosTRez0KSPZRjZX/BQDEdIlEuGLXtCy/QLygmoN1g4UHrs3sqRPMdtoHAMR0iUS4U9NTeGKK67A5cuXdZ9P9AuotjcGL6jZM7v7MRFpY7bROAYiBcTspleigYNIEAKIfQFZcW4/TnURWY/ZRuMYiBSIbAZ2KyN3kS+gWj2KVc3R6DOc6iKyFrONxvE3UQCyXUomsnRWlN4XkBXnzuNyZyJrcaWSMcyI5CllGiYWi2HXrl2ax+qtZBGJ8NMFAoHE7rjA9OyL2jSRaMV5NBpFdXW18PkQETmJ2UZxDETyUKZpGC0iK1mUCP+VV17B5OSk7nNu2LABfr9/2hdQkiR0d3ejr68vY6By6dIloXNub2/H+vXreWdBRK7FwnoxDETyjFp9hR6RgtTa2losWLAAzz77rGYwEg6HM6b4I5EIOjo6UgIQhTJN1NjYKHS+8Xic9SJERHmAOSIP0dtASaS+Qo1oQWpRURHWrVuneUymOhAlQMoUhCTr7+83VBzLehEiIm9jRsQjMk23hEIhLF26FOXl5QiFQpAkydBGdAqjS8mMLvs0EiCNj4+jsbERXV1dQsezQyERkbcxEPEAtemW8fHxlAE7EAiYen4zS8mMFGKJFKAmKy8vR0tLi+o0TrrkaSWzvVKIiCg3GIi4nJFsgsignSzbxlVqhVjpwYDRLE0oFEJVVRVKSkqwbds2oeMBNkEjIvvxZsd6DERczmg2QU8wGERzc3NiOkbkC2Tki5cpGAgGg8LnlzxNVFVVJdyhkE3QiMhuvNmxBwMRl7N6Y6R169YZ+sIY+eKpBQMiy30VydNEoh0KAQg1QTO76y8REW927MOrssuZba+eXi9ipqOfkY6s2azYUc430/mJdCg0su02EZFR7PhsL8cyIt/73vewadMmtLa24rnnnnPqZT1PZAOlTNQaiokS/eIpWQbRKaRgMJiSIQkEAqivr0dDQ4Pq+ekVxnLbbSKyk5GbHa7gM86RQOTAgQP42c9+hsWLFzvxcnnFTHv1TA3FlB4kooGJ0S+e6CCv1KcYDZC0OhSWlpYKvbbocUREyXizYy/bA5Fz587hgQcewC9+8Qv89//+3+1+ubyk1rdDTfpyXDMFVka/eKJTSEqQlCuseCcio0Svb1buVF5IbA9ENm7ciC9/+cu46667dAORqakpTE1NJf5s5WoRr0ufnhgdHUV/f39KwJApuDBbYCX6hfroo48QjUZRUVEhvMLFahMTE0LHvfPOO3j55ZdZ8U5EhohMkdt1fSsEtgYi//RP/4SBgQEcOHBA6PjNmzfj6aeftvOUPC19eqKhoUHz7t5onUeyioqKafUcmXR3d6O7uxvhcBiLFi1CT0+P6rFmGqeJEA2a+vr6pv2MFe9EpEd0BR+zq+bY9ls7efIkWltb8atf/QozZ84UesymTZswNjaW+O/kyZN2nV5eUAKTurq6jJvMmV1NEolEsGXLFkPLbmOxGHp6erBq1SrNFS52UO5WtPh8Ps2/z1Txrre3DxEVDpEVfGSObRmR/v5+/P73v8eSJUsSP7t8+TJef/11/MM//AOmpqZwxRVXpDympKQEJSUldp1SwTFTYGV2917FkSNH8Oijj+LUqVOO1WGI3K3Isqz5HOkV72xcRETpjGxtQeJsC0TuvPNODA4Opvzsz//8z3HTTTfhiSeemBaEkPVEV4koUxuSJGHnzp1ZvWYsFsOpU6ccL0jV2ojv5ptvxr59+3SfQwnI2LiIiNRoreAjc2wLREKhEBYtWpTys9LSUlx99dXTfk7Wi0QiQkFFcoFVd3e3JcvPcrWETe1uZWRkRCgQUXYwZpdWyjdcLUZuxhbvecjI9IpSYBWJRFJ28s1GLpewZbpbMVLxzsZFlG84zUhu52hI3NXVxa6qNhNttZ5cYJVte/b053XbEjalhkSLEpCxcRHlEyPbNBDlCnNzeUa01fo999yTuBuycodfty5hE614Z+MiyhfcH4W8glMzLmHVHK7onXpyEzCjd/fKhnrxeDzxMy+kekUq3tm4iPIFpxnJKxiIuICVc7hm7uhFH/MHf/AHuOuuu1BZWQlJknDw4EGMjo6ivLwcy5YtQ1GR+/856VW8s3ER5QtOM5JXuH/kyHNWLxU1c0dfWVmJUCike0EaHx9HZWUlhoeHpwVOvb29rs+IJNPKQGktBfbSe6TCxmlG8goGIjmUzVJRtYHUzB293+/H0qVLdVfNxGIxdHd3ZzzOjh4bdi05FMlAsXEReR2nGckrGIjkkNk5XL2B1MwdfXl5udA5Z9qvJZlVPTaMTFcZCViMZKDYuIi8jNOM5BUMRHLIyhbs6QNpTU0NSkpKEI1GAQBVVVUZ96NRiKZnkwtUM7Gi+M1IsGA0YGGzMioknGYkL2AgkkOiLdiV44wsx9u9e3fKheett97SvPCIpHGLi4tx4cIF3fM1W/ymbDLX0dGheZwSLAwPDxuqr+EqAipEnGYkt2Mg4gGyLCMajeLEiRNCA2l7e3vGn2canJOnNZYsWaJZJyIShADmit8yZTbUxGIxRKNRw9kNriKgQsVpRnIzBiI5lNzLQ8sLL7ygOyUiKnlwzjT4Z+oRYoSZ4jczO/5Go1HD2Q2uIiAich8GIjlkVV2GEcrgHI/HMw7+ymt96UtfwoEDBwy/ttHiNyvby2eSnN0wsoqAm4QRETmDgUgOiQyMdojFYnjttdc0jzl48KChIMRs8ZuZ9vKhUAgzZ84UPlYhuoogU58UFvcREdmDt3g5JLIZmx0mJyd1B//JyUlDz9nU1GRqkDZTjzE1NYU9e/boHpdpmkhvzxkA3CSMiMhBzIjkmNryukAgYOmUjCIcDiMYDFr+vLt370Ztba3h6Qsz9RiiRbNq00RqqwgAoK2tTfM5ubyXiMhaDERcINPAKEkStm3bZvi5ZsyYgYsXL6r+/erVqxMFqXpEl+sC5pe92jE9JTKNkmkVgZkCWCIiyg4DEZdIHxglSTI1QCtBiM/ngyzLiZ8nD86izy0ahCiUaRYjhZ4idRtGNDc3Y/ny5bbuXMzlvURE1mEg4lLZDtBKELJ8+XLU1tamBANGntvIct5QKGRqJ2G16SkzSktLTU+bWLm8l6tuiHKD3z3vYSDiYlrtmZuamhAIBNDe3q4ZJBw4cCDjF7G2thaNjY26G93F43E88MAD2LFjh2YBazgcxsTEhKFmaunno0xPnThxAt3d3ZrnpSabHiBWbRJmJhgja3AQKmz87nkTAxGXSb+Q1tTUqLZnjkajupkKWZbR3t4Ov98/7YsoutFdPB7HunXrNDMod999N1599VXN59Er9FSmpyorK/HWW28Zzo5ku5OoFZuEGdknh6zFQaiw8bvnXQxEXMTohdRIrUKmIMDIVERVVZVqdmbRokXYuXOn7pJf0UJPs9NSVuwkms0mYdxUL3c4CBU2fve8jYGIS5i5kBqZhojFYti/f39KIefs2bOFHqscl2l1j9p0jBrR4El06ggAgsEg1q1bl/j9ZJueN7tJGDfVyw0OQsTvnrcxEHEBsxdSo0tfd+3ahd7e3sSd/cDAgNDjBgYGsGLFCgCpq3skSdLtu5HOSPAkOnXU3NycCEKsSs/rbRKWKdjhqpvc4CBE/O55GwMRFzB7ITUzhZGcYRkdHRV6jNpxRtuzG63hKC0tFTpucnISkiRheHjYkfS8WrCzZMkSocdzUz1rcRAibmjpbcxTusDw8LDQcZkupLW1tVi5cqXh1+zs7MRVV10ldKxaZsJoMamRGo5IJIKXXnpJ6Nhdu3bhueeeQ0dHh+ZxnZ2dkCRJ6Dm1zkutBXxXV5dus7hsC2ppOg5CpGSHtfC7514MRHJMkiThKRLlQipJEqLRKAYHB3HixAkcOXLE8OvGYjHMmjULPp9P8zifz4dly5Zl/DvR/WhKSkoMZSOUwd7IHez4+LjuCiIlq2SWFTsFW1FQS6k4CJHIvl387rkXp2ZyrLu7W6iDaTAYRGVlZcZpAbPi8ThWrlyJnp4e1WNWrlyJoqLM/0z+/d//Xeh11qxZIxyEWDHYa8kmPS8yFRWPx9HY2IiBgQEuI3WIFcuuyfuyWfFGucVAJIckSUJfX5/QsXV1dao1EGaFQiHU1dUBAHp7e1Nawvt8Ptx4441YsGABJEmadhGXJEk4E1NWViZ8TkbrTozKJj0vGsSUl5ejtbWVjbUcxEGIAPMr3ii3GIjk0MjIiPAOu5///Ofx8ssvW/baSqpakiQsWLAAs2bNwgcffIDR0VGcOnUKU1NTOHbsGI4dO5bxYj4yMiI8NTMxMSF8XnYWFGabnjdSi6C36oasx0GIAP0Vb+Q+DERySHTQVQogrcwUrF69GsPDw0LTPJlWnRgJGNQ6u2ZiZ0Fhtul5q1rAk304CBF5D28Vckh00K2vrzeUVdB7zZaWFgDIuPpDS/KqE6MBg+iKFZHCQ6MCgYAlS3dZEEdEZD1eMXNIZNANBAJoaGiwJFPQ2NiIxx57DDU1NaYKQmOxGH73u98hGo2ioqLCUMAgumJFZLA3Kh6Pp6w0ikajppfxKrUI6e89HA6zjTgRkQmcmskhkWr/9evXw+/3G+6imszn8+H+++/HwoULAQDRaNT0NM8bb7yBN954I7HHjNaKm3RG2ru3tLTglVdeEa5D0fPCCy+kFONmU8TIWgQiIuvwypljonfY2WQKZFlO6VJqRUFoLBZDT08PVq1ahWAwKPQYI1md2tpaNDc3mz29aZKDEOCzupdIJKKbLcn090otQl1dHaqqqhiEEBGZxIyIC4jeYastURSRHHxYWRB65MgRtLa2oq2tTTN7YaaI0+pakUw6Ojqwc+fOlN9PcrbEqr1rst2Ij4goXzEQcQnRav/koOXEiRPo7u4Wev7S0lJEo1GMj4+jtLQUoVDIsszI6dOnsW7dOs0ppkWLFhkeeLOZjhKVafm0ki1ZtWpVxqkno3vXZBvMMIghonzmk9Nz1i4Si8VQVlaGsbExR+6OvUaSJDz33HO6AcXMmTMxY8aMlOMCgYBwDxM99913H+rq6rBnzx7NmhEzxZxKu/dc8Pl806Z0koXDYbS2tmoGBXrnr/c7sSojQ0TkJCPjN2+rPMzv92PNmjW6x50/f35asKIEIembtOlt2pZJKBQS6rRqZtM5rRqaDRs22Bqg6sXoeiuBRNrVa/1OtDbYU+pbiIi8jlMzea64uFhzL5sZM2Zgw4YNmJiYSAQU27ZtE35+pfZDpDW7MnAbbTilVkMDAB9//DG6uroMPZ+VtLJR2fxORIOYmpoaTtMQkacxEPEwkcFKb0O9WCwGv9+f2HNGkiRDdRlKAy/RehOzdSnpNTRWbv6XDa3C32x+J3YGdkREbsJbKQ9QW15q1QZxyQOhkWXCgUAANTU1AIztw5IttSkLp+mtBMrmd2J3YEdE5BbMiLicVrHipUuXLHmN9IGwtrYWjY2NulMe8Xg8cUfu1D4sIlkgp+i1c8/md5JtYMeVNkTkFQxEXExtxYVSrNjY2Jj1a6gNhOXl5UKPV+7IRbrEWrEPi1VZICPSVxiJrlrJ5neSTRDDlTZE5CUMRFxK5M5/YGBAtx+I3jJdtYHQzB25WsM1KwfBXExFbNiwIVEHYzS7YPZ3YjaI0QteuR8OFSJmCN2NgYiDjHwZRIsV9aZQ1q9fDwCGB0Kzd+R278MyOjpqyfOICofDWbdwN/s7MRrEcKUN0XTMELofAxGHGP0yiN75l5eXCw1WRgdCkTvyJUuWqAZXmZajZhucRCIRx5fqWjGdBIh3zk1nJIjhShuiVMwQegMDEQeY+TIYmRqpqqrSHazMBAd6e9t0dXVh7969urvaWnFH4nSRajAYxLp161xxkRINYrjShugzzBB6BwMRQWbv6M1+GYxOjRi94xYNDpQ78u7u7ozZCLVdbZXgyqo7EieLVIPBIL797W+jqMhbXw8nl1ATuR0zhN7hrSttjmRzR2/2yyAyNWJmIznAXIZmYGDA0Gt0dnZiwYIFlt2RHD161NDra9Er4F23bp3nghAgu5U2RPmGGULvYD5KR7b7fWTzZaitrcWqVatUH9PT02N4vxEz+5+YyUbEYjEcPHhQOAjTEolE0NfXZ+j1taxfv151/xovzxmLNKOzquaFyO2YIfQO7932OciKOUYzXwZlGigWi+HQoUNZvX46Mxkas3cMoitctJ7fytqQ4uJi3HvvvaYLeHNNZHrQiSXURF7ADKF3MBDRYMUco9Evg9E9VIzOcZrJ0Nh9x1BaWopoNJpxgLWyNuTLX/5yykBsdiVLLhiZHrR7CTWRFzjVZJGyx0BEgxVzjEa+DGq1G1adJ2AuQyMSTGVy4MAB+Hy+aQWtyQKBAF566aWU95A8wFo5fzs5OYnBwUHDA3OumyGZqenxUpBFZBdmCL2BgYgGJ+cYs5mCMPL6ZtKVIsGUGq0gBEDGotHkAdaqbIzP58OuXbsSfw4Gg6irq8NNN92kGVjkuhkSlyASZYcZQvfjJ6FBGbS16M0xig4k0WjU1BSE0TlOswWNyp1F+u/D5/MJvW76ceFwGIFAQPMxHR0duHTpkiXBSHpANDk5ib6+PmzduhVtbW0Zi36zLVS2gpHpQSLKTMkQ1tXVZd0pmazHjIgGK+YYRQeSaDRq6hzNzHGqpStDoRCWLl2KS5cuIRqNZmxwln5nUVFRgYMHD6ZkGzKRZRnNzc0oLS1FKBSCJEnYtm2b5mPi8Th+9atf6QYsWvSmhoDMUxxuyURwCSIR5TsGIjqynWO0a4DIdnqgtrYWCxYswMGDBzE6OoqLFy/i3XffTWlaluk1MtUelJaWCr1maWkp6urqAEA3cEmmTN/o9f9IV1dXh8HBQeHjOzs7UVJSgnPnzuHUqVOuaIbEJYhElO9sDUQ2b96MF198EUePHkUgEMCqVavw/e9/HzU1NXa+rOWymWMUHSCqqqrw1ltvaQ5+wWAQzc3NiemYbO7ERVbniHY/NTpYSpKEw4cPGzthfJpVMRKMXHXVVYaePxaL6WZp0tmdieASRCLKd7ZOlO3duxcbN27Evn37sGfPHly8eBFNTU2YmJiw82VtYXaOUbTOpKqqSrd249Zbb8XixYuznuNUq31Qk97gLJ3IewwEAonBcmRkBJOTk+In/P+dP39eOAhRfqd2szsTwSZlRJTvbL16dXZ24qGHHsLChQtxyy234Je//CVGRkbQ399v58u6ipGBxI5OqunMrM7RK4YUeY/xeBzDw8MAnKlnWL16NaqqqnQDpGw4lYlQKxT2eidYIiLA4RqRsbExAJ9uXV9IROtMJEnCkSNHNJ8r2wJJsw3C9IKHmpoa3WmTnTt3oqSkBB999JHh1xeV/js1u+xYhFYmwureI1yCSET5yrFARJIkPPbYY/jiF7+IRYsWZTxmamoKU1NTiT87tduqE0QGEid2izSbjdCbghgZGdGdNhkfHzdcg2FEQ0MDGhsbp630yRQEZkOvUNiu3iNsUkZE+cixQGTjxo04cuQI3njjDdVjNm/ejKefftqpU3Kc3kDixFJNMzUNIlMQVu6Oa1Z1dXXGDEFyEDg8PIzDhw+bqlEBgObmZixfvlyzAZrRLqhERIXMkUDkkUcewSuvvILXX38dFRUVqsdt2rQJjz/+eOLPsVgMc+bMceIUXcGJpZpm2rXrFUNKkmRomaxR4XAYFy9e1My46AVLShBYVVWFu+++O5GZKi0tndZiXus1tIIQt/QeISLyElsDEVmW8eijj2LHjh3o6urCvHnzNI8vKSlBSUmJnafkahUVFboNuHw+n2Ywp8dIu3bR6QSzq2D0NDQ0oLq6GpWVlRgeHrZs86r0zNSaNWuEfh9WNa+zu/cIEZGX2BqIbNy4Ef/7f/9vvPzyywiFQjhz5gwAoKysLKtumfnq1KlTul1AZVnGqVOnshrItDqrLlmyJLFUV8kgZJJcjGlH8emVV16ZUu9h5+ZVenUkVjevYxdUIqLP2BqI/OQnPwEANDY2pvz8+eefx0MPPWTnS3uSkwNZpuLZiYkJ7N69OzEYd3d3ZxyERZqhZevcuXN47bXXcPfdd2ues1UrR5KfOxaLYXJyEsFg0FDzOHZBJSIyzvapGRLn9ECWPEURiUTQ3t4+7Zj0Iku1Ykw79PT0AEBKMGLnypFsn5tdUImIjGPFnItYsduvGaJFlpcuXTLcDC1bvb29uHTpkqOvaYQkSYhGoxgcHMTIyAiampo0j8+2C2ry60WjUc2Ot0REXsBN71zEit1+zRAtsjx48GBW0zHphbgzZ87E+fPnNR8jyzIOHjyIFStWmH5du6j1C1m1ahWOHDlieS2LXf1JiIhyiYGIy9hZlKlGtOZkdHQ0q9cpKSnBihUrUF5ejlAohKGhIRw8eND217WDVr+Qnp4ebNiwAaWlpZbVsrA/CRHlKwYiLuR0O2/RmpNsW/OfP38eXV1daGlpQVVVVWIVlZnXtbqFuhEiU1m7d+9Ga2urJefE/iRElM8YiLiUk+28RYssly1bht7e3qxXyyiD5rJly7B7927dvinLli1L+Vmupyic7hfC/iRElM94+0TCOwQXFRXpHidCGTSLioqwcuVKzWNXrlyJoqLP4mVliiJ9YFamKLLdnViEncusMxWjsj8JEeUzZkQIgHhtinLcK6+8klU3VWXQVJbm9vb2pmRGfD4fVq5cmbJ01y1TFHYts1bL9CxZssSW1yMicgMGIpQgWptSW1uLBQsW4NlnnzUdjCQPmnfffTfuuOMOHDx4EKOjoygvL8eyZctSMiGAe6Yo7OgXolWM2tXVhUAgkNVeO0REbsVAhFKI1qYUFRVh3bp1ppqbZRo0i4qKdJfoumWKwupl1iKZHj12LOsmInICr1xkmjJNk96ETW8fIbODpptaqKu993A4bHgprUimJx6Po7Gx0ZLXIyJyE2ZEKCtq0znDw8OWr2xxWwt1q5ZZi2ZwysvL0dramrNly0REdmAgQtMY7dGRaTrHjl4oueo8q3dO2dajGMn0OLmsm4jICQxEKIWVPTrsGDRz0XnWbtlkenLZ2I2IyAo+2cVb5MZiMZSVlWFsbEx3MzjKnt7Oum6qRci3AdjM7z7Xjd2IiNQYGb+9e+UmS4n26HBqt1e9XWaVbEtdXR2qqqo8HYQAxotf3dDYjYjICpyaIQDu6dEhSRK6u7vR19eX0jejEO70Retq3NLYjYjICgxECIA7enREIhF0dHRkbNxVKLvMitTVuCVoJEqXb1Om5AwGIgQg9z069GokFLzTd0fQSJSONUtkVuFezSmFsnJDi109Oox0FlXu9AtZroNGvfodKjysWaJsMCNCAHLbo0NkqiFZod/p57KxG+96KR1rlihb/FdBCVa2LTfCaGBR6LvMKkGjFjuCRt71UiZGapbIXdyS3WRGhFLY0RFVj5HAgrvMfsrpxm686yU1rFnyJjdlNwsyEGFltzan24iLTDUouMvsZ5wMGkXvevfv34/S0lLPfa94TTAv1zVLZJza4oBcrU4suEDETVEgfUqkPiUQCGD9+vX8jNI4FTSK3s3u2rUr8f9e+V7xmpAdt21GSdrcmN0sqJCfc9zupVafEggE0NjYiL/6q7/ioJBDZu5mvfC94jUhe7mqWSJz3FjTUzAZETdGgZRKb6qB6fPcMTJ9ls6t3yteE6yTj5tR5is31vQUTCDCbpS5JxJIqE01MH2eWyLTZ2rc+r3iNcFauSh0J+PcWNNTMIGIG6PAQpJNIOG2wqpCpXbXK8Kq75WVWTFeE6zndKE7GefGmp6CCUTcGAUWimwCCabP3SX9rndiYiKlQFWNFd8rq7NivCZQIcpl80rVc3LslXIsly3MC5kkSejo6NA8prOzU7WRjhsLq7LlliZCZil3vXV1dVi+fLkj3ys7ikrNXBO8/tkRAblrXqmmYDIibowCC0F3d3fG3XSTJc/Dp6feRacAvJI+z7daFye+V3ZlxYyee759dlTY3FTT45NlWXb8VQXFYjGUlZVhbGxM985FFC8mzpEkCc8884xuIAIA9913H4qKiqZ9NsFgEJOTk7qPf/DBB10/N623w7CXa13s/F5Fo1Fs3bpV9ziz/wZEzj2fPzsiOxgZvwsmI6JwUxSYDS8sZR0ZGREKQgBgdHQUXV1d034uEoSYTf07+TvM91oXO79XdheViiwbz+fPjijXCi4QAbxf2e2FrI4kSThx4oTQsYFAAP39/aZfy0zq3+nfYSEsFbXre+VEUanWuRfCZ0eUSwzfPcYLnSAjkQja2trQ3d0tdHxNTY3Q3WwwGEz5s9nCqmx/h2YKFrlU1LxcF5rzsyOyV0FmRLzKCylivbn0dIFAAPPmzcOhQ4d0j21ubkY4HM4q9Z/t79BsJoVLRc3LdaE5PzsiezEj4iFmlrI6udxQZJBPt379euFC5MnJSVRWVqKurg5VVVWmBp5slgNnk0nJ9V291+VyuSE/OyJ7MSPiIUZTxJnu3kOhEJYuXYry8nLLCzRFBnlFchZBkiShfUx27dqF3t7erOo4zKbZjWZSMhXCcvl4dnJVaJ7rjAxRvmMg4iFGUsRqUyTj4+Mpq1OsLNAUHeQbGhrQ2NiYuHAb2cck27buZtPsRjIp8XhcdfqGG4NlJ1eF5tzUjcg+DEQ8RHSPgIqKCmzZskXoOc0M7GrLXkUH+erq6ml3j0b3MTFbC2N2nwXRIOvo0aPo6+ub9vPk33Nra6vrl17TdPmy9J/IbRiIeIhoivjUqVOGNyUTHdi1ijUXLFig24DM5/NhYmIi498pF/r9+/fr7l9idrmk2TS7aJA1ODio+ffK75nLPL3J60v/idyIobzHiBTtmVlGKLJfi16x5o9+9CPdBmSyLKO9vR27du3KWDzr9/tRWloqdM7ZNLAyWvgoUrAo0gXWyL443NeEiAoBMyIepJciNruMUGtgFynWFO2iCgD79u3Dvn37Ms6xO7Fc0miaXSSTsnjxYuzbt0/3tUUCKC80rSMisgIzIh6VvANq+lJWkbv3TLQGdiMrYozItPTVqeWSWr/DTPQyKTU1NUKvqxdAeaFpHRGRVZgRyUNGVqEo9Ab24eFhK05NVWdnJxYsWIBTp05hfHwcS5Ysybj3jCJXyyW1Mikiy5D1fs9eaFpHRGQlBiJ5yugqFK2BPRKJCE05ZCMWi+FHP/pRyvROIBAAkDrl44bpCbWCRSv6TXBfEyIqNAxE8lj63fvo6Cj6+/tTahT0BnYz3VLNSq8xUf7c2NhoSwM2O2Tbb0K0APfEiROu/10QEYlgIJLn0u/eGxoaDPVBsKs2xIiBgQG0trZ6ZtDNpt+EaAFud3c33nrrrZxnh4iIslXwgYhac658ZbQPght2FPXiVITZfhMiDdcU2XaZJSJyg4IORLhE8jPZdkvVM2PGDFy8eNH0490QEBlhNsA1U2hsdfFqoQXnRJRbBRuIqO3FUkh3mcqAMzw8jMOHD6c041ICspqaGuE7dC1/8id/gqmpKXR0dBjqN6IQbXLmBtkGuEYLja3MGDE4JxLDgN06BRmIcIlk5gEnmRKQNTY24uabb8561czExATq6upw9uxZ7N27N6vncjOrAlylzqSrqwvd3d26x1uRMWJwTiSGAbu18nOU1WFkiWQ+UmuYlUlXV5clS3eVHYHNBiHvvPNO1udgN9EAV7RVu9/vR3V1tdCx2U6hWX3uRPmKDQetV5CBiOjdo9fqEkQ4uRxXoewInM3r9vX15eQLbmS/FzsCXKe6zBZ6cE4kggG7PQpyasaJvUzcKhfLcT/3uc+hvb0969d1errMaPrVjgDXiiZpVp5TPgbnRKLYcNAeBZkRceou041yMZC8//77lrSId/KO3Ez61a4A18xuwUYVcnBOJIoBuz0KMiPi1F2mG3l9IDGSVTFb1W62mFmkB4jZADebJmki7Dx3onzBgN0eto+0P/7xj1FVVYWZM2eivr4e+/fvt/slhThxl+lGZnfmdYtz584J1WxEIhG0tbVh69atePHFF7F161a0tbUJ1ZmYrZdQAlwt2QS4RncLNvrcdp47UT4o5Gy6nXyyLMt2Pfk///M/42tf+xp++tOfor6+Hs899xx+/etfY3h4GLNmzdJ9fCwWQ1lZGcbGxmwbPAtxLbjaMk0vmDlzJs6fP5/4c6aaDb33pxdoDg4O4sUXX9Q9l/vuuw91dXXTfu7lpX1ePnciJ2R7fSkURsZvWwOR+vp63HbbbfiHf/gHAJ8O+nPmzMGjjz6KJ598UvfxTgQihSgSiWRsLFZcXIwvfOELCAQC6Orqys3JmaR8+SVJQltbm+4Ug9beNdFoFFu3btV9zQcffFC1IM3LAa6Xz534+TmBAbs+I+O3bTUiFy5cQH9/PzZt2pT4md/vx1133YXe3t6Mj5mamsLU1FTiz7nebC0fDQ0Nob29PePfXbhwAXPnzkVtbS1mzZplugtqLig1G1ZUtVtRL2F2rxk38PK5FzoOkM6wu2ar0Nj2W/v4449x+fJlXHfddSk/v+6663DmzJmMj9m8eTPKysoS/82ZM8eu0ytIQ0NDeOGFFzSPUdbA19bWYsOGDQ6dWfaU4MKKqnbWS5AXsdGWs+ys2So0rvrNbdq0CWNjY4n/Tp48metTyhuRSATt7e3Qm4lLLsKsqqpyxZRYcXGx0HHKnYkIveMKtZjZDkaawpE5bLRFXmbb1Mw111yDK664AmfPnk35+dmzZ3H99ddnfExJSQlKSkrsOqWCZbSb6okTJxKDelNTk+pUjpUWLlw4LaMRCARQX1+POXPmYNu2bbrPoaRHRTbpm5iY0H0+pl+zx6kCZ7DRFnmZbYFIcXExli5ditdeew333nsvgE8HxNdeew2PPPKIXS9LGRjtppq8yVogEFANEqysHxkaGkIoFEJjYyPKy8tTBn1JkoRrNvx+v1DwtHv3btTW1uoGFayXMI+b6DmHjbbIy2y9tXv88cfxi1/8Alu3bkUkEsE3v/lNTExM4M///M/tfFlKk83FJx6PY2hoyJEL2Pj4OLq6uhLBwdDQEKLRKAAYqtkoLS3VfS3um2IvThU4i422yMts7az61a9+FR999BH+5m/+BmfOnMGtt96Kzs7OaQWsZC87Lj52rqZJz2YoqfyWlhahND/vDnOPUwXOYmdc8jLbW7w/8sgjnIrJMdG6CbdKTuU/+uijOHjwIEZHR1FeXo5ly5ahqCj1nzHvDnOPwaCz3LJtRaH0MCmU9+mUgtxrJl+IfhlELlJe8Jvf/AY+ny8lG9Pb2zstIyJSiMq7Q3u5ORjM10FEWemVq+LgQilMLpT36SRbO6tmi51V1Zn5MuzZswe9vb0pS3h9Ph9uvvlmDA0N2X7OdjLSWRUANmzYgIULF5p6rXwdyKxkRYdbOxTCIJKLf5+F0va8UN6nFVzRWZXsY2Y1QiQSQU9Pz7THyLKMoaEhy1fBOM1IZ1VArKA1k0IYyKwgkoWrra3FyMiIY4FcoaziEV3pZVXAYna3aq8plPeZCwxEPMbMl8FoHxEzamtrcfz4cVy8eNHW11FjZWdVNYUykBmhNZipTRX4fD7Isoy+vj709fU5EshxEEllZUBdKIXJhfI+c4GBiMeY+TKIPCYej6OxsRF9fX2mMiNuaB9tZWfVdBzIphMZzJKbwg0PD2Pfvn3Tuvs6EchxEPmM1QF1oRQmF8r7zIXCuGLmETNfBtHHXL58GY8//jgaGxsRCASEz8nn8wkfa6fkzqpazBSqGhnICoGRfU38fj8qKyvx9ttvaz6nnX1FOIh8yo7+Lm4uTLZSobzPXGAg4jFmvgyij+nu7saWLVswa9Ys/NVf/RUefPBB3HfffWhsbNR8nBvqnYPBYGJawI4N6ziQfcbMYJbrQG50dFTouHwfROz4HOwK/t2mUN5nLjAQ8RgzXwaRxyiUO9ru7m5UVlairq4Ot99+O1paWjJmSUQ3pDMrEAgIDQ5r166dVptg5YZ1vBv6jJnBLJeBnCRJ6O/v1z2uEAYROz6HQtmtulDeZy6wRsRjzDQuMtNHpKurC/39/VizZk1i4M5UO3LhwgUDZ2+cUrvS1dWlesyqVaumLcW1esM6dq78jJnBLJeBnGgR85IlS/J+ELHrc8h1DxOnFMr7dBoDEQ9SvgwdHR3TggO12g61L5CW8fFxbN++HRs2bMDu3buzPm+zysvLM557MBjE2rVrVfuBWLlhnVs6V7qBmcEsl4GcaOBUXl5u+Wu7jZ2fQ6HsVl0o79NJDEQ8LFOGIh6Pq1a+19bWYsGCBfjNb36DwcFB4dd59dVXMTk5mfX5mhUKhVBVVZXzL3+h3Q2pLc01M5jlMpDjtNpn7P4cCmW36kJ5n05hIOJBZpeSZlpuKSKXQUggEEgMaG748hfK3ZDe0lwzg1muAjlOq6UqtICa3I8t3j0oGo1i69atusc9+OCDiYFbrzWxmxVSozA3tI8XbWNttikWW5C7gxv+rVH+Yov3PGe0WNCJzqp2KpRGYW5oH28k22Y2O5SLzBazANO5IcMoikFTfmMg4kFG57xF919xq0LoeOmW9vFGO5B6aTArlGm1fOOGAJ3sxW+gBxntJZIPTbby4T2oMdMgTJIkRKNRDA4OIhqNCnXCFHlMvjduUwKnurq6RCBF7mWkgy95FzMiHmS08j0fVgMkv4d8S9MazUKYuUMUfQxXmJBbOLG/U75dS7yKgYhHGZnzFlk14GbJ2R2vpGmNXOCMZCHMTOEYeQxXmJBb2L1RoVeuJYWAgYiHic55m+ms6iZKW+W9e/dm7LAqUkfh5J2P0QucaHahtLQUL7/8suYx6XeIRu8q2biN3MLOaUK31GTRpxiIeJxosaCZzqq5pgzeAPDcc8/pXnDU0rRO3vmYucCJZiGU59GSfodo5q7SrStMmEYvLHZNEzox5UPGMBApIOkZlNLSUgDAO++8g8HBwZw2Lkt222234eabb0ZlZSWGh4eFMzmZ0rRO3vmYvcCJZiEmJiaEziM5YBO9Wzxx4kTKAO+2FSZMoxceu6YJ7Z7yIeMYiBSYTBmU6upqNDU1YWRkBJFIBPv378/6dZR9YMbHx7Fr1y5Dj7355ptRVVVlqv9J8sDr9J1PNhc4kSxENBoVOo/kO0TRu8Xu7u6Mr+mGCzHT6IXJrmnCfF8Z5kUMRAgAEnuI7Nixw7Ln8/v9iayLqGAwiIqKCgDm+p8kD7xO3/lke4HTy0KYuUM0U6jspgFekiR0dHRoHsM0ev6yY5qQK8Pch4EIJVjZ+OzcuXPYvn07GhsbDT1ucnISW7ZswerVq3Hp0iVDj00fhJ2+87HiAqdV8yNyh9jU1GR42keNGwb47u7ujJs7JmMaPb9ZPU3IlWHuw1sISrAjFdnf32/4zkK5Ix8dHTX0uPQ0rdN3PkYbzZmh3CGqvc7u3bunNXnSe4waZYC3gtkGbH19fULPzzR6frOyEZ0SnGvhyjBnMSNCCXakIsfHx9HY2Jhx2a2egYEBhEIh3UEmFAphzZo1plejWHXn49TS19raWkiShPb29ml/pzatkn5X+dFHH6XUhaixYoA3W2g6MjKimw1RMI1ORrh1ZVihYiBCCZWVlQgGg5avnikvL8eCBQtw7NgxQ4+LxWK6Qcytt96KefPmIRAIQJIkU6tRrLzzceICJ0kSdu/erXmM2uocZfoiGo0KBSLZDvDZFJqKBkGBQCAnaXQuJ/Y2t60MK2QMRPKUmYuk3+9HXV2dcDpc1OjoqOEgRFFeXp5xYA8EAgCAQ4cO4dChQwAyD/ZWBAZGf5d2X+CsKMJ1IluU7aol0SCovr7e8cGDy4nzg5c2bcxnDETyUDYXSWWAt0ooFEJ/f39Wj6+qqkoZ2EdHRw11WM0mMDD7u7TzAmdFEa4T2aJsAyaRYCkQCKChocH0OZrB5cRE1mIOKs9ks1tlJBIxVcuhZenSpabrDIqLiyFJUmLKpaqqCgsXLsTAwIDm4zo6OnDixImUgkgzxW5u3fnTqiJctSLWcDhsyWCabcAkUlS4fv16R7MhZnZKJiJtzIjkEaOp8OQph9LSUuzcudOyc1GyBkaX4Ca7cOECtm3blpKBELnLjsfj0x5nlJvbQFs5rWLnNJIVAZPbigrZlZPIegxE8oiRi2Q8Hrd835lbbrkF8+fPTxnMRLuBaklOeRsJbLJJlbt5wLF6WsWuaSSrAiY3FRWyKyeR9Tg1k0dEL35qUw7Zmj9//rSpD5HeGqI6OzsNd2pVHmc0Ve72AcfuaRUrGOnXoNdnxMo+EtlgV04i6zEj4gJWLQMUvfgdOHDA8HObff1sOnumi8VieP/99009zmjmwgsDjpsyBWpEpla8tAKFXTmJrMdAJMesvAiL7isiy7Kpc9WSfvFND642bNiA3bt3Z52Fef311009zujrivwuQ6EQJEnC4OBgzoIALyw/1AqYvLYCJRe9aYjynU+2Y1SySCwWQ1lZGcbGxixL77uJ2kVYkXwRFs2a6D2nXRobG9HQ0JAYXDIFV01NTTh+/Hii74eTgsEg1q1bZ2hQ0/tdBgKBlM6fbr2LdytJktDW1qabXWhtbXXdwO6lLA5RLhgZvxmI5IiRi/Dw8LChi16mi6QdHVMzne+iRYvQ09OjekxRUVFWK2myZfQOO9PvMj0AyfY1ClU0GsXWrVt1j3vwwQczZn1y3dk0169P5GZGxm9OzeSI6KqM7u5uQ827gNRUeCwWw+TkJP7t3/4NBw8eFDo3vYFW63y1ghAAOQ1CAONLbtOnFUpLS/HSSy9Z+hr5Tm3AzqYg2A0ZCS9MixF5AQORHBG9COu1W1cb9Px+P+LxOF577TXD9RHV1dUYGhoy9BivSC5cFb2jTd+jRe+zYx+Jz2gFDGYLgr1WV0JE2hiI5IjoRVgvM6E26GVTKzI0NGQ6K5JLxcXFuHDhgu5x4+PjmnUspaWlqsGJ25f1uolewLBhwwbDK1Dc3GiOiMxhIJIjovtoiAQD6YOeyMU6H9144414++23dY/T2qumvb095Wfp6X4vLOt1A5F/g7t370ZTU9O033my9BUobm40R0Tm8JYhR0SaPdXX1ws9V/qgJ3Kx1hOPx9HY2OiZIuGVK1diZGRE97grr7zS0CZ86fvKiDRoYx8J8YChtLTUUGM2ZqSI8g8zIjmk1+yppqYGAwMDhpsnWXURLi8vR2trK6LRKNrb210xVZO++icYDGLt2rX4+OOPce7cOd3Hz58/H2+99Zbh101O97OPhD4jAUNdXZ1wY7ZsM1Jc6ULkPgxEckyvO6aZQc+qaYFQKAS/34/q6mqsX7/eUM2Jz+dLaZwWDocxZ86crItgm5ubEQ6HU35Xw8PDwrsGFxcXm3rd5HS/2zZicyOjAYPoCpRsOpu6YaUNEU3HQMQFtC7CZgY90Q6rWtIv5sp5vPLKK0L9SGRZRnNzM0pLSxMBw9DQUNaBSDgcTvldGa2HKS8vN/3ayXf5ZturF8oduV2t0I1kpJJ/11p1QVxpQ5RbDEQ8wOigJ3Kx1lthsmjRomkX81AohKamJt0+GorS0lLU1dUl/pxtpkYZuJLPaWJiQjjgCoVCWLZsGXp7e00Faennb7SPRCHdkds5hWV2/xotXGlDlDsMRDzC6KAnUn/y4osvqmYoenp68NFHH+GDDz6YVpMhKn3gzjZTs3r16oxdZkVVV1eb3oQv2wLUQux9YecUlpn9a7TEYjHs378fy5cvZzBC5DC2ePco0RS/2nEiLeazEQqF8Nhjj007J71BYtWqVThy5EjGgQtA1vvoBAIB1NfX45prrjG0CV82gYKX91SxgpPTUdn+u87XDBWR09jiPc+p7X9SX1+f2HhOoZZJsWKJr5Y1a9ZkHGxE7pLvvPPOaQMXADzzzDNZn1c8HkdXVxdKSkqwbt06XHnllYnXmZiYmBacKE3OAoEADh8+jMnJSQSDwUSGRGRALfTeF062Qs/233Vys7WFCxdaeGZEpIaBiMeoZRSUAbavrw/r16/XvaOzYolvpg3sZs6ciRUrVuDSpUuIRqMZB2u9mpdMA9fevXstXT48NTWFF154AatWrcLdd9+dcm7J55UpOFEoS4f1Biz2vnCOVb/DF154AQAYjBA5gIGIh4isEInH40I1B1Ys8Z0xYwa++tWvJhqJ+f1+DAwMpKxOUEt1G7lLliRJd88ds3p6ejB79uzEgJN8XpFIRLPr5+TkJNrb23H69OmUYCad0aWshbKyxg5WLV2XZRnt7e3w+/2cpiGyGQMRDzGSdtZbBWDFEt94PI6ioiL84R/+oa3FmCMjI7Y2U3v11VcT55a8y+7OnTuFHp8ezKQzspS1kFbW2MGKf9fJuJqGyH78dnmIkbSzUnOgRqTFvOg5iW5EJknStJ9LkoRoNIrBwUFEo9GMx9g9ZTE5OYnu7m60tbVh69atePHFF7Ft2zZDr/vqq69mPHdA7HetrAjavn37tEE0vc08qRP5Xd96663Cz6f3PSKi7DEj4iFG0856A6la4ajRczJbjCl6928m3W5092DRzqxqJicnNYtNRZZTt7W1ab4G787FiPyuT5w4IfxvnrU7RPZiIOIhRtPOIgN4bW0tFixYgIMHD+Lw4cP48MMPhc9HmU4Q7ZaafEE3MpVjJt1eX1+fdXBhlEjgp1akG41GC3pljdWy3TohWaHvpExkNwYiHmKkGZdoAy6jHSiTKZ0xR0dHhY5PLsbUm8rp6OhASUkJqqqqDDchC4fDaGhowIULF9DT0yP0GCuIDFhqRbpcWWM9va0TNmzYgBdeeAFarZS4kzKR/WzJ8UajUXz961/HvHnzEAgEMH/+fDz11FOaLcVJjJJ2DgQCmseJtM9WshJGg5BgMJjIWFy6dEloRUvyBV1kKicej2Pbtm1oa2tDJBIRft/AZ0suBwcHBd6NNbIdsLLdVdZuIrU8XrNw4ULcf//9msdwJ2Ui+9mSETl69CgkScLPfvYz3HjjjThy5AgefvhhTExMWNKUqtApaefu7m709fWl1EKIrrAwulmcIhgM4tvf/jaKiooQiUTwyiuvCNViLFmyJHFBN1p0mzxVo7zvN954Y1oPE4Wyl4yT2QNlbx6z7Nokzgr5vJJn4cKF8Pv9efv+iLzAsRbvP/zhD/GTn/wEJ06cEH4MW7zr0+o5ofV30WgUW7duNfx6SkBgdD+P++67L7EBnpnXTm6BLkkSnnvuOcsCDb0NAEVlu1+M3u80F/vRuPGc7MDeLUTWcmWL97GxMd0t2KempjA1NZX4s50tyPOF2jy43l2smUF8xowZKCkpwaVLlwxnU5KnFMwUnyYXaioDhlWsmjLs6OjIalWLnZvEmSG6LDsfVvI42YaeiFI5EogcP34cW7Zs0Z2W2bx5M55++mknTimviaxIMVNrcPHiRWzbtg3BYDBlR149yVMKyp3nzTffjH379hl6fSX4cGvBZjweR3d3N26//XbTz6G32sNJhb5HDhE5w9DV7cknn4TP59P87+jRoymP+eCDD7B69Wp85StfwcMPP6z5/Js2bcLY2Fjiv5MnTxp/RwVO9C62oqLC9HSXkSAE+KzgLxKJJJqGKUGIz+cTfh4leLKzYDMYDOKP//iP0dDQYOrxfX19WRdyKnfndXV1iVVDauwsIuVKHiJygqGMyHe+8x089NBDmsdUV1cn/v/06dO44447sGrVKvz85z/Xff6SkhKUlJQYOSVKI3oXe+rUKTQ1NWnupZItZVO4QCCAzs7OjKtrlBIlvTqN5KxKZWWlcFamsbFxWkGvlsnJSYTDYYTDYXR3dws9Jlk8HncsQ2B3EanbV/IQUX4wFIhce+21uPbaa4WO/eCDD3DHHXdg6dKleP755z0/h+wVRu5i7R5AFi9erLpzbborrrhC8++Tl1H6/X6sXbtWN4hS+ok0NDQgGo1i//79GB4e1j2X4eFh3HnnnfD5fJo9JtSIfgbZFEjaubePws0reYgof9hSI/LBBx+gsbERc+fOxTPPPIOPPvoo8XfXX3+9HS9J/5+Ru1i7U+pGakDi8TgaGxsxMDCge4cvSRJKS0uxYMECHDt2TPU5k4OX6upq+P1+oUDk8OHDuPHGG00FIQCEGrxlk81wqohUpJEc+2wQUbZsCUT27NmD48eP4/jx46ioqEj5O4dWCxcsI3exbtvMq7y8HK2trZpZApFOsGoDemVlJUpKSlJWZmUyOTlpaGlyuv7+fjQ0NKgO0NlmM5wsInXbSh4iyj+2BCIPPfSQbi0J2cPIXazVW6ZnKxQKaS6j1OtpsWLFCtTU1GhOcYgWc2azpHd8fFw1CLAim+F0EambVvIQUf7hlSQPKXex6atiwuFwyt22yJbpTgkEApq1BiID+Ntvv51xgFRWlrS3t+PixYuWnK8etSDASDZDTS6KSI2s5CEiMoKb3uWp9LvY0tJSAMDExASi0WhiwNZLvQPAzp07ba8nqa+v1xzczE5HZLOpXzaSg4DkotTkeiktWr9vFpESUT5hIJLHlLvYSCSCl19+WXWOXy/1ruzv0tXVZct5BgIB3b4dZqYjjLaht0pxcXEiCDAbCGllM1hESkT5hFeqPKe2w65SGBmJRABop979fj9uv/12tLS02NLnZf369bqDptHpCLOb+lnhwoULGB4eNr27sUg2Q3T6jYjI7ZgRyWNWL/Osra3FxYsXsWPHDkvOz+fz4f777xcaNCsqKnSbmCUP4CJTOXZ65ZVXTHc5Fc1msIiUiPIBA5E8oNYYy8plnsprfPzxx5ad9/3334+FCxfqHqdMb+h1UlUGcEmSDO3ybAejbfAB9Z4pyZ9tRUUFTp06lfJZG1miy11michtGIh4nFZjrEuXLgk9h179RSQSsaVgVWQAFKnzSB7Ac1WcalZDQwOuvfZa4Z4p6d1ejfTzsLslPBGRGbwV8jC9+g/R7IWyokbrNexYNdPZ2ak5fSEytRQMBvHoo48mghAzNRm5VF1dnbEuR+29pDcETK/1USNaK0RE5DQGIh4lMkgfOHAg69fo6OjI6jm06PXLEJlampycxKlTp3JanGqWWlGqmfeiFdSJ1gpZuXMvEZEoBiIeJTJIi+44OzExkfHn0WhU+DnM0sq0GFmym+viVDOampowMjKCwcFBRKPRRCBg5r1oBXVWNFEjIrILa0Q8ysqpErWlsQcPHrTsNYy+tt7fpR8n+vuoqakR2vjOTuFwGIsWLZq2M7FSr2G2+6va78DplvBEREYwEPEo0UHayJLXZJIk4d133zV9fiL0+mWIdhCtqKgQDpqqqqpyFogEAgFs2LAB8Xgc7e3t0/5eqdcoKjL3tVT7N5GLlvBERKI4NeNRlZWVCAQCmscEAgGsXbtW85hFixZlXL0yMjKS1cZvIvT6ZYjshbNo0SJs2bIFu3bt0n29cDiMZcuWTWsC5pT169ejqqoKu3fv1jxOdLVTMq2gTgnozD7eS5R9hdKnu4jIvZgRyXO1tbVYtWoVenp6Mv59T08PZs+ePa2fh51peiNLRrX2wlm0aJHq+8pk9erVKCoq0m2PbrXk9xuNRm2pZdEK6gqlJTyXJxN5EwMRjxoZGdEtJI3H44hGozhy5IjmcS+88AIApAQjo6Oj2Z9kkubmZpSWlppqopWpg2hFRQW2bNki9PhgMIi6ujoEAgFIkoTa2lrU19ejr6/P7NsR0tDQgOrq6pT3m22AZ7aPiN7mhl4fqNX6zSjTXWx7T+ReDEQ8SnRAe++993TvwGVZRnt7e2I3XkmS0N/fb8VpAvh0sFu+fHlWd9zKXjiKEydOCGUWSkpKMDk5ib6+PvT19SUG3ptuusnWQCQcDqOxsXHae862DuOee+5BWVmZqc6o+doS3uqtDIjIWQxEPEp0QOvt7RV+TuVirQxUVrE67R+JRIT7m0xNTaX8WblD3rBhg24hbDaS33NyW3UlK2T291tWVmaopXu69IAuH1i5lQEROY+BiEeJrCgBgMuXLws/p3KxdvMyTpGW7yJ2796NpqamjKtXFMXFxboFu8reNor0qY5MdQt6RcZq8qWg1GpcnkzkbcxTepTIihIzlJS9ldS6duqtcEj/+0uXLlnWPTUWi6G0tBQtLS2qK0pEVg0p5xwIBNDY2IjW1taUICRTW3WltsdoQJIPBaV24PJkIm9jRsTD1AoQszE6OoqFCxdaOm2RKS2ut8Ih09/r9UQxanx8HAsXLsSZM2fw+uuvZ/Vc8XgcXV1dmDVrVqLORi9oKioqwp/92Z/hnXfe0axXCQQCWL9+PYstVYj2m2E2icidGIh4XHIB4okTJ9Dd3Z3V8ymDqdVLXE+cOJEojNRb4aC23NjKIAT4NOh67rnnLE3ZJ9fZ6AVy4+PjiczW3LlzM07h1NfXo6GhgZkQDYWyPJkoX/nk9O08XSQWi6GsrAxjY2M5a0LlJYODg3jxxRezfp5wOIzW1lYMDw9nzFpcvHjR1B404XAYTU1N01qbp0tfomqHQCBg2z46Dz74IGKxGHbs2KF77H333Ye6ujoAqUWt+bKixUnsI0LkHkbGb2ZE8ohVc+DKVIracs/h4WFT2ZJYLKZZHKpwcWws5OjRoxgcHBQ6Nvkzy8cVLU7K1+XJRPmOgUgeEV1JI0KZrsg0ONbU1NiaUbBTOBzGkiVL0NXVZdtriPYnYd2C9RjMEXkPbxXyiMhKmuLiYqHn0squiHR1dZOioiIsW7YMzc3NePTRR1FeXm7ba/l8PuFjWbdARMSMSN5RW0kTCARQXV2N999/X3dZaiAQ0LxTt7sfg9U1IpcuXUrsztvb24slS5ZY9tzpRM47GAxi3bp1rFsgIgIDkbyUaa58YmJCqD4D+HQp6vDwsOpAaXc/hpUrV2puZpfNtFAsFkNXV5fQc4RCITQ3N+Ps2bNZr0ZK1tzczCCEiOj/Y144Tylz5XV1daisrNTdej6dWhMy4NNaFLuCkZtvvhnz589HfX09gsFgyt+Fw2G0tLRg/fr1ms+xfPnyaY816vbbb8e9994LSZKyfq50XAFGRPQZZkQKgEhPi3Rae3P4/X5UVlZiaGjIojP8zNtvv42333478efi4mLMnz8fy5YtQ1VVVaKmQmsn2UAggP3792u+TjweR2NjIwYGBqY9x6JFi/Dmm29i7969iZ9bNV3EAlUiolQMRAqA2ZoOtcddunQJx44dy+aUhF24cAGRSATvvfceVqxYgfLycoRCIdTU1Kgu1RRdOnv+/Hm0trYKTWFZVbPCAlUiolQMRAqA2WmUTI8bGhpCR0eH0D4sVjp//nzKklutRlWi7/fw4cO4++67E1kfSZLQ1tam+RizmRG2aSciyoy3ZgVA6S9iRKYphD179qC9vR1TU1NWnp4pSjv4SCQy7e8qKyuFlilPTk5iZGQk8WeRKSxZlnHbbbcZPl8vLXcmInISA5ECYGan3vQphKGhIc2VLLmiVVQrInn6aXh4WOgxFRUVpgpOsz1XIqJ8xECkQCj9RdIH0PQGXMFgECtWrEAgEEgMmpIk4dVXX3XsXI1QimqTjYyMCE8dKdM4kiTh8OHDQo+58sorDQd2QOZzJSIqdKwRKSCZ+otUVFTg1KlTif1RJicnsW/fPuzbty9lFYrVO99aKX06RbQ4N7lx28jIiPB73LFjB5YtW4YVK1bg8OHDhn43djeDIyLyGgYiBSbTXhzxeDzj/ihKHUZ9fb1DZ2dOeiAgWqxaX1+fmH4ysrz53LlzKYWzxcXFhjMwRET0KU7NFDhJktDZ2al5jF5PjlxLbzgmUpwbCATQ0NAA4NPt43ft2mX69UWDkGAwyB4iRERpGIgUONGVIm6WHnSIFOeuX78efr8fkUgE27dvd2Tqae3atewhQkSUhlfFAuf1mgW1TqVqxblKm/ja2lqhbJBVVq1ahYULFzryWkREXsIakQLn9ZoFJfMRjUandVjNVJyr/B1grvW9nvTN9ILBINauXcsghIhIBQORAqfUU1g9IOsJBoNobm5GOBzG7Nmz0dbWZmh6xOfz4f777wcAtLW1pZx/IBBAVVUVrrnmGlRVVaXsUZPMjmzQhg0b4Pf7MwY+REQ0HQORAuf3+9HU1JRxfxU7TU5OIhwOJ1bwrFu3Dtu3bxd+vCzL+Pjjj1NWryji8Xii42p3d7dqe3Wrs0HK+2HgQUQkjldMj5AkCdFoFIODg4hGo5Z26CwtLTX1uEAggCuvvNL06yZnJNRqOrTs27dP6Lh4PJ6xHXxlZeW0FTfZ4IZ2RETGMSPiAZFIRHXLeys2UTM7RbF+/XrU1NSgu7s7Y2ZCT3pGQqnp6OzsxIEDB3Qff/78eUOv19nZiZqamkSw4Pf7sXbtWt1sUDgcxj333IOJiQmMjo6iv78/5Xdm5WdBRFRoGIi4nLK8NJ3SbExZAZINo1MU6QPv7bffDgCGghG11S5+vx8VFRVCgYhRSov15IZuCxcuxOnTpzX30Vm9ejWqq6sTf25oaFAtgCUiImMYiLiYyPLS9Lt8M0QKVpOLSzMNvA0NDdMyBVq0pjHMbCgnKtP53X333Zg9ezZeffXVlIJZtUxHpu60RERkDgMRFxNZXprpLt8opQGYVrHounXrNDMvfr8fa9as0S04FZnGEAmMwuEwZFk2PK2klv1ZuHAhamtrmekgInIYAxEXEx1krViGqhSLZlOLovYcwWAQixcvRk1NjdDgLhIYKf1DjKy0UZsOSn5dZjqIiJzFQMTFRGs3rFqGqtcAzKnnUJ5HJDDKdIwarmohInIfBiIuJjpFYeVGalZkBazKLIgENcnHHD16FG+++ea0TejU+ogQEVHu+WQX72gWi8VQVlaGsbExWwsY3Uxt1YzCilUz+UTptxKNRgFAs7MqERHZw8j4zUDEA+zuI0JERGQlI+M3p2Y8wKq6CyIiIrdhIOIRXNFBRET5iLfURERElDMMRIiIiChnGIgQERFRztgeiExNTeHWW2+Fz+fDoUOH7H45IiIi8hDbA5H/+l//K2bPnm33yxAREZEH2RqI7Ny5E7t378Yzzzxj58sQERGRR9m2fPfs2bN4+OGH8dJLLyEYDAo9ZmpqClNTU4k/i+wfQkRERN5lS0ZElmU89NBD+MY3voFly5YJP27z5s0oKytL/Ddnzhw7To+IiIhcwlAg8uSTT8Ln82n+d/ToUWzZsgXj4+PYtGmToZPZtGkTxsbGEv+dPHnS0OOJiIjIWwztNfPRRx/h3/7t3zSPqa6uRktLCzo6OuDz+RI/v3z5Mq644go88MAD2Lp1q9DrjY2N4aqrrsLJkycLeq8ZIiIiL4nFYpgzZw4++eQTlJWVaR5ry6Z3IyMjKfUdp0+fRnNzM9rb21FfX4+Kigqh5zl16hSnZ4iIiDzq5MmTumO+LcWqlZWVKX++8sorAQDz588XDkIAYPbs2Th58iRCoVBKdiWdEnkVauaE75/vn++f75/vn+/fTe9flmWMj48Lte9w9aZ3fr/fUOASDodd9UE4je+f75/vn++/UPH9u+/9603JKBwJRKqqqmDDDBARERF5HPeaISIiopzJi0CkpKQETz31FEpKSnJ9KjnB98/3z/fP98/3z/fvVbasmiEiIiISkRcZESIiIvImBiJERESUMwxEiIiIKGcYiBAREVHOeDYQqaqqmrbh3ve+9z3Nx5w/fx4bN27E1VdfjSuvvBL3338/zp4969AZWycajeLrX/865s2bh0AggPnz5+Opp57ChQsXNB/X2Ng47Xf2jW98w6Gzzs6Pf/xjVFVVYebMmaivr8f+/fs1j//1r3+Nm266CTNnzkRdXR1effVVh87UWps3b8Ztt92GUCiEWbNm4d5778Xw8LDmY375y19O+5xnzpzp0Blb62//9m+nvZebbrpJ8zH58tkrMl3rfD4fNm7cmPF4r3/+r7/+OtavX4/Zs2fD5/PhpZdeSvl7WZbxN3/zN7jhhhsQCARw11134dixY7rPa/Qakita7//ixYt44oknUFdXh9LSUsyePRtf+9rXcPr0ac3nNPM9cpJnAxEA+O53v4sPP/ww8d+jjz6qefy3v/1tdHR04Ne//jX27t2L06dP47777nPobK1z9OhRSJKEn/3sZxgaGsKzzz6Ln/70p/hv/+2/6T724YcfTvmd/eAHP3DgjLPzz//8z3j88cfx1FNPYWBgALfccguam5vx+9//PuPxPT09+NM//VN8/etfx5tvvol7770X9957L44cOeLwmWdv79692LhxI/bt24c9e/bg4sWLaGpqwsTEhObjwuFwyuf8/vvvO3TG1lu4cGHKe3njjTdUj82nz15x4MCBlPe/Z88eAMBXvvIV1cd4+fOfmJjALbfcgh//+McZ//4HP/gB/sf/+B/46U9/ir6+PpSWlqK5uRnnz59XfU6j15Bc0nr/k5OTGBgYwF//9V9jYGAAL774IoaHh/FHf/RHus9r5HvkONmj5s6dKz/77LPCx3/yySfyjBkz5F//+teJn0UiERmA3Nvba8MZOusHP/iBPG/ePM1jbr/9drm1tdWZE7LQ8uXL5Y0bNyb+fPnyZXn27Nny5s2bMx7f0tIif/nLX075WX19vfyXf/mXtp6nE37/+9/LAOS9e/eqHvP888/LZWVlzp2UjZ566in5lltuET4+nz97RWtrqzx//nxZkqSMf59Pnz8AeceOHYk/S5IkX3/99fIPf/jDxM8++eQTuaSkRP4//+f/qD6P0WuIW6S//0z2798vA5Dff/991WOMfo+c5umMyPe+9z1cffXV+MIXvoAf/vCHuHTpkuqx/f39uHjxIu66667Ez2666SZUVlait7fXidO11djYGMrLy3WP+9WvfoVrrrkGixYtwqZNmzA5OenA2Zl34cIF9Pf3p3xufr8fd911l+rn1tvbm3I8ADQ3N+fN5wxA97M+d+4c5s6dizlz5uCee+7B0NCQE6dni2PHjmH27Nmorq7GAw88gJGREdVj8/mzBz79PvzjP/4j/tN/+k+aG4Hm0+ef7L333sOZM2dSPuOysjLU19erfsZmriFeMjY2Bp/Ph6uuukrzOCPfI6e5etM7Ld/61rewZMkSlJeXo6enB5s2bcKHH36IH/3oRxmPP3PmDIqLi6d9WNdddx3OnDnjwBnb5/jx49iyZQueeeYZzeP+w3/4D5g7dy5mz56Nw4cP44knnsDw8DBefPFFh87UuI8//hiXL1/Gddddl/Lz6667DkePHs34mDNnzmQ83uufsyRJeOyxx/DFL34RixYtUj2upqYG/+t//S8sXrwYY2NjeOaZZ7Bq1SoMDQ0Z2kTSDerr6/HLX/4SNTU1+PDDD/H000+joaEBR44cQSgUmnZ8vn72ipdeegmffPIJHnroIdVj8unzT6d8jkY+YzPXEK84f/48nnjiCfzpn/6p5oZ3Rr9HTnNVIPLkk0/i+9//vuYxkUgEN910Ex5//PHEzxYvXozi4mL85V/+JTZv3uzZVrdG3r/igw8+wOrVq/GVr3wFDz/8sOZj/+Iv/iLx/3V1dbjhhhtw55134t1338X8+fOzO3my3caNG3HkyBHdud2VK1di5cqViT+vWrUKtbW1+NnPfoa/+7u/s/s0LbVmzZrE/y9evBj19fWYO3cutm/fjq9//es5PLPc+J//839izZo1mlur59PnT+ouXryIlpYWyLKMn/zkJ5rHuv175KpA5Dvf+Y5mpA8A1dXVGX9eX1+PS5cuIRqNoqamZtrfX3/99bhw4QI++eSTlKzI2bNncf3112dz2pYx+v5Pnz6NO+64A6tWrcLPf/5zw69XX18P4NOMilsDkWuuuQZXXHHFtNVNWp/b9ddfb+h4L3jkkUfwyiuv4PXXXzd8Vztjxgx84QtfwPHjx206O+dcddVV+PznP6/6XvLxs1e8//77+Jd/+RfDGcx8+vyVz/Hs2bO44YYbEj8/e/Ysbr311oyPMXMNcTslCHn//ffx29/+VjMbkone98hprqoRufbaa3HTTTdp/ldcXJzxsYcOHYLf78esWbMy/v3SpUsxY8YMvPbaa4mfDQ8PY2RkJOXuIZeMvP8PPvgAjY2NWLp0KZ5//nn4/cY/ykOHDgFAyhfabYqLi7F06dKUz02SJLz22muqn9vKlStTjgeAPXv2uOZzNkKWZTzyyCPYsWMHfvvb32LevHmGn+Py5csYHBx09ecs6ty5c3j33XdV30s+ffbpnn/+ecyaNQtf/vKXDT0unz7/efPm4frrr0/5jGOxGPr6+lQ/YzPXEDdTgpBjx47hX/7lX3D11Vcbfg6975Hjcl0ta0ZPT4/87LPPyocOHZLfffdd+R//8R/la6+9Vv7a176WOObUqVNyTU2N3NfXl/jZN77xDbmyslL+7W9/Kx88eFBeuXKlvHLlyly8haycOnVKvvHGG+U777xTPnXqlPzhhx8m/ks+Jvn9Hz9+XP7ud78rHzx4UH7vvffkl19+Wa6urpa/9KUv5eptCPunf/onuaSkRP7lL38pv/322/Jf/MVfyFdddZV85swZWZZl+c/+7M/kJ598MnH8v/7rv8pFRUXyM888I0ciEfmpp56SZ8yYIQ8ODubqLZj2zW9+Uy4rK5O7urpSPufJycnEMenv/+mnn5Z37dolv/vuu3J/f7/8J3/yJ/LMmTPloaGhXLyFrHznO9+Ru7q65Pfee0/+13/9V/muu+6Sr7nmGvn3v/+9LMv5/dknu3z5slxZWSk/8cQT0/4u3z7/8fFx+c0335TffPNNGYD8ox/9SH7zzTcTq0K+973vyVdddZX88ssvy4cPH5bvueceed68eXI8Hk88xx/+4R/KW7ZsSfxZ7xriJlrv/8KFC/If/dEfyRUVFfKhQ4dSrglTU1OJ50h//3rfo1zzZCDS398v19fXy2VlZfLMmTPl2tpa+e///u/l8+fPJ4557733ZADy7373u8TP4vG4/J//83+WP/e5z8nBYFD+4z/+45TB2yuef/55GUDG/xTp739kZET+0pe+JJeXl8slJSXyjTfeKP+X//Jf5LGxsRy9C2O2bNkiV1ZWysXFxfLy5cvlffv2Jf7u9ttvlx988MGU47dv3y5//vOfl4uLi+WFCxfK//f//l+Hz9gaap/z888/nzgm/f0/9thjid/VddddJ69du1YeGBhw/uQt8NWvflW+4YYb5OLiYvkP/uAP5K9+9avy8ePHE3+fz599sl27dskA5OHh4Wl/l2+f/+9+97uM/+aV9yhJkvzXf/3X8nXXXSeXlJTId95557Tfy9y5c+Wnnnoq5Wda1xA30Xr/ynU903/JY136+9f7HuWaT5Zl2fa0CxEREVEGrqoRISIiosLCQISIiIhyhoEIERER5QwDESIiIsoZBiJERESUMwxEiIiIKGcYiBAREVHOMBAhIiKinGEgQkRERDnDQISIiIhyhoEIERER5QwDESIiIsqZ/we3BFTDw7PpUgAAAABJRU5ErkJggg==",
      "text/plain": [
       "<Figure size 640x480 with 1 Axes>"
      ]
     },
     "metadata": {},
     "output_type": "display_data"
    }
   ],
   "source": [
    "AL = ActiveLearning(fr'Preprocessed-data/{Activity}/features_{Activity}_scaled.csv', Activity, labels, 1)\n",
    "AL.training(20, random_points=1)\n",
    "AL.plotting()\n",
    "AL.write_to_file()"
   ]
  },
  {
   "attachments": {},
   "cell_type": "markdown",
   "metadata": {},
   "source": [
    "\n",
    "## Congratulations!\n",
    "\n",
    "You have just trained a machine-learning model. It's now ready to make predictions on real-world data, detect unexpected use of your product, and show you analytics about usage. This will help you to create a better product.\n",
    "\n",
    "\n",
    "Now you can feed the trained model more data, for example about real-life use of your product."
   ]
  },
  {
   "cell_type": "code",
   "execution_count": null,
   "metadata": {},
   "outputs": [],
   "source": [
    "ND = NoveltyDetection(fr'Preprocessed-data\\{Activity}\\features_{Activity}_scaled_AL_predictionss.csv',\n",
    "                      fr'Preprocessed-data\\{Activity}\\processed_data_files.txt')\n",
    "novelties = ND.detect()\n",
    "ND.play_novelties(novelties, 1)\n",
    "# print(novelties)"
   ]
  },
  {
   "cell_type": "code",
   "execution_count": null,
   "metadata": {},
   "outputs": [],
   "source": [
    "stats  = Stats(fr'Preprocessed-data\\{Activity}\\features_{Activity}_scaled_AL_predictionss.csv', labels)\n",
    "stats.print_percentages()\n",
    "stats.show_gan_chart(0.2)\n",
    "\n"
   ]
  }
 ],
 "metadata": {
  "kernelspec": {
   "display_name": "Python 3",
   "language": "python",
   "name": "python3"
  },
  "language_info": {
   "codemirror_mode": {
    "name": "ipython",
    "version": 3
   },
   "file_extension": ".py",
   "mimetype": "text/x-python",
   "name": "python",
   "nbconvert_exporter": "python",
   "pygments_lexer": "ipython3",
   "version": "3.10.9"
  },
  "orig_nbformat": 4,
  "vscode": {
   "interpreter": {
    "hash": "05b34ec5475467658907ccd6067873bbebf6b32cea05c0986d05a130e79ee37f"
   }
  }
 },
 "nbformat": 4,
 "nbformat_minor": 2
}
