{
 "cells": [
  {
   "cell_type": "markdown",
   "metadata": {},
   "source": [
    "# Designer guide\n",
    "Dit is alles wat de user te zien krijgt (hidden cells for functions, import, etc.)"
   ]
  },
  {
   "cell_type": "code",
   "execution_count": 1,
   "metadata": {},
   "outputs": [],
   "source": [
    "from sklearn.svm import SVC, LinearSVC\n",
    "import pandas as pd\n",
    "import numpy as np\n",
    "import matplotlib.pyplot as plt\n",
    "from sklearn.model_selection import train_test_split\n",
    "import imageio as io\n",
    "import os"
   ]
  },
  {
   "cell_type": "code",
   "execution_count": null,
   "metadata": {},
   "outputs": [],
   "source": [
    "# Variables\n",
    "# Loading data\n",
    "train_features = ['', '']\n",
    "activity_feature = ''\n",
    "timestamp = ''\n",
    "id_feature = ''\n",
    "# Splitting pool and test\n",
    "test_size = 0.2\n",
    "# Plot function\n",
    "xlabel = 'Dimension 1'\n",
    "ylabel = 'Dimension 2'\n",
    "# Training\n",
    "random_state = 42\n",
    "# Iteration 0 and labeling\n",
    "num_train_0 = 10\n",
    "len_data = len(data)\n",
    "len_pool = (1 - test_size) * len_data\n",
    "len_test = test_size * len_data\n",
    "# Loop\n",
    "num_iterations = 5"
   ]
  },
  {
   "cell_type": "code",
   "execution_count": null,
   "metadata": {},
   "outputs": [],
   "source": [
    "# Functions\n",
    "def define_activities():\n",
    "    activities = {}\n",
    "    activity_list = []\n",
    "    ask_activity = input(\"Please input expected activities. Type X when you're done. \")\n",
    "    while ask_activity != \"X\":\n",
    "        activity_list.append(ask_activity)\n",
    "        ask_activity = input()\n",
    "    for i in range(len(activity_list)):\n",
    "        activities[activity_list[i]] = i + 1\n",
    "    print(f\"These are your activities: {activity_list}. If you want to make any changes, run this cell again. \")\n",
    "    # done = input(\"Type Y if you're done, or N if you want to add more activities. \")\n",
    "    # if done == \"N\":\n",
    "        # ask_activity = input() \n",
    "    return activities\n",
    "\n",
    "\n",
    "def plot_decision_boundary():\n",
    "    ...\n",
    "\n",
    "def plot_model(clf, train_indexes, unknown_indexes, new_index = False, title):\n",
    "    '''Makes a plot. Dashed green line is the decision boundary, black points are unlabeled, red points are labeled, \n",
    "    star is the most ambiguous point in that iteration. To change variables go to the top of the notebook'''\n",
    "    # define data variables\n",
    "    X_train = X_pool.iloc[train_indexes]\n",
    "    y_train = y_pool.iloc[train_indexes]\n",
    "    X_unk = X_pool.iloc[unknown_indexes]\n",
    "    if new_index:\n",
    "        X_new = X_pool.iloc[new_index]\n",
    "    # plot points\n",
    "    plt.scatter(X_unk, c='k', marker = '.')\n",
    "    plt.scatter(X_train, y_train, c='r', marker = 'o')\n",
    "    if new_index:\n",
    "        plt.scatter(X_new, c='y', marker=\"*\", s=125)\n",
    "    # plot decision boundary\n",
    "    boundary = plot_decision_boundary()\n",
    "    plt.plot(boundary, '--', c='g')\n",
    "    # axis and title name\n",
    "    plt.xlabel(xlabel)\n",
    "    plt.ylabel(ylabel)\n",
    "    plt.title(title)\n",
    "    plt.show()\n",
    "    \n",
    "def find_most_ambiguous():\n",
    "    '''Finds the most ambiguous sample, which is ...'''\n",
    "    ... # niet berekend a.d.h.v. ideal boundary maar intermediate in loop?"
   ]
  },
  {
   "cell_type": "code",
   "execution_count": null,
   "metadata": {},
   "outputs": [],
   "source": [
    "# Load unlabeled and preprocessed data\n",
    "data = pd.read_csv()\n",
    "X = data[train_features]\n",
    "# timestamp opvragen van data[timestamp,id]. id wel in train_features\n",
    "y = data[activity_feature]\n",
    "# lege feature?.."
   ]
  },
  {
   "cell_type": "code",
   "execution_count": null,
   "metadata": {},
   "outputs": [],
   "source": [
    "# Split pool and test \n",
    "X_pool, X_test, y_pool, y_test = train_test_split(X, y, test_size=test_size, random_state=random_state)"
   ]
  },
  {
   "cell_type": "code",
   "execution_count": null,
   "metadata": {},
   "outputs": [],
   "source": []
  },
  {
   "cell_type": "code",
   "execution_count": null,
   "metadata": {},
   "outputs": [],
   "source": []
  },
  {
   "cell_type": "code",
   "execution_count": null,
   "metadata": {},
   "outputs": [],
   "source": [
    "# Label some points from pool, and all from test\n",
    "activities = define_activities()\n",
    "for i in y_test:\n",
    "    id = y_test[id_feature]\n",
    "    if y_test == None:\n",
    "        label = input(f'Please look at timestamp {data[timestamp, id]} and input your label')\n",
    "\n",
    "# Dummy coding"
   ]
  },
  {
   "cell_type": "code",
   "execution_count": null,
   "metadata": {},
   "outputs": [],
   "source": [
    "# Train generally tuned model with untuned custom hyperparameters (iteration 0)\n",
    "train_indexes = list(range(num_train_0))\n",
    "unknown_indexes = list(range(num_train_0, len_pool))\n",
    "# .iloc: \n",
    "X_train = X_pool.iloc[train_indexes]\n",
    "y_train = y_pool.iloc[train_indexes]"
   ]
  },
  {
   "cell_type": "code",
   "execution_count": null,
   "metadata": {},
   "outputs": [],
   "source": [
    "# Active learning: find most ambiguous, append to training set, retrain, repeat for x iterations\n",
    "for i in range num_iterations:\n",
    "    n = find_most_ambiguous()\n",
    "    train_indexes.append(n)\n",
    "    X_train = X_pool.iloc[train_indexes]\n",
    "    y_train = y_pool.iloc[train_indexes]\n",
    "    clf = # model\n",
    "    clf.fit(X_train, y_train)\n",
    "    unknown_indexes.remove(n)\n",
    "    title = f'Iteration {i+1}'\n",
    "    plot_model(clf, train_indexes, unknown_indexes, n, title)\n",
    "# Ask designer: discard, label, retrain with new set of activities "
   ]
  },
  {
   "cell_type": "code",
   "execution_count": null,
   "metadata": {},
   "outputs": [],
   "source": [
    "# Custom tuning (remember to save full training set somewhere)"
   ]
  },
  {
   "cell_type": "code",
   "execution_count": null,
   "metadata": {},
   "outputs": [],
   "source": [
    "# Validation\n",
    "# If insufficient, restart with new train data"
   ]
  }
 ],
 "metadata": {
  "celltoolbar": "Raw-celnotatie",
  "kernelspec": {
   "display_name": "Python 3.11.0 64-bit",
   "language": "python",
   "name": "python3"
  },
  "language_info": {
   "codemirror_mode": {
    "name": "ipython",
    "version": 3
   },
   "file_extension": ".py",
   "mimetype": "text/x-python",
   "name": "python",
   "nbconvert_exporter": "python",
   "pygments_lexer": "ipython3",
   "version": "3.11.0"
  },
  "vscode": {
   "interpreter": {
    "hash": "aee8b7b246df8f9039afb4144a1f6fd8d2ca17a180786b69acc140d282b71a49"
   }
  }
 },
 "nbformat": 4,
 "nbformat_minor": 4
}
