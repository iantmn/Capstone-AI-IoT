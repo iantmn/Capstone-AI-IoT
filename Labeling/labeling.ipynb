{
 "cells": [
  {
   "cell_type": "code",
   "execution_count": 5,
   "metadata": {},
   "outputs": [
    {
     "name": "stdout",
     "output_type": "stream",
     "text": [
      "7.7.2\n"
     ]
    },
    {
     "data": {
      "application/vnd.jupyter.widget-view+json": {
       "model_id": "a0bba5c210a14901b40874682571e7f1",
       "version_major": 2,
       "version_minor": 0
      },
      "text/plain": [
       "FloatSlider(value=1.0, description='Playbackspeed:', max=2.0, min=0.1)"
      ]
     },
     "metadata": {},
     "output_type": "display_data"
    }
   ],
   "source": [
    "import ipywidgets as widgets\n",
    "from IPython.display import display, Video, HTML, clear_output\n",
    "from ipywidgets import Button, HBox, Layout\n",
    "import asyncio\n",
    "\n",
    "print(widgets.__version__)\n",
    "\n",
    "# print([method_name for method_name in dir(object)\n",
    "#                   if callable(getattr(object, method_name))])\n",
    "\n",
    "speed = widgets.FloatSlider(\n",
    "    min=0.1,\n",
    "    max=2,\n",
    "    step=0.1,\n",
    "    description='Playbackspeed:',\n",
    "    value=1\n",
    ")\n",
    "\n",
    "display(speed)"
   ]
  },
  {
   "cell_type": "code",
   "execution_count": null,
   "metadata": {},
   "outputs": [],
   "source": [
    "timestamp = 2.0\n",
    "window_size = 2\n",
    "\n",
    "\n",
    "def display_html(timestamp, window_size):\n",
    "    print(timestamp, window_size)\n",
    "    display(HTML(f'''\n",
    "        <body>\n",
    "            <video id=\"window\" width=\"500px\"; class=\"center\" src=\"Timer2.mp4\"></video><br>\n",
    "            <button onclick=\"play()\">Play</button>\n",
    "            <button onclick=\"pause()\">Pause</button>\n",
    "            <script type=\"text/javascript\">\n",
    "                var timestamp = {timestamp}\n",
    "                var window_size = {window_size}\n",
    "\n",
    "                function play(){{\n",
    "                    var video= document.getElementById(\"window\");\n",
    "                    if (video.currentTime < timestamp || video.currentTime >= timestamp + window_size){{\n",
    "                        video.currentTime = timestamp;\n",
    "                    }}\n",
    "                    video.play()\n",
    "                    setInterval(function(){{\n",
    "                        if(video.currentTime >= timestamp + window_size){{\n",
    "                            video.currentTime = timestamp;\n",
    "                        }}\n",
    "                    }},1);\n",
    "                }}\n",
    "                \n",
    "                function pause(){{\n",
    "                    var video= document.getElementById(\"window\");\n",
    "                    video.pause();\n",
    "                }}\n",
    "            </script>\n",
    "        </body>\n",
    "    '''))\n",
    "\n",
    "# Here you can enter your activities\n",
    "activities = [\"running\", \"walking\", \"biking\"]\n",
    "\n",
    "switch = [Button(description=(name +' ' + str(i))) for i, name in enumerate(activities)]\n",
    "\n",
    "combined = HBox([items for items in switch], layout = Layout(flex_flow='row wrap'))\n",
    "\n",
    "def upon_clicked(btn):\n",
    "    print(f'Classified as {btn.description}.')\n",
    "    for n in range(len(activities)):\n",
    "        switch[n].style.button_color = 'white'\n",
    "    btn.style.button_color = 'gray'\n",
    "    \n",
    "# while True:\n",
    "#     if keyboard.is_pressed(\"a\"):\n",
    "#         print(\"You pressed 'a'.\")\n",
    "#         break\n",
    "\n",
    "for n in range(len(activities)):\n",
    "    switch[n].on_click(upon_clicked)\n",
    "\n",
    "display_html(timestamp, window_size)\n",
    "display(combined)"
   ]
  },
  {
   "cell_type": "code",
   "execution_count": 13,
   "metadata": {},
   "outputs": [
    {
     "data": {
      "application/vnd.jupyter.widget-view+json": {
       "model_id": "386e425c7327418ebcb6780fe36681d2",
       "version_major": 2,
       "version_minor": 0
      },
      "text/plain": [
       "IntSlider(value=0)"
      ]
     },
     "metadata": {},
     "output_type": "display_data"
    },
    {
     "name": "stdout",
     "output_type": "stream",
     "text": [
      "1\n",
      "2\n",
      "3\n",
      "8\n",
      "12\n",
      "14\n",
      "17\n",
      "22\n",
      "30\n",
      "37\n"
     ]
    }
   ],
   "source": [
    "import asyncio\n",
    "def wait_for_change(widget, value):\n",
    "    future = asyncio.Future()\n",
    "    def getvalue(change):\n",
    "        # make the new value available\n",
    "        future.set_result(change.new)\n",
    "        widget.unobserve(getvalue, value)\n",
    "    widget.observe(getvalue, value)\n",
    "    return future\n",
    "\n",
    "from ipywidgets import IntSlider, Output\n",
    "slider = IntSlider()\n",
    "out = Output()\n",
    "\n",
    "async def f():\n",
    "    for i in range(10):\n",
    "        out.append_stdout('did work ' + str(i) + '\\n')\n",
    "        x = await wait_for_change(slider, 'value')\n",
    "        print(x)\n",
    "        out.append_stdout('async function continued with value ' + str(x) + '\\n')\n",
    "asyncio.ensure_future(f())\n",
    "\n",
    "slider\n",
    "\n"
   ]
  },
  {
   "cell_type": "code",
   "execution_count": 11,
   "metadata": {},
   "outputs": [
    {
     "data": {
      "text/html": [
       "\n",
       "            <body>\n",
       "                <video id=\"window\" width=\"500px\" src=\"Timer2.mp4\"></video><br>\n",
       "                <button onclick=\"play()\">Play</button>\n",
       "                <button onclick=\"pause()\">Pause</button>\n",
       "                <script type=\"text/javascript\">\n",
       "                    var timestamp = 4\n",
       "                    var window_size = 2\n",
       "\n",
       "                    function play(){\n",
       "                        var video= document.getElementById(\"window\");\n",
       "                        if (video.currentTime < timestamp || video.currentTime >= timestamp + window_size){\n",
       "                            video.currentTime = timestamp;\n",
       "                        }\n",
       "                        video.play()\n",
       "                        setInterval(function(){\n",
       "                            if(video.currentTime >= timestamp + window_size){\n",
       "                                video.currentTime = timestamp;\n",
       "                            }\n",
       "                        },1);\n",
       "                        <!--video.playbackRate = 2-->\n",
       "                    }\n",
       "                \n",
       "                    function pause(){\n",
       "                        var video= document.getElementById(\"window\");\n",
       "                        video.pause();\n",
       "                    }\n",
       "                </script>\n",
       "            </body>\n",
       "        "
      ],
      "text/plain": [
       "<IPython.core.display.HTML object>"
      ]
     },
     "metadata": {},
     "output_type": "display_data"
    },
    {
     "data": {
      "application/vnd.jupyter.widget-view+json": {
       "model_id": "6aaeddfa1a734edeb0de8a97947d6d58",
       "version_major": 2,
       "version_minor": 0
      },
      "text/plain": [
       "HBox(children=(Button(description='running', style=ButtonStyle()), Button(description='walking', style=ButtonS…"
      ]
     },
     "metadata": {},
     "output_type": "display_data"
    },
    {
     "name": "stdout",
     "output_type": "stream",
     "text": [
      "None\n",
      "\n"
     ]
    }
   ],
   "source": [
    "class VideoLabeler():\n",
    "    def __init__(self, activities: list[str]) -> None:\n",
    "        self.activities = activities\n",
    "        self.new_label = ''\n",
    "        self.switch = [Button(description=name) for name in self.activities]\n",
    "\n",
    "    def labeling(self, video_file, timestamp, window_size) -> str:\n",
    "        # print(f'Current timestamp: {timestamp}')\n",
    "        self.display_html(video_file, timestamp, window_size)\n",
    "        return self.display_buttons()\n",
    "\n",
    "    def display_html(self, video_file, timestamp, window_size) -> None:\n",
    "        display(HTML(f'''\n",
    "            <body>\n",
    "                <video id=\"window\" width=\"500px\" src=\"{video_file}\"></video><br>\n",
    "                <button onclick=\"play()\">Play</button>\n",
    "                <button onclick=\"pause()\">Pause</button>\n",
    "                <script type=\"text/javascript\">\n",
    "                    var timestamp = {timestamp}\n",
    "                    var window_size = {window_size}\n",
    "\n",
    "                    function play(){{\n",
    "                        var video= document.getElementById(\"window\");\n",
    "                        if (video.currentTime < timestamp || video.currentTime >= timestamp + window_size){{\n",
    "                            video.currentTime = timestamp;\n",
    "                        }}\n",
    "                        video.play()\n",
    "                        setInterval(function(){{\n",
    "                            if(video.currentTime >= timestamp + window_size){{\n",
    "                                video.currentTime = timestamp;\n",
    "                            }}\n",
    "                        }},1);\n",
    "                        <!--video.playbackRate = 2-->\n",
    "                    }}\n",
    "                \n",
    "                    function pause(){{\n",
    "                        var video= document.getElementById(\"window\");\n",
    "                        video.pause();\n",
    "                    }}\n",
    "                </script>\n",
    "            </body>\n",
    "        '''))\n",
    "\n",
    "    def display_buttons(self):\n",
    "        combined = HBox([items for items in self.switch], layout = Layout(flex_flow='row wrap'))\n",
    "\n",
    "        for n in range(len(self.activities)):\n",
    "            self.switch[n].on_click(self.upon_clicked)\n",
    "        \n",
    "        # asyncio.ensure_future(self.f2(switch))\n",
    "\n",
    "        display(combined)\n",
    "\n",
    "    def upon_clicked(self, btn: Button) -> None:\n",
    "        # clear_output(wait=False)\n",
    "        # print(f'Current timestamp: {timestamp}')\n",
    "        # self.display_html(timestamp)\n",
    "        # self.display_buttons()\n",
    "        # print(f\"Previous classified as '{btn.description}'.\")        \n",
    "\n",
    "        for n in range(len(self.activities)):\n",
    "            self.switch[n].style.button_color = 'white'\n",
    "        btn.style.button_color = 'gray'\n",
    "        \n",
    "        self.new_label = btn.description\n",
    "\n",
    "    @staticmethod\n",
    "    async def f2(button):\n",
    "        for i in range(10):\n",
    "            out.append_stdout('did work ' + str(i) + '\\n')\n",
    "            x = await wait_for_change(button, 'value')\n",
    "            print(x)\n",
    "            out.append_stdout('async function continued with value ' + str(x) + '\\n')\n",
    "\n",
    "\n",
    "vid_lab = VideoLabeler([\"running\", \"walking\", \"biking\"])\n",
    "print(vid_lab.labeling('Timer2.mp4', 4, 2))\n",
    "print(vid_lab.new_label)"
   ]
  },
  {
   "cell_type": "code",
   "execution_count": null,
   "metadata": {},
   "outputs": [],
   "source": [
    "for btn in vid_lab.switch:\n",
    "    btn."
   ]
  },
  {
   "cell_type": "code",
   "execution_count": 2,
   "metadata": {},
   "outputs": [
    {
     "ename": "ImportError",
     "evalue": "cannot import name 'just_run' from 'nbclient.util' (c:\\Users\\timoz\\AppData\\Local\\Programs\\Python\\Python310\\lib\\site-packages\\nbclient\\util.py)",
     "output_type": "error",
     "traceback": [
      "\u001b[1;31m---------------------------------------------------------------------------\u001b[0m",
      "\u001b[1;31mImportError\u001b[0m                               Traceback (most recent call last)",
      "Cell \u001b[1;32mIn[2], line 2\u001b[0m\n\u001b[0;32m      1\u001b[0m \u001b[39mimport\u001b[39;00m \u001b[39masyncio\u001b[39;00m\n\u001b[1;32m----> 2\u001b[0m \u001b[39mimport\u001b[39;00m \u001b[39mipython_blocking\u001b[39;00m\n\u001b[0;32m      4\u001b[0m \u001b[39masync\u001b[39;00m \u001b[39mdef\u001b[39;00m \u001b[39mwait_click\u001b[39m(button, sleep\u001b[39m=\u001b[39m\u001b[39m0.05\u001b[39m):\n\u001b[0;32m      5\u001b[0m     clicked \u001b[39m=\u001b[39m \u001b[39mFalse\u001b[39;00m\n",
      "File \u001b[1;32mc:\\Users\\timoz\\AppData\\Local\\Programs\\Python\\Python310\\lib\\site-packages\\ipython_blocking\\__init__.py:1\u001b[0m\n\u001b[1;32m----> 1\u001b[0m \u001b[39mfrom\u001b[39;00m \u001b[39m.\u001b[39;00m\u001b[39mipython_blocking\u001b[39;00m \u001b[39mimport\u001b[39;00m CaptureExecution\n\u001b[0;32m      2\u001b[0m \u001b[39mfrom\u001b[39;00m \u001b[39m.\u001b[39;00m\u001b[39mipython_magic\u001b[39;00m \u001b[39mimport\u001b[39;00m CaptureMagic, load_ipython_extensions\n\u001b[0;32m      4\u001b[0m __version__ \u001b[39m=\u001b[39m \u001b[39m\"\u001b[39m\u001b[39m0.3.1\u001b[39m\u001b[39m\"\u001b[39m\n",
      "File \u001b[1;32mc:\\Users\\timoz\\AppData\\Local\\Programs\\Python\\Python310\\lib\\site-packages\\ipython_blocking\\ipython_blocking.py:5\u001b[0m\n\u001b[0;32m      3\u001b[0m \u001b[39mimport\u001b[39;00m \u001b[39mipykernel\u001b[39;00m\n\u001b[0;32m      4\u001b[0m \u001b[39mimport\u001b[39;00m \u001b[39mtornado\u001b[39;00m\u001b[39m.\u001b[39;00m\u001b[39mqueues\u001b[39;00m\n\u001b[1;32m----> 5\u001b[0m \u001b[39mfrom\u001b[39;00m \u001b[39mnbclient\u001b[39;00m\u001b[39m.\u001b[39;00m\u001b[39mutil\u001b[39;00m \u001b[39mimport\u001b[39;00m just_run\n\u001b[0;32m      7\u001b[0m \u001b[39m# If ipykernel is 6+, use just_run to execute async kernel.* methods\u001b[39;00m\n\u001b[0;32m      8\u001b[0m \u001b[39m# otherwise use traditional sync kernel.* methods\u001b[39;00m\n\u001b[0;32m      9\u001b[0m MAJ_VERSION \u001b[39m=\u001b[39m \u001b[39mint\u001b[39m(ipykernel\u001b[39m.\u001b[39m__version__\u001b[39m.\u001b[39msplit(\u001b[39m\"\u001b[39m\u001b[39m.\u001b[39m\u001b[39m\"\u001b[39m)[\u001b[39m0\u001b[39m])\n",
      "\u001b[1;31mImportError\u001b[0m: cannot import name 'just_run' from 'nbclient.util' (c:\\Users\\timoz\\AppData\\Local\\Programs\\Python\\Python310\\lib\\site-packages\\nbclient\\util.py)"
     ]
    }
   ],
   "source": [
    "import asyncio\n",
    "import ipython_blocking\n",
    "\n",
    "async def wait_click(button, sleep=0.05):\n",
    "    clicked = False\n",
    "    def on_click(button):\n",
    "        nonlocal clicked\n",
    "        clicked = True\n",
    "    button.on_click(on_click)\n",
    "    async def runner():\n",
    "        ctx = ipython_blocking.CaptureExecution(replay=True)\n",
    "        with ctx:\n",
    "            while True:\n",
    "                await asyncio.sleep(sleep)\n",
    "                if clicked:\n",
    "                    break\n",
    "                ctx.step() # handles all other messages that aren't 'execute_request' including widget value changes\n",
    "    return await asyncio.create_task(runner())\n",
    "\n",
    "button = Button(description='Click me')\n",
    "display(button)\n",
    "\n",
    "print('before await')\n",
    "await wait_click(button=button)\n",
    "print('after await')"
   ]
  },
  {
   "cell_type": "code",
   "execution_count": 37,
   "metadata": {},
   "outputs": [
    {
     "data": {
      "application/vnd.jupyter.widget-view+json": {
       "model_id": "4911a0200fea4681b810605127e92bc9",
       "version_major": 2,
       "version_minor": 0
      },
      "text/plain": [
       "HBox(children=(ToggleButton(value=False, description='Walking'), ToggleButton(value=False, description='Runnin…"
      ]
     },
     "metadata": {},
     "output_type": "display_data"
    },
    {
     "name": "stdout",
     "output_type": "stream",
     "text": [
      "generator function continued with value True\n"
     ]
    }
   ],
   "source": [
    "from functools import wraps\n",
    "from ipywidgets import IntSlider, VBox, HTML\n",
    "\n",
    "def yield_for_change(widget, attribute):\n",
    "    \"\"\"Pause a generator to wait for a widget change event.\n",
    "\n",
    "    This is a decorator for a generator function which pauses the generator on yield\n",
    "    until the given widget attribute changes. The new value of the attribute is\n",
    "    sent to the generator and is the value of the yield.\n",
    "    \"\"\"\n",
    "    def f(iterator):\n",
    "        @wraps(iterator)\n",
    "        def inner():\n",
    "            i = iterator()\n",
    "            def next_i(change):\n",
    "                try:\n",
    "                    i.send(change.new)\n",
    "                except StopIteration as e:\n",
    "                    widget.unobserve(next_i, attribute)\n",
    "            widget.observe(next_i, attribute)\n",
    "            # start the generator\n",
    "            next(i)\n",
    "        return inner\n",
    "    return f\n",
    "\n",
    "slider2=IntSlider()\n",
    "# buttons=widgets.ToggleButtons(\n",
    "#     options=['walking', 'running', 'stairs'],\n",
    "#     description = 'Labels:',\n",
    "#     disabled=False\n",
    "# )\n",
    "labels = ['Walking', 'Running', 'Stairs']\n",
    "buttons = [widgets.ToggleButton(value=False, description=name) for name in labels]\n",
    "combined = HBox([button for button in buttons], layout = Layout(flex_flow='row wrap'))\n",
    "\n",
    "y = False\n",
    "\n",
    "@yield_for_change(buttons[0], 'value')\n",
    "def f1():\n",
    "    global y\n",
    "    # print('did work %s'%i)\n",
    "    x = yield\n",
    "    if not y:\n",
    "        print('generator function continued with value %s'%x)\n",
    "        # print(buttons.value)\n",
    "        y = True\n",
    "@yield_for_change(buttons[1], 'value')\n",
    "def f2():\n",
    "    global y\n",
    "    # print('did work %s'%i)\n",
    "    x = yield\n",
    "    if not y:\n",
    "        print('generator function continued with value %s'%x)\n",
    "        # print(buttons.value)\n",
    "        y = True\n",
    "@yield_for_change(buttons[2], 'value')\n",
    "def f3():\n",
    "    global y\n",
    "    # print('did work %s'%i)\n",
    "    x = yield\n",
    "    if not y:\n",
    "        print('generator function continued with value %s'%x)\n",
    "        # print(buttons.value)\n",
    "        y = True\n",
    "f1()\n",
    "f2()\n",
    "f3()\n",
    "\n",
    "display(combined)\n",
    "# display(slider2)\n",
    "# print(buttons.value)"
   ]
  }
 ],
 "metadata": {
  "kernelspec": {
   "display_name": "Python 3.10.8 64-bit",
   "language": "python",
   "name": "python3"
  },
  "language_info": {
   "codemirror_mode": {
    "name": "ipython",
    "version": 3
   },
   "file_extension": ".py",
   "mimetype": "text/x-python",
   "name": "python",
   "nbconvert_exporter": "python",
   "pygments_lexer": "ipython3",
   "version": "3.10.8"
  },
  "orig_nbformat": 4,
  "vscode": {
   "interpreter": {
    "hash": "529ecdcae69add5700b168af870c2c245dc5754f1a82655f7b34366657b0a28f"
   }
  }
 },
 "nbformat": 4,
 "nbformat_minor": 2
}
