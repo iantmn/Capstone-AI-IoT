{
 "cells": [
  {
   "cell_type": "code",
   "execution_count": 9,
   "metadata": {},
   "outputs": [],
   "source": [
    "# import ipywidgets as widgets\n",
    "# from IPython.display import display, Video, HTML, clear_output\n",
    "# from ipywidgets import Button, HBox, Layout\n",
    "# import time\n",
    "\n",
    "# from collections.abc import Collection\n",
    "\n",
    "# print(widgets.__version__)\n",
    "from Videolabeler import VideoLabeler"
   ]
  },
  {
   "cell_type": "code",
   "execution_count": 10,
   "metadata": {},
   "outputs": [
    {
     "name": "stdout",
     "output_type": "stream",
     "text": [
      "20 2\n"
     ]
    },
    {
     "data": {
      "text/html": [
       "\n",
       "            <head>\n",
       "                <script type=\"text/javascript\">\n",
       "                    function init(){\n",
       "                        let timestamp = 20;\n",
       "                        let window_size = 2;\n",
       "                        let video = document.getElementById(\"window\");\n",
       "                        video.currentTime = timestamp;\n",
       "                        play();\n",
       "                    }\n",
       "\n",
       "                    function play(){\n",
       "                        let timestamp = 20;\n",
       "                        let window_size = 2;\n",
       "                        let video = document.getElementById(\"window\");\n",
       "                        if (video.currentTime < timestamp || video.currentTime >= timestamp + window_size){\n",
       "                            video.currentTime = timestamp;\n",
       "                        }\n",
       "                        video.play();\n",
       "                        setInterval(function(){\n",
       "                            if(video.currentTime >= timestamp + window_size){\n",
       "                                video.currentTime = timestamp;\n",
       "                            }\n",
       "                        },1);\n",
       "                        <!--video.playbackRate = 2-->\n",
       "                    }\n",
       "\n",
       "                    function pause(){\n",
       "                        let timestamp = 20;\n",
       "                        let window_size = 2;\n",
       "                        let video = document.getElementById(\"window\");\n",
       "                        video.pause();\n",
       "                    }\n",
       "                </script>\n",
       "            </head>\n",
       "            <body>\n",
       "                <video id=\"window\" width=\"500px\" src=\"stairs_down_1.mp4\" muted></video><br>\n",
       "                <script type=\"text/javascript\">init()</script>\n",
       "                <button onclick=\"play()\">Play</button>\n",
       "                <button onclick=\"pause()\">Pause</button>\n",
       "            </body>\n",
       "        "
      ],
      "text/plain": [
       "<IPython.core.display.HTML object>"
      ]
     },
     "metadata": {},
     "output_type": "display_data"
    },
    {
     "name": "stdout",
     "output_type": "stream",
     "text": [
      "Enter the index or the name of one of the following labels. Enter 'n' to add a new label:\n",
      "1. Walking\n",
      "2. Running\n",
      "3. Stairs\n",
      "Label does not exist! Try again\n",
      "Enter the index or the name of one of the following labels. Enter 'n' to add a new label:\n",
      "1. Walking\n",
      "2. Running\n",
      "3. Stairs\n",
      "Stairs\n"
     ]
    }
   ],
   "source": [
    "vid_lab = VideoLabeler([\"Walking\", \"Running\", \"Stairs\"])\n",
    "print(vid_lab.labeling('stairs_up_1.mp4', 5, 3))\n",
    "print(vid_lab.labeling('stairs_down_1.mp4', 12, 2))\n",
    "print(vid_lab.labeling('stairs_down_1.mp4', 20, 2))"
   ]
  }
 ],
 "metadata": {
  "kernelspec": {
   "display_name": "Python 3",
   "language": "python",
   "name": "python3"
  },
  "language_info": {
   "codemirror_mode": {
    "name": "ipython",
    "version": 3
   },
   "file_extension": ".py",
   "mimetype": "text/x-python",
   "name": "python",
   "nbconvert_exporter": "python",
   "pygments_lexer": "ipython3",
   "version": "3.10.8 (tags/v3.10.8:aaaf517, Oct 11 2022, 16:50:30) [MSC v.1933 64 bit (AMD64)]"
  },
  "orig_nbformat": 4,
  "vscode": {
   "interpreter": {
    "hash": "529ecdcae69add5700b168af870c2c245dc5754f1a82655f7b34366657b0a28f"
   }
  }
 },
 "nbformat": 4,
 "nbformat_minor": 2
}
