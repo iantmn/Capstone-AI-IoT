{
 "cells": [
  {
   "cell_type": "code",
   "execution_count": 1,
   "metadata": {},
   "outputs": [
    {
     "name": "stdout",
     "output_type": "stream",
     "text": [
      "7.7.2\n"
     ]
    },
    {
     "data": {
      "application/vnd.jupyter.widget-view+json": {
       "model_id": "f71354562d2c4a6090fc9c8bb8d428ce",
       "version_major": 2,
       "version_minor": 0
      },
      "text/plain": [
       "FloatSlider(value=1.0, description='Playbackspeed:', max=2.0, min=0.1)"
      ]
     },
     "metadata": {},
     "output_type": "display_data"
    }
   ],
   "source": [
    "import ipywidgets as widgets\n",
    "from IPython.display import display, Video, HTML, clear_output\n",
    "from ipywidgets import Button, HBox, Layout\n",
    "\n",
    "print(widgets.__version__)\n",
    "\n",
    "# print([method_name for method_name in dir(object)\n",
    "#                   if callable(getattr(object, method_name))])\n",
    "\n",
    "speed = widgets.FloatSlider(\n",
    "    min=0.1,\n",
    "    max=2,\n",
    "    step=0.1,\n",
    "    description='Playbackspeed:',\n",
    "    value=1\n",
    ")\n",
    "\n",
    "display(speed)"
   ]
  },
  {
   "cell_type": "code",
   "execution_count": null,
   "metadata": {},
   "outputs": [],
   "source": [
    "timestamp = 2.0\n",
    "window_size = 2\n",
    "\n",
    "\n",
    "def display_html(timestamp, window_size):\n",
    "    print(timestamp, window_size)\n",
    "    display(HTML(f'''\n",
    "        <body>\n",
    "            <video id=\"window\" width=\"500px\"; class=\"center\" src=\"Timer2.mp4\"></video><br>\n",
    "            <button onclick=\"play()\">Play</button>\n",
    "            <button onclick=\"pause()\">Pause</button>\n",
    "            <script type=\"text/javascript\">\n",
    "                var timestamp = {timestamp}\n",
    "                var window_size = {window_size}\n",
    "\n",
    "                function play(){{\n",
    "                    var video= document.getElementById(\"window\");\n",
    "                    if (video.currentTime < timestamp || video.currentTime >= timestamp + window_size){{\n",
    "                        video.currentTime = timestamp;\n",
    "                    }}\n",
    "                    video.play()\n",
    "                    setInterval(function(){{\n",
    "                        if(video.currentTime >= timestamp + window_size){{\n",
    "                            video.currentTime = timestamp;\n",
    "                        }}\n",
    "                    }},1);\n",
    "                }}\n",
    "                \n",
    "                function pause(){{\n",
    "                    var video= document.getElementById(\"window\");\n",
    "                    video.pause();\n",
    "                }}\n",
    "            </script>\n",
    "        </body>\n",
    "    '''))\n",
    "\n",
    "# Here you can enter your activities\n",
    "activities = [\"running\", \"walking\", \"biking\"]\n",
    "\n",
    "switch = [Button(description=(name +' ' + str(i))) for i, name in enumerate(activities)]\n",
    "\n",
    "combined = HBox([items for items in switch], layout = Layout(flex_flow='row wrap'))\n",
    "\n",
    "def upon_clicked(btn):\n",
    "    print(f'Classified as {btn.description}.')\n",
    "    for n in range(len(activities)):\n",
    "        switch[n].style.button_color = 'white'\n",
    "    btn.style.button_color = 'gray'\n",
    "    \n",
    "# while True:\n",
    "#     if keyboard.is_pressed(\"a\"):\n",
    "#         print(\"You pressed 'a'.\")\n",
    "#         break\n",
    "\n",
    "for n in range(len(activities)):\n",
    "    switch[n].on_click(upon_clicked)\n",
    "\n",
    "display_html(timestamp, window_size)\n",
    "display(combined)"
   ]
  },
  {
   "cell_type": "code",
   "execution_count": 2,
   "metadata": {},
   "outputs": [],
   "source": [
    "%gui asyncio"
   ]
  },
  {
   "cell_type": "code",
   "execution_count": 9,
   "metadata": {},
   "outputs": [
    {
     "data": {
      "application/vnd.jupyter.widget-view+json": {
       "model_id": "d92ab02bdc3e4a13b72c2c1b92580b49",
       "version_major": 2,
       "version_minor": 0
      },
      "text/plain": [
       "IntSlider(value=0)"
      ]
     },
     "metadata": {},
     "output_type": "display_data"
    }
   ],
   "source": [
    "import asyncio\n",
    "def wait_for_change(widget, value):\n",
    "    future = asyncio.Future()\n",
    "    def getvalue(change):\n",
    "        # make the new value available\n",
    "        future.set_result(change.new)\n",
    "        widget.unobserve(getvalue, value)\n",
    "    widget.observe(getvalue, value)\n",
    "    return future\n",
    "\n",
    "from ipywidgets import IntSlider, Output\n",
    "slider = IntSlider()\n",
    "out = Output()\n",
    "\n",
    "async def f():\n",
    "    for i in range(10):\n",
    "        out.append_stdout('did work ' + str(i) + '\\n')\n",
    "        x = await wait_for_change(switch, 'value')\n",
    "        out.append_stdout('async function continued with value ' + str(x) + '\\n')\n",
    "asyncio.ensure_future(f())\n",
    "\n",
    "slider\n",
    "\n"
   ]
  },
  {
   "cell_type": "code",
   "execution_count": 32,
   "metadata": {},
   "outputs": [
    {
     "data": {
      "text/html": [
       "\n",
       "            <body>\n",
       "                <video id=\"window\" width=\"500px\" src=\"Timer2.mp4\"></video><br>\n",
       "                <button onclick=\"play()\">Play</button>\n",
       "                <button onclick=\"pause()\">Pause</button>\n",
       "                <script type=\"text/javascript\">\n",
       "                    var timestamp = 4\n",
       "                    var window_size = 2\n",
       "\n",
       "                    function play(){\n",
       "                        var video= document.getElementById(\"window\");\n",
       "                        if (video.currentTime < timestamp || video.currentTime >= timestamp + window_size){\n",
       "                            video.currentTime = timestamp;\n",
       "                        }\n",
       "                        video.play()\n",
       "                        setInterval(function(){\n",
       "                            if(video.currentTime >= timestamp + window_size){\n",
       "                                video.currentTime = timestamp;\n",
       "                            }\n",
       "                        },1);\n",
       "                        <!--video.playbackRate = 2-->\n",
       "                    }\n",
       "                \n",
       "                    function pause(){\n",
       "                        var video= document.getElementById(\"window\");\n",
       "                        video.pause();\n",
       "                    }\n",
       "                </script>\n",
       "            </body>\n",
       "        "
      ],
      "text/plain": [
       "<IPython.core.display.HTML object>"
      ]
     },
     "metadata": {},
     "output_type": "display_data"
    },
    {
     "data": {
      "application/vnd.jupyter.widget-view+json": {
       "model_id": "512d592cf7204f8fb3e02564ebea93c1",
       "version_major": 2,
       "version_minor": 0
      },
      "text/plain": [
       "HBox(children=(Button(description='running', style=ButtonStyle()), Button(description='walking', style=ButtonS…"
      ]
     },
     "metadata": {},
     "output_type": "display_data"
    },
    {
     "name": "stdout",
     "output_type": "stream",
     "text": [
      "None\n",
      "\n"
     ]
    }
   ],
   "source": [
    "class VideoLabeler():\n",
    "    def __init__(self, activities: list[str]) -> None:\n",
    "        self.activities = activities\n",
    "        self.new_label = ''\n",
    "\n",
    "    def labeling(self, video_file, timestamp, window_size) -> str:\n",
    "        # print(f'Current timestamp: {timestamp}')\n",
    "        self.display_html(video_file, timestamp, window_size)\n",
    "        return self.display_buttons()\n",
    "\n",
    "    def display_html(self, video_file, timestamp, window_size) -> None:\n",
    "        display(HTML(f'''\n",
    "            <body>\n",
    "                <video id=\"window\" width=\"500px\" src=\"{video_file}\"></video><br>\n",
    "                <button onclick=\"play()\">Play</button>\n",
    "                <button onclick=\"pause()\">Pause</button>\n",
    "                <script type=\"text/javascript\">\n",
    "                    var timestamp = {timestamp}\n",
    "                    var window_size = {window_size}\n",
    "\n",
    "                    function play(){{\n",
    "                        var video= document.getElementById(\"window\");\n",
    "                        if (video.currentTime < timestamp || video.currentTime >= timestamp + window_size){{\n",
    "                            video.currentTime = timestamp;\n",
    "                        }}\n",
    "                        video.play()\n",
    "                        setInterval(function(){{\n",
    "                            if(video.currentTime >= timestamp + window_size){{\n",
    "                                video.currentTime = timestamp;\n",
    "                            }}\n",
    "                        }},1);\n",
    "                        <!--video.playbackRate = 2-->\n",
    "                    }}\n",
    "                \n",
    "                    function pause(){{\n",
    "                        var video= document.getElementById(\"window\");\n",
    "                        video.pause();\n",
    "                    }}\n",
    "                </script>\n",
    "            </body>\n",
    "        '''))\n",
    "\n",
    "    def display_buttons(self):\n",
    "        switch = [Button(description=name) for name in activities]\n",
    "        combined = HBox([items for items in switch], layout = Layout(flex_flow='row wrap'))\n",
    "\n",
    "        for n in range(len(self.activities)):\n",
    "            switch[n].on_click(self.upon_clicked)\n",
    "\n",
    "        display(combined)\n",
    "\n",
    "    def upon_clicked(self, btn: Button) -> None:\n",
    "        # clear_output(wait=False)\n",
    "        # print(f'Current timestamp: {timestamp}')\n",
    "        # self.display_html(timestamp)\n",
    "        # self.display_buttons()\n",
    "        # print(f\"Previous classified as '{btn.description}'.\")        \n",
    "\n",
    "        for n in range(len(activities)):\n",
    "            switch[n].style.button_color = 'white'\n",
    "        btn.style.button_color = 'gray'\n",
    "        \n",
    "        self.new_label = btn.description\n",
    "\n",
    "\n",
    "vid_lab = VideoLabeler([\"running\", \"walking\", \"biking\"])\n",
    "print(vid_lab.labeling('Timer2.mp4', 4, 2))\n",
    "\n",
    "print(vid_lab.new_label)"
   ]
  }
 ],
 "metadata": {
  "kernelspec": {
   "display_name": "Python 3.10.8 64-bit",
   "language": "python",
   "name": "python3"
  },
  "language_info": {
   "codemirror_mode": {
    "name": "ipython",
    "version": 3
   },
   "file_extension": ".py",
   "mimetype": "text/x-python",
   "name": "python",
   "nbconvert_exporter": "python",
   "pygments_lexer": "ipython3",
   "version": "3.10.8"
  },
  "orig_nbformat": 4,
  "vscode": {
   "interpreter": {
    "hash": "529ecdcae69add5700b168af870c2c245dc5754f1a82655f7b34366657b0a28f"
   }
  }
 },
 "nbformat": 4,
 "nbformat_minor": 2
}
