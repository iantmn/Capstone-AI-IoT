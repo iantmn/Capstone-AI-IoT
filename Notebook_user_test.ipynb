{
 "cells": [
  {
   "cell_type": "markdown",
   "metadata": {},
   "source": [
    "# Welcome to the Machine learning for IDE students application!\n",
    "\n",
    "This is a JupyterNotebook created for IDE students to get introduced to using machine learning for prototype improvement. It might seem like a lot if you don't have a lot of coding experience, but just follow the steps, read the instructions and it should be a breeze! \n",
    "\n",
    "\n",
    "## Setting up\n",
    "\n",
    "This application will take you through the preprocessing, labeling and classification steps of the machine learning process. Make sure you've read through the [User Guide](https://datacentricdesign.github.io/iot-ml-design-kit/) before you continue.\n",
    "\n",
    "\n",
    "## Try the program\n",
    "\n",
    "We have filled out the program in such a way that everything is set up with an example dataset. Feel free to go through te application one time, before changing in to your own data / preferences. This way you can get a feeling of how the product works and what is needed for a good running program. \n",
    "\n",
    "\n",
    "### Kernel\n",
    "\n",
    "The kernel is like the engine of the application, this runs all the python code. Sometimes the kernel crashes, most of the times it is because of a bug. When the kernel has crashed, you need to restart it under the kernel tab in the notebook. When you restart the kernel you need to run most cells again depending on where you were in the process. Sometimes you do not need to do the prepocessing and labeling again, depending if you have already finished this. Alls cells that you have not ran before the kernel crashed, do not need to be rerun!.\n",
    "\n",
    "**Cells to run when the kernel crashes:** 2,3,4,7\n",
    "\n",
    "**Cells you do not have to rerun:** 1\n",
    "\n",
    "### Setting up the packages\n",
    "\n",
    "To be able to access the code we need to import packages. The second set of packages are written by us and contain the main functions of the program. The actual Python code is to be found in different files, so you have a nice interface without a bunch of code.\n",
    "\n",
    "**Make sure you run the two cells below!** To run your first cell, just click inside the cell and press play. You can consult [this tutorial](https://www.dataquest.io/blog/jupyter-notebook-tutorial/) if you experience difficulty using Anaconda.\n",
    "ATTENTION: This is a large operation, keep that in mind, this might take a few minutes. It is very important to run the code completely, so only continue after the * before the cell has disappeared"
   ]
  },
  {
   "cell_type": "markdown",
   "metadata": {},
   "source": [
    "These are standard python packages that most programs need to run properly."
   ]
  },
  {
   "cell_type": "code",
   "execution_count": 5,
   "metadata": {},
   "outputs": [
    {
     "name": "stdout",
     "output_type": "stream",
     "text": [
      "Collecting numpy==1.21.4\n",
      "  Downloading numpy-1.21.4-cp310-cp310-win_amd64.whl (14.0 MB)\n",
      "     ---------------------------------------- 14.0/14.0 MB 7.2 MB/s eta 0:00:00\n",
      "Installing collected packages: numpy\n",
      "  Attempting uninstall: numpy\n",
      "    Found existing installation: numpy 1.24.1\n",
      "    Uninstalling numpy-1.24.1:\n",
      "      Successfully uninstalled numpy-1.24.1\n"
     ]
    },
    {
     "name": "stderr",
     "output_type": "stream",
     "text": [
      "ERROR: Could not install packages due to an OSError: [WinError 5] Access is denied: 'C:\\\\Users\\\\timoz\\\\AppData\\\\Local\\\\Programs\\\\Python\\\\Python310\\\\Lib\\\\site-packages\\\\~-mpy\\\\.libs\\\\libopenblas64__v0.3.21-gcc_10_3_0.dll'\n",
      "Consider using the `--user` option or check the permissions.\n",
      "\n"
     ]
    },
    {
     "name": "stdout",
     "output_type": "stream",
     "text": [
      "Requirement already satisfied: pandas==1.5.2 in c:\\users\\timoz\\appdata\\local\\programs\\python\\python310\\lib\\site-packages (1.5.2)\n",
      "Requirement already satisfied: numpy>=1.21.0 in c:\\users\\timoz\\appdata\\local\\programs\\python\\python310\\lib\\site-packages (from pandas==1.5.2) (1.21.4)\n",
      "Requirement already satisfied: pytz>=2020.1 in c:\\users\\timoz\\appdata\\local\\programs\\python\\python310\\lib\\site-packages (from pandas==1.5.2) (2022.5)\n",
      "Requirement already satisfied: python-dateutil>=2.8.1 in c:\\users\\timoz\\appdata\\local\\programs\\python\\python310\\lib\\site-packages (from pandas==1.5.2) (2.8.2)\n",
      "Requirement already satisfied: six>=1.5 in c:\\users\\timoz\\appdata\\local\\programs\\python\\python310\\lib\\site-packages (from python-dateutil>=2.8.1->pandas==1.5.2) (1.16.0)\n",
      "Requirement already satisfied: matplotlib==3.6.3 in c:\\users\\timoz\\appdata\\local\\programs\\python\\python310\\lib\\site-packages (3.6.3)\n",
      "Requirement already satisfied: pyparsing>=2.2.1 in c:\\users\\timoz\\appdata\\local\\programs\\python\\python310\\lib\\site-packages (from matplotlib==3.6.3) (3.0.9)\n",
      "Requirement already satisfied: python-dateutil>=2.7 in c:\\users\\timoz\\appdata\\local\\programs\\python\\python310\\lib\\site-packages (from matplotlib==3.6.3) (2.8.2)\n",
      "Requirement already satisfied: contourpy>=1.0.1 in c:\\users\\timoz\\appdata\\local\\programs\\python\\python310\\lib\\site-packages (from matplotlib==3.6.3) (1.0.5)\n",
      "Requirement already satisfied: pillow>=6.2.0 in c:\\users\\timoz\\appdata\\local\\programs\\python\\python310\\lib\\site-packages (from matplotlib==3.6.3) (9.2.0)\n",
      "Requirement already satisfied: fonttools>=4.22.0 in c:\\users\\timoz\\appdata\\local\\programs\\python\\python310\\lib\\site-packages (from matplotlib==3.6.3) (4.37.4)\n",
      "Requirement already satisfied: kiwisolver>=1.0.1 in c:\\users\\timoz\\appdata\\local\\programs\\python\\python310\\lib\\site-packages (from matplotlib==3.6.3) (1.4.4)\n",
      "Requirement already satisfied: numpy>=1.19 in c:\\users\\timoz\\appdata\\local\\programs\\python\\python310\\lib\\site-packages (from matplotlib==3.6.3) (1.21.4)\n",
      "Requirement already satisfied: packaging>=20.0 in c:\\users\\timoz\\appdata\\local\\programs\\python\\python310\\lib\\site-packages (from matplotlib==3.6.3) (21.3)\n",
      "Requirement already satisfied: cycler>=0.10 in c:\\users\\timoz\\appdata\\local\\programs\\python\\python310\\lib\\site-packages (from matplotlib==3.6.3) (0.11.0)\n",
      "Requirement already satisfied: six>=1.5 in c:\\users\\timoz\\appdata\\local\\programs\\python\\python310\\lib\\site-packages (from python-dateutil>=2.7->matplotlib==3.6.3) (1.16.0)\n",
      "Requirement already satisfied: scikit-learn==1.2.0 in c:\\users\\timoz\\appdata\\local\\programs\\python\\python310\\lib\\site-packages (1.2.0)\n",
      "Requirement already satisfied: threadpoolctl>=2.0.0 in c:\\users\\timoz\\appdata\\local\\programs\\python\\python310\\lib\\site-packages (from scikit-learn==1.2.0) (3.1.0)\n",
      "Requirement already satisfied: numpy>=1.17.3 in c:\\users\\timoz\\appdata\\local\\programs\\python\\python310\\lib\\site-packages (from scikit-learn==1.2.0) (1.21.4)\n",
      "Requirement already satisfied: joblib>=1.1.1 in c:\\users\\timoz\\appdata\\local\\programs\\python\\python310\\lib\\site-packages (from scikit-learn==1.2.0) (1.2.0)\n",
      "Requirement already satisfied: scipy>=1.3.2 in c:\\users\\timoz\\appdata\\local\\programs\\python\\python310\\lib\\site-packages (from scikit-learn==1.2.0) (1.9.2)\n",
      "Requirement already satisfied: plotly==5.12.0 in c:\\users\\timoz\\appdata\\local\\programs\\python\\python310\\lib\\site-packages (5.12.0)\n",
      "Requirement already satisfied: tenacity>=6.2.0 in c:\\users\\timoz\\appdata\\local\\programs\\python\\python310\\lib\\site-packages (from plotly==5.12.0) (8.1.0)\n",
      "Requirement already satisfied: IPython==8.8.0 in c:\\users\\timoz\\appdata\\local\\programs\\python\\python310\\lib\\site-packages (8.8.0)\n",
      "Requirement already satisfied: backcall in c:\\users\\timoz\\appdata\\roaming\\python\\python310\\site-packages (from IPython==8.8.0) (0.2.0)\n",
      "Requirement already satisfied: pygments>=2.4.0 in c:\\users\\timoz\\appdata\\roaming\\python\\python310\\site-packages (from IPython==8.8.0) (2.13.0)\n",
      "Requirement already satisfied: decorator in c:\\users\\timoz\\appdata\\local\\programs\\python\\python310\\lib\\site-packages (from IPython==8.8.0) (4.4.2)\n",
      "Requirement already satisfied: prompt-toolkit<3.1.0,>=3.0.11 in c:\\users\\timoz\\appdata\\roaming\\python\\python310\\site-packages (from IPython==8.8.0) (3.0.33)\n",
      "Requirement already satisfied: colorama in c:\\users\\timoz\\appdata\\local\\programs\\python\\python310\\lib\\site-packages (from IPython==8.8.0) (0.4.6)\n",
      "Requirement already satisfied: jedi>=0.16 in c:\\users\\timoz\\appdata\\roaming\\python\\python310\\site-packages (from IPython==8.8.0) (0.18.2)\n",
      "Requirement already satisfied: stack-data in c:\\users\\timoz\\appdata\\roaming\\python\\python310\\site-packages (from IPython==8.8.0) (0.6.2)\n",
      "Requirement already satisfied: pickleshare in c:\\users\\timoz\\appdata\\roaming\\python\\python310\\site-packages (from IPython==8.8.0) (0.7.5)\n",
      "Requirement already satisfied: matplotlib-inline in c:\\users\\timoz\\appdata\\roaming\\python\\python310\\site-packages (from IPython==8.8.0) (0.1.6)\n",
      "Requirement already satisfied: traitlets>=5 in c:\\users\\timoz\\appdata\\roaming\\python\\python310\\site-packages (from IPython==8.8.0) (5.6.0)\n",
      "Requirement already satisfied: parso<0.9.0,>=0.8.0 in c:\\users\\timoz\\appdata\\roaming\\python\\python310\\site-packages (from jedi>=0.16->IPython==8.8.0) (0.8.3)\n",
      "Requirement already satisfied: wcwidth in c:\\users\\timoz\\appdata\\roaming\\python\\python310\\site-packages (from prompt-toolkit<3.1.0,>=3.0.11->IPython==8.8.0) (0.2.5)\n",
      "Requirement already satisfied: executing>=1.2.0 in c:\\users\\timoz\\appdata\\roaming\\python\\python310\\site-packages (from stack-data->IPython==8.8.0) (1.2.0)\n",
      "Requirement already satisfied: pure-eval in c:\\users\\timoz\\appdata\\roaming\\python\\python310\\site-packages (from stack-data->IPython==8.8.0) (0.2.2)\n",
      "Requirement already satisfied: asttokens>=2.1.0 in c:\\users\\timoz\\appdata\\roaming\\python\\python310\\site-packages (from stack-data->IPython==8.8.0) (2.2.1)\n",
      "Requirement already satisfied: six in c:\\users\\timoz\\appdata\\local\\programs\\python\\python310\\lib\\site-packages (from asttokens>=2.1.0->stack-data->IPython==8.8.0) (1.16.0)\n",
      "Requirement already satisfied: kaleido==0.2.1 in c:\\users\\timoz\\appdata\\local\\programs\\python\\python310\\lib\\site-packages (0.2.1)\n"
     ]
    }
   ],
   "source": [
    "# 1\n",
    "\n",
    "# installing all the online packages that are needed for the program.\n",
    "!pip3 install numpy==1.21.4\n",
    "!pip3 install pandas==1.5.2\n",
    "!pip3 install matplotlib==3.6.3\n",
    "!pip3 install scikit-learn==1.2.0\n",
    "!pip3 install plotly==5.12.0\n",
    "!pip3 install IPython==8.8.0\n",
    "!pip3 install kaleido==0.2.1"
   ]
  },
  {
   "cell_type": "markdown",
   "metadata": {},
   "source": [
    "These are our own packages. We created these for you so that you don't have to see all the code, but only the things you need."
   ]
  },
  {
   "cell_type": "code",
   "execution_count": 1,
   "metadata": {},
   "outputs": [],
   "source": [
    "# 2\n",
    "\n",
    "#Importing all the local packages that have been made for this application.\n",
    "from AI_for_Designers.data_processing import Preprocessing, empty_files\n",
    "from AI_for_Designers.active_learning import ActiveLearning\n",
    "from AI_for_Designers.novelty_detection import NoveltyDetection\n",
    "from AI_for_Designers.data_stats import Stats\n",
    "from AI_for_Designers.Notebook import check_product_name, amount_of_samples"
   ]
  },
  {
   "cell_type": "markdown",
   "metadata": {},
   "source": [
    "In the cell below, the name of the Product you are analysing can be changed. It helps to come up with a descriptive name like the name of the prototype. ATTENTION: the name should only contain letters, numbers, underscores and dashes. "
   ]
  },
  {
   "cell_type": "code",
   "execution_count": 2,
   "metadata": {},
   "outputs": [
    {
     "name": "stdout",
     "output_type": "stream",
     "text": [
      "Name is valid!\n"
     ]
    }
   ],
   "source": [
    "# 3\n",
    "\n",
    "# Naming the product that is analysed eg. 'Vacuum_cleaner' 'chair' 'tablet'\n",
    "Product = 'Fiets' # You CAN CHANGE this value to the product you want to analyse.\n",
    "check_product_name(Product)"
   ]
  },
  {
   "cell_type": "markdown",
   "metadata": {},
   "source": [
    "## Pre-processing\n",
    "Pre-processing is needed to create understandable information for the computer. Raw telemetry data like ours is hard to understand for the computer, therefore we conduct pre-processing. During preprocessing, the raw data gets divided into frames. Frames are data points that are encapsulated in a frame. This makes for more certain predictions and a faster model because it knows more about a frame and there are fewer datapoints.\n",
    "\n",
    "There are **4 variables** that are important for you to edit:\n",
    "\n",
    " - `frame_size`: set larger for slow movements, smaller for very quick movements. A frame size of about the length of one action is advised. Default = 2 sec\n",
    " - `frame_offset`: increase if you set a bigger frame size. A frame offset of around 10-20% of the frame size is advised. A lower frame offset might result in a more accurate model but will result in more work for you. Default = 0.2 sec\n",
    " - `start_offset`: set it to the time it takes in seconds between starting the recording and starting with the actual Product usage.\n",
    " - `stop_offset`: the same as the start_offset, but for the end of a recording\n",
    "\n",
    "Enter the values below, and run the cell to start the preprocessing. The frame size and the frame offset can be changed in the cell below, while the start_offset and the stop_offset need to be changed in all the lines that start with 'pre.windowing'. ATTENTION: the frame size and the frame offset, need to be the same for all the different files, while the start_offset and the stop_offset may differ.\n",
    "\n",
    "After you've preprocessed your data, the application will have extracted features like standard deviation and most present frequency. These features will be used to analyze the characteristics of a frame and classify it to the action."
   ]
  },
  {
   "cell_type": "code",
   "execution_count": 3,
   "metadata": {},
   "outputs": [],
   "source": [
    "# 4\n",
    "\n",
    "# Setting the frame size and frame offset\n",
    "frame_size = 2 # You can change this value to the frame size you want to use.\n",
    "frame_offset = 0.5 # you can change this value to the frame offset you want to use."
   ]
  },
  {
   "cell_type": "markdown",
   "metadata": {},
   "source": [
    "The cell below is where you enter all the data and the variables. \n",
    "\n",
    "First it makes empty files for the data that is generated in the preprocessing. This is just for us to save the features and data, there is no need for you to see what this is, although you can take a look at them once they're generated.\n",
    "\n",
    "This looks like this:\n",
    "          \n",
    "```python \n",
    "pre.windowing(input_file=[r'Data/data-mok/Gijs_Mok_GH010035-ACCL.csv', r'Data/data-mok/Gijs_Mok_GH010035-GYRO.csv'], # these are the accl and gyro datafiles. It is easiest to put your own data inside the data folder and change the path accordingly.\n",
    "              video_file='Data/data-mok/GL010035_LRV.mp4', # this is the corresponding video file\n",
    "              start_offset = 0, # here you can enter the start ofset for this file\n",
    "              stop_offset = 0, # here you can enter the stop ofset for this file\n",
    "              size = frame_size, # this is done automatically, because you assigned them already\n",
    "              offset = frame_offset) # this is done automatically, because you assigned them already\n",
    "            \n",
    "```\n",
    "The more different files you have, the more times you need to fill this in."
   ]
  },
  {
   "cell_type": "code",
   "execution_count": 9,
   "metadata": {},
   "outputs": [
    {
     "name": "stdout",
     "output_type": "stream",
     "text": [
      "Do you want to save the extracted features '' for 'Mok'? y/n\n",
      "y\n",
      "Amount of sensors: 6, amount of features per sensor: 8\n"
     ]
    }
   ],
   "source": [
    "# 5\n",
    "\n",
    "# making the data files for the storage of the data\n",
    "empty_files([f'Preprocessed-data/{Product}/features_{Product}.txt',\n",
    "             f'Preprocessed-data/{Product}/features_{Product}_scaled.csv',\n",
    "             f'Preprocessed-data/{Product}/processed_data_files.txt'])\n",
    "\n",
    "# Make a preprocessing object that corresponds with the product\n",
    "pre = Preprocessing(Product)\n",
    "\n",
    "# Insert the data into the preprocessing object.\n",
    "pre.windowing(input_file=[r'Data/data-Fiets/Timo_Fiets_GH010000-ACCL.csv', r'Data/data-Fiets/Timo_Fiets_GH010000-GYRO.csv'], # you can change this value to the data file you want to use.\n",
    "              video_file='Data/data-Fiets/GL010000_LRV.mp4', # you can change this value to the video file you want to use.\n",
    "              start_offset=0, # you can change this value to the start offset you want to use. \n",
    "              stop_offset=0, # you can change this value to the stop offset you want to use.\n",
    "              size=frame_size,\n",
    "              offset=frame_offset)\n",
    "\n",
    "# example of extra datafile with video (uncomment if needed)\n",
    "# You can add as many data files as you want\n",
    "\n",
    "'''\n",
    "pre.windowing(input_file=[r'Data/data-mok/Gijs_Mok_GH010036-ACCL.csv', r'Data/data-mok/Gijs_Mok_GH010036-GYRO.csv'],\n",
    "              video_file='Data/data-mok/GL010036_LRV.mp4',\n",
    "              start_offset=0, \n",
    "              stop_offset=0, \n",
    "              size=frame_size,\n",
    "              offset=frame_offset)\n",
    "              \n",
    "'''\n",
    "\n",
    "\n",
    "\n",
    "\n",
    "# Initiate the scaler on the preprocessing object, in order to get scaled features.\n",
    "pre.SuperStandardScaler(fr'Preprocessed-data\\{Product}\\features_{Product}.txt')"
   ]
  },
  {
   "cell_type": "markdown",
   "metadata": {},
   "source": [
    "## Labeling and training\n",
    "\n",
    "If you've set up your preprocessing correctly this step should be quite easy. The application will show you part of your recording, and you will be asked to label it according to the action performed on screen. You can add a new label if the Product you see is not one of the options you expected. \n",
    "\n",
    "First, enter the activities that you think will be in the video. Don't worry about doing this too much, you can always add more labels later in the code block below, however if you restart training, these will be lost. To enter a new label enter the new label according to the explananation during labeling, this will add it.\n",
    "\n",
    "An example:\n",
    "```python \n",
    "   labels = ['Still', 'Pick_up', 'Put_down', 'Drinking', 'Walking']\n",
    "   ```\n",
    "\n",
    "\n",
    "Enter your labels inside the code block below. **Only change the text inside the brackets, remember to put the names in quotation marks and separate them by commas**.\n",
    "\n",
    "Next up is training the model. After entering your labels, run cell 6,7 and 8 and you will be shown a part of your own recorded video and asked to label the activity you see. Take your time to label the data correctly, as the results fully rely on accurate labels. You get the option to delete a data point if you are not completely sure about the label (\"x\") e.g. the sample contains two different actions or if it's a faulty sample. \n",
    "\n",
    "The value of 'active_learning_iterations', is the amount of samples you will label. The more samples you label, the more accurate the model might become, but the more time it will consume. Labeling round 10-20% of the total amount of samples or at least 100 samples is advised for a good model (enter this in `active_learning_iterations`). The cell below can be used to find the amount of available samples.\n",
    "\n",
    "After labeling 16 samples, an image with the labeled frames will show, this is so you can see the data in perspective, the image shown is a PCA anaysis. Also the model will have its first version, so the probabilities of the class according to the model is shown. This does not mean that the model is right! you still need to enter your answer. \n"
   ]
  },
  {
   "cell_type": "code",
   "execution_count": 5,
   "metadata": {},
   "outputs": [
    {
     "name": "stdout",
     "output_type": "stream",
     "text": [
      "1890\n"
     ]
    }
   ],
   "source": [
    "# 6\n",
    "\n",
    "# This code shows you the amount of datapoints you have for the active learning.\n",
    "print(amount_of_samples(f'Preprocessed-data/{Product}/processed_data_files.txt'))"
   ]
  },
  {
   "cell_type": "code",
   "execution_count": 6,
   "metadata": {},
   "outputs": [],
   "source": [
    "# 7\n",
    "\n",
    "# Here you can put the labels of the activities that you think are going to be in the video. You can always add more labels later.\n",
    "labels = ['Still_staan', 'Fietsen', 'Links', 'Rechts', 'drempel'] # You CAN CHANGE this value to the labels you want to use.\n",
    "\n",
    "# this is the ammount of iterations that it will use for the active learning, see text for more context\n",
    "active_learning_iterations = 30"
   ]
  },
  {
   "cell_type": "code",
   "execution_count": null,
   "metadata": {},
   "outputs": [
    {
     "data": {
      "text/html": [
       "\n",
       "            <head>\n",
       "                <script type=\"text/javascript\">\n",
       "                    function init_0(){\n",
       "                        let timestamp = 130.89999999999685;\n",
       "                        let window_size = 0.8;\n",
       "                        let video = document.getElementById(\"0\");\n",
       "                        video.currentTime = timestamp;\n",
       "                        play_0();\n",
       "                    }\n",
       "\n",
       "                    function play_0(){\n",
       "                        let timestamp = 130.89999999999685;\n",
       "                        let window_size = 0.8;\n",
       "                        let video = document.getElementById(\"0\");\n",
       "                        if (video.currentTime < timestamp || video.currentTime >= timestamp + window_size){\n",
       "                            video.currentTime = timestamp;\n",
       "                        }\n",
       "                        video.play();\n",
       "                        setInterval(function(){\n",
       "                            if(video.currentTime >= timestamp + window_size){\n",
       "                                video.currentTime = timestamp;\n",
       "                            }\n",
       "                        },1);\n",
       "                        <!--video.playbackRate = 2-->\n",
       "                    }\n",
       "\n",
       "                    function pause_0(){\n",
       "                        let timestamp = 130.89999999999685;\n",
       "                        let window_size = 0.8;\n",
       "                        let video = document.getElementById(\"0\");\n",
       "                        video.pause();\n",
       "                    }\n",
       "                </script>\n",
       "            </head>\n",
       "            <body>\n",
       "                <div style=\"display:flex\">\n",
       "                    <div style=\"flex:1\">\n",
       "                        <video id=\"0\" height=\"300px\" src=\"Data/data-mok/GL010035_LRV.mp4\" muted></video><br>\n",
       "                        <script type=\"text/javascript\">init_0()</script>\n",
       "                        <button onclick=\"play_0()\">Play</button>\n",
       "                        <button onclick=\"pause_0()\">Pause</button>\n",
       "                    </div>\n",
       "                    <div style=\"flex:1\">  \n",
       "                        <img id=\"image\" src=\"Plots/plot_to_label_-1.png\" height=\"300px\"></img>\n",
       "                        <script type=\"text/javascript\">\n",
       "                        if (-1 === -1) {\n",
       "                            document.getElementById(\"image\").src = \"\";\n",
       "                        }\n",
       "                        </script>\n",
       "                    </div>\n",
       "                </div>\n",
       "            </body>\n",
       "        "
      ],
      "text/plain": [
       "<IPython.core.display.HTML object>"
      ]
     },
     "metadata": {},
     "output_type": "display_data"
    },
    {
     "name": "stdout",
     "output_type": "stream",
     "text": [
      "Enter the index or the name of one of the following labels. Enter 'n' to add a new label or 'x' to discard this sample:\n",
      "1. Still\n",
      "2. Pick_up\n",
      "3. Put_down\n",
      "4. Drinking\n",
      "5. Walking\n"
     ]
    }
   ],
   "source": [
    "# 8\n",
    "\n",
    "# No need for any modification here, just run it.\n",
    "AL = ActiveLearning(fr'Preprocessed-data/{Product}/features_{Product}_scaled.csv', Product, labels, frame_size)\n",
    "labels = AL.training(active_learning_iterations, random_points=1)\n",
    "AL.plotting()\n",
    "AL.write_to_file()"
   ]
  },
  {
   "cell_type": "markdown",
   "metadata": {},
   "source": [
    "In order to get an idea of how accurate the model is, it is advised to label some more data. These frames are not used in training the model, but the model is used to predict the action that is happening in this frame. By telling the model which action actually is happening in the frame, the accuracy can be measured, by calculating the error rate (dividing the wrong labled frames by the total amount of frames). It is advised to label at least 20 frames, but preferably more (about 50). The more frames are labled, the better the indication of the accuracy is."
   ]
  },
  {
   "cell_type": "code",
   "execution_count": null,
   "metadata": {},
   "outputs": [],
   "source": [
    "# 9\n",
    "\n",
    "frames_to_label_testing = 50\n",
    "# start the testing and enter how many tests you want to run in the brackets.\n",
    "AL.testing(frames_to_label_testing)"
   ]
  },
  {
   "cell_type": "code",
   "execution_count": null,
   "metadata": {},
   "outputs": [],
   "source": [
    "#10\n",
    "\n",
    "# No need to change anything here.\n",
    "percentage_as_novelty = 0.05\n",
    "# Detect the novelties\n",
    "ND = NoveltyDetection(fr'Preprocessed-data/{Product}/features_{Product}_scaled_AL_predictionss.csv', fr'Preprocessed-data/{Product}/processed_data_files.txt')\n",
    "novelties = ND.detect(percentage_as_novelty)\n",
    "\n",
    "# Display the novelties\n",
    "ND.play_novelties(novelties, frame_size)"
   ]
  },
  {
   "cell_type": "markdown",
   "metadata": {},
   "source": [
    "### Information about your data\n",
    "\n",
    "To get more information about your data, please run the cell below to see a timeline with the classified actions. \n",
    "Do notice that if you have multiple files, they are stitched together in one timeline."
   ]
  },
  {
   "cell_type": "code",
   "execution_count": 5,
   "metadata": {},
   "outputs": [
    {
     "name": "stdout",
     "output_type": "stream",
     "text": [
      "Percentages per label:\n",
      " Still: 0.5284391534391535\n",
      " Pick_up: 0.13161375661375663\n",
      " Put_down: 0.01521164021164021\n",
      " Drinking: 0.1349206349206349\n",
      " Walking: 0.18981481481481483\n"
     ]
    },
    {
     "data": {
      "image/png": "[encoded data removed]",
      "text/plain": [
       "<Figure size 1500x1000 with 2 Axes>"
      ]
     },
     "metadata": {},
     "output_type": "display_data"
    }
   ],
   "source": [
    "# 11\n",
    "\n",
    "# No need to change anything here.\n",
    "# Print and generate some statistics about the product usage for analysis.\n",
    "stats = Stats(fr'Preprocessed-data/{Product}/features_{Product}_scaled_AL_predictionss.csv', labels)\n",
    "stats.print_percentages()\n",
    "stats.show_ghan_chart(frame_offset)"
   ]
  },
  {
   "cell_type": "markdown",
   "metadata": {},
   "source": [
    "## New Data\n",
    "\n",
    "In the section beneath we will quickly run through some of the same steps as above, but now we can feed the model that we created with new, unseen data. The model created in the steps above will be used to predict the actions happening in this unseen data. This can be helpful for testing the robustness of your model when data was gathered by different people. \n",
    "\n",
    "Moreover, this is the step where you can enter data that has not been gathered in a controlled environment, but real life data, for you to analyse real product usage and not what you thought was going to happen.\n",
    "\n",
    "Now you can feed the trained model more data by changing the 'pre_new.windowing' function!"
   ]
  },
  {
   "cell_type": "code",
   "execution_count": 6,
   "metadata": {},
   "outputs": [
    {
     "ename": "NameError",
     "evalue": "name 'active_learning_iterations' is not defined",
     "output_type": "error",
     "traceback": [
      "\u001b[1;31m---------------------------------------------------------------------------\u001b[0m",
      "\u001b[1;31mNameError\u001b[0m                                 Traceback (most recent call last)",
      "Cell \u001b[1;32mIn[6], line 12\u001b[0m\n\u001b[0;32m      7\u001b[0m empty_files([\u001b[38;5;124mf\u001b[39m\u001b[38;5;124m'\u001b[39m\u001b[38;5;124mPreprocessed-data/\u001b[39m\u001b[38;5;132;01m{\u001b[39;00mProduct\u001b[38;5;132;01m}\u001b[39;00m\u001b[38;5;124m_new/features_\u001b[39m\u001b[38;5;132;01m{\u001b[39;00mProduct\u001b[38;5;132;01m}\u001b[39;00m\u001b[38;5;124m_new.txt\u001b[39m\u001b[38;5;124m'\u001b[39m,\n\u001b[0;32m      8\u001b[0m              \u001b[38;5;124mf\u001b[39m\u001b[38;5;124m'\u001b[39m\u001b[38;5;124mPreprocessed-data/\u001b[39m\u001b[38;5;132;01m{\u001b[39;00mProduct\u001b[38;5;132;01m}\u001b[39;00m\u001b[38;5;124m_new/features_\u001b[39m\u001b[38;5;132;01m{\u001b[39;00mProduct\u001b[38;5;132;01m}\u001b[39;00m\u001b[38;5;124m_new_scaled.csv\u001b[39m\u001b[38;5;124m'\u001b[39m,\n\u001b[0;32m      9\u001b[0m              \u001b[38;5;124mf\u001b[39m\u001b[38;5;124m'\u001b[39m\u001b[38;5;124mPreprocessed-data/\u001b[39m\u001b[38;5;132;01m{\u001b[39;00mProduct\u001b[38;5;132;01m}\u001b[39;00m\u001b[38;5;124m_new/processed_data_files.txt\u001b[39m\u001b[38;5;124m'\u001b[39m])\n\u001b[0;32m     11\u001b[0m \u001b[38;5;66;03m# Load the model that you made using pickle\u001b[39;00m\n\u001b[1;32m---> 12\u001b[0m model \u001b[38;5;241m=\u001b[39m pickle\u001b[38;5;241m.\u001b[39mload(\u001b[38;5;28mopen\u001b[39m(\u001b[38;5;124mfr\u001b[39m\u001b[38;5;124m'\u001b[39m\u001b[38;5;124mModels/model_\u001b[39m\u001b[38;5;132;01m{\u001b[39;00mProduct\u001b[38;5;132;01m}\u001b[39;00m\u001b[38;5;124m_\u001b[39m\u001b[38;5;132;01m{\u001b[39;00m\u001b[43mactive_learning_iterations\u001b[49m\u001b[38;5;132;01m}\u001b[39;00m\u001b[38;5;124m.pickle\u001b[39m\u001b[38;5;124m'\u001b[39m, \u001b[38;5;124m'\u001b[39m\u001b[38;5;124mrb\u001b[39m\u001b[38;5;124m'\u001b[39m))\n\u001b[0;32m     14\u001b[0m \u001b[38;5;66;03m# Preprocess the new data\u001b[39;00m\n\u001b[0;32m     15\u001b[0m pre_new \u001b[38;5;241m=\u001b[39m Preprocessing(\u001b[38;5;124mf\u001b[39m\u001b[38;5;124m'\u001b[39m\u001b[38;5;132;01m{\u001b[39;00mProduct\u001b[38;5;132;01m}\u001b[39;00m\u001b[38;5;124m_new\u001b[39m\u001b[38;5;124m'\u001b[39m)\n",
      "\u001b[1;31mNameError\u001b[0m: name 'active_learning_iterations' is not defined"
     ]
    }
   ],
   "source": [
    "# 12\n",
    "\n",
    "import numpy as np\n",
    "import pandas as pd\n",
    "import pickle\n",
    "\n",
    "empty_files([f'Preprocessed-data/{Product}_new/features_{Product}_new.txt',\n",
    "             f'Preprocessed-data/{Product}_new/features_{Product}_new_scaled.csv',\n",
    "             f'Preprocessed-data/{Product}_new/processed_data_files.txt'])\n",
    "\n",
    "# Load the model that you made using pickle\n",
    "model = pickle.load(open(fr'Models/model_{Product}_{active_learning_iterations}.pickle', 'rb'))\n",
    "\n",
    "# Preprocess the new data\n",
    "pre_new = Preprocessing(f'{Product}_new')\n",
    "pre_new.windowing([r'GoPro\\Gijs_Mok\\Gijs_Mok_GH010035-ACCL.csv', r'GoPro\\Gijs_Mok\\Gijs_Mok_GH010035-GYRO.csv'], \n",
    "                    'GoPro\\Gijs_Mok\\GL010035_LRV.mp4',\n",
    "                    start_offset=0, \n",
    "                    stop_offset=0, \n",
    "                    size=frame_size, \n",
    "                    offset=frame_offset, \n",
    "                    epsilon=0.01, \n",
    "                    do_plot=False, \n",
    "                    do_scale=True)\n",
    "\n",
    "# Predict the label of all samples based on the \n",
    "new_dataset = pd.read_csv(fr'Preprocessed-data/{Product}_new/features_{Product}_new_scaled.csv', delimiter=',')\n",
    "predictions = model.predict(np.array(new_dataset.iloc[:, 3:]))\n",
    "\n",
    "# Replace the labels and write them to a new AL prediction file\n",
    "new_dataset['label'] = predictions\n",
    "new_dataset.to_csv(fr'Preprocessed-data/{Product}_new/features_{Product}_new_scaled_AL_predictionss.csv', index=False)\n",
    "\n",
    "# Use the new file to retrieve the predicted timeline\n",
    "stats = Stats(fr'Preprocessed-data/{Product}_new/features_{Product}_new_scaled_AL_predictionss.csv', labels)\n",
    "stats.print_percentages()\n",
    "stats.show_ghan_chart(frame_offset)"
   ]
  },
  {
   "cell_type": "markdown",
   "metadata": {},
   "source": [
    "Voor de zekerheid ff een trashbin"
   ]
  },
  {
   "cell_type": "code",
   "execution_count": null,
   "metadata": {},
   "outputs": [],
   "source": [
    "# pre.windowing([r\"Data/data-lopen/Walking_part_1.csv\", r\"Data/data-lopen/Walking_part_1_gyro.csv\"], r\"Data/data-lopen/Walking_part_1.mp4\",\n",
    "#               start_offset=2.5, stop_offset=5, size=1, offset=0.2, video_offset=2.5, epsilon=0.01, do_plot=False, do_scale=False)\n",
    "# pre.windowing([r\"Data/data-lopen/Walking_part_2.csv\", r\"Data/data-lopen/Walking_part_2_gyro.csv\"], r\"Data/data-lopen/Walking_part_2.mp4\",\n",
    "#               start_offset=2.5, stop_offset=5, size=1, offset=0.2, video_offset=2.5, epsilon=0.01, do_plot=False, do_scale=True)\n",
    "# pre.windowing([fr'Data\\data-cycling\\ACCL\\Timo_fietsen_GH010031-ACCL.csv', fr'Data\\data-cycling\\GYRO\\Timo_fietsen_GH010031-GYRO.csv'], 'Data\\data-cycling\\Fiets_filmpjes\\GL010031_LRV_compressed.mp4',\n",
    "#               start_offset=0, stop_offset=0, size=5, offset=0.5, epsilon=0.01, do_plot=False, do_scale=False)\n",
    "# pre.windowing([fr'Data\\data-cycling\\ACCL\\Timo_fietsen_GH010032-ACCL.csv', fr'Data\\data-cycling\\GYRO\\Timo_fietsen_GH010032-GYRO.csv'], 'Data\\data-cycling\\Fiets_filmpjes\\GL010032_LRV.mp4',\n",
    "#               start_offset=0, stop_offset=0, size=5, offset=0.5, epsilon=0.01, do_plot=False, do_scale=False)\n",
    "# pre.windowing([fr'Data\\data-cycling\\ACCL\\Timo_fietsen_GH010033-ACCL.csv', fr'Data\\data-cycling\\GYRO\\Timo_fietsen_GH010033-GYRO.csv'], 'Data\\data-cycling\\Fiets_filmpjes\\GL010033_LRV.mp4',\n",
    "#               start_offset=0, stop_offset=0, size=5, offset=0.5, epsilon=0.01, do_plot=False, do_scale=False)\n",
    "# pre.windowing([fr'Data\\data-cycling\\ACCL\\Timo_fietsen_GH010034-ACCL.csv', fr'Data\\data-cycling\\GYRO\\Timo_fietsen_GH010034-GYRO.csv'], 'Data\\data-cycling\\Fiets_filmpjes\\GL010034_LRV_compressed.mp4',\n",
    "#               start_offset=0, stop_offset=0, size=5, offset=0.5, epsilon=0.01, do_plot=False, do_scale=True)"
   ]
  }
 ],
 "metadata": {
  "kernelspec": {
   "display_name": "Python 3 (ipykernel)",
   "language": "python",
   "name": "python3"
  },
  "language_info": {
   "codemirror_mode": {
    "name": "ipython",
    "version": 3
   },
   "file_extension": ".py",
   "mimetype": "text/x-python",
   "name": "python",
   "nbconvert_exporter": "python",
   "pygments_lexer": "ipython3",
   "version": "3.9.13"
  },
  "vscode": {
   "interpreter": {
    "hash": "aee8b7b246df8f9039afb4144a1f6fd8d2ca17a180786b69acc140d282b71a49"
   }
  }
 },
 "nbformat": 4,
 "nbformat_minor": 2
}
